{
 "cells": [
  {
   "cell_type": "markdown",
   "metadata": {},
   "source": [
    "# Imports"
   ]
  },
  {
   "cell_type": "code",
   "execution_count": null,
   "metadata": {},
   "outputs": [],
   "source": [
    "%load_ext autoreload\n",
    "%autoreload 2"
   ]
  },
  {
   "cell_type": "code",
   "execution_count": null,
   "metadata": {},
   "outputs": [],
   "source": [
    "import os\n",
    "import sys\n",
    "os.chdir('..')\n",
    "sys.path.append('src')"
   ]
  },
  {
   "cell_type": "code",
   "execution_count": null,
   "metadata": {},
   "outputs": [],
   "source": [
    "from PIL import Image\n",
    "from pathlib import Path\n",
    "from functools import partial, reduce\n",
    "from collections import defaultdict\n",
    "import multiprocessing as mp\n",
    "from contextlib import contextmanager\n",
    "\n",
    "import cv2\n",
    "import numpy as np\n",
    "from tqdm.auto import tqdm\n",
    "\n",
    "\n",
    "import utils\n",
    "import data\n",
    "import sampler"
   ]
  },
  {
   "cell_type": "code",
   "execution_count": null,
   "metadata": {},
   "outputs": [],
   "source": []
  },
  {
   "cell_type": "markdown",
   "metadata": {},
   "source": [
    "## Stats\n",
    "\n",
    "### Train\n",
    "- input/hm/train/4ef6695ce.tiff 1 [167.48280243 131.99601198 172.1840991 ] [53.6715833  74.18087042 50.01145663]\n",
    "- input/hm/train/b9a3865fc.tiff 3 [179.12058181 156.16663604 190.57224837] [57.33262864 66.68898569 53.26343919]\n",
    "- input/hm/train/e79de561c.tiff 3 [168.63503256 140.3692677  179.29400798] [47.20465075 63.66449426 39.38715776]\n",
    "- input/hm/train/8242609fa.tiff 3 [168.39762381 146.67506496 179.53406931] [68.85119601 75.34678935 66.46572523]\n",
    "- input/hm/train/cb2d976f4.tiff 3 [156.64766308 137.08461345 163.56018869] [85.22797112 86.17162812 85.83934117]\n",
    "- input/hm/train/26dc41664.tiff 1 [148.37026934 117.8351192  152.91550503] [74.70058493 81.79527692 73.60989621]\n",
    "- input/hm/train/b2dc8411c.tiff 3 [145.70774605 130.53835743 153.51077155] [90.19669735 90.07284394 91.13878548]\n",
    "- input/hm/train/afa5e8098.tiff 3 [144.79319853 121.24794863 154.07814847] [69.64398246 70.21465338 69.66028281]\n",
    "- input/hm/train/0486052bb.tiff 3 [155.04365695 140.8247772  163.27546087] [86.20611987 87.26473343 86.73144338]\n",
    "- input/hm/train/1e2425f28.tiff 1 [155.27908076 109.30259728 155.74962968] [60.41321818 74.58395251 58.64478221]\n",
    "- input/hm/train/c68fe75ea.tiff 1 [177.38737838 146.33150453 185.17719842] [34.14849425 52.73887964 25.65912719]\n",
    "- input/hm/train/aaa6a05cc.tiff 3 [168.53653974 146.01495027 178.91997248] [70.9594629  80.8427825  67.05318295]\n",
    "- input/hm/train/54f2eec69.tiff 3 [159.57231947 134.360238   164.28528555] [69.91997402 77.88897022 67.87669295]\n",
    "- input/hm/train/095bf7a1f.tiff 1 [141.92589491 113.2553824  144.47921706] [77.36870257 81.80458049 77.13849731]\n",
    "- input/hm/train/2f6ecfcdf.tiff 3 [150.00407259 134.96295758 157.40463786] [89.23076809 89.6362252  89.93819569]\n",
    "\n",
    "\n",
    "### Test\n",
    "- input/hm/test/57512b7f1.tiff 1 [151.83879508 129.67205882 155.49909348] [78.47813674 85.79231764 77.58990357]\n",
    "- input/hm/test/2ec3f1bb9.tiff 3 [176.16665974 150.29656892 187.40280662] [59.38260377 69.46464358 55.26716755]\n",
    "- input/hm/test/aa05346ff.tiff 1 [166.86605324 137.62296148 174.57705023] [45.55560103 56.21724257 43.40574615]\n",
    "- input/hm/test/3589adb90.tiff 3 [172.07196767 155.13386244 181.57171249] [72.44817365 78.52393954 70.44612831]\n",
    "- input/hm/test/d488c759a.tiff 1 [144.37003214 112.24489041 151.02178863] [71.41163807 79.79139525 70.18780297]\n"
   ]
  },
  {
   "cell_type": "markdown",
   "metadata": {},
   "source": [
    "# Code"
   ]
  },
  {
   "cell_type": "markdown",
   "metadata": {},
   "source": [
    "## Narezator"
   ]
  },
  {
   "cell_type": "markdown",
   "metadata": {},
   "source": [
    "### Objects"
   ]
  },
  {
   "cell_type": "code",
   "execution_count": null,
   "metadata": {},
   "outputs": [],
   "source": [
    "@contextmanager\n",
    "def poolcontext(*args, **kwargs):\n",
    "    pool = mp.Pool(*args, **kwargs)\n",
    "    yield pool\n",
    "    pool.terminate()\n",
    "    \n",
    "def mp_func(foo, args, n):\n",
    "    args_chunks = [args[i:i + n] for i in range(0, len(args), n)]\n",
    "    with poolcontext(processes=n) as pool:\n",
    "        pool.map(foo, args_chunks)\n",
    "    \n",
    "def mp_foo(foo, args): return foo(*args)"
   ]
  },
  {
   "cell_type": "code",
   "execution_count": null,
   "metadata": {},
   "outputs": [],
   "source": [
    "def to_gray(i):return np.mean(i,-1,keepdims=True).repeat(3,-1)\n",
    "\n",
    "def mp_sampler(dst, i_fn, m_fn, a_fn, wh, wh_mask, idxs):\n",
    "    domains = {  '4ef6695ce': 1,\n",
    "                 'b9a3865fc': 0,\n",
    "                 'e79de561c': 1,\n",
    "                 '8242609fa': 0,\n",
    "                 'cb2d976f4': 0,\n",
    "                 '26dc41664': 1,\n",
    "                 'b2dc8411c': 0,\n",
    "                 'afa5e8098': 1,\n",
    "                 '0486052bb': 0,\n",
    "                 '1e2425f28': 1,\n",
    "                 'c68fe75ea': 1,\n",
    "                 'aaa6a05cc': 0,\n",
    "                 '54f2eec69': 1,\n",
    "                 '095bf7a1f': 1,\n",
    "                 '2f6ecfcdf': 0}\n",
    "    _wh, _wh_mask = wh, wh_mask\n",
    "#     dr = .5 / .65\n",
    "#     if not domains[i_fn.stem]:\n",
    "#         _wh = int(_wh[0] * dr), int(_wh[1] * dr)\n",
    "#         _wh_mask  = _wh#*= .65 / .5\n",
    "        \n",
    "    s = sampler.GdalSampler(i_fn, m_fn, a_fn, _wh, _wh_mask)\n",
    "    SCALE = 4\n",
    "    \n",
    "    for idx in idxs:\n",
    "        i,m = s[idx]  \n",
    "        #print(idx, i.shape, m.shape)\n",
    "        img_dir = dst / 'imgs' / i_fn.with_suffix('').name\n",
    "        os.makedirs(str(img_dir), exist_ok=True)\n",
    "        \n",
    "        mask_dir = dst / 'masks' / i_fn.with_suffix('').name\n",
    "        os.makedirs(str(mask_dir), exist_ok=True)\n",
    "        \n",
    "        orig_name = (str(idx).zfill(6) + '.png')\n",
    "        img_name = img_dir / orig_name \n",
    "        mask_name = mask_dir /orig_name\n",
    "         \n",
    "        \n",
    "        i = i.transpose(1,2,0)\n",
    "        m = m.transpose(1,2,0)\n",
    "        \n",
    "        #i = i.mean(-1, keepdims=True).astype(np.uint8)\n",
    "        #i = i.repeat(3,-1)\n",
    "        #print(i.shape, i.dtype, m.shape, m.dtype)\n",
    "        i = cv2.cvtColor(i, cv2.COLOR_BGR2RGB)\n",
    "        \n",
    "        m = 255 * m.repeat(3,-1).astype(np.uint8)\n",
    "        \n",
    "        \n",
    "        i = cv2.resize(i, (wh[0]//SCALE, wh[1]//SCALE), interpolation=cv2.INTER_AREA)\n",
    "        m = cv2.resize(m, (wh[0]//SCALE, wh[1]//SCALE), interpolation=cv2.INTER_AREA)\n",
    "        \n",
    "        \n",
    "        cv2.imwrite(str(img_name), i)\n",
    "        cv2.imwrite(str(mask_name), m)\n",
    "    return"
   ]
  },
  {
   "cell_type": "code",
   "execution_count": null,
   "metadata": {},
   "outputs": [],
   "source": [
    "imgs_path = Path('input/hm/train')\n",
    "masks_path = Path('input/bigmasks/')\n",
    "#p = Path('/home/sokolov/work/webinf/data/kidney/train/')\n",
    "dst_path = Path('input/CUTS/cuts2048x25')\n",
    "NUM_PROC = 16\n",
    "wh = (2048, 2048)"
   ]
  },
  {
   "cell_type": "code",
   "execution_count": null,
   "metadata": {},
   "outputs": [],
   "source": [
    "filt = partial(utils.filter_ban_str_in_name, bans=['-', '_ell'])\n",
    "ann_fns = sorted(utils.get_filenames(imgs_path, '*.json', filt))\n",
    "masks_fns = sorted(utils.get_filenames(masks_path, '*.tiff', filt))\n",
    "img_fns = sorted([a.with_suffix('.tiff') for a in ann_fns])\n",
    "#img_fns, ann_fns, masks_fns"
   ]
  },
  {
   "cell_type": "code",
   "execution_count": null,
   "metadata": {},
   "outputs": [],
   "source": []
  },
  {
   "cell_type": "code",
   "execution_count": null,
   "metadata": {},
   "outputs": [],
   "source": []
  },
  {
   "cell_type": "code",
   "execution_count": null,
   "metadata": {},
   "outputs": [],
   "source": [
    "#assert  False , 'DO ONCE'\n",
    "for i_fn, m_fn, a_fn in tqdm(zip(img_fns, masks_fns, ann_fns)):\n",
    "    const_args = i_fn, m_fn, a_fn, wh, wh\n",
    "    _s = sampler.GdalSampler(*const_args)\n",
    "    part_samp = partial(mp_sampler, *(dst_path, *const_args))\n",
    "    mp_func(part_samp, range(len(_s)), NUM_PROC)\n",
    "    #break"
   ]
  },
  {
   "cell_type": "code",
   "execution_count": null,
   "metadata": {},
   "outputs": [],
   "source": []
  },
  {
   "cell_type": "code",
   "execution_count": null,
   "metadata": {},
   "outputs": [],
   "source": []
  },
  {
   "cell_type": "code",
   "execution_count": null,
   "metadata": {},
   "outputs": [],
   "source": []
  },
  {
   "cell_type": "markdown",
   "metadata": {},
   "source": [
    "### Backgrounds"
   ]
  },
  {
   "cell_type": "code",
   "execution_count": null,
   "metadata": {},
   "outputs": [],
   "source": [
    "imgs_path = Path('input/hm/train')\n",
    "masks_path = Path('input/bigmasks/')\n",
    "dst_path = Path('input/backs_030_x25_cortex')\n",
    "#NUM_PROC = 16\n",
    "poly_type = 'Cortex'\n",
    "#poly_type = 'Medulla'\n",
    "#poly_type = None\n",
    "\n",
    "wh = (1024, 1024)\n",
    "pct = .3\n"
   ]
  },
  {
   "cell_type": "code",
   "execution_count": null,
   "metadata": {},
   "outputs": [],
   "source": [
    "filt = partial(utils.filter_ban_str_in_name, bans=['-', '_ell'])\n",
    "ann_fns = sorted(utils.get_filenames(imgs_path, '*.json', filt))\n",
    "masks_fns = sorted(utils.get_filenames(masks_path, '*.tiff', filt))\n",
    "img_fns = sorted([a.with_suffix('.tiff') for a in ann_fns])\n",
    "#img_fns, ann_fns, masks_fns"
   ]
  },
  {
   "cell_type": "code",
   "execution_count": null,
   "metadata": {},
   "outputs": [],
   "source": []
  },
  {
   "cell_type": "code",
   "execution_count": null,
   "metadata": {},
   "outputs": [],
   "source": [
    "idx = 0\n",
    "img_path = img_fns[idx]\n",
    "mask_path = masks_fns[idx] \n",
    "img_anot_struct_path = img_path.parent / (img_path.stem + '-anatomical-structure.json')\n",
    "recs = utils.jread(str(ann_fns[idx]))"
   ]
  },
  {
   "cell_type": "code",
   "execution_count": null,
   "metadata": {},
   "outputs": [],
   "source": []
  },
  {
   "cell_type": "code",
   "execution_count": null,
   "metadata": {},
   "outputs": [],
   "source": [
    "\n",
    "ni = int(len(recs) * pct)\n",
    "polys = utils.get_cortex_polygons(utils.jread(img_anot_struct_path))\n",
    "s = sampler.BackgroundSampler(img_path, mask_path, polys, wh, ni)"
   ]
  },
  {
   "cell_type": "code",
   "execution_count": null,
   "metadata": {},
   "outputs": [],
   "source": [
    "#assert  False , 'DO ONCE'\n",
    "for i_fn, m_fn, a_fn in tqdm(zip(img_fns, masks_fns, ann_fns)):\n",
    "    SCALE = 4\n",
    "    \n",
    "    img_anot_struct_path = i_fn.parent / (i_fn.stem + '-anatomical-structure.json')\n",
    "    recs = utils.jread(str(a_fn))\n",
    "    ni = int(len(recs) * pct)\n",
    "    if poly_type is not None:\n",
    "        polys = utils.get_polygons_by_type(utils.jread(img_anot_struct_path), poly_type)\n",
    "    else:\n",
    "        polys = None\n",
    "    s = sampler.BackgroundSampler(i_fn, m_fn, polys, wh, ni)\n",
    "    \n",
    "    img_dir = dst_path / 'imgs' / i_fn.with_suffix('').name\n",
    "    os.makedirs(str(img_dir), exist_ok=True)\n",
    "\n",
    "    mask_dir = dst_path / 'masks' / i_fn.with_suffix('').name\n",
    "    os.makedirs(str(mask_dir), exist_ok=True)\n",
    "    #print(i_fn)\n",
    "    for idx, (i,m) in enumerate(s):\n",
    "        #print(i.shape, m.shape, i.mean())\n",
    "\n",
    "        if (i.mean() < 10 or i.mean() > 245) and (np.random.random() > .2):\n",
    "            continue\n",
    "            \n",
    "        orig_name = (str(idx).zfill(6) + '.png')\n",
    "        img_name = img_dir / orig_name \n",
    "        mask_name = mask_dir /orig_name\n",
    "        \n",
    "        i = i.transpose(1,2,0)\n",
    "        #i = i.mean(-1, keepdims=True).astype(np.uint8).repeat(3,-1)\n",
    "        #print(i.shape, i.dtype, m.shape, m.dtype)\n",
    "        i = cv2.cvtColor(i, cv2.COLOR_BGR2RGB)\n",
    "        \n",
    "        m = m.transpose(1,2,0)\n",
    "        m = 255 * m.repeat(3,-1).astype(np.uint8)\n",
    "        \n",
    "        \n",
    "        i = cv2.resize(i, (wh[0]//SCALE, wh[1]//SCALE), interpolation=cv2.INTER_AREA)\n",
    "        m = cv2.resize(m, (wh[0]//SCALE, wh[1]//SCALE), interpolation=cv2.INTER_AREA)\n",
    "        \n",
    "        cv2.imwrite(str(img_name), i)\n",
    "        cv2.imwrite(str(mask_name), m)"
   ]
  },
  {
   "cell_type": "code",
   "execution_count": null,
   "metadata": {},
   "outputs": [],
   "source": []
  },
  {
   "cell_type": "code",
   "execution_count": null,
   "metadata": {},
   "outputs": [],
   "source": []
  },
  {
   "cell_type": "code",
   "execution_count": null,
   "metadata": {},
   "outputs": [],
   "source": [
    "from ipywidgets import interact, interactive, fixed, interact_manual\n",
    "import ipywidgets as widgets\n",
    "\n",
    "@interact(idx=(0, len(s)),continuous_update=False)\n",
    "def view(idx): return Image.fromarray(s[idx][0].transpose(1,2,0))"
   ]
  },
  {
   "cell_type": "code",
   "execution_count": null,
   "metadata": {},
   "outputs": [],
   "source": []
  },
  {
   "cell_type": "markdown",
   "metadata": {},
   "source": [
    "## Datasets"
   ]
  },
  {
   "cell_type": "code",
   "execution_count": null,
   "metadata": {},
   "outputs": [],
   "source": [
    "l = Path('input/CUTS/cuts2048x25/imgs/').rglob('*.png')\n",
    "l = list(l)\n",
    "len(l)"
   ]
  },
  {
   "cell_type": "code",
   "execution_count": null,
   "metadata": {},
   "outputs": [],
   "source": []
  },
  {
   "cell_type": "code",
   "execution_count": null,
   "metadata": {},
   "outputs": [],
   "source": [
    "root = Path('input/CUTS/cuts2048x25/')\n",
    "sd = data.SegmentDataset(root / 'imgs', root / 'masks', mode_train=False)\n",
    "len(sd)"
   ]
  },
  {
   "cell_type": "code",
   "execution_count": null,
   "metadata": {},
   "outputs": [],
   "source": [
    "from ipywidgets import interact, interactive, fixed, interact_manual\n",
    "import ipywidgets as widgets\n",
    "\n",
    "@interact(idx=(0, len(sd)-1),continuous_update=False)\n",
    "def view(idx): return sd._view(idx)"
   ]
  },
  {
   "cell_type": "code",
   "execution_count": null,
   "metadata": {},
   "outputs": [],
   "source": []
  },
  {
   "cell_type": "code",
   "execution_count": null,
   "metadata": {},
   "outputs": [],
   "source": [
    "root = Path('input/SPLITS/split1024x25/train/')\n",
    "sd = data.SegmentDataset(root / 'imgs', root / 'masks', mode_train=False)\n",
    "len(sd)"
   ]
  },
  {
   "cell_type": "code",
   "execution_count": null,
   "metadata": {},
   "outputs": [],
   "source": [
    "tds = data.TagSegmentDataset(root / 'imgs', root / 'masks', mode_train=True)\n",
    "len(tds)"
   ]
  },
  {
   "cell_type": "code",
   "execution_count": null,
   "metadata": {},
   "outputs": [],
   "source": [
    "tot = 0\n",
    "for _,(_,c) in tds:\n",
    "    tot+=c"
   ]
  },
  {
   "cell_type": "code",
   "execution_count": null,
   "metadata": {},
   "outputs": [],
   "source": [
    "tot/len(tds)"
   ]
  },
  {
   "cell_type": "code",
   "execution_count": null,
   "metadata": {},
   "outputs": [],
   "source": []
  },
  {
   "cell_type": "code",
   "execution_count": null,
   "metadata": {},
   "outputs": [],
   "source": []
  },
  {
   "cell_type": "markdown",
   "metadata": {},
   "source": [
    "## Dataloaders"
   ]
  },
  {
   "cell_type": "code",
   "execution_count": null,
   "metadata": {},
   "outputs": [],
   "source": [
    "from config import cfg, cfg_init\n",
    "from pprint import pprint\n",
    "\n",
    "from callbacks import  denorm"
   ]
  },
  {
   "cell_type": "code",
   "execution_count": null,
   "metadata": {},
   "outputs": [],
   "source": [
    "cfg_init('src/configs/unet_gelb.yaml')\n",
    "cfg['TRANSFORMERS']['TRAIN']['AUG'] = 'light_scale'\n",
    "\n",
    "cfg['PARALLEL']['DDP'] = False\n",
    "cfg['DATA']['TRAIN']['PRELOAD'] = False\n",
    "cfg['DATA']['TRAIN']['MULTIPLY'][\"rate\"] = 2\n",
    "#cfg['DATA']['TRAIN']['DATASETS'] = ['train1024x25']\n",
    "cfg['VALID']['BATCH_SIZE'] = 4"
   ]
  },
  {
   "cell_type": "code",
   "execution_count": null,
   "metadata": {},
   "outputs": [],
   "source": [
    "pprint(cfg)"
   ]
  },
  {
   "cell_type": "code",
   "execution_count": null,
   "metadata": {},
   "outputs": [],
   "source": [
    "datasets = data.build_datasets(cfg, dataset_types=['TRAIN','VALID'])\n",
    "tds = datasets['TRAIN']\n",
    "vds = datasets['VALID']\n",
    "len(tds)"
   ]
  },
  {
   "cell_type": "code",
   "execution_count": null,
   "metadata": {},
   "outputs": [],
   "source": [
    "def show_img(tds, idx):\n",
    "    img, mask = tds[idx]\n",
    "    print(img.shape, img.dtype)\n",
    "    img = denorm(img, cfg.TRANSFORMERS.MEAN, cfg.TRANSFORMERS.STD)\n",
    "    img = img.squeeze().permute(1,2,0).cpu().numpy()\n",
    "    img = (img * 255.).astype(np.uint8)\n",
    "    return Image.fromarray(img)"
   ]
  },
  {
   "cell_type": "code",
   "execution_count": null,
   "metadata": {},
   "outputs": [],
   "source": [
    "show_img(tds, 0)"
   ]
  },
  {
   "cell_type": "code",
   "execution_count": null,
   "metadata": {},
   "outputs": [],
   "source": []
  },
  {
   "cell_type": "code",
   "execution_count": null,
   "metadata": {},
   "outputs": [],
   "source": [
    "import random\n",
    "from _data import make_datasets_folds"
   ]
  },
  {
   "cell_type": "code",
   "execution_count": null,
   "metadata": {},
   "outputs": [],
   "source": [
    "N_FOLDS = 4\n",
    "datasets_as_folds = make_datasets_folds(cfg, datasets, N_FOLDS, shuffle=False)"
   ]
  },
  {
   "cell_type": "code",
   "execution_count": null,
   "metadata": {},
   "outputs": [],
   "source": [
    "datasets_as_folds"
   ]
  },
  {
   "cell_type": "code",
   "execution_count": null,
   "metadata": {},
   "outputs": [],
   "source": [
    "for dss in datasets_as_folds:\n",
    "    dls = data.build_dataloaders(cfg, dss, pin=True, drop_last=False)\n",
    "    tdl = dls['TRAIN']\n",
    "    print(tdl, len(tdl))\n",
    "    for b in tdl:\n",
    "        pass"
   ]
  },
  {
   "cell_type": "code",
   "execution_count": null,
   "metadata": {},
   "outputs": [],
   "source": []
  },
  {
   "cell_type": "code",
   "execution_count": null,
   "metadata": {},
   "outputs": [],
   "source": []
  },
  {
   "cell_type": "code",
   "execution_count": null,
   "metadata": {},
   "outputs": [],
   "source": [
    "tot = 0\n",
    "for dss in datasets_as_folds:\n",
    "    for k, v in dss.items():\n",
    "        print(len(v))\n",
    "        if k == 'TRAIN':\n",
    "            tot += len(v)"
   ]
  },
  {
   "cell_type": "code",
   "execution_count": null,
   "metadata": {},
   "outputs": [],
   "source": []
  },
  {
   "cell_type": "markdown",
   "metadata": {},
   "source": [
    "# MODEL TESTS"
   ]
  },
  {
   "cell_type": "code",
   "execution_count": null,
   "metadata": {},
   "outputs": [],
   "source": [
    "def pimg(img):\n",
    "    img = img.squeeze().cpu().numpy()\n",
    "    img = (img * 255.).astype(np.uint8)\n",
    "    return Image.fromarray(img)"
   ]
  },
  {
   "cell_type": "code",
   "execution_count": null,
   "metadata": {},
   "outputs": [],
   "source": [
    "import os\n",
    "os.environ['CUDA_VISIBLE_DEVICES'] = '3'\n",
    "import torch\n",
    "import matplotlib.pyplot as plt\n",
    "%matplotlib inline"
   ]
  },
  {
   "cell_type": "code",
   "execution_count": null,
   "metadata": {},
   "outputs": [],
   "source": [
    "from model import load_model, FoldModel\n",
    "mps = Path('output/924/').rglob('*.pth')\n",
    "mps = sorted(list(mps))\n",
    "mps"
   ]
  },
  {
   "cell_type": "code",
   "execution_count": null,
   "metadata": {},
   "outputs": [],
   "source": [
    "import segmentation_models_pytorch as smp\n",
    "from collections import OrderedDict\n",
    "from loss import dice_loss"
   ]
  },
  {
   "cell_type": "code",
   "execution_count": null,
   "metadata": {},
   "outputs": [],
   "source": [
    "#m1 = smp.UnetPlusPlus(encoder_name='se_resnet50')#MAnet(encoder_name='timm-res2net50_26w_4s')\n",
    "m1 = smp.MAnet()\n",
    "#m1 = smp.MAnet(encoder_name='timm-efficientnet-b4')"
   ]
  },
  {
   "cell_type": "code",
   "execution_count": null,
   "metadata": {},
   "outputs": [],
   "source": [
    "state_dict = torch.load(str(mps[-1]))['model_state']\n",
    "new_state_dict = OrderedDict()\n",
    "for k, v in state_dict.items():\n",
    "    if k.startswith('module'):\n",
    "        k = k.lstrip('module')[1:]\n",
    "        new_state_dict[k] = v\n"
   ]
  },
  {
   "cell_type": "code",
   "execution_count": null,
   "metadata": {},
   "outputs": [],
   "source": [
    "m1.load_state_dict(new_state_dict)"
   ]
  },
  {
   "cell_type": "code",
   "execution_count": null,
   "metadata": {},
   "outputs": [],
   "source": [
    "m1 = m1.cuda()\n",
    "#m1 = m1.eval()"
   ]
  },
  {
   "cell_type": "code",
   "execution_count": null,
   "metadata": {},
   "outputs": [],
   "source": [
    "thrs1 = np.logspace(0, 1, num=10)/100\n",
    "\n",
    "thrs2 = 1-np.logspace(0, 1, num=10)/100\n",
    "thrs2 = thrs2[::-1]\n",
    "\n",
    "thrs = np.concatenate([thrs1, np.arange(.2,.9, .05), thrs2])\n",
    "thrs"
   ]
  },
  {
   "cell_type": "code",
   "execution_count": null,
   "metadata": {},
   "outputs": [],
   "source": []
  },
  {
   "cell_type": "code",
   "execution_count": null,
   "metadata": {},
   "outputs": [],
   "source": [
    "import ttach\n",
    "m2 = ttach.SegmentationTTAWrapper(m1, ttach.aliases.d4_transform())"
   ]
  },
  {
   "cell_type": "code",
   "execution_count": null,
   "metadata": {},
   "outputs": [],
   "source": [
    "x,y = tds[0]\n",
    "x = x#[:,:256,:256]\n",
    "x = x.view(1, *x.shape).cuda()\n",
    "p = m2(x)\n",
    "p.sigmoid().max()"
   ]
  },
  {
   "cell_type": "code",
   "execution_count": null,
   "metadata": {},
   "outputs": [],
   "source": [
    "t = p[0,0].detach().cpu().numpy()\n",
    "t.shape"
   ]
  },
  {
   "cell_type": "code",
   "execution_count": null,
   "metadata": {},
   "outputs": [],
   "source": [
    "plt.figure(figsize=(10,10))\n",
    "plt.imshow(t)"
   ]
  },
  {
   "cell_type": "code",
   "execution_count": null,
   "metadata": {},
   "outputs": [],
   "source": [
    "plt.hist(t.ravel(), bins=50);"
   ]
  },
  {
   "cell_type": "code",
   "execution_count": null,
   "metadata": {},
   "outputs": [],
   "source": []
  },
  {
   "cell_type": "code",
   "execution_count": null,
   "metadata": {},
   "outputs": [],
   "source": []
  },
  {
   "cell_type": "code",
   "execution_count": null,
   "metadata": {},
   "outputs": [],
   "source": []
  },
  {
   "cell_type": "code",
   "execution_count": null,
   "metadata": {},
   "outputs": [],
   "source": []
  },
  {
   "cell_type": "markdown",
   "metadata": {},
   "source": [
    "# DICE CV"
   ]
  },
  {
   "cell_type": "code",
   "execution_count": null,
   "metadata": {},
   "outputs": [],
   "source": [
    "dices = []\n",
    "cnt = 0\n",
    "for x,y in vds:\n",
    "    x = x.view(1, *x.shape).cuda()\n",
    "    pred = m1(x).sigmoid().cpu()\n",
    "    preds = [pred > thr for thr in thrs]\n",
    "    dice = [dice_loss(p, y) for p in preds]\n",
    "    dices.append(dice)\n",
    "    #print(dice)\n",
    "    cnt += 1\n",
    "    if cnt > 100:\n",
    "        break"
   ]
  },
  {
   "cell_type": "code",
   "execution_count": null,
   "metadata": {},
   "outputs": [],
   "source": [
    "dices = np.array(dices)"
   ]
  },
  {
   "cell_type": "code",
   "execution_count": null,
   "metadata": {},
   "outputs": [],
   "source": [
    "dices_mean = dices.mean(0)"
   ]
  },
  {
   "cell_type": "code",
   "execution_count": null,
   "metadata": {},
   "outputs": [],
   "source": [
    "plt.plot(dices_mean)"
   ]
  },
  {
   "cell_type": "code",
   "execution_count": null,
   "metadata": {},
   "outputs": [],
   "source": [
    "thrs[np.argmax(dices_mean)]"
   ]
  },
  {
   "cell_type": "code",
   "execution_count": null,
   "metadata": {},
   "outputs": [],
   "source": [
    "dices_mean"
   ]
  },
  {
   "cell_type": "code",
   "execution_count": null,
   "metadata": {},
   "outputs": [],
   "source": []
  },
  {
   "cell_type": "code",
   "execution_count": null,
   "metadata": {},
   "outputs": [],
   "source": []
  },
  {
   "cell_type": "markdown",
   "metadata": {},
   "source": [
    "# Edge"
   ]
  },
  {
   "cell_type": "code",
   "execution_count": null,
   "metadata": {},
   "outputs": [],
   "source": [
    "import torch\n",
    "from loss import EdgeLoss\n",
    "\n",
    "import matplotlib.pyplot  as plt\n",
    "%matplotlib inline"
   ]
  },
  {
   "cell_type": "code",
   "execution_count": null,
   "metadata": {},
   "outputs": [],
   "source": [
    "datasets"
   ]
  },
  {
   "cell_type": "code",
   "execution_count": null,
   "metadata": {},
   "outputs": [],
   "source": [
    "dls = data.build_dataloaders(cfg, datasets)"
   ]
  },
  {
   "cell_type": "code",
   "execution_count": null,
   "metadata": {},
   "outputs": [],
   "source": [
    "dl = dls['VALID']\n",
    "idl = iter(dl)"
   ]
  },
  {
   "cell_type": "code",
   "execution_count": null,
   "metadata": {},
   "outputs": [],
   "source": [
    "xb,yb = next(idl)\n",
    "xb.shape, yb.shape"
   ]
  },
  {
   "cell_type": "code",
   "execution_count": null,
   "metadata": {},
   "outputs": [],
   "source": [
    "pb = m1(xb.cuda()).sigmoid()\n",
    "yb = yb.cuda()"
   ]
  },
  {
   "cell_type": "code",
   "execution_count": null,
   "metadata": {},
   "outputs": [],
   "source": [
    "yb = yb[:3,:,:64,:64]\n",
    "pb = pb[:3,:,:64,:64]\n",
    "pb.shape, pb.max()"
   ]
  },
  {
   "cell_type": "code",
   "execution_count": null,
   "metadata": {},
   "outputs": [],
   "source": []
  },
  {
   "cell_type": "code",
   "execution_count": null,
   "metadata": {},
   "outputs": [],
   "source": []
  },
  {
   "cell_type": "markdown",
   "metadata": {},
   "source": [
    "# RESAVE"
   ]
  },
  {
   "cell_type": "code",
   "execution_count": null,
   "metadata": {},
   "outputs": [],
   "source": [
    "import rasterio as rio"
   ]
  },
  {
   "cell_type": "code",
   "execution_count": null,
   "metadata": {},
   "outputs": [],
   "source": [
    "path = Path('input/hm/train/')\n",
    "imgs = list(path.glob('*.tiff'))\n",
    "imgs"
   ]
  },
  {
   "cell_type": "code",
   "execution_count": null,
   "metadata": {},
   "outputs": [],
   "source": [
    "def save_tiff_uint8_3_band(img, path):\n",
    "    assert img.dtype == np.uint8\n",
    "    if img.max() <= 1. : print(f\"Warning: saving tiff with max value is <= 1, {path}\")\n",
    "    _, h, w = img.shape\n",
    "    dst = rio.open(path, 'w', driver='GTiff', height=h, width=w, count=3, dtype=np.uint8, interleave='band', compress='deflate')\n",
    "    dst.write(img)\n",
    "    dst.close()\n",
    "    del dst"
   ]
  },
  {
   "cell_type": "code",
   "execution_count": null,
   "metadata": {},
   "outputs": [],
   "source": []
  },
  {
   "cell_type": "code",
   "execution_count": null,
   "metadata": {},
   "outputs": [],
   "source": [
    "for img in imgs:\n",
    "    ds = rio.open(str(img))\n",
    "    break\n",
    "    if ds.count == 1:\n",
    "        print(f'Single channel: {img}')\n",
    "        dss = ds.subdatasets\n",
    "        i = np.zeros((3, *ds.shape), dtype=np.uint8)\n",
    "        for j, ds in enumerate(dss):\n",
    "            ds = rio.open(ds)\n",
    "            i[j]  = ds.read()\n",
    "        new_name = str(img.parent) + f'/upd/{img.name}'\n",
    "        save_tiff_uint8_3_band(i, new_name)\n",
    "    else:\n",
    "        print(f'3 channels {img}')\n",
    "        i = ds.read()\n",
    "        \n",
    "    print(i.mean((1,2)), i.std((1,2)))\n",
    "    #break"
   ]
  },
  {
   "cell_type": "code",
   "execution_count": null,
   "metadata": {},
   "outputs": [],
   "source": [
    "tds = rio.open('input/hm/test/aa05346ff.tiff')"
   ]
  },
  {
   "cell_type": "code",
   "execution_count": null,
   "metadata": {},
   "outputs": [],
   "source": [
    "path = Path('input/hm/train/')\n",
    "imgs = list(path.glob('*.tiff'))\n",
    "imgs"
   ]
  },
  {
   "cell_type": "code",
   "execution_count": null,
   "metadata": {},
   "outputs": [],
   "source": [
    "b9a3865fc .65\n",
    "e79de561c .5\n",
    "8242609fa .65\n",
    "cb2d976f4 .65\n",
    "b2dc8411c .65\n",
    "afa5e8098 .5\n",
    "0486052bb .65\n",
    "aaa6a05cc .65\n",
    "2f6ecfcdf .65"
   ]
  },
  {
   "cell_type": "code",
   "execution_count": null,
   "metadata": {},
   "outputs": [],
   "source": [
    "for i in imgs:\n",
    "    ds = rio.open(str(i))\n",
    "    #print(i.name, ds.tags())"
   ]
  },
  {
   "cell_type": "code",
   "execution_count": null,
   "metadata": {},
   "outputs": [],
   "source": []
  },
  {
   "cell_type": "code",
   "execution_count": null,
   "metadata": {},
   "outputs": [],
   "source": []
  },
  {
   "cell_type": "code",
   "execution_count": null,
   "metadata": {},
   "outputs": [],
   "source": []
  },
  {
   "cell_type": "code",
   "execution_count": null,
   "metadata": {},
   "outputs": [],
   "source": []
  },
  {
   "cell_type": "code",
   "execution_count": null,
   "metadata": {},
   "outputs": [],
   "source": []
  },
  {
   "cell_type": "code",
   "execution_count": null,
   "metadata": {},
   "outputs": [],
   "source": []
  },
  {
   "cell_type": "code",
   "execution_count": null,
   "metadata": {},
   "outputs": [],
   "source": []
  },
  {
   "cell_type": "code",
   "execution_count": null,
   "metadata": {},
   "outputs": [],
   "source": []
  },
  {
   "cell_type": "code",
   "execution_count": null,
   "metadata": {},
   "outputs": [],
   "source": []
  },
  {
   "cell_type": "code",
   "execution_count": null,
   "metadata": {},
   "outputs": [],
   "source": []
  },
  {
   "cell_type": "code",
   "execution_count": null,
   "metadata": {},
   "outputs": [],
   "source": []
  },
  {
   "cell_type": "code",
   "execution_count": null,
   "metadata": {},
   "outputs": [],
   "source": []
  },
  {
   "cell_type": "code",
   "execution_count": null,
   "metadata": {},
   "outputs": [],
   "source": []
  },
  {
   "cell_type": "code",
   "execution_count": null,
   "metadata": {},
   "outputs": [],
   "source": []
  },
  {
   "cell_type": "code",
   "execution_count": null,
   "metadata": {},
   "outputs": [],
   "source": []
  }
 ],
 "metadata": {
  "kernelspec": {
   "display_name": "Python 3",
   "language": "python",
   "name": "python3"
  },
  "language_info": {
   "codemirror_mode": {
    "name": "ipython",
    "version": 3
   },
   "file_extension": ".py",
   "mimetype": "text/x-python",
   "name": "python",
   "nbconvert_exporter": "python",
   "pygments_lexer": "ipython3",
   "version": "3.6.9"
  }
 },
 "nbformat": 4,
 "nbformat_minor": 4
}
