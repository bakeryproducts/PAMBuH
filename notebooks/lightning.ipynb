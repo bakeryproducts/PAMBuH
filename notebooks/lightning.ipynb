{
 "cells": [
  {
   "cell_type": "code",
   "execution_count": null,
   "id": "toxic-conflict",
   "metadata": {},
   "outputs": [],
   "source": [
    "%load_ext autoreload\n",
    "%autoreload 2"
   ]
  },
  {
   "cell_type": "code",
   "execution_count": null,
   "id": "egyptian-animal",
   "metadata": {},
   "outputs": [],
   "source": [
    "import os\n",
    "import sys\n",
    "os.chdir('..')\n",
    "sys.path.append('src')"
   ]
  },
  {
   "cell_type": "code",
   "execution_count": null,
   "id": "indian-motor",
   "metadata": {},
   "outputs": [],
   "source": [
    "from pathlib import Path\n",
    "from matplotlib import pyplot as plt\n",
    "import cv2\n",
    "import tqdm\n",
    "from ipywidgets import widgets\n",
    "from IPython.display import clear_output\n",
    "import rasterio\n",
    "import functools\n",
    "import numpy as np\n",
    "from PIL import Image\n",
    "\n",
    "import utils\n",
    "from sampler import BackgroundSampler\n",
    "from lightning import cut_off_light_from_img\n",
    "from rle2tiff import save_mask\n",
    "from tf_reader import TFReader\n",
    "from skimage.transform import resize\n",
    "\n",
    "import functools\n",
    "import numpy as np"
   ]
  },
  {
   "cell_type": "markdown",
   "id": "ceramic-nomination",
   "metadata": {},
   "source": [
    "#### Configurations"
   ]
  },
  {
   "cell_type": "code",
   "execution_count": null,
   "id": "smart-tiffany",
   "metadata": {},
   "outputs": [],
   "source": [
    "path_to_img_folder = Path('data/tiff/')\n",
    "path_to_mask_folder = Path('data/mask/')\n",
    "path_to_anot_struct_folder = Path('data/markup/')\n",
    "postfix = '-anatomical-structure.json'\n",
    "out_path_to_light_crop = Path('data/lightning_crop/')\n",
    "\n",
    "num_samples = 200 # Total number of lightning templates\n",
    "wh = (1024, 1024)\n",
    "downscale_factor = 4\n",
    "max_gray_val = 255"
   ]
  },
  {
   "cell_type": "markdown",
   "id": "increasing-craps",
   "metadata": {},
   "source": [
    "#### Create background samples "
   ]
  },
  {
   "cell_type": "markdown",
   "id": "entitled-viewer",
   "metadata": {},
   "source": [
    "Choose only images with lightnings"
   ]
  },
  {
   "cell_type": "code",
   "execution_count": null,
   "id": "olive-perception",
   "metadata": {},
   "outputs": [],
   "source": [
    "path_to_imgs = sorted(list(path_to_img_folder.glob('*.tiff')))\n",
    "print(path_to_imgs)\n",
    "indices_img_with_light = [2]  # Chosen manually\n",
    "assert len(indices_img_with_light) == 1\n",
    "\n",
    "path_to_imgs = [path_to_imgs[ind] for ind in indices_img_with_light]\n",
    "print(path_to_imgs[0])"
   ]
  },
  {
   "cell_type": "code",
   "execution_count": null,
   "id": "transparent-identifier",
   "metadata": {
    "scrolled": true
   },
   "outputs": [],
   "source": [
    "threshold=200\n",
    "kernel_size=2\n",
    "\n",
    "out_path_to_light_crop.mkdir(exist_ok=True) \n",
    "\n",
    "for path_to_img in path_to_imgs:\n",
    "    path_to_mask =path_to_mask_folder / path_to_img.name\n",
    "    path_to_anot_struct = path_to_anot_struct_folder / (path_to_img.stem + postfix)\n",
    "    num_samples_per_img = num_samples//len(path_to_imgs)\n",
    "    \n",
    "    # List of polygons containing anotomical structure\n",
    "    polygons = utils.get_cortex_polygons(utils.jread(path_to_anot_struct))\n",
    "    back_samples = BackgroundSampler(path_to_img, \n",
    "                                     path_to_mask, \n",
    "                                     polygons, \n",
    "                                     wh, \n",
    "                                     num_samples_per_img)\n",
    "    \n",
    "    for ind, back_sample in tqdm.tqdm(enumerate(back_samples)):\n",
    "        crop, _ = back_sample\n",
    "        num_bands = crop.shape[0]\n",
    "        \n",
    "        mask_with_light = cut_off_light_from_img(crop,\n",
    "                                                 threshold=threshold,\n",
    "                                                 kernel_size=kernel_size)\n",
    "        \n",
    "        if mask_with_light is not None:\n",
    "            # Reshape \n",
    "            h, w = mask_with_light.shape\n",
    "            mask_with_light = mask_with_light.reshape(1, h, w)        # (1, h, w)\n",
    "            \n",
    "            # Downscale\n",
    "            h_down, w_down = h//downscale_factor, w//downscale_factor\n",
    "            mask_with_light = (resize(mask_with_light, (1, h_down, w_down)) * max_gray_val).astype(np.uint8)\n",
    "            crop = (resize(crop, (num_bands, h_down, w_down)) * max_gray_val).astype(np.uint8)\n",
    "            \n",
    "            # Stack\n",
    "            crop_with_mask = np.concatenate((crop, mask_with_light))  # (4, h, w)\n",
    "            \n",
    "            # Save\n",
    "            path_to_save = out_path_to_light_crop / f'{path_to_img.stem}_{ind}{path_to_img.suffix}'\n",
    "            utils.save_arr_as_tiff(crop_with_mask, path_to_save)\n",
    "            \n",
    "    del back_samples, crop"
   ]
  },
  {
   "cell_type": "markdown",
   "id": "prescription-integration",
   "metadata": {},
   "source": [
    "#### Clean"
   ]
  },
  {
   "cell_type": "code",
   "execution_count": null,
   "id": "silver-indianapolis",
   "metadata": {},
   "outputs": [],
   "source": [
    "path_to_crops = out_path_to_light_crop.glob(f'*{path_to_imgs[0].stem}*{path_to_imgs[0].suffix}')\n",
    "plt.rcParams[\"figure.figsize\"] = (12,6)\n",
    "\n",
    "del_mem_paths = []\n",
    "\n",
    "def delete(light_crop, nothing):\n",
    "    if light_crop not in del_mem_paths:\n",
    "        del_mem_paths.append(light_crop)\n",
    "        print(\"Added\")\n",
    "    \n",
    "def f(nothing):\n",
    "    clear_output(wait=True)\n",
    "    display(button)\n",
    "    \n",
    "    try:\n",
    "        \n",
    "        path_to_light_crop = next(path_to_crops)\n",
    "        print(path_to_light_crop)\n",
    "        \n",
    "        display(button_del)\n",
    "        button_del._click_handlers.callbacks = []\n",
    "        button_del.on_click(functools.partial(delete, str(path_to_light_crop)))\n",
    "        \n",
    "        dt_crop_with_light = TFReader(path_to_light_crop)\n",
    "        crop_with_light = dt_crop_with_light.read()\n",
    "        \n",
    "        mask = crop_with_light[3]\n",
    "        fig, (ax1, ax2) = plt.subplots(1, 2)\n",
    "        ax1.imshow(crop_with_light[:3].transpose([1, 2, 0]), cmap='gray')\n",
    "        ax2.imshow(mask, cmap='gray')\n",
    "        plt.show()\n",
    "\n",
    "        del dt_crop_with_light\n",
    "\n",
    "    except StopIteration:\n",
    "        print(\"ATTENTION: DELETE IMAGES\")\n",
    "\n",
    "    \n",
    "button = widgets.Button(description=\"Next\")\n",
    "button_del = widgets.Button(description=\"Delete\")\n",
    "\n",
    "display(button)\n",
    "button.on_click(f)"
   ]
  },
  {
   "cell_type": "markdown",
   "id": "confident-bahamas",
   "metadata": {},
   "source": [
    "#### Delete"
   ]
  },
  {
   "cell_type": "code",
   "execution_count": null,
   "id": "unlimited-bulgarian",
   "metadata": {},
   "outputs": [],
   "source": [
    "print(f'{len(np.unique(del_mem_paths))} crops will be removed')"
   ]
  },
  {
   "cell_type": "code",
   "execution_count": null,
   "id": "renewable-syndicate",
   "metadata": {},
   "outputs": [],
   "source": [
    "print(f'{len(np.unique(del_mem_paths))} crops has been removed')\n",
    "for path in del_mem_paths:\n",
    "    Path(path).unlink(missing_ok=True)"
   ]
  },
  {
   "cell_type": "markdown",
   "id": "collective-virginia",
   "metadata": {},
   "source": [
    "#### Crop rgb by mask"
   ]
  },
  {
   "cell_type": "code",
   "execution_count": null,
   "id": "charming-engineering",
   "metadata": {},
   "outputs": [],
   "source": [
    "# path_to_crops = out_path_to_light_crop.glob(f'*{path_to_imgs[0].suffix}')\n",
    "# for path_to_light_crop in path_to_crops:\n",
    "#     print(path_to_light_crop)\n",
    "#     dt_crop_with_light = RasterioReader(path_to_light_crop)\n",
    "#     crop_with_light_mask = dt_crop_with_light.read()\n",
    "\n",
    "#     rgb = crop_with_light_mask[:3]\n",
    "#     mask = crop_with_light_mask[3]\n",
    "#     crop_with_light_mask[:3] = rgb * (mask//255)\n",
    "#     del  dt_crop_with_light\n",
    "#     utils.save_arr_as_tiff(crop_with_light_mask, path_to_light_crop)"
   ]
  }
 ],
 "metadata": {
  "kernelspec": {
   "display_name": "glom",
   "language": "python",
   "name": "glom"
  },
  "language_info": {
   "codemirror_mode": {
    "name": "ipython",
    "version": 3
   },
   "file_extension": ".py",
   "mimetype": "text/x-python",
   "name": "python",
   "nbconvert_exporter": "python",
   "pygments_lexer": "ipython3",
   "version": "3.8.5"
  }
 },
 "nbformat": 4,
 "nbformat_minor": 5
}
