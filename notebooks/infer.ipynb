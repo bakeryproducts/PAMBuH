{
 "cells": [
  {
   "cell_type": "code",
   "execution_count": 1,
   "metadata": {},
   "outputs": [],
   "source": [
    "%load_ext autoreload\n",
    "%autoreload 2"
   ]
  },
  {
   "cell_type": "code",
   "execution_count": 2,
   "metadata": {},
   "outputs": [],
   "source": [
    "p = 'output/2021_Feb_10_19_55_56_PAMBUH/'"
   ]
  },
  {
   "cell_type": "code",
   "execution_count": 3,
   "metadata": {},
   "outputs": [],
   "source": [
    "import os\n",
    "import sys\n",
    "os.chdir('..')\n",
    "# sys.path.append(p  + 'src')\n",
    "sys.path.append('src')"
   ]
  },
  {
   "cell_type": "code",
   "execution_count": 4,
   "metadata": {},
   "outputs": [],
   "source": [
    "from pathlib import Path\n",
    "from PIL import Image\n",
    "from functools import partial\n",
    "\n",
    "import cv2\n",
    "import numpy as np\n",
    "import torch\n",
    "import torch.nn.functional as F\n",
    "import albumentations as albu\n",
    "from tqdm.notebook import tqdm\n",
    "import _data\n",
    "import augs\n",
    "import callbacks\n",
    "import sampler\n",
    "import model as nn_model\n",
    "from config import cfg, cfg_init\n",
    "from postprocessing import read_and_process_img, postprocess_test_folder, _plot_img\n",
    "from sampler import get_basics_rasterio\n",
    "\n",
    "import  matplotlib.pyplot as plt\n",
    "%matplotlib inline"
   ]
  },
  {
   "cell_type": "code",
   "execution_count": 5,
   "metadata": {},
   "outputs": [],
   "source": [
    "# datasets = data.build_datasets(cfg)\n",
    "# dls = data.build_dataloaders(cfg, datasets, pin=True, drop_last=False)\n",
    "# tdl = dls['TRAIN']\n",
    "# xb,yb = next(iter(tdl))\n",
    "# xb.shape, yb.shape\n",
    "\n",
    "# s = sampler.tif_block_read('./input/hm/test/b2dc8411c.tiff')\n",
    "# _,_,img = next(iter(s))\n",
    "# img.shape, img.dtype"
   ]
  },
  {
   "cell_type": "code",
   "execution_count": 6,
   "metadata": {},
   "outputs": [],
   "source": [
    "from utils import get_tiff_block"
   ]
  },
  {
   "cell_type": "code",
   "execution_count": 7,
   "metadata": {},
   "outputs": [],
   "source": [
    "def parse_model_path(p):\n",
    "    name = str(p.name)\n",
    "    epoch = name.split('_')[0]\n",
    "    return int(epoch[1:])\n",
    "\n",
    "def get_last_model(src):\n",
    "    # assumes that model name is of type e500_blabla.pth, sorted by epoch #500\n",
    "    models = list(Path(src).glob('*.pth'))\n",
    "    res = []\n",
    "    for i, m in enumerate(models):\n",
    "        epoch = parse_model_path(m)\n",
    "        #print(m, epoch)\n",
    "        \n",
    "        res.append([i,epoch])\n",
    "    idx = sorted(res, key=lambda x: -x[1])[0][0]\n",
    "    return models[idx]\n",
    "\n",
    "def rescale(batch_img, scale): return F.interpolate(batch_img, scale_factor=(scale, scale))\n",
    "\n",
    "def preprocess_image(cfg, img):\n",
    "    train_trans = augs.get_aug('light', cfg.TRANSFORMERS)\n",
    "    transform = train_trans.transforms.transforms[-1]\n",
    "    #print(transform)\n",
    "    #transform = albu.Compose([albu.Normalize(mean=cfg.TRANSFORMERS.MEAN, std=cfg.TRANSFORMERS.STD)])\n",
    "    ch, H,W, dtype = *img.shape, img.dtype\n",
    "    assert ch==3\n",
    "    assert dtype==np.uint8, dtype\n",
    "    img = img.transpose(1,2,0)\n",
    "    img = cv2.cvtColor(img, cv2.COLOR_BGR2RGB)\n",
    "    img = cv2.resize(img, (W//2, H//2))\n",
    "    return transform(image=img)['image']\n",
    "\n",
    "device = 'cuda:2'\n",
    "\n",
    "def _infer_func(imgs, cfg, model):\n",
    "    batch = []\n",
    "    for img in imgs:\n",
    "        batch.append(preprocess_image(cfg, img))\n",
    "    \n",
    "    batch = torch.stack(batch,axis=0)\n",
    "    if torch.cuda.is_available():\n",
    "        batch = batch.to(device)\n",
    "    with torch.no_grad():\n",
    "        res = torch.sigmoid(model(batch))\n",
    "    res = rescale(res, 2)\n",
    "    return res\n",
    "\n",
    "def get_infer_func(p):\n",
    "    cfg_init(p + 'cfg.yaml')\n",
    "    cfg['PARALLEL']['DDP'] = False\n",
    "    cfg['DATA']['TRAIN']['PRELOAD'] = False\n",
    "        \n",
    "    model_path = get_last_model(p + 'models')\n",
    "    m = nn_model.load_model(cfg, str(model_path))\n",
    "    \n",
    "    if torch.cuda.is_available():\n",
    "        m = m.to(device)\n",
    "    return partial(_infer_func, cfg=cfg, model=m)"
   ]
  },
  {
   "cell_type": "code",
   "execution_count": 8,
   "metadata": {},
   "outputs": [],
   "source": [
    "foo = get_infer_func(p)"
   ]
  },
  {
   "cell_type": "code",
   "execution_count": 9,
   "metadata": {},
   "outputs": [
    {
     "name": "stdout",
     "output_type": "stream",
     "text": [
      "/mnt/storage/HuBMAP/test/b9a3865fc.tiff\n"
     ]
    }
   ],
   "source": [
    "src_folder = '/mnt/storage/HuBMAP/test/'\n",
    "img_name = next(Path(src_folder).glob('*.tiff'))\n",
    "print(img_name)"
   ]
  },
  {
   "cell_type": "code",
   "execution_count": 10,
   "metadata": {},
   "outputs": [
    {
     "name": "stdout",
     "output_type": "stream",
     "text": [
      "31295 40429\n"
     ]
    },
    {
     "name": "stderr",
     "output_type": "stream",
     "text": [
      "/usr/local/lib/python3.6/dist-packages/rasterio/__init__.py:207: NotGeoreferencedWarning: Dataset has no geotransform, gcps, or rpcs. The identity matrix be returned.\n",
      "  s = DatasetReader(path, driver=driver, sharing=sharing, **kwargs)\n"
     ]
    },
    {
     "data": {
      "application/vnd.jupyter.widget-view+json": {
       "model_id": "dc2e7efc2ad641e382b708622e88d0c6",
       "version_major": 2,
       "version_minor": 0
      },
      "text/plain": [
       "rows:   0%|          | 0/16 [00:00<?, ?it/s]"
      ]
     },
     "metadata": {},
     "output_type": "display_data"
    },
    {
     "data": {
      "application/vnd.jupyter.widget-view+json": {
       "model_id": "4fb1f67b2fac4b258aa6be93b3c64a44",
       "version_major": 2,
       "version_minor": 0
      },
      "text/plain": [
       "columns:   0%|          | 0/21 [00:00<?, ?it/s]"
      ]
     },
     "metadata": {},
     "output_type": "display_data"
    },
    {
     "data": {
      "application/vnd.jupyter.widget-view+json": {
       "model_id": "2e18accd22bb4ff7b9cc21930ebceb72",
       "version_major": 2,
       "version_minor": 0
      },
      "text/plain": [
       "columns:   0%|          | 0/21 [00:00<?, ?it/s]"
      ]
     },
     "metadata": {},
     "output_type": "display_data"
    },
    {
     "data": {
      "application/vnd.jupyter.widget-view+json": {
       "model_id": "f307b441c3604c048a180358e636b476",
       "version_major": 2,
       "version_minor": 0
      },
      "text/plain": [
       "columns:   0%|          | 0/21 [00:00<?, ?it/s]"
      ]
     },
     "metadata": {},
     "output_type": "display_data"
    },
    {
     "data": {
      "application/vnd.jupyter.widget-view+json": {
       "model_id": "19a4922e3b6d4a5dbfc10853d8c11955",
       "version_major": 2,
       "version_minor": 0
      },
      "text/plain": [
       "columns:   0%|          | 0/21 [00:00<?, ?it/s]"
      ]
     },
     "metadata": {},
     "output_type": "display_data"
    },
    {
     "data": {
      "application/vnd.jupyter.widget-view+json": {
       "model_id": "63e9ed8b301340d09dcb52e4bea65eb1",
       "version_major": 2,
       "version_minor": 0
      },
      "text/plain": [
       "columns:   0%|          | 0/21 [00:00<?, ?it/s]"
      ]
     },
     "metadata": {},
     "output_type": "display_data"
    },
    {
     "data": {
      "application/vnd.jupyter.widget-view+json": {
       "model_id": "7bc3f96490344ebb94f2b406c93daee1",
       "version_major": 2,
       "version_minor": 0
      },
      "text/plain": [
       "columns:   0%|          | 0/21 [00:00<?, ?it/s]"
      ]
     },
     "metadata": {},
     "output_type": "display_data"
    },
    {
     "data": {
      "application/vnd.jupyter.widget-view+json": {
       "model_id": "ab10f431081b4d6aac8a40fbce3cd552",
       "version_major": 2,
       "version_minor": 0
      },
      "text/plain": [
       "columns:   0%|          | 0/21 [00:00<?, ?it/s]"
      ]
     },
     "metadata": {},
     "output_type": "display_data"
    },
    {
     "data": {
      "application/vnd.jupyter.widget-view+json": {
       "model_id": "f55a836494804afcb94e74a2c1d834de",
       "version_major": 2,
       "version_minor": 0
      },
      "text/plain": [
       "columns:   0%|          | 0/21 [00:00<?, ?it/s]"
      ]
     },
     "metadata": {},
     "output_type": "display_data"
    },
    {
     "data": {
      "application/vnd.jupyter.widget-view+json": {
       "model_id": "6df93dd87a79451ea2cf1ff42fdf6f71",
       "version_major": 2,
       "version_minor": 0
      },
      "text/plain": [
       "columns:   0%|          | 0/21 [00:00<?, ?it/s]"
      ]
     },
     "metadata": {},
     "output_type": "display_data"
    },
    {
     "data": {
      "application/vnd.jupyter.widget-view+json": {
       "model_id": "4e28318d2ae64d6290869f57fd17f4e2",
       "version_major": 2,
       "version_minor": 0
      },
      "text/plain": [
       "columns:   0%|          | 0/21 [00:00<?, ?it/s]"
      ]
     },
     "metadata": {},
     "output_type": "display_data"
    },
    {
     "data": {
      "application/vnd.jupyter.widget-view+json": {
       "model_id": "0c4f701fa05847cba9120174f7d42229",
       "version_major": 2,
       "version_minor": 0
      },
      "text/plain": [
       "columns:   0%|          | 0/21 [00:00<?, ?it/s]"
      ]
     },
     "metadata": {},
     "output_type": "display_data"
    },
    {
     "data": {
      "application/vnd.jupyter.widget-view+json": {
       "model_id": "834ffdc384db4117aff8fd8a46f03df4",
       "version_major": 2,
       "version_minor": 0
      },
      "text/plain": [
       "columns:   0%|          | 0/21 [00:00<?, ?it/s]"
      ]
     },
     "metadata": {},
     "output_type": "display_data"
    },
    {
     "data": {
      "application/vnd.jupyter.widget-view+json": {
       "model_id": "e5818d55bfa74e0aaf34b36547f0ae93",
       "version_major": 2,
       "version_minor": 0
      },
      "text/plain": [
       "columns:   0%|          | 0/21 [00:00<?, ?it/s]"
      ]
     },
     "metadata": {},
     "output_type": "display_data"
    },
    {
     "data": {
      "application/vnd.jupyter.widget-view+json": {
       "model_id": "0b8048caa2ca4cc2a7f38e007cc52c37",
       "version_major": 2,
       "version_minor": 0
      },
      "text/plain": [
       "columns:   0%|          | 0/21 [00:00<?, ?it/s]"
      ]
     },
     "metadata": {},
     "output_type": "display_data"
    },
    {
     "data": {
      "application/vnd.jupyter.widget-view+json": {
       "model_id": "3103cd9e9f0643baa0f827f1618675bc",
       "version_major": 2,
       "version_minor": 0
      },
      "text/plain": [
       "columns:   0%|          | 0/21 [00:00<?, ?it/s]"
      ]
     },
     "metadata": {},
     "output_type": "display_data"
    },
    {
     "data": {
      "application/vnd.jupyter.widget-view+json": {
       "model_id": "0dcdb0ddf3514f9bb8e6ca6acb141aae",
       "version_major": 2,
       "version_minor": 0
      },
      "text/plain": [
       "columns:   0%|          | 0/21 [00:00<?, ?it/s]"
      ]
     },
     "metadata": {},
     "output_type": "display_data"
    },
    {
     "data": {
      "text/plain": [
       "(31295, 40429)"
      ]
     },
     "execution_count": 10,
     "metadata": {},
     "output_type": "execute_result"
    }
   ],
   "source": [
    "def chunks(lst, n):\n",
    "    \"\"\"Yield successive n-sized chunks from lst.\"\"\"\n",
    "    for i in range(0, len(lst), n):\n",
    "        yield lst[i:i + n]\n",
    "\n",
    "def read_and_process_img(path : str, do_infer, block_size : int = 512, crop_size : int = 500, batch_size : int = 4) -> np.ndarray:\n",
    "    assert block_size >= crop_size, (block_size, crop_size)\n",
    "    fd, (h, w), channel = get_basics_rasterio(path)\n",
    "    print(h, w)\n",
    "    pad = (block_size - crop_size)//2\n",
    "    rows = []\n",
    "    for y in tqdm(range(-pad, h, crop_size), desc='rows'):\n",
    "        row, zeros_idx = [], [] \n",
    "        for i, x in enumerate(tqdm(range(-pad, w, crop_size), desc='columns')):\n",
    "            pad_x = (pad if x < 0 else 0, x + block_size - w if x + block_size > w else 0)\n",
    "            pad_y = (pad if y < 0 else 0, y + block_size - h if y + block_size > h else 0)\n",
    "            pad_chw = ((0, 0), pad_y, pad_x)\n",
    "            block = get_tiff_block(fd, x, y, block_size)\n",
    "            pad_block = np.pad(block, pad_chw, 'constant', constant_values=0)\n",
    "            if pad_block.max() > 0:\n",
    "                row.append(pad_block)\n",
    "            else:\n",
    "                zeros_idx.append(i)\n",
    "        if row:\n",
    "            nozero_masks = []\n",
    "            for chunk in chunks(row, batch_size):\n",
    "                nozero_masks.append(do_infer(chunk)[:, :, pad:-pad, pad:-pad])\n",
    "            nozero_masks = torch.cat(nozero_masks, 0)\n",
    "            masks_list = [i.squeeze(0) for i in nozero_masks]\n",
    "            for i in zeros_idx:\n",
    "                masks_list.insert(i, torch.zeros((crop_size, crop_size)))\n",
    "            mask_row = torch.cat(masks_list, 1)\n",
    "        else:\n",
    "            mask_row = torch.zeros((crop_size, w))\n",
    "        rows.append(mask_row)\n",
    "    mask = np.uint8((torch.cat(rows, 0)[:h, :w]*255).to('cpu'))\n",
    "    assert mask.shape == (h, w)\n",
    "    return mask\n",
    "\n",
    "l = read_and_process_img(img_name, foo, 2048, 2000)\n",
    "l.shape"
   ]
  },
  {
   "cell_type": "code",
   "execution_count": 11,
   "metadata": {},
   "outputs": [
    {
     "name": "stdout",
     "output_type": "stream",
     "text": [
      "(31295, 40429)\n"
     ]
    },
    {
     "data": {
      "image/png": "[encoded data removed]",
      "text/plain": [
       "<Figure size 432x288 with 1 Axes>"
      ]
     },
     "metadata": {
      "needs_background": "light"
     },
     "output_type": "display_data"
    }
   ],
   "source": [
    "_plot_img(l)"
   ]
  },
  {
   "cell_type": "code",
   "execution_count": null,
   "metadata": {},
   "outputs": [],
   "source": [
    "mask = read_and_process_img(img_name, foo, size=2048, crop_size=2000)\n",
    "mask.shape"
   ]
  },
  {
   "cell_type": "code",
   "execution_count": 144,
   "metadata": {},
   "outputs": [
    {
     "name": "stdout",
     "output_type": "stream",
     "text": [
      "(2000, 40429)\n"
     ]
    },
    {
     "data": {
      "image/png": "[encoded data removed]",
      "text/plain": [
       "<Figure size 432x288 with 1 Axes>"
      ]
     },
     "metadata": {
      "needs_background": "light"
     },
     "output_type": "display_data"
    }
   ],
   "source": [
    "_plot_img(mask)"
   ]
  },
  {
   "cell_type": "code",
   "execution_count": null,
   "metadata": {},
   "outputs": [],
   "source": [
    "postprocess_test_folder(foo, src_folder, './output')"
   ]
  },
  {
   "cell_type": "markdown",
   "metadata": {},
   "source": [
    "# Tests"
   ]
  },
  {
   "cell_type": "markdown",
   "metadata": {},
   "source": [
    "## Sampler"
   ]
  },
  {
   "cell_type": "code",
   "execution_count": null,
   "metadata": {},
   "outputs": [],
   "source": [
    "s = sampler.tif_block_read('./input/hm/test/b2dc8411c.tiff', block_size=(1024,1024))\n",
    "s = iter(s)\n",
    "_,_,img = next(s)\n",
    "print(img.shape, img.dtype)"
   ]
  },
  {
   "cell_type": "code",
   "execution_count": null,
   "metadata": {},
   "outputs": [],
   "source": [
    "Image.fromarray(img.transpose(1,2,0)).resize((256,256))"
   ]
  },
  {
   "cell_type": "code",
   "execution_count": null,
   "metadata": {},
   "outputs": [],
   "source": []
  },
  {
   "cell_type": "markdown",
   "metadata": {},
   "source": [
    "## Rasterio"
   ]
  },
  {
   "cell_type": "code",
   "execution_count": null,
   "metadata": {},
   "outputs": [],
   "source": [
    "import rasterio as rio"
   ]
  },
  {
   "cell_type": "code",
   "execution_count": null,
   "metadata": {},
   "outputs": [],
   "source": [
    "ds = rio.open('./input/hm/train/095bf7a1f.tiff')\n",
    "ds.shape"
   ]
  },
  {
   "cell_type": "code",
   "execution_count": null,
   "metadata": {},
   "outputs": [],
   "source": [
    "x,y = 15750,16100\n",
    "w,h=1024,1024\n",
    "img = ds.read([1,2,3], window=((x,x+w),(y,y+h)))\n",
    "print(img.shape, img.dtype)"
   ]
  },
  {
   "cell_type": "code",
   "execution_count": null,
   "metadata": {},
   "outputs": [],
   "source": [
    "Image.fromarray(img.transpose(1,2,0)).resize((256,256))"
   ]
  },
  {
   "cell_type": "code",
   "execution_count": null,
   "metadata": {},
   "outputs": [],
   "source": [
    "bb = foo([img])\n",
    "bb.shape, bb.dtype, bb.max()"
   ]
  },
  {
   "cell_type": "code",
   "execution_count": null,
   "metadata": {},
   "outputs": [],
   "source": [
    "plt.imshow(bb[0][0])"
   ]
  },
  {
   "cell_type": "code",
   "execution_count": null,
   "metadata": {},
   "outputs": [],
   "source": []
  },
  {
   "cell_type": "code",
   "execution_count": null,
   "metadata": {},
   "outputs": [],
   "source": []
  },
  {
   "cell_type": "code",
   "execution_count": null,
   "metadata": {},
   "outputs": [],
   "source": [
    "t = callbacks.denorm(dxb[0], mean=cfg.TRANSFORMERS.MEAN, std=cfg.TRANSFORMERS.STD).squeeze()\n",
    "t = t.squeeze().permute(1,2,0).numpy()\n",
    "t.shape\n",
    "\n",
    "Image.fromarray((255.*t).astype(np.uint8))#.resize((512,512))"
   ]
  },
  {
   "cell_type": "code",
   "execution_count": null,
   "metadata": {},
   "outputs": [],
   "source": []
  },
  {
   "cell_type": "code",
   "execution_count": null,
   "metadata": {},
   "outputs": [],
   "source": []
  },
  {
   "cell_type": "code",
   "execution_count": null,
   "metadata": {},
   "outputs": [],
   "source": []
  },
  {
   "cell_type": "code",
   "execution_count": null,
   "metadata": {},
   "outputs": [],
   "source": []
  },
  {
   "cell_type": "code",
   "execution_count": null,
   "metadata": {},
   "outputs": [],
   "source": []
  },
  {
   "cell_type": "code",
   "execution_count": null,
   "metadata": {},
   "outputs": [],
   "source": []
  }
 ],
 "metadata": {
  "kernelspec": {
   "display_name": "Python 3",
   "language": "python",
   "name": "python3"
  },
  "language_info": {
   "codemirror_mode": {
    "name": "ipython",
    "version": 3
   },
   "file_extension": ".py",
   "mimetype": "text/x-python",
   "name": "python",
   "nbconvert_exporter": "python",
   "pygments_lexer": "ipython3",
   "version": "3.6.9"
  }
 },
 "nbformat": 4,
 "nbformat_minor": 4
}
