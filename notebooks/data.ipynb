{
 "cells": [
  {
   "cell_type": "markdown",
   "metadata": {},
   "source": [
    "# Imports"
   ]
  },
  {
   "cell_type": "code",
   "execution_count": null,
   "metadata": {},
   "outputs": [],
   "source": [
    "%load_ext autoreload\n",
    "%autoreload 2"
   ]
  },
  {
   "cell_type": "code",
   "execution_count": null,
   "metadata": {},
   "outputs": [],
   "source": [
    "import os\n",
    "import sys\n",
    "os.chdir('..')\n",
    "sys.path.append('src')"
   ]
  },
  {
   "cell_type": "code",
   "execution_count": null,
   "metadata": {},
   "outputs": [],
   "source": [
    "from PIL import Image\n",
    "from pathlib import Path\n",
    "from functools import partial, reduce\n",
    "from collections import defaultdict\n",
    "import multiprocessing as mp\n",
    "from contextlib import contextmanager\n",
    "\n",
    "import cv2\n",
    "import numpy as np\n",
    "from tqdm.auto import tqdm\n",
    "\n",
    "\n",
    "import utils\n",
    "import data\n",
    "import sampler"
   ]
  },
  {
   "cell_type": "code",
   "execution_count": null,
   "metadata": {},
   "outputs": [],
   "source": []
  },
  {
   "cell_type": "markdown",
   "metadata": {},
   "source": [
    "# Code"
   ]
  },
  {
   "cell_type": "markdown",
   "metadata": {},
   "source": [
    "## Narezator"
   ]
  },
  {
   "cell_type": "markdown",
   "metadata": {},
   "source": [
    "### Objects"
   ]
  },
  {
   "cell_type": "code",
   "execution_count": null,
   "metadata": {},
   "outputs": [],
   "source": [
    "@contextmanager\n",
    "def poolcontext(*args, **kwargs):\n",
    "    pool = mp.Pool(*args, **kwargs)\n",
    "    yield pool\n",
    "    pool.terminate()\n",
    "    \n",
    "def mp_func(foo, args, n):\n",
    "    args_chunks = [args[i:i + n] for i in range(0, len(args), n)]\n",
    "    with poolcontext(processes=n) as pool:\n",
    "        pool.map(foo, args_chunks)\n",
    "    \n",
    "def mp_foo(foo, args): return foo(*args)"
   ]
  },
  {
   "cell_type": "code",
   "execution_count": null,
   "metadata": {},
   "outputs": [],
   "source": []
  },
  {
   "cell_type": "code",
   "execution_count": null,
   "metadata": {},
   "outputs": [],
   "source": [
    "def to_gray(i):return np.mean(i,-1,keepdims=True).repeat(3,-1)\n",
    "\n",
    "def mp_sampler(dst, i_fn, m_fn, a_fn, wh, wh_mask, idxs):\n",
    "    s = sampler.GdalSampler(i_fn, m_fn, a_fn, wh, wh_mask)\n",
    "    SCALE = 4\n",
    "    TO_GRAY = True\n",
    "    \n",
    "    for idx in idxs:\n",
    "        i,m = s[idx]  \n",
    "        \n",
    "        img_dir = dst / 'imgs' / i_fn.with_suffix('').name\n",
    "        os.makedirs(str(img_dir), exist_ok=True)\n",
    "        \n",
    "        mask_dir = dst / 'masks' / i_fn.with_suffix('').name\n",
    "        os.makedirs(str(mask_dir), exist_ok=True)\n",
    "        \n",
    "        orig_name = (str(idx).zfill(6) + '.png')\n",
    "        img_name = img_dir / orig_name \n",
    "        mask_name = mask_dir /orig_name\n",
    "        \n",
    "        #print(mask_name, m.shape, m.dtype)\n",
    "        \n",
    "        i = i.transpose(1,2,0)\n",
    "        m = 255 * np.expand_dims(m,-1).repeat(3,-1).astype(np.uint8)\n",
    "        \n",
    "        i = cv2.resize(cv2.cvtColor(i, cv2.COLOR_BGR2RGB), (wh[0]//SCALE, wh[1]//SCALE))\n",
    "        m = cv2.resize(m, (wh[0]//SCALE, wh[1]//SCALE))\n",
    "        \n",
    "        if TO_GRAY: i = to_gray(i).astype(np.uint8)\n",
    "        \n",
    "        cv2.imwrite(str(img_name), i)\n",
    "        cv2.imwrite(str(mask_name), m)\n",
    "    return"
   ]
  },
  {
   "cell_type": "code",
   "execution_count": null,
   "metadata": {},
   "outputs": [],
   "source": [
    "imgs_path = Path('input/hm/train')\n",
    "masks_path = Path('input/bigmasks/')\n",
    "#p = Path('/home/sokolov/work/webinf/data/kidney/train/')\n",
    "dst_path = Path('input/CUTS/cuts1024x25_gray')\n",
    "NUM_PROC = 16\n",
    "wh = (1024,1024)"
   ]
  },
  {
   "cell_type": "code",
   "execution_count": null,
   "metadata": {},
   "outputs": [],
   "source": [
    "filt = partial(utils.filter_ban_str_in_name, bans=['-', '_ell'])\n",
    "ann_fns = sorted(utils.get_filenames(imgs_path, '*.json', filt))\n",
    "masks_fns = sorted(utils.get_filenames(masks_path, '*.tiff', filt))\n",
    "img_fns = sorted([a.with_suffix('.tiff') for a in ann_fns])\n",
    "img_fns, ann_fns, masks_fns"
   ]
  },
  {
   "cell_type": "code",
   "execution_count": null,
   "metadata": {},
   "outputs": [],
   "source": []
  },
  {
   "cell_type": "code",
   "execution_count": null,
   "metadata": {},
   "outputs": [],
   "source": []
  },
  {
   "cell_type": "code",
   "execution_count": null,
   "metadata": {},
   "outputs": [],
   "source": [
    "# for i,m in _s:\n",
    "#     print(i.shape, m.shape)"
   ]
  },
  {
   "cell_type": "code",
   "execution_count": null,
   "metadata": {},
   "outputs": [],
   "source": []
  },
  {
   "cell_type": "code",
   "execution_count": null,
   "metadata": {},
   "outputs": [],
   "source": [
    "#assert  False , 'DO ONCE'\n",
    "for i_fn, m_fn, a_fn in tqdm(zip(img_fns, masks_fns, ann_fns)):\n",
    "    const_args = i_fn, m_fn, a_fn, wh, wh\n",
    "    _s = sampler.GdalSampler(*const_args)\n",
    "    part_samp = partial(mp_sampler, *(dst_path, *const_args))\n",
    "    mp_func(part_samp, range(len(_s)), NUM_PROC)\n",
    "    #break"
   ]
  },
  {
   "cell_type": "markdown",
   "metadata": {},
   "source": [
    "### Backgrounds"
   ]
  },
  {
   "cell_type": "code",
   "execution_count": null,
   "metadata": {},
   "outputs": [],
   "source": [
    "imgs_path = Path('input/hm/train')\n",
    "masks_path = Path('input/bigmasks/')\n",
    "dst_path = Path('input/backs030_x25_gray')\n",
    "#NUM_PROC = 16\n",
    "wh = (1024,1024)\n",
    "pct = .3\n"
   ]
  },
  {
   "cell_type": "code",
   "execution_count": null,
   "metadata": {},
   "outputs": [],
   "source": [
    "filt = partial(utils.filter_ban_str_in_name, bans=['-', '_ell'])\n",
    "ann_fns = sorted(utils.get_filenames(imgs_path, '*.json', filt))\n",
    "masks_fns = sorted(utils.get_filenames(masks_path, '*.tiff', filt))\n",
    "img_fns = sorted([a.with_suffix('.tiff') for a in ann_fns])\n",
    "img_fns, ann_fns, masks_fns"
   ]
  },
  {
   "cell_type": "code",
   "execution_count": null,
   "metadata": {},
   "outputs": [],
   "source": []
  },
  {
   "cell_type": "code",
   "execution_count": null,
   "metadata": {},
   "outputs": [],
   "source": [
    "{i.stem:0 for i in img_fns}"
   ]
  },
  {
   "cell_type": "code",
   "execution_count": null,
   "metadata": {},
   "outputs": [],
   "source": []
  },
  {
   "cell_type": "code",
   "execution_count": null,
   "metadata": {},
   "outputs": [],
   "source": [
    "idx = 0\n",
    "img_path = img_fns[idx]\n",
    "mask_path = masks_fns[idx] \n",
    "img_anot_struct_path = img_path.parent / (img_path.stem + '-anatomical-structure.json')\n",
    "recs = utils.jread(str(ann_fns[idx]))"
   ]
  },
  {
   "cell_type": "code",
   "execution_count": null,
   "metadata": {},
   "outputs": [],
   "source": [
    "\n",
    "ni = int(len(recs) * pct)\n",
    "polys = utils.get_cortex_polygons(utils.jread(img_anot_struct_path))\n",
    "s = sampler.BackgroundSampler(img_path, mask_path, polys, wh, wh, ni)"
   ]
  },
  {
   "cell_type": "code",
   "execution_count": null,
   "metadata": {},
   "outputs": [],
   "source": [
    "#assert  False , 'DO ONCE'\n",
    "for i_fn, m_fn, a_fn in tqdm(zip(img_fns, masks_fns, ann_fns)):\n",
    "    SCALE = 4\n",
    "    TO_GRAY = True\n",
    "    \n",
    "    img_anot_struct_path = i_fn.parent / (i_fn.stem + '-anatomical-structure.json')\n",
    "    recs = utils.jread(str(a_fn))\n",
    "    ni = int(len(recs) * pct)\n",
    "    polys = utils.get_cortex_polygons(utils.jread(img_anot_struct_path))\n",
    "    s = sampler.BackgroundSampler(i_fn, m_fn, polys, wh, wh, ni)\n",
    "    \n",
    "    img_dir = dst_path / 'imgs' / i_fn.with_suffix('').name\n",
    "    os.makedirs(str(img_dir), exist_ok=True)\n",
    "\n",
    "    mask_dir = dst_path / 'masks' / i_fn.with_suffix('').name\n",
    "    os.makedirs(str(mask_dir), exist_ok=True)\n",
    "    #print(i_fn)\n",
    "    for idx, (i,m) in enumerate(s):\n",
    "        #print(i.shape, m.shape)\n",
    "        orig_name = (str(idx).zfill(6) + '.png')\n",
    "        img_name = img_dir / orig_name \n",
    "        mask_name = mask_dir /orig_name\n",
    "        \n",
    "        i = i.transpose(1,2,0)\n",
    "        m = 255 * np.expand_dims(m,-1).repeat(3,-1).astype(np.uint8)\n",
    "        \n",
    "        i = cv2.resize(cv2.cvtColor(i, cv2.COLOR_BGR2RGB), (wh[0]//SCALE, wh[1]//SCALE))\n",
    "        m = cv2.resize(m, (wh[0]//SCALE, wh[1]//SCALE))\n",
    "        \n",
    "        if TO_GRAY: i = to_gray(i).astype(np.uint8)\n",
    "        \n",
    "        cv2.imwrite(str(img_name), i)\n",
    "        cv2.imwrite(str(mask_name), m)"
   ]
  },
  {
   "cell_type": "code",
   "execution_count": null,
   "metadata": {},
   "outputs": [],
   "source": []
  },
  {
   "cell_type": "code",
   "execution_count": null,
   "metadata": {},
   "outputs": [],
   "source": []
  },
  {
   "cell_type": "code",
   "execution_count": null,
   "metadata": {},
   "outputs": [],
   "source": [
    "from ipywidgets import interact, interactive, fixed, interact_manual\n",
    "import ipywidgets as widgets\n",
    "\n",
    "@interact(idx=(0, len(s)),continuous_update=False)\n",
    "def view(idx): return Image.fromarray(s[idx][0].transpose(1,2,0))"
   ]
  },
  {
   "cell_type": "code",
   "execution_count": null,
   "metadata": {},
   "outputs": [],
   "source": []
  },
  {
   "cell_type": "markdown",
   "metadata": {},
   "source": [
    "## Datasets"
   ]
  },
  {
   "cell_type": "code",
   "execution_count": null,
   "metadata": {},
   "outputs": [],
   "source": [
    "root = Path('input/backs030/')\n",
    "sd = data.SegmentDataset(root / 'imgs', root / 'masks', mode_train=False)\n",
    "len(sd)"
   ]
  },
  {
   "cell_type": "code",
   "execution_count": null,
   "metadata": {},
   "outputs": [],
   "source": [
    "from ipywidgets import interact, interactive, fixed, interact_manual\n",
    "import ipywidgets as widgets\n",
    "\n",
    "@interact(idx=(0, len(sd)),continuous_update=False)\n",
    "def view(idx): return sd._view(idx)"
   ]
  },
  {
   "cell_type": "code",
   "execution_count": null,
   "metadata": {},
   "outputs": [],
   "source": [
    "sd[0]"
   ]
  },
  {
   "cell_type": "code",
   "execution_count": null,
   "metadata": {},
   "outputs": [],
   "source": [
    "sd"
   ]
  },
  {
   "cell_type": "code",
   "execution_count": null,
   "metadata": {},
   "outputs": [],
   "source": []
  },
  {
   "cell_type": "code",
   "execution_count": null,
   "metadata": {},
   "outputs": [],
   "source": []
  },
  {
   "cell_type": "code",
   "execution_count": null,
   "metadata": {},
   "outputs": [],
   "source": []
  },
  {
   "cell_type": "code",
   "execution_count": null,
   "metadata": {},
   "outputs": [],
   "source": []
  },
  {
   "cell_type": "code",
   "execution_count": null,
   "metadata": {},
   "outputs": [],
   "source": []
  },
  {
   "cell_type": "code",
   "execution_count": null,
   "metadata": {},
   "outputs": [],
   "source": [
    "root = Path('input/SPLITS/split1024x25/train/')\n",
    "sd = data.SegmentDataset(root / 'imgs', root / 'masks', mode_train=False)\n",
    "len(sd)"
   ]
  },
  {
   "cell_type": "code",
   "execution_count": null,
   "metadata": {},
   "outputs": [],
   "source": [
    "tds = data.TagSegmentDataset(root / 'imgs', root / 'masks', mode_train=True)\n",
    "len(tds)"
   ]
  },
  {
   "cell_type": "code",
   "execution_count": null,
   "metadata": {},
   "outputs": [],
   "source": [
    "tot = 0\n",
    "for _,(_,c) in tds:\n",
    "    tot+=c"
   ]
  },
  {
   "cell_type": "code",
   "execution_count": null,
   "metadata": {},
   "outputs": [],
   "source": [
    "tot/len(tds)"
   ]
  },
  {
   "cell_type": "code",
   "execution_count": null,
   "metadata": {},
   "outputs": [],
   "source": []
  },
  {
   "cell_type": "code",
   "execution_count": null,
   "metadata": {},
   "outputs": [],
   "source": []
  },
  {
   "cell_type": "code",
   "execution_count": null,
   "metadata": {},
   "outputs": [],
   "source": []
  },
  {
   "cell_type": "code",
   "execution_count": null,
   "metadata": {},
   "outputs": [],
   "source": []
  },
  {
   "cell_type": "markdown",
   "metadata": {},
   "source": [
    "## Dataloaders"
   ]
  },
  {
   "cell_type": "code",
   "execution_count": null,
   "metadata": {},
   "outputs": [],
   "source": [
    "from config import cfg, cfg_init\n",
    "from pprint import pprint\n",
    "\n",
    "from callbacks import  denorm"
   ]
  },
  {
   "cell_type": "code",
   "execution_count": null,
   "metadata": {},
   "outputs": [],
   "source": [
    "cfg_init('src/configs/unet_gelb.yaml')\n",
    "cfg['TRANSFORMERS']['TRAIN']['AUG'] = 'light_scale'\n",
    "\n",
    "cfg['PARALLEL']['DDP'] = False\n",
    "cfg['DATA']['TRAIN']['PRELOAD'] = False\n",
    "cfg['DATA']['TRAIN']['MULTIPLY'][\"rate\"] = 2\n",
    "#cfg['DATA']['TRAIN']['DATASETS'] = ['train1024x25']"
   ]
  },
  {
   "cell_type": "code",
   "execution_count": null,
   "metadata": {},
   "outputs": [],
   "source": [
    "pprint(cfg)"
   ]
  },
  {
   "cell_type": "code",
   "execution_count": null,
   "metadata": {},
   "outputs": [],
   "source": []
  },
  {
   "cell_type": "code",
   "execution_count": null,
   "metadata": {},
   "outputs": [],
   "source": [
    "datasets = data.build_datasets(cfg, dataset_types=['TRAIN','VALID'])"
   ]
  },
  {
   "cell_type": "code",
   "execution_count": null,
   "metadata": {},
   "outputs": [],
   "source": [
    "datasets = data.build_datasets(cfg)\n",
    "tds = datasets['TRAIN']\n",
    "vds = datasets['VALID']\n",
    "len(tds)"
   ]
  },
  {
   "cell_type": "code",
   "execution_count": null,
   "metadata": {},
   "outputs": [],
   "source": [
    "def show_img(tds, idx):\n",
    "    img, mask = tds[idx]\n",
    "    print(img.shape, img.dtype)\n",
    "    img = denorm(img, cfg.TRANSFORMERS.MEAN, cfg.TRANSFORMERS.STD)\n",
    "    img = img.squeeze().permute(1,2,0).cpu().numpy()\n",
    "    img = (img * 255.).astype(np.uint8)\n",
    "    return Image.fromarray(img)"
   ]
  },
  {
   "cell_type": "code",
   "execution_count": null,
   "metadata": {},
   "outputs": [],
   "source": [
    "show_img(tds, 0)"
   ]
  },
  {
   "cell_type": "code",
   "execution_count": null,
   "metadata": {},
   "outputs": [],
   "source": [
    "import random"
   ]
  },
  {
   "cell_type": "code",
   "execution_count": null,
   "metadata": {},
   "outputs": [],
   "source": [
    "from _data import make_datasets_folds"
   ]
  },
  {
   "cell_type": "code",
   "execution_count": null,
   "metadata": {},
   "outputs": [],
   "source": [
    "N_FOLDS = 4\n",
    "datasets_as_folds = make_datasets_folds(cfg, datasets, N_FOLDS, shuffle=False)"
   ]
  },
  {
   "cell_type": "code",
   "execution_count": null,
   "metadata": {},
   "outputs": [],
   "source": [
    "datasets_as_folds"
   ]
  },
  {
   "cell_type": "code",
   "execution_count": null,
   "metadata": {},
   "outputs": [],
   "source": [
    "for dss in datasets_as_folds:\n",
    "    dls = data.build_dataloaders(cfg, dss, pin=True, drop_last=False)\n",
    "    tdl = dls['TRAIN']\n",
    "    print(tdl, len(tdl))\n",
    "    for b in tdl:\n",
    "        pass"
   ]
  },
  {
   "cell_type": "code",
   "execution_count": null,
   "metadata": {},
   "outputs": [],
   "source": []
  },
  {
   "cell_type": "code",
   "execution_count": null,
   "metadata": {},
   "outputs": [],
   "source": []
  },
  {
   "cell_type": "code",
   "execution_count": null,
   "metadata": {},
   "outputs": [],
   "source": [
    "tot = 0\n",
    "for dss in datasets_as_folds:\n",
    "    for k, v in dss.items():\n",
    "        print(len(v))\n",
    "        if k == 'TRAIN':\n",
    "            tot += len(v)"
   ]
  },
  {
   "cell_type": "code",
   "execution_count": null,
   "metadata": {},
   "outputs": [],
   "source": [
    "tot"
   ]
  },
  {
   "cell_type": "code",
   "execution_count": null,
   "metadata": {},
   "outputs": [],
   "source": [
    "act_len = len(tds)//2"
   ]
  },
  {
   "cell_type": "code",
   "execution_count": null,
   "metadata": {},
   "outputs": [],
   "source": []
  },
  {
   "cell_type": "code",
   "execution_count": null,
   "metadata": {},
   "outputs": [],
   "source": [
    "idx = 47\n",
    "show_img(tds, idx)"
   ]
  },
  {
   "cell_type": "code",
   "execution_count": null,
   "metadata": {},
   "outputs": [],
   "source": [
    "show_img(tds, idx + act_len)"
   ]
  },
  {
   "cell_type": "code",
   "execution_count": null,
   "metadata": {},
   "outputs": [],
   "source": []
  },
  {
   "cell_type": "code",
   "execution_count": null,
   "metadata": {},
   "outputs": [],
   "source": []
  },
  {
   "cell_type": "code",
   "execution_count": null,
   "metadata": {},
   "outputs": [],
   "source": []
  },
  {
   "cell_type": "code",
   "execution_count": null,
   "metadata": {},
   "outputs": [],
   "source": []
  },
  {
   "cell_type": "code",
   "execution_count": null,
   "metadata": {},
   "outputs": [],
   "source": [
    "def pimg(img):\n",
    "    img = img.squeeze().cpu().numpy()\n",
    "    img = (img * 255.).astype(np.uint8)\n",
    "    return Image.fromarray(img)"
   ]
  },
  {
   "cell_type": "code",
   "execution_count": null,
   "metadata": {},
   "outputs": [],
   "source": [
    "import torch\n",
    "import matplotlib.pyplot as plt\n",
    "%matplotlib inline"
   ]
  },
  {
   "cell_type": "code",
   "execution_count": null,
   "metadata": {},
   "outputs": [],
   "source": [
    "from model import load_model, FoldModel\n",
    "mps = Path('output/2021_Feb_20_18_03_52_PAMBUH/models/').glob('*.pth')\n",
    "mps = list(mps)\n",
    "mps"
   ]
  },
  {
   "cell_type": "code",
   "execution_count": null,
   "metadata": {},
   "outputs": [],
   "source": [
    "m1 = load_model(1, mps[-1])"
   ]
  },
  {
   "cell_type": "code",
   "execution_count": null,
   "metadata": {},
   "outputs": [],
   "source": [
    "ms = [load_model(1, mp) for mp in mps]"
   ]
  },
  {
   "cell_type": "code",
   "execution_count": null,
   "metadata": {},
   "outputs": [],
   "source": [
    "class FoldModel(torch.nn.Module):\n",
    "    def __init__(self, models):\n",
    "        super(FoldModel, self).__init__()\n",
    "        self.ms = models\n",
    "        \n",
    "    def forward(self, x):\n",
    "        res = torch.stack([m(x) for m in self.ms])\n",
    "        print(res.shape)\n",
    "        return res.mean(0)"
   ]
  },
  {
   "cell_type": "code",
   "execution_count": null,
   "metadata": {},
   "outputs": [],
   "source": [
    "fold_model = FoldModel(ms)"
   ]
  },
  {
   "cell_type": "code",
   "execution_count": null,
   "metadata": {},
   "outputs": [],
   "source": [
    "idx = 22\n",
    "show_img(vds, idx)"
   ]
  },
  {
   "cell_type": "code",
   "execution_count": null,
   "metadata": {},
   "outputs": [],
   "source": [
    "i,m = vds[idx]\n",
    "i.shape, i.mean(), i.std()"
   ]
  },
  {
   "cell_type": "code",
   "execution_count": null,
   "metadata": {},
   "outputs": [],
   "source": [
    "i = i.view(1,*i.shape).repeat(2,1,1,1)\n",
    "i.shape"
   ]
  },
  {
   "cell_type": "code",
   "execution_count": null,
   "metadata": {},
   "outputs": [],
   "source": [
    "with torch.no_grad():\n",
    "    res = torch.sigmoid(fold_model(i))"
   ]
  },
  {
   "cell_type": "code",
   "execution_count": null,
   "metadata": {},
   "outputs": [],
   "source": [
    "plt.hist(res.cpu().numpy().flatten(), bins=50);"
   ]
  },
  {
   "cell_type": "code",
   "execution_count": null,
   "metadata": {},
   "outputs": [],
   "source": [
    "res.shape"
   ]
  },
  {
   "cell_type": "code",
   "execution_count": null,
   "metadata": {},
   "outputs": [],
   "source": [
    "pimg(res[0]>.7)"
   ]
  },
  {
   "cell_type": "code",
   "execution_count": null,
   "metadata": {},
   "outputs": [],
   "source": [
    "pimg(m)"
   ]
  },
  {
   "cell_type": "code",
   "execution_count": null,
   "metadata": {},
   "outputs": [],
   "source": [
    "150/255"
   ]
  },
  {
   "cell_type": "code",
   "execution_count": null,
   "metadata": {},
   "outputs": [],
   "source": []
  },
  {
   "cell_type": "code",
   "execution_count": null,
   "metadata": {},
   "outputs": [],
   "source": [
    "%%timeit -n 10 -r 10\n",
    "tds[0]"
   ]
  },
  {
   "cell_type": "code",
   "execution_count": null,
   "metadata": {},
   "outputs": [],
   "source": [
    "i.shape, i.dtype, i.max(), i.mean(), i.std()"
   ]
  },
  {
   "cell_type": "code",
   "execution_count": null,
   "metadata": {},
   "outputs": [],
   "source": [
    "m.shape, m.dtype, m.max()#, m.mean(), m.std()"
   ]
  },
  {
   "cell_type": "code",
   "execution_count": null,
   "metadata": {},
   "outputs": [],
   "source": [
    "dls = data.build_dataloaders(cfg, datasets, pin=True, drop_last=False)\n",
    "tdl = dls['TRAIN']"
   ]
  },
  {
   "cell_type": "code",
   "execution_count": null,
   "metadata": {},
   "outputs": [],
   "source": [
    "dls"
   ]
  },
  {
   "cell_type": "code",
   "execution_count": null,
   "metadata": {},
   "outputs": [],
   "source": [
    "for xb, yb in dls['VALID2']:\n",
    "    break"
   ]
  },
  {
   "cell_type": "code",
   "execution_count": null,
   "metadata": {},
   "outputs": [],
   "source": []
  },
  {
   "cell_type": "code",
   "execution_count": null,
   "metadata": {},
   "outputs": [],
   "source": []
  },
  {
   "cell_type": "code",
   "execution_count": null,
   "metadata": {},
   "outputs": [],
   "source": []
  },
  {
   "cell_type": "code",
   "execution_count": null,
   "metadata": {},
   "outputs": [],
   "source": []
  },
  {
   "cell_type": "code",
   "execution_count": null,
   "metadata": {},
   "outputs": [],
   "source": [
    "%%timeit -n 2 -r 2\n",
    "for xb, yb in tdl:\n",
    "    pass\n",
    "    #break"
   ]
  },
  {
   "cell_type": "code",
   "execution_count": null,
   "metadata": {},
   "outputs": [],
   "source": [
    "xb.shape, xb.dtype, xb.mean(), xb.std()"
   ]
  },
  {
   "cell_type": "code",
   "execution_count": null,
   "metadata": {},
   "outputs": [],
   "source": [
    "yb.shape, yb.dtype, yb.max()"
   ]
  },
  {
   "cell_type": "code",
   "execution_count": null,
   "metadata": {},
   "outputs": [],
   "source": []
  },
  {
   "cell_type": "code",
   "execution_count": null,
   "metadata": {},
   "outputs": [],
   "source": []
  }
 ],
 "metadata": {
  "kernelspec": {
   "display_name": "Python 3",
   "language": "python",
   "name": "python3"
  },
  "language_info": {
   "codemirror_mode": {
    "name": "ipython",
    "version": 3
   },
   "file_extension": ".py",
   "mimetype": "text/x-python",
   "name": "python",
   "nbconvert_exporter": "python",
   "pygments_lexer": "ipython3",
   "version": "3.6.9"
  }
 },
 "nbformat": 4,
 "nbformat_minor": 4
}
