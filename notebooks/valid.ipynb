{
 "cells": [
  {
   "cell_type": "code",
   "execution_count": null,
   "metadata": {},
   "outputs": [],
   "source": [
    "%load_ext autoreload\n",
    "%autoreload 2"
   ]
  },
  {
   "cell_type": "code",
   "execution_count": null,
   "metadata": {},
   "outputs": [],
   "source": [
    "import os\n",
    "import sys\n",
    "os.chdir('..')\n",
    "sys.path.append('src')"
   ]
  },
  {
   "cell_type": "code",
   "execution_count": null,
   "metadata": {},
   "outputs": [],
   "source": [
    "from config import cfg, cfg_init\n",
    "from pprint import pprint\n",
    "\n",
    "from callbacks import  denorm"
   ]
  },
  {
   "cell_type": "code",
   "execution_count": null,
   "metadata": {},
   "outputs": [],
   "source": [
    "from PIL import Image\n",
    "from pathlib import Path\n",
    "from functools import partial, reduce\n",
    "from collections import defaultdict\n",
    "import multiprocessing as mp\n",
    "from contextlib import contextmanager\n",
    "\n",
    "import cv2\n",
    "import numpy as np\n",
    "from tqdm.auto import tqdm\n",
    "\n",
    "import utils\n",
    "import data\n",
    "import model as nn_model\n",
    "\n",
    "import matplotlib.pyplot as plt\n",
    "%matplotlib inline"
   ]
  },
  {
   "cell_type": "code",
   "execution_count": null,
   "metadata": {},
   "outputs": [],
   "source": []
  },
  {
   "cell_type": "markdown",
   "metadata": {},
   "source": [
    "# Local"
   ]
  },
  {
   "cell_type": "code",
   "execution_count": null,
   "metadata": {},
   "outputs": [],
   "source": [
    "cfg_init('src/configs/unet_gelb.yaml')\n",
    "cfg['TRANSFORMERS']['TRAIN']['AUG'] = 'light_scale'\n",
    "\n",
    "cfg['PARALLEL']['DDP'] = False\n",
    "cfg['DATA']['TRAIN']['PRELOAD'] = False\n",
    "cfg['DATA']['TRAIN']['MULTIPLY'][\"rate\"] = 2\n",
    "#cfg['DATA']['TRAIN']['DATASETS'] = ['train1024x25']\n",
    "#cfg['VALID']['BATCH_SIZE'] = 4"
   ]
  },
  {
   "cell_type": "code",
   "execution_count": null,
   "metadata": {},
   "outputs": [],
   "source": [
    "datasets = data.build_datasets(cfg, dataset_types=['TRAIN','VALID'])\n",
    "dls = data.build_dataloaders(cfg, datasets)"
   ]
  },
  {
   "cell_type": "code",
   "execution_count": null,
   "metadata": {},
   "outputs": [],
   "source": [
    "root = 'output/2021_Apr_02_10_43_49_PAMBUH/models/'\n",
    "model = nn_model.load_model(cfg, root).cuda()"
   ]
  },
  {
   "cell_type": "markdown",
   "metadata": {},
   "source": [
    "# THreshold"
   ]
  },
  {
   "cell_type": "code",
   "execution_count": null,
   "metadata": {},
   "outputs": [],
   "source": [
    "from loss import dice_loss"
   ]
  },
  {
   "cell_type": "code",
   "execution_count": null,
   "metadata": {},
   "outputs": [],
   "source": [
    "thrs1 = np.logspace(0, 1, num=10)/100\n",
    "thrs2 = 1-np.logspace(0, 1, num=10)/100\n",
    "thrs2 = thrs2[::-1]\n",
    "thrs = np.concatenate([thrs1, np.arange(.2,.9, .025), thrs2])\n",
    "#thrs"
   ]
  },
  {
   "cell_type": "code",
   "execution_count": null,
   "metadata": {},
   "outputs": [],
   "source": [
    "dices = []\n",
    "cnt = 0\n",
    "for x,y in dls['VALID']:\n",
    "    #x = x.view(1, *x.shape).cuda()\n",
    "    with torch.no_grad():\n",
    "        pred = model(x.cuda()).sigmoid().cpu()\n",
    "    #pred = (pred > .5).float()\n",
    "    preds = [pred > thr for thr in thrs]\n",
    "    #dice = dice_loss(pred, y)\n",
    "    dice = [dice_loss(p, y) for p in preds]\n",
    "    dices.append(dice)\n",
    "    \n",
    "dices = np.array(dices)\n",
    "dices_mean = dices.mean(0)\n",
    "dices_mean.max(), thrs[np.argmax(dices_mean)]"
   ]
  },
  {
   "cell_type": "code",
   "execution_count": null,
   "metadata": {},
   "outputs": [],
   "source": [
    "plt.plot(dices_mean)"
   ]
  },
  {
   "cell_type": "markdown",
   "metadata": {},
   "source": [
    "# Infer"
   ]
  },
  {
   "cell_type": "code",
   "execution_count": null,
   "metadata": {},
   "outputs": [],
   "source": [
    "os.environ['CUDA_VISIBLE_DEVICES'] = '0,1,2,3'\n",
    "from run_inference import start_inf"
   ]
  },
  {
   "cell_type": "code",
   "execution_count": null,
   "metadata": {},
   "outputs": [],
   "source": [
    "def get_split_by_idx(idx):\n",
    "    imgs = Path('input/hm/train').glob('*.tiff')\n",
    "    splits = [\n",
    "        ['0486052bb', 'e79de561c'],\n",
    "        ['cb2d976f4', 'c68fe75ea'],\n",
    "        ['2f6ecfcdf', 'afa5e8098'],\n",
    "        ['1e2425f28', '8242609fa']]\n",
    "    return [i for i in imgs if i.stem in splits[idx]]"
   ]
  },
  {
   "cell_type": "code",
   "execution_count": null,
   "metadata": {},
   "outputs": [],
   "source": [
    "def process_split(idx, model_folder):\n",
    "    gpus = [0]\n",
    "    num_processes = len(gpus)\n",
    "    threshold = 0\n",
    "    save_predicts=False\n",
    "    use_tta=True\n",
    "    to_rle=False\n",
    "    img_names = [Path('input/hm/train/e79de561c.tiff')]#get_split_by_idx(idx)\n",
    "    \n",
    "    result = start_inf(model_folder, img_names, gpus, threshold, num_processes, save_predicts, use_tta, to_rle)\n",
    "    return dict(result)"
   ]
  },
  {
   "cell_type": "code",
   "execution_count": null,
   "metadata": {},
   "outputs": [],
   "source": [
    "model_folder = Path('output/ffpe_splits/e7/')"
   ]
  },
  {
   "cell_type": "code",
   "execution_count": null,
   "metadata": {},
   "outputs": [],
   "source": [
    "res_masks = process_split(3, model_folder)"
   ]
  },
  {
   "cell_type": "code",
   "execution_count": null,
   "metadata": {},
   "outputs": [],
   "source": []
  },
  {
   "cell_type": "code",
   "execution_count": null,
   "metadata": {},
   "outputs": [],
   "source": []
  },
  {
   "cell_type": "code",
   "execution_count": null,
   "metadata": {},
   "outputs": [],
   "source": [
    "for k, v in res_masks.items():\n",
    "    utils.save_tiff_uint8_single_band(v, f'output/ffpe_splits/e7/predicts/cv/masks/{k.name}', bits=8)"
   ]
  },
  {
   "cell_type": "code",
   "execution_count": null,
   "metadata": {},
   "outputs": [],
   "source": []
  },
  {
   "cell_type": "markdown",
   "metadata": {},
   "source": [
    "# Dice"
   ]
  },
  {
   "cell_type": "code",
   "execution_count": null,
   "metadata": {},
   "outputs": [],
   "source": [
    "from loss import dice_loss\n",
    "import rasterio as rio\n",
    "import torch"
   ]
  },
  {
   "cell_type": "code",
   "execution_count": null,
   "metadata": {},
   "outputs": [],
   "source": [
    "def calc_all_dices(res_masks, thrs):\n",
    "    dices = {}\n",
    "    for k, mask in res_masks.items():\n",
    "        gt = rio.open(f'input/masks/bigmasks/{k.name}').read()\n",
    "        mask = mask.astype(np.float16)\n",
    "        mask/=255.\n",
    "\n",
    "        mask = torch.from_numpy(mask)\n",
    "        gt = torch.from_numpy(gt)\n",
    "\n",
    "        ds = []\n",
    "        for thr in tqdm(thrs):\n",
    "            th_mask = (mask > thr)\n",
    "            dice = dice_loss(gt>0, th_mask)\n",
    "            ds.append(dice)\n",
    "            print(k.stem, round(thr, 3), round(dice, 4))\n",
    "\n",
    "        ds = np.array(ds)\n",
    "        dices[k.stem] = ds\n",
    "        print(k.stem, ds.max(), thrs[np.argmax(ds)])\n",
    "        \n",
    "    return dices\n",
    "\n",
    "def calc_common_dice(dices, thrs):\n",
    "    best_thrs = []\n",
    "    for k, v in dices.items():\n",
    "        thr = thrs[np.argmax(v)]\n",
    "        best_thrs.append(thr)\n",
    "    return np.mean(best_thrs)\n",
    "\n",
    "def get_thrs():\n",
    "    return np.arange(.2,.9, .025)"
   ]
  },
  {
   "cell_type": "code",
   "execution_count": null,
   "metadata": {},
   "outputs": [],
   "source": [
    "thrs = get_thrs()\n",
    "dices = calc_all_dices(res_masks, thrs)"
   ]
  },
  {
   "cell_type": "code",
   "execution_count": null,
   "metadata": {},
   "outputs": [],
   "source": [
    "calc_common_dice(dices, thrs)"
   ]
  },
  {
   "cell_type": "code",
   "execution_count": null,
   "metadata": {},
   "outputs": [],
   "source": []
  },
  {
   "cell_type": "code",
   "execution_count": null,
   "metadata": {},
   "outputs": [],
   "source": []
  },
  {
   "cell_type": "code",
   "execution_count": null,
   "metadata": {},
   "outputs": [],
   "source": []
  },
  {
   "cell_type": "code",
   "execution_count": null,
   "metadata": {},
   "outputs": [],
   "source": [
    "0486052bb 0.9485, 0.65\n",
    "e79de561c 0.9395, 0.575\n",
    "\n",
    "cb2d976f4 0.9590 0.55\n",
    "c68fe75ea 0.9069 0.65\n",
    "\n",
    "2f6ecfcdf 0.9663 0.525\n",
    "afa5e8098 0.9363 0.65 \n",
    "\n",
    "1e2425f28 0.9558 0.475\n",
    "8242609fa 0.965 0.5"
   ]
  },
  {
   "cell_type": "code",
   "execution_count": null,
   "metadata": {},
   "outputs": [],
   "source": [
    "(0.948515772819 + 0.939515) / 2"
   ]
  },
  {
   "cell_type": "code",
   "execution_count": null,
   "metadata": {},
   "outputs": [],
   "source": [
    "(0.6499 + 0.575 ) / 2"
   ]
  },
  {
   "cell_type": "code",
   "execution_count": null,
   "metadata": {},
   "outputs": [],
   "source": [
    "0: 0.6125\n",
    "1: 0.6\n",
    "2: 0.5"
   ]
  },
  {
   "cell_type": "code",
   "execution_count": null,
   "metadata": {},
   "outputs": [],
   "source": []
  },
  {
   "cell_type": "markdown",
   "metadata": {},
   "source": [
    "# Merge"
   ]
  },
  {
   "cell_type": "code",
   "execution_count": null,
   "metadata": {},
   "outputs": [],
   "source": [
    "for k, v in res_masks.items():\n",
    "    mask_name1 = f'input/masks/bigmasks/{k.name}'\n",
    "    mask_name2 = f'output/ffpe_splits/e7/predicts/cv/masks/{k.name}'\n",
    "    merge_name = f'output/ffpe_splits/e7/predicts/cv/combined/{k.name}'\n",
    "\n",
    "    utils.tiff_merge_mask(k, mask_name1, merge_name, mask_name2)"
   ]
  },
  {
   "cell_type": "code",
   "execution_count": null,
   "metadata": {},
   "outputs": [],
   "source": [
    "output/ffpe_splits/"
   ]
  },
  {
   "cell_type": "code",
   "execution_count": null,
   "metadata": {},
   "outputs": [],
   "source": []
  },
  {
   "cell_type": "code",
   "execution_count": null,
   "metadata": {},
   "outputs": [],
   "source": []
  },
  {
   "cell_type": "code",
   "execution_count": null,
   "metadata": {},
   "outputs": [],
   "source": []
  },
  {
   "cell_type": "code",
   "execution_count": null,
   "metadata": {},
   "outputs": [],
   "source": []
  },
  {
   "cell_type": "code",
   "execution_count": null,
   "metadata": {},
   "outputs": [],
   "source": []
  }
 ],
 "metadata": {
  "kernelspec": {
   "display_name": "Python 3",
   "language": "python",
   "name": "python3"
  },
  "language_info": {
   "codemirror_mode": {
    "name": "ipython",
    "version": 3
   },
   "file_extension": ".py",
   "mimetype": "text/x-python",
   "name": "python",
   "nbconvert_exporter": "python",
   "pygments_lexer": "ipython3",
   "version": "3.6.9"
  }
 },
 "nbformat": 4,
 "nbformat_minor": 4
}
