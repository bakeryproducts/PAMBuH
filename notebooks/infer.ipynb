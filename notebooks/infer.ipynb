{
 "cells": [
  {
   "cell_type": "code",
   "execution_count": null,
   "metadata": {},
   "outputs": [],
   "source": [
    "%load_ext autoreload\n",
    "%autoreload 2"
   ]
  },
  {
   "cell_type": "code",
   "execution_count": null,
   "metadata": {},
   "outputs": [],
   "source": [
    "import os\n",
    "os.environ['CUDA_VISIBLE_DEVICES']='0'"
   ]
  },
  {
   "cell_type": "code",
   "execution_count": null,
   "metadata": {},
   "outputs": [],
   "source": [
    "p = 'output/2021_Feb_12_20_08_44_PAMBUH/'"
   ]
  },
  {
   "cell_type": "code",
   "execution_count": null,
   "metadata": {},
   "outputs": [],
   "source": [
    "import os\n",
    "import sys\n",
    "os.chdir('..')\n",
    "sys.path.append(p+'src')"
   ]
  },
  {
   "cell_type": "code",
   "execution_count": null,
   "metadata": {},
   "outputs": [],
   "source": [
    "from pathlib import Path\n",
    "from PIL import Image\n",
    "from functools import partial\n",
    "\n",
    "from tqdm.auto import tqdm\n",
    "import cv2\n",
    "import numpy as np\n",
    "import torch\n",
    "import torch.nn.functional as F\n",
    "import albumentations as albu\n",
    "\n",
    "import  matplotlib.pyplot as plt\n",
    "%matplotlib inline"
   ]
  },
  {
   "cell_type": "code",
   "execution_count": null,
   "metadata": {},
   "outputs": [],
   "source": [
    "# import data\n",
    "# from config import cfg, cfg_init\n",
    "\n",
    "# cfg_init(str(p +  'cfg.yaml'))\n",
    "# cfg['PARALLEL']['DDP'] = False\n",
    "# cfg['DATA']['TRAIN']['PRELOAD'] = False\n",
    "\n",
    "\n",
    "# datasets = data.build_datasets(cfg)\n",
    "# dls = data.build_dataloaders(cfg, datasets, pin=True, drop_last=False)\n",
    "# tdl = dls['TRAIN']\n",
    "# xb,yb = next(iter(tdl))\n",
    "# xb.shape, yb.shape\n",
    "\n",
    "# s = sampler.tif_block_read('./input/hm/test/b2dc8411c.tiff')\n",
    "# _,_,img = next(iter(s))\n",
    "# img.shape, img.dtype"
   ]
  },
  {
   "cell_type": "code",
   "execution_count": null,
   "metadata": {},
   "outputs": [],
   "source": []
  },
  {
   "cell_type": "code",
   "execution_count": null,
   "metadata": {},
   "outputs": [],
   "source": [
    "import infer"
   ]
  },
  {
   "cell_type": "code",
   "execution_count": null,
   "metadata": {},
   "outputs": [],
   "source": [
    "foo = infer.get_infer_func(p)"
   ]
  },
  {
   "cell_type": "code",
   "execution_count": null,
   "metadata": {
    "jupyter": {
     "outputs_hidden": true
    }
   },
   "outputs": [],
   "source": [
    "foo"
   ]
  },
  {
   "cell_type": "code",
   "execution_count": null,
   "metadata": {},
   "outputs": [],
   "source": []
  },
  {
   "cell_type": "code",
   "execution_count": null,
   "metadata": {},
   "outputs": [],
   "source": []
  },
  {
   "cell_type": "markdown",
   "metadata": {},
   "source": [
    "# Gala backs"
   ]
  },
  {
   "cell_type": "code",
   "execution_count": null,
   "metadata": {},
   "outputs": [],
   "source": [
    "import multiprocessing as mp\n",
    "import rasterio as rio"
   ]
  },
  {
   "cell_type": "code",
   "execution_count": null,
   "metadata": {},
   "outputs": [],
   "source": [
    "def pad_image(img, pad):\n",
    "    h, w = img.shape[1], img.shape[2]\n",
    "    img_pad = np.zeros((3, h+2*pad, w+2*pad)).astype(img.dtype)\n",
    "    paste(img_pad, img, pad,pad, h, w)\n",
    "    return img_pad\n",
    "\n",
    "       \n",
    "def infer_image(img, do_inference, block_size=512, pad=16):\n",
    "    img_pad, mask = pad_image(img, pad), np.zeros_like(img).astype(np.uint8)\n",
    "    print('padded')\n",
    "    cds = list(generate_block_coords(img.shape[1], img.shape[2], block_size=(block_size,block_size)))\n",
    "    \n",
    "    for block_cd in tqdm(cds):\n",
    "        padded_block_cd = pad_block(*block_cd, pad)\n",
    "        block = crop(img_pad, *(pad + padded_block_cd))\n",
    "        if filter_block_out(block): continue\n",
    "        \n",
    "        block = infer_blocks([block], do_inference)\n",
    "        paste_center_crop(mask, block, block_cd)\n",
    "        \n",
    "    return mask"
   ]
  },
  {
   "cell_type": "code",
   "execution_count": null,
   "metadata": {},
   "outputs": [],
   "source": []
  },
  {
   "cell_type": "code",
   "execution_count": null,
   "metadata": {},
   "outputs": [],
   "source": [
    "def _count_blocks(dims, block_size=(256, 256)):\n",
    "    nXBlocks = (int)((dims[0] + block_size[0] - 1) / block_size[0])\n",
    "    nYBlocks = (int)((dims[1] + block_size[1] - 1) / block_size[1])\n",
    "    return nXBlocks, nYBlocks\n",
    "\n",
    "def get_basics_rasterio(name):\n",
    "    file = rio.open(str(name))\n",
    "    return file, file.shape, file.count\n",
    "\n",
    "def generate_block_coords(H, W, block_size=(128,128)):\n",
    "    h,w = block_size\n",
    "    nYBlocks = (int)((H + h - 1) / h)\n",
    "    nXBlocks = (int)((W + w - 1) / w)\n",
    "    \n",
    "    nYValid, nXValid = h, w\n",
    "    for X in range(nXBlocks):\n",
    "        #if X == nXBlocks - 1: nXValid = W - X * h\n",
    "        cx = X * h\n",
    "        nYValid = w\n",
    "        for Y in range(nYBlocks):\n",
    "            #if Y == nYBlocks - 1: nYValid = H - Y *w\n",
    "            cy = Y * w\n",
    "            yield cy, cx, nYValid, nXValid\n",
    "\n",
    "            \n",
    "def get_shift_center(block, h,w): return block.shape[1]//2 -h//2, block.shape[2]//2 -w//2\n",
    "def pad_block(y,x,h,w, pad): return np.array([y-pad, x-pad, h+pad, w+pad])\n",
    "            \n",
    "def crop(src, y,x,h,w): return src[..., y:y+h, x:x+w]\n",
    "def crop_rio(p, y,x,h,w, bands=(1,2,3)):\n",
    "    ds = rio.open(p)\n",
    "    block = ds.read(bands, window=((y,y+h),(x,x+w)), boundless=True)\n",
    "    ds.close()\n",
    "    del ds\n",
    "    return block\n",
    "\n",
    "def paste(src, block, y,x,h,w):src[..., y:y+h, x:x+w] = block\n",
    "def paste_center_crop(src, part, block):\n",
    "    C,H,W = src.shape\n",
    "    y,x,h,w = block\n",
    "    \n",
    "    h, w = min(h, H-y), min(w, W-x)  \n",
    "    y, x = get_shift_center(part, h,w)\n",
    "    part = crop(part, y, x, h, w)\n",
    "    paste(src, part, *block)\n",
    "\n",
    "def filter_block_out(block): return block.max()<5\n",
    "def infer_blocks(blocks, do_inference):\n",
    "    blocks = do_inference(blocks).cpu().numpy()    \n",
    "    blocks = (255*blocks).astype(np.uint8)\n",
    "    return blocks\n",
    " \n",
    "\n",
    "def image_q_reader(q, p, cds, pad):\n",
    "    for block_cd in cds:\n",
    "        padded_block_cd = pad_block(*block_cd, pad)\n",
    "        block = crop_rio(p, *(padded_block_cd))\n",
    "        #print(f'Read block {block.shape, block.dtype}')\n",
    "        #if filter_block_out(block): continue\n",
    "        q.put((block, block_cd))\n",
    "        \n",
    "def mask_q_writer(q, H, W, total_blocks, root, result):\n",
    "    do_inference = infer.get_infer_func(root)\n",
    "    mask = np.zeros((1,H,W)).astype(np.uint8)\n",
    "    count = 0\n",
    "    bs = 8\n",
    "    batch = []\n",
    "    \n",
    "    while count < total_blocks:\n",
    "        try:\n",
    "            if len(batch) == bs:\n",
    "                print('Drop batch', len(batch))\n",
    "                \n",
    "                #batch = []\n",
    "                #continue\n",
    "                \n",
    "                blocks = [b[0] for b in batch]\n",
    "                block_cds = [b[1] for b in batch]\n",
    "                #print(blocks[0].shape, blocks[0].dtype)\n",
    "                block_masks = infer_blocks(blocks, do_inference)#.squeeze(0)\n",
    "                [paste_center_crop(mask, block_mask, block_cd) for block_mask, block_cd in zip(block_masks, block_cds)]\n",
    "                batch = []\n",
    "            else:\n",
    "                item = q.get()\n",
    "                batch.append(item)\n",
    "                #print('Add batch', len(batch), count, total_blocks, q.qsize())\n",
    "                count+=1\n",
    "                q.task_done()\n",
    "            \n",
    "        except mp.TimeoutError:\n",
    "            print(\"timeout, quit.\")\n",
    "            break\n",
    "        except Exception as e:\n",
    "            print(e)\n",
    "            break\n",
    "    if batch:\n",
    "        print('Drop last batch', len(batch))\n",
    "        batch = []\n",
    "    \n",
    "    result['mask'] = mask\n",
    "    return\n",
    "\n",
    "def mp_func_wrapper(func, args): return func(*args)\n",
    "def chunkify(l, n): return [l[i:i + n] for i in range(0, len(l), n)]"
   ]
  },
  {
   "cell_type": "code",
   "execution_count": null,
   "metadata": {},
   "outputs": [],
   "source": [
    "\n",
    "def launch_mpq(p, model_folder, block_size=512, pad=16, num_processes=1, show_tqdm=True, qsize=12):\n",
    "    m = mp.Manager()\n",
    "    result = m.dict()\n",
    "    q = m.Queue(maxsize=qsize)\n",
    "    _, (H,W), _ = get_basics_rasterio(p)\n",
    "    cds = list(generate_block_coords(H, W, block_size=(block_size,block_size)))\n",
    "        \n",
    "    n_chunks = num_processes#1 + len(cds) // num_processes\n",
    "    reader_args = [(q, p, part_cds, pad) for part_cds in chunkify(cds, n_chunks)]\n",
    "    #assert len(reader_args) == num_processes\n",
    "    reader = partial(mp_func_wrapper, image_q_reader)\n",
    "    \n",
    "    total_blocks = len(reader_args)\n",
    "    writer = partial(mp_func_wrapper, mask_q_writer)\n",
    "\n",
    "    writer_p = mp.Process(target=writer, args=((q,H,W,total_blocks, model_folder, result),))\n",
    "    writer_p.start()        \n",
    "    \n",
    "    \n",
    "    if show_tqdm: pbar = tqdm(total=len(reader_args))\n",
    "    with mp.Pool(num_processes) as p:    \n",
    "        g = p.imap_unordered(reader, reader_args)\n",
    "        for _ in g:\n",
    "            if show_tqdm: pbar.update()    \n",
    "    \n",
    "    print('joining')\n",
    "    writer_p.join()\n",
    "    print(result)\n",
    "    mask = result['mask']\n",
    "    \n",
    "    print(mask.shape, mask.dtype, mask.max())\n",
    "    return mask"
   ]
  },
  {
   "cell_type": "code",
   "execution_count": null,
   "metadata": {},
   "outputs": [],
   "source": [
    "img_name = 'input/hm/train/aaa6a05cc.tiff'"
   ]
  },
  {
   "cell_type": "code",
   "execution_count": null,
   "metadata": {},
   "outputs": [],
   "source": [
    "mask = launch_mpq(img_name, p, block_size=1024, pad=128, num_processes=1)"
   ]
  },
  {
   "cell_type": "code",
   "execution_count": null,
   "metadata": {},
   "outputs": [],
   "source": []
  },
  {
   "cell_type": "code",
   "execution_count": null,
   "metadata": {},
   "outputs": [],
   "source": [
    "import pandas as pd"
   ]
  },
  {
   "cell_type": "code",
   "execution_count": null,
   "metadata": {},
   "outputs": [],
   "source": [
    "df = pd.read_csv('../submission.csv')"
   ]
  },
  {
   "cell_type": "code",
   "execution_count": null,
   "metadata": {},
   "outputs": [],
   "source": [
    "df.columns"
   ]
  },
  {
   "cell_type": "code",
   "execution_count": null,
   "metadata": {},
   "outputs": [],
   "source": [
    "dff = pd.read_csv('../input/hm/sample_submission.csv')"
   ]
  },
  {
   "cell_type": "code",
   "execution_count": null,
   "metadata": {},
   "outputs": [],
   "source": [
    "dff"
   ]
  },
  {
   "cell_type": "code",
   "execution_count": null,
   "metadata": {},
   "outputs": [],
   "source": []
  },
  {
   "cell_type": "code",
   "execution_count": null,
   "metadata": {},
   "outputs": [],
   "source": []
  },
  {
   "cell_type": "code",
   "execution_count": null,
   "metadata": {},
   "outputs": [],
   "source": []
  },
  {
   "cell_type": "code",
   "execution_count": null,
   "metadata": {},
   "outputs": [],
   "source": []
  },
  {
   "cell_type": "code",
   "execution_count": null,
   "metadata": {},
   "outputs": [],
   "source": []
  },
  {
   "cell_type": "code",
   "execution_count": null,
   "metadata": {},
   "outputs": [],
   "source": []
  },
  {
   "cell_type": "code",
   "execution_count": null,
   "metadata": {},
   "outputs": [],
   "source": []
  },
  {
   "cell_type": "code",
   "execution_count": null,
   "metadata": {},
   "outputs": [],
   "source": [
    "# iimg = Image.open('input/cuts1024x05/imgs/0486052bb/000000.png')\n",
    "# img = np.array(iimg)\n",
    "# img = np.transpose(img, (2,0,1))\n",
    "# print(img.shape)"
   ]
  },
  {
   "cell_type": "code",
   "execution_count": null,
   "metadata": {},
   "outputs": [],
   "source": [
    "def inf(img): return img[0]/255.>.5"
   ]
  },
  {
   "cell_type": "code",
   "execution_count": null,
   "metadata": {},
   "outputs": [],
   "source": [
    "mask = infer_image(img, inf, 128,16)\n",
    "mask.max(), mask.min()"
   ]
  },
  {
   "cell_type": "code",
   "execution_count": null,
   "metadata": {},
   "outputs": [],
   "source": [
    "plt.imshow(mask.astype(np.float32).transpose((1,2,0)))"
   ]
  },
  {
   "cell_type": "code",
   "execution_count": null,
   "metadata": {},
   "outputs": [],
   "source": [
    "#Image.fromarray((255*mask).astype(np.uint8)).resize((512,512))"
   ]
  },
  {
   "cell_type": "code",
   "execution_count": null,
   "metadata": {},
   "outputs": [],
   "source": []
  },
  {
   "cell_type": "code",
   "execution_count": null,
   "metadata": {},
   "outputs": [],
   "source": [
    "import rasterio as rio"
   ]
  },
  {
   "cell_type": "code",
   "execution_count": null,
   "metadata": {},
   "outputs": [],
   "source": [
    "img = rio.open('./input/hm/train/aaa6a05cc.tiff')"
   ]
  },
  {
   "cell_type": "code",
   "execution_count": null,
   "metadata": {},
   "outputs": [],
   "source": [
    "x,y,w,h = -100,-100,256,256\n",
    "ar = img.read((1,2,3), window=((y,y+h),(x,x+w)), boundless=True)\n",
    "ar.shape"
   ]
  },
  {
   "cell_type": "code",
   "execution_count": null,
   "metadata": {},
   "outputs": [],
   "source": [
    "plt.imshow(ar.transpose(1,2,0))"
   ]
  },
  {
   "cell_type": "code",
   "execution_count": null,
   "metadata": {},
   "outputs": [],
   "source": []
  },
  {
   "cell_type": "code",
   "execution_count": null,
   "metadata": {},
   "outputs": [],
   "source": []
  },
  {
   "cell_type": "code",
   "execution_count": null,
   "metadata": {},
   "outputs": [],
   "source": []
  },
  {
   "cell_type": "code",
   "execution_count": null,
   "metadata": {},
   "outputs": [],
   "source": [
    "img = rio.open('./input/hm/test/b2dc8411c.tiff').read()"
   ]
  },
  {
   "cell_type": "code",
   "execution_count": null,
   "metadata": {},
   "outputs": [],
   "source": [
    "iimg = img#[...,:9000,:5000]"
   ]
  },
  {
   "cell_type": "code",
   "execution_count": null,
   "metadata": {},
   "outputs": [],
   "source": [
    "mask = infer_image(iimg, foo, 4096, 128)"
   ]
  },
  {
   "cell_type": "code",
   "execution_count": null,
   "metadata": {},
   "outputs": [],
   "source": [
    "mask.shape, mask.dtype, mask.max()"
   ]
  },
  {
   "cell_type": "code",
   "execution_count": null,
   "metadata": {},
   "outputs": [],
   "source": [
    "mask[mask<200] = 0"
   ]
  },
  {
   "cell_type": "code",
   "execution_count": null,
   "metadata": {},
   "outputs": [],
   "source": [
    "def dice_loss(inp, target, eps=1e-6):\n",
    "    with torch.no_grad():\n",
    "        a = inp.contiguous().view(-1)\n",
    "        b = target.contiguous().view(-1)\n",
    "        intersection = (a * b).sum()\n",
    "        dice = ((2. * intersection + eps) / (a.sum() + b.sum() + eps)) \n",
    "        return dice.item()"
   ]
  },
  {
   "cell_type": "code",
   "execution_count": null,
   "metadata": {},
   "outputs": [],
   "source": [
    "mt = torch.from_numpy(mask)"
   ]
  },
  {
   "cell_type": "code",
   "execution_count": null,
   "metadata": {},
   "outputs": [],
   "source": [
    "gt = rio.open('input/bigmasks/0486052bb.tiff').read()\n",
    "gt = torch.from_numpy(gt)"
   ]
  },
  {
   "cell_type": "code",
   "execution_count": null,
   "metadata": {},
   "outputs": [],
   "source": [
    "gt.shape, gt.dtype, gt.max()"
   ]
  },
  {
   "cell_type": "code",
   "execution_count": null,
   "metadata": {},
   "outputs": [],
   "source": [
    "dice_loss(mt[0]/255,gt.squeeze())"
   ]
  },
  {
   "cell_type": "code",
   "execution_count": null,
   "metadata": {},
   "outputs": [],
   "source": []
  },
  {
   "cell_type": "code",
   "execution_count": null,
   "metadata": {},
   "outputs": [],
   "source": []
  },
  {
   "cell_type": "code",
   "execution_count": null,
   "metadata": {},
   "outputs": [],
   "source": [
    "mask.max()"
   ]
  },
  {
   "cell_type": "code",
   "execution_count": null,
   "metadata": {},
   "outputs": [],
   "source": [
    "mask[...,:500,:500].max()"
   ]
  },
  {
   "cell_type": "code",
   "execution_count": null,
   "metadata": {},
   "outputs": [],
   "source": [
    "plt.imshow(mask[...,:500,:500].sum(0))"
   ]
  },
  {
   "cell_type": "code",
   "execution_count": null,
   "metadata": {},
   "outputs": [],
   "source": []
  },
  {
   "cell_type": "code",
   "execution_count": null,
   "metadata": {},
   "outputs": [],
   "source": [
    "save_tiff_uint8_single_band(mask[0], 'test.tiff')"
   ]
  },
  {
   "cell_type": "code",
   "execution_count": null,
   "metadata": {},
   "outputs": [],
   "source": [
    "tiff_merge_mask('./input/hm/test/b2dc8411c.tiff', 'test.tiff', 'mtets.tiff')"
   ]
  },
  {
   "cell_type": "code",
   "execution_count": null,
   "metadata": {},
   "outputs": [],
   "source": []
  },
  {
   "cell_type": "code",
   "execution_count": null,
   "metadata": {},
   "outputs": [],
   "source": [
    "def save_tiff_uint8_single_band(img, path):\n",
    "    assert img.dtype == np.uint8\n",
    "    if img.max() <= 1. : print(f\"Warning: saving tiff with max value is <= 1, {path}\")\n",
    "    h, w = img.shape\n",
    "    dst = rio.open(path, 'w', driver='GTiff', height=h, width=w, count=1, nbits=1, dtype=np.uint8)\n",
    "    dst.write(img, 1)\n",
    "    dst.close()\n",
    "    del dst"
   ]
  },
  {
   "cell_type": "code",
   "execution_count": null,
   "metadata": {},
   "outputs": [],
   "source": [
    "\n",
    "def tiff_merge_mask(path_tiff, path_mask, path_dst):\n",
    "    # will use shitload of mem\n",
    "    img = rio.open(path_tiff).read()\n",
    "    mask = rio.open(path_mask).read()\n",
    "    assert mask.max() <= 1 + 1e-6\n",
    "    img[1,...] = mask*200\n",
    "    _, h, w = img.shape\n",
    "    dst = rio.open(path_dst, 'w', driver='GTiff', height=h, width=w, count=3, dtype=np.uint8)\n",
    "    dst.write(img, [1,2,3]) # 3 bands\n",
    "    dst.close()\n",
    "    del dst"
   ]
  },
  {
   "cell_type": "code",
   "execution_count": null,
   "metadata": {},
   "outputs": [],
   "source": []
  },
  {
   "cell_type": "code",
   "execution_count": null,
   "metadata": {},
   "outputs": [],
   "source": [
    "plt.imshow((255*mask.transpose(1,2,0)).astype(np.uint8))"
   ]
  },
  {
   "cell_type": "code",
   "execution_count": null,
   "metadata": {},
   "outputs": [],
   "source": []
  },
  {
   "cell_type": "code",
   "execution_count": null,
   "metadata": {},
   "outputs": [],
   "source": []
  },
  {
   "cell_type": "code",
   "execution_count": null,
   "metadata": {},
   "outputs": [],
   "source": []
  },
  {
   "cell_type": "code",
   "execution_count": null,
   "metadata": {},
   "outputs": [],
   "source": []
  },
  {
   "cell_type": "code",
   "execution_count": null,
   "metadata": {},
   "outputs": [],
   "source": []
  },
  {
   "cell_type": "markdown",
   "metadata": {},
   "source": [
    "# Tests"
   ]
  },
  {
   "cell_type": "markdown",
   "metadata": {},
   "source": [
    "## Sampler"
   ]
  },
  {
   "cell_type": "code",
   "execution_count": null,
   "metadata": {},
   "outputs": [],
   "source": [
    "import sampler"
   ]
  },
  {
   "cell_type": "code",
   "execution_count": null,
   "metadata": {},
   "outputs": [],
   "source": [
    "s = sampler.tif_block_read('./input/hm/test/b2dc8411c.tiff', block_size=(1024,1024))\n",
    "s = iter(s)\n",
    "_,_,img = next(s)\n",
    "print(img.shape, img.dtype, img.max())"
   ]
  },
  {
   "cell_type": "code",
   "execution_count": null,
   "metadata": {},
   "outputs": [],
   "source": [
    "Image.fromarray(img.transpose(1,2,0)).resize((256,256))"
   ]
  },
  {
   "cell_type": "code",
   "execution_count": null,
   "metadata": {},
   "outputs": [],
   "source": []
  },
  {
   "cell_type": "markdown",
   "metadata": {},
   "source": [
    "## Rasterio"
   ]
  },
  {
   "cell_type": "code",
   "execution_count": null,
   "metadata": {},
   "outputs": [],
   "source": [
    "import rasterio as rio"
   ]
  },
  {
   "cell_type": "code",
   "execution_count": null,
   "metadata": {},
   "outputs": [],
   "source": [
    "ds = rio.open('./input/hm/train/aaa6a05cc.tiff')\n",
    "ds.shape"
   ]
  },
  {
   "cell_type": "code",
   "execution_count": null,
   "metadata": {},
   "outputs": [],
   "source": [
    "i = ds.read()"
   ]
  },
  {
   "cell_type": "code",
   "execution_count": null,
   "metadata": {},
   "outputs": [],
   "source": [
    "i.shape"
   ]
  },
  {
   "cell_type": "code",
   "execution_count": null,
   "metadata": {},
   "outputs": [],
   "source": []
  },
  {
   "cell_type": "code",
   "execution_count": null,
   "metadata": {},
   "outputs": [],
   "source": []
  },
  {
   "cell_type": "code",
   "execution_count": null,
   "metadata": {},
   "outputs": [],
   "source": []
  },
  {
   "cell_type": "code",
   "execution_count": null,
   "metadata": {},
   "outputs": [],
   "source": [
    "x,y = 22750,16100\n",
    "w,h=2048,2048\n",
    "img = ds.read([1,2,3], window=((x,x+w),(y,y+h)))\n",
    "print(img.shape, img.dtype)"
   ]
  },
  {
   "cell_type": "code",
   "execution_count": null,
   "metadata": {},
   "outputs": [],
   "source": [
    "Image.fromarray(img.transpose(1,2,0)).resize((256,256))"
   ]
  },
  {
   "cell_type": "code",
   "execution_count": null,
   "metadata": {},
   "outputs": [],
   "source": [
    "#%%timeit -n 10 -r 10\n",
    "bb = foo([img]).cpu()\n",
    "bb.shape, bb.dtype, bb.max()"
   ]
  },
  {
   "cell_type": "code",
   "execution_count": null,
   "metadata": {},
   "outputs": [],
   "source": [
    "plt.imshow(bb[0][0])"
   ]
  },
  {
   "cell_type": "code",
   "execution_count": null,
   "metadata": {},
   "outputs": [],
   "source": []
  },
  {
   "cell_type": "code",
   "execution_count": null,
   "metadata": {},
   "outputs": [],
   "source": []
  },
  {
   "cell_type": "code",
   "execution_count": null,
   "metadata": {},
   "outputs": [],
   "source": [
    "t = callbacks.denorm(dxb[0], mean=cfg.TRANSFORMERS.MEAN, std=cfg.TRANSFORMERS.STD).squeeze()\n",
    "t = t.squeeze().permute(1,2,0).numpy()\n",
    "t.shape\n",
    "\n",
    "Image.fromarray((255.*t).astype(np.uint8))#.resize((512,512))"
   ]
  },
  {
   "cell_type": "code",
   "execution_count": null,
   "metadata": {},
   "outputs": [],
   "source": []
  },
  {
   "cell_type": "code",
   "execution_count": null,
   "metadata": {},
   "outputs": [],
   "source": []
  },
  {
   "cell_type": "code",
   "execution_count": null,
   "metadata": {},
   "outputs": [],
   "source": []
  },
  {
   "cell_type": "code",
   "execution_count": null,
   "metadata": {},
   "outputs": [],
   "source": []
  },
  {
   "cell_type": "code",
   "execution_count": null,
   "metadata": {},
   "outputs": [],
   "source": []
  },
  {
   "cell_type": "code",
   "execution_count": null,
   "metadata": {},
   "outputs": [],
   "source": []
  }
 ],
 "metadata": {
  "kernelspec": {
   "display_name": "Python 3",
   "language": "python",
   "name": "python3"
  },
  "language_info": {
   "codemirror_mode": {
    "name": "ipython",
    "version": 3
   },
   "file_extension": ".py",
   "mimetype": "text/x-python",
   "name": "python",
   "nbconvert_exporter": "python",
   "pygments_lexer": "ipython3",
   "version": "3.6.9"
  }
 },
 "nbformat": 4,
 "nbformat_minor": 4
}
