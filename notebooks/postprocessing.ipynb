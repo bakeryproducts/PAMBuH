{
 "cells": [
  {
   "cell_type": "code",
   "execution_count": 1,
   "id": "sticky-brazilian",
   "metadata": {},
   "outputs": [],
   "source": [
    "%load_ext autoreload\n",
    "%autoreload 2"
   ]
  },
  {
   "cell_type": "code",
   "execution_count": 2,
   "id": "polished-bedroom",
   "metadata": {},
   "outputs": [],
   "source": [
    "import os\n",
    "import sys\n",
    "os.chdir('..')\n",
    "sys.path.append('src')\n",
    "os.environ[\"CUDA_VISIBLE_DEVICES\"]=\"2\""
   ]
  },
  {
   "cell_type": "code",
   "execution_count": 3,
   "id": "challenging-floating",
   "metadata": {},
   "outputs": [],
   "source": [
    "from pathlib import Path\n",
    "\n",
    "import postprocessing"
   ]
  },
  {
   "cell_type": "code",
   "execution_count": 4,
   "id": "metallic-kentucky",
   "metadata": {},
   "outputs": [
    {
     "data": {
      "text/plain": [
       "0"
      ]
     },
     "execution_count": 4,
     "metadata": {},
     "output_type": "execute_result"
    }
   ],
   "source": [
    "import torch\n",
    "torch.cuda.current_device() "
   ]
  },
  {
   "cell_type": "code",
   "execution_count": 5,
   "id": "nasty-soviet",
   "metadata": {},
   "outputs": [
    {
     "name": "stdout",
     "output_type": "stream",
     "text": [
      "/mnt/storage/HuBMAP/test/b9a3865fc.tiff\n"
     ]
    }
   ],
   "source": [
    "src_folder = '/mnt/storage/HuBMAP/test'\n",
    "img_name = next(Path(src_folder).glob('*.tiff'))\n",
    "print(img_name)"
   ]
  },
  {
   "cell_type": "code",
   "execution_count": 6,
   "id": "stuffed-bouquet",
   "metadata": {},
   "outputs": [],
   "source": [
    "import infer"
   ]
  },
  {
   "cell_type": "code",
   "execution_count": 7,
   "id": "comparable-private",
   "metadata": {},
   "outputs": [],
   "source": [
    "# p = 'output/2021_Feb_10_19_55_56_PAMBUH/'\n",
    "p = 'output/2021_Feb_12_20_08_44_PAMBUH/'\n",
    "foo = infer.get_infer_func(p)"
   ]
  },
  {
   "cell_type": "code",
   "execution_count": 8,
   "id": "surrounded-dispute",
   "metadata": {},
   "outputs": [
    {
     "name": "stdout",
     "output_type": "stream",
     "text": [
      "31295 40429\n"
     ]
    },
    {
     "name": "stderr",
     "output_type": "stream",
     "text": [
      "/usr/local/lib/python3.6/dist-packages/rasterio/__init__.py:207: NotGeoreferencedWarning: Dataset has no geotransform, gcps, or rpcs. The identity matrix be returned.\n",
      "  s = DatasetReader(path, driver=driver, sharing=sharing, **kwargs)\n"
     ]
    },
    {
     "data": {
      "application/vnd.jupyter.widget-view+json": {
       "model_id": "b78310015cde48c8a0271b5bb83f91ea",
       "version_major": 2,
       "version_minor": 0
      },
      "text/plain": [
       "rows:   0%|          | 0/16 [00:00<?, ?it/s]"
      ]
     },
     "metadata": {},
     "output_type": "display_data"
    },
    {
     "data": {
      "application/vnd.jupyter.widget-view+json": {
       "model_id": "a0410d59ce514859b897b3d1b2db58ee",
       "version_major": 2,
       "version_minor": 0
      },
      "text/plain": [
       "columns:   0%|          | 0/21 [00:00<?, ?it/s]"
      ]
     },
     "metadata": {},
     "output_type": "display_data"
    },
    {
     "data": {
      "application/vnd.jupyter.widget-view+json": {
       "model_id": "f820e73d6adb40f5b00f662f5fbc2a3d",
       "version_major": 2,
       "version_minor": 0
      },
      "text/plain": [
       "columns:   0%|          | 0/21 [00:00<?, ?it/s]"
      ]
     },
     "metadata": {},
     "output_type": "display_data"
    },
    {
     "ename": "KeyboardInterrupt",
     "evalue": "",
     "output_type": "error",
     "traceback": [
      "\u001b[0;31m---------------------------------------------------------------------------\u001b[0m",
      "\u001b[0;31mKeyboardInterrupt\u001b[0m                         Traceback (most recent call last)",
      "\u001b[0;32m<ipython-input-8-3154c7039bac>\u001b[0m in \u001b[0;36m<module>\u001b[0;34m\u001b[0m\n\u001b[0;32m----> 1\u001b[0;31m \u001b[0mmask\u001b[0m \u001b[0;34m=\u001b[0m \u001b[0mpostprocessing\u001b[0m\u001b[0;34m.\u001b[0m\u001b[0mread_and_process_img\u001b[0m\u001b[0;34m(\u001b[0m\u001b[0mimg_name\u001b[0m\u001b[0;34m,\u001b[0m \u001b[0mfoo\u001b[0m\u001b[0;34m,\u001b[0m \u001b[0mblock_size\u001b[0m\u001b[0;34m=\u001b[0m\u001b[0;36m2048\u001b[0m\u001b[0;34m,\u001b[0m \u001b[0mcrop_size\u001b[0m\u001b[0;34m=\u001b[0m\u001b[0;36m2000\u001b[0m\u001b[0;34m)\u001b[0m\u001b[0;34m\u001b[0m\u001b[0;34m\u001b[0m\u001b[0m\n\u001b[0m\u001b[1;32m      2\u001b[0m \u001b[0mmask\u001b[0m\u001b[0;34m.\u001b[0m\u001b[0mshape\u001b[0m\u001b[0;34m\u001b[0m\u001b[0;34m\u001b[0m\u001b[0m\n",
      "\u001b[0;32m~/workspace/PAMBuH/src/postprocessing.py\u001b[0m in \u001b[0;36mread_and_process_img\u001b[0;34m(path, do_infer, block_size, crop_size, batch_size, device)\u001b[0m\n\u001b[1;32m     56\u001b[0m                         \u001b[0mnozero_masks\u001b[0m \u001b[0;34m=\u001b[0m \u001b[0;34m[\u001b[0m\u001b[0;34m]\u001b[0m\u001b[0;34m\u001b[0m\u001b[0;34m\u001b[0m\u001b[0m\n\u001b[1;32m     57\u001b[0m                         \u001b[0;32mfor\u001b[0m \u001b[0mchunk\u001b[0m \u001b[0;32min\u001b[0m \u001b[0mchunks\u001b[0m\u001b[0;34m(\u001b[0m\u001b[0mrow\u001b[0m\u001b[0;34m,\u001b[0m \u001b[0mbatch_size\u001b[0m\u001b[0;34m)\u001b[0m\u001b[0;34m:\u001b[0m\u001b[0;34m\u001b[0m\u001b[0;34m\u001b[0m\u001b[0m\n\u001b[0;32m---> 58\u001b[0;31m                                 \u001b[0mnozero_masks\u001b[0m\u001b[0;34m.\u001b[0m\u001b[0mappend\u001b[0m\u001b[0;34m(\u001b[0m\u001b[0mdo_infer\u001b[0m\u001b[0;34m(\u001b[0m\u001b[0mchunk\u001b[0m\u001b[0;34m)\u001b[0m\u001b[0;34m[\u001b[0m\u001b[0;34m:\u001b[0m\u001b[0;34m,\u001b[0m \u001b[0;34m:\u001b[0m\u001b[0;34m,\u001b[0m \u001b[0mpad\u001b[0m\u001b[0;34m:\u001b[0m\u001b[0;34m-\u001b[0m\u001b[0mpad\u001b[0m\u001b[0;34m,\u001b[0m \u001b[0mpad\u001b[0m\u001b[0;34m:\u001b[0m\u001b[0;34m-\u001b[0m\u001b[0mpad\u001b[0m\u001b[0;34m]\u001b[0m\u001b[0;34m)\u001b[0m\u001b[0;34m\u001b[0m\u001b[0;34m\u001b[0m\u001b[0m\n\u001b[0m\u001b[1;32m     59\u001b[0m                         \u001b[0mnozero_masks\u001b[0m \u001b[0;34m=\u001b[0m \u001b[0mtorch\u001b[0m\u001b[0;34m.\u001b[0m\u001b[0mcat\u001b[0m\u001b[0;34m(\u001b[0m\u001b[0mnozero_masks\u001b[0m\u001b[0;34m,\u001b[0m \u001b[0;36m0\u001b[0m\u001b[0;34m)\u001b[0m\u001b[0;34m\u001b[0m\u001b[0;34m\u001b[0m\u001b[0m\n\u001b[1;32m     60\u001b[0m                         \u001b[0mdevice\u001b[0m \u001b[0;34m=\u001b[0m \u001b[0mnozero_masks\u001b[0m\u001b[0;34m.\u001b[0m\u001b[0mdevice\u001b[0m\u001b[0;34m\u001b[0m\u001b[0;34m\u001b[0m\u001b[0m\n",
      "\u001b[0;32m~/workspace/PAMBuH/src/infer.py\u001b[0m in \u001b[0;36m_infer_func\u001b[0;34m(imgs, transform, model)\u001b[0m\n\u001b[1;32m     42\u001b[0m \u001b[0;32mdef\u001b[0m \u001b[0m_infer_func\u001b[0m\u001b[0;34m(\u001b[0m\u001b[0mimgs\u001b[0m\u001b[0;34m,\u001b[0m \u001b[0mtransform\u001b[0m\u001b[0;34m,\u001b[0m \u001b[0mmodel\u001b[0m\u001b[0;34m)\u001b[0m\u001b[0;34m:\u001b[0m\u001b[0;34m\u001b[0m\u001b[0;34m\u001b[0m\u001b[0m\n\u001b[1;32m     43\u001b[0m     \u001b[0mbatch\u001b[0m \u001b[0;34m=\u001b[0m \u001b[0;34m[\u001b[0m\u001b[0mpreprocess_image\u001b[0m\u001b[0;34m(\u001b[0m\u001b[0mi\u001b[0m\u001b[0;34m,\u001b[0m \u001b[0mtransform\u001b[0m\u001b[0;34m)\u001b[0m \u001b[0;32mfor\u001b[0m \u001b[0mi\u001b[0m \u001b[0;32min\u001b[0m \u001b[0mimgs\u001b[0m\u001b[0;34m]\u001b[0m\u001b[0;34m\u001b[0m\u001b[0;34m\u001b[0m\u001b[0m\n\u001b[0;32m---> 44\u001b[0;31m     \u001b[0mbatch\u001b[0m \u001b[0;34m=\u001b[0m \u001b[0mtorch\u001b[0m\u001b[0;34m.\u001b[0m\u001b[0mstack\u001b[0m\u001b[0;34m(\u001b[0m\u001b[0mbatch\u001b[0m\u001b[0;34m,\u001b[0m\u001b[0maxis\u001b[0m\u001b[0;34m=\u001b[0m\u001b[0;36m0\u001b[0m\u001b[0;34m)\u001b[0m\u001b[0;34m.\u001b[0m\u001b[0mcuda\u001b[0m\u001b[0;34m(\u001b[0m\u001b[0;34m)\u001b[0m\u001b[0;34m\u001b[0m\u001b[0;34m\u001b[0m\u001b[0m\n\u001b[0m\u001b[1;32m     45\u001b[0m     \u001b[0;31m#print(batch.shape, batch.dtype)\u001b[0m\u001b[0;34m\u001b[0m\u001b[0;34m\u001b[0m\u001b[0;34m\u001b[0m\u001b[0m\n\u001b[1;32m     46\u001b[0m     \u001b[0;32mwith\u001b[0m \u001b[0mtorch\u001b[0m\u001b[0;34m.\u001b[0m\u001b[0mno_grad\u001b[0m\u001b[0;34m(\u001b[0m\u001b[0;34m)\u001b[0m\u001b[0;34m:\u001b[0m\u001b[0;34m\u001b[0m\u001b[0;34m\u001b[0m\u001b[0m\n",
      "\u001b[0;31mKeyboardInterrupt\u001b[0m: "
     ]
    }
   ],
   "source": [
    "mask = postprocessing.read_and_process_img(img_name, foo, block_size=2048, crop_size=2000)\n",
    "mask.shape"
   ]
  },
  {
   "cell_type": "code",
   "execution_count": 13,
   "id": "light-cycling",
   "metadata": {},
   "outputs": [
    {
     "data": {
      "text/plain": [
       "tensor(1., device='cuda:0')"
      ]
     },
     "execution_count": 13,
     "metadata": {},
     "output_type": "execute_result"
    }
   ],
   "source": [
    "mask.max()"
   ]
  },
  {
   "cell_type": "code",
   "execution_count": 16,
   "id": "lucky-arizona",
   "metadata": {},
   "outputs": [],
   "source": [
    "mask01 = np.uint8(float_mask2_01uint8(mask).to('cpu'))"
   ]
  },
  {
   "cell_type": "code",
   "execution_count": 26,
   "id": "excellent-guarantee",
   "metadata": {},
   "outputs": [
    {
     "data": {
      "text/plain": [
       "array([0, 1], dtype=uint8)"
      ]
     },
     "execution_count": 26,
     "metadata": {},
     "output_type": "execute_result"
    }
   ],
   "source": [
    "np.unique(mask01)"
   ]
  },
  {
   "cell_type": "code",
   "execution_count": 27,
   "id": "considerable-uganda",
   "metadata": {},
   "outputs": [],
   "source": [
    "import numpy as np\n",
    "from postprocessing import float_mask2_01uint8 ,save_tiff_uint8_single_band\n",
    "from rle2tiff import mask2rle, rle2mask"
   ]
  },
  {
   "cell_type": "code",
   "execution_count": 39,
   "id": "separate-beast",
   "metadata": {},
   "outputs": [],
   "source": [
    "ll = mask2rle(mask01.T)"
   ]
  },
  {
   "cell_type": "code",
   "execution_count": 46,
   "id": "alone-pioneer",
   "metadata": {},
   "outputs": [],
   "source": [
    "rr = rle2mask(ll, (31295, 40429))"
   ]
  },
  {
   "cell_type": "code",
   "execution_count": 47,
   "id": "deadly-elements",
   "metadata": {},
   "outputs": [
    {
     "data": {
      "text/plain": [
       "dtype('uint8')"
      ]
     },
     "execution_count": 47,
     "metadata": {},
     "output_type": "execute_result"
    }
   ],
   "source": [
    "rr.dtype"
   ]
  },
  {
   "cell_type": "code",
   "execution_count": 48,
   "id": "closing-startup",
   "metadata": {},
   "outputs": [
    {
     "name": "stdout",
     "output_type": "stream",
     "text": [
      "(31295, 40429)\n"
     ]
    },
    {
     "data": {
      "image/png": "[encoded data removed]",
      "text/plain": [
       "<Figure size 432x288 with 1 Axes>"
      ]
     },
     "metadata": {
      "needs_background": "light"
     },
     "output_type": "display_data"
    }
   ],
   "source": [
    "postprocessing._plot_img(rr)"
   ]
  },
  {
   "cell_type": "code",
   "execution_count": null,
   "id": "oriented-soundtrack",
   "metadata": {},
   "outputs": [],
   "source": [
    "mask01 = np.uint8(float_mask2_01uint8(mask).to('cpu'))\n",
    "save_tiff_uint8_single_band(mask01, dst_folder / img_name.name)\n",
    "# spamwriter.writerow([img_name.stem, mask2rle(mask01)])\n"
   ]
  },
  {
   "cell_type": "code",
   "execution_count": null,
   "id": "elementary-monster",
   "metadata": {},
   "outputs": [],
   "source": []
  },
  {
   "cell_type": "code",
   "execution_count": 8,
   "id": "apart-india",
   "metadata": {},
   "outputs": [
    {
     "name": "stdout",
     "output_type": "stream",
     "text": [
      "(31295, 40429)\n"
     ]
    },
    {
     "data": {
      "image/png": "[encoded data removed]",
      "text/plain": [
       "<Figure size 432x288 with 1 Axes>"
      ]
     },
     "metadata": {
      "needs_background": "light"
     },
     "output_type": "display_data"
    }
   ],
   "source": [
    "postprocessing._plot_img(mask.to('cpu').numpy())"
   ]
  },
  {
   "cell_type": "code",
   "execution_count": 10,
   "id": "sorted-southeast",
   "metadata": {},
   "outputs": [
    {
     "data": {
      "application/vnd.jupyter.widget-view+json": {
       "model_id": "",
       "version_major": 2,
       "version_minor": 0
      },
      "text/plain": [
       "Test images: 0it [00:00, ?it/s]"
      ]
     },
     "metadata": {},
     "output_type": "display_data"
    },
    {
     "name": "stdout",
     "output_type": "stream",
     "text": [
      "31295 40429\n"
     ]
    },
    {
     "data": {
      "application/vnd.jupyter.widget-view+json": {
       "model_id": "4e24fe5d27744f60a9f4ad870b1e8d1d",
       "version_major": 2,
       "version_minor": 0
      },
      "text/plain": [
       "rows:   0%|          | 0/16 [00:00<?, ?it/s]"
      ]
     },
     "metadata": {},
     "output_type": "display_data"
    },
    {
     "data": {
      "application/vnd.jupyter.widget-view+json": {
       "model_id": "3fbbea8fe6874da6a577eaf2e8f3806a",
       "version_major": 2,
       "version_minor": 0
      },
      "text/plain": [
       "columns:   0%|          | 0/21 [00:00<?, ?it/s]"
      ]
     },
     "metadata": {},
     "output_type": "display_data"
    },
    {
     "data": {
      "application/vnd.jupyter.widget-view+json": {
       "model_id": "470af72e0e40451db4f8a74ae23d55f9",
       "version_major": 2,
       "version_minor": 0
      },
      "text/plain": [
       "columns:   0%|          | 0/21 [00:00<?, ?it/s]"
      ]
     },
     "metadata": {},
     "output_type": "display_data"
    },
    {
     "data": {
      "application/vnd.jupyter.widget-view+json": {
       "model_id": "e4a3a9ed34554a419fa40754a6247af1",
       "version_major": 2,
       "version_minor": 0
      },
      "text/plain": [
       "columns:   0%|          | 0/21 [00:00<?, ?it/s]"
      ]
     },
     "metadata": {},
     "output_type": "display_data"
    },
    {
     "data": {
      "application/vnd.jupyter.widget-view+json": {
       "model_id": "bc236961328c417dbd46ca6568490c7b",
       "version_major": 2,
       "version_minor": 0
      },
      "text/plain": [
       "columns:   0%|          | 0/21 [00:00<?, ?it/s]"
      ]
     },
     "metadata": {},
     "output_type": "display_data"
    },
    {
     "data": {
      "application/vnd.jupyter.widget-view+json": {
       "model_id": "dbc3a2daa8204726ab82c0a1e1a2a59a",
       "version_major": 2,
       "version_minor": 0
      },
      "text/plain": [
       "columns:   0%|          | 0/21 [00:00<?, ?it/s]"
      ]
     },
     "metadata": {},
     "output_type": "display_data"
    },
    {
     "data": {
      "application/vnd.jupyter.widget-view+json": {
       "model_id": "6f3e9f87998846c7a2ad1bb5c4f95944",
       "version_major": 2,
       "version_minor": 0
      },
      "text/plain": [
       "columns:   0%|          | 0/21 [00:00<?, ?it/s]"
      ]
     },
     "metadata": {},
     "output_type": "display_data"
    },
    {
     "data": {
      "application/vnd.jupyter.widget-view+json": {
       "model_id": "7a41d9bb4f6d44a284bd728c5acf2bcd",
       "version_major": 2,
       "version_minor": 0
      },
      "text/plain": [
       "columns:   0%|          | 0/21 [00:00<?, ?it/s]"
      ]
     },
     "metadata": {},
     "output_type": "display_data"
    },
    {
     "data": {
      "application/vnd.jupyter.widget-view+json": {
       "model_id": "e9ef5c02565645ad85ffb0ceae111e81",
       "version_major": 2,
       "version_minor": 0
      },
      "text/plain": [
       "columns:   0%|          | 0/21 [00:00<?, ?it/s]"
      ]
     },
     "metadata": {},
     "output_type": "display_data"
    },
    {
     "data": {
      "application/vnd.jupyter.widget-view+json": {
       "model_id": "67114c52e65241d09e2c29d754c4b85c",
       "version_major": 2,
       "version_minor": 0
      },
      "text/plain": [
       "columns:   0%|          | 0/21 [00:00<?, ?it/s]"
      ]
     },
     "metadata": {},
     "output_type": "display_data"
    },
    {
     "data": {
      "application/vnd.jupyter.widget-view+json": {
       "model_id": "ba467462057f4ea29673ea8f55bd3107",
       "version_major": 2,
       "version_minor": 0
      },
      "text/plain": [
       "columns:   0%|          | 0/21 [00:00<?, ?it/s]"
      ]
     },
     "metadata": {},
     "output_type": "display_data"
    },
    {
     "data": {
      "application/vnd.jupyter.widget-view+json": {
       "model_id": "26d7d7a7b9764d9081161ceb6dd0d0b0",
       "version_major": 2,
       "version_minor": 0
      },
      "text/plain": [
       "columns:   0%|          | 0/21 [00:00<?, ?it/s]"
      ]
     },
     "metadata": {},
     "output_type": "display_data"
    },
    {
     "data": {
      "application/vnd.jupyter.widget-view+json": {
       "model_id": "10ae3dc03c444c29b74e5ea4efb70af3",
       "version_major": 2,
       "version_minor": 0
      },
      "text/plain": [
       "columns:   0%|          | 0/21 [00:00<?, ?it/s]"
      ]
     },
     "metadata": {},
     "output_type": "display_data"
    },
    {
     "data": {
      "application/vnd.jupyter.widget-view+json": {
       "model_id": "0eb45ffeab0b4e63a23815808ab60ed5",
       "version_major": 2,
       "version_minor": 0
      },
      "text/plain": [
       "columns:   0%|          | 0/21 [00:00<?, ?it/s]"
      ]
     },
     "metadata": {},
     "output_type": "display_data"
    },
    {
     "data": {
      "application/vnd.jupyter.widget-view+json": {
       "model_id": "b5c0c3540ae946ae96e9458a47691d70",
       "version_major": 2,
       "version_minor": 0
      },
      "text/plain": [
       "columns:   0%|          | 0/21 [00:00<?, ?it/s]"
      ]
     },
     "metadata": {},
     "output_type": "display_data"
    },
    {
     "data": {
      "application/vnd.jupyter.widget-view+json": {
       "model_id": "0e66131ee81f47c7b02314e3fdfa2865",
       "version_major": 2,
       "version_minor": 0
      },
      "text/plain": [
       "columns:   0%|          | 0/21 [00:00<?, ?it/s]"
      ]
     },
     "metadata": {},
     "output_type": "display_data"
    },
    {
     "data": {
      "application/vnd.jupyter.widget-view+json": {
       "model_id": "8bd695abe3ef43c9b35eeb4a7eaf827b",
       "version_major": 2,
       "version_minor": 0
      },
      "text/plain": [
       "columns:   0%|          | 0/21 [00:00<?, ?it/s]"
      ]
     },
     "metadata": {},
     "output_type": "display_data"
    },
    {
     "name": "stdout",
     "output_type": "stream",
     "text": [
      "38160 42360\n"
     ]
    },
    {
     "data": {
      "application/vnd.jupyter.widget-view+json": {
       "model_id": "4e31f33d3ae74b1d998e9d977f5fde1a",
       "version_major": 2,
       "version_minor": 0
      },
      "text/plain": [
       "rows:   0%|          | 0/20 [00:00<?, ?it/s]"
      ]
     },
     "metadata": {},
     "output_type": "display_data"
    },
    {
     "data": {
      "application/vnd.jupyter.widget-view+json": {
       "model_id": "998a6164432840d6872afacb5a300114",
       "version_major": 2,
       "version_minor": 0
      },
      "text/plain": [
       "columns:   0%|          | 0/22 [00:00<?, ?it/s]"
      ]
     },
     "metadata": {},
     "output_type": "display_data"
    },
    {
     "data": {
      "application/vnd.jupyter.widget-view+json": {
       "model_id": "23801b4c15da4c099c0f8395891afa51",
       "version_major": 2,
       "version_minor": 0
      },
      "text/plain": [
       "columns:   0%|          | 0/22 [00:00<?, ?it/s]"
      ]
     },
     "metadata": {},
     "output_type": "display_data"
    },
    {
     "data": {
      "application/vnd.jupyter.widget-view+json": {
       "model_id": "3d5c1a575abb4f7ea1f21964afbc8c41",
       "version_major": 2,
       "version_minor": 0
      },
      "text/plain": [
       "columns:   0%|          | 0/22 [00:00<?, ?it/s]"
      ]
     },
     "metadata": {},
     "output_type": "display_data"
    },
    {
     "data": {
      "application/vnd.jupyter.widget-view+json": {
       "model_id": "53ae8cf33c314b0c96fed9e20e8480f8",
       "version_major": 2,
       "version_minor": 0
      },
      "text/plain": [
       "columns:   0%|          | 0/22 [00:00<?, ?it/s]"
      ]
     },
     "metadata": {},
     "output_type": "display_data"
    },
    {
     "data": {
      "application/vnd.jupyter.widget-view+json": {
       "model_id": "f38ba44c0a644c1f99804c775641e44e",
       "version_major": 2,
       "version_minor": 0
      },
      "text/plain": [
       "columns:   0%|          | 0/22 [00:00<?, ?it/s]"
      ]
     },
     "metadata": {},
     "output_type": "display_data"
    },
    {
     "data": {
      "application/vnd.jupyter.widget-view+json": {
       "model_id": "24cc1abe31ba44b6bf481747d4ed9383",
       "version_major": 2,
       "version_minor": 0
      },
      "text/plain": [
       "columns:   0%|          | 0/22 [00:00<?, ?it/s]"
      ]
     },
     "metadata": {},
     "output_type": "display_data"
    },
    {
     "data": {
      "application/vnd.jupyter.widget-view+json": {
       "model_id": "5b74944ed8874254bfaddfb12ac8643d",
       "version_major": 2,
       "version_minor": 0
      },
      "text/plain": [
       "columns:   0%|          | 0/22 [00:00<?, ?it/s]"
      ]
     },
     "metadata": {},
     "output_type": "display_data"
    },
    {
     "data": {
      "application/vnd.jupyter.widget-view+json": {
       "model_id": "6ade36f1fd9f46e78535a823c819c09b",
       "version_major": 2,
       "version_minor": 0
      },
      "text/plain": [
       "columns:   0%|          | 0/22 [00:00<?, ?it/s]"
      ]
     },
     "metadata": {},
     "output_type": "display_data"
    },
    {
     "data": {
      "application/vnd.jupyter.widget-view+json": {
       "model_id": "04b4d59695be41afa8bd28811bda67a1",
       "version_major": 2,
       "version_minor": 0
      },
      "text/plain": [
       "columns:   0%|          | 0/22 [00:00<?, ?it/s]"
      ]
     },
     "metadata": {},
     "output_type": "display_data"
    },
    {
     "data": {
      "application/vnd.jupyter.widget-view+json": {
       "model_id": "6032629e95704a95834b9a05a3465236",
       "version_major": 2,
       "version_minor": 0
      },
      "text/plain": [
       "columns:   0%|          | 0/22 [00:00<?, ?it/s]"
      ]
     },
     "metadata": {},
     "output_type": "display_data"
    },
    {
     "data": {
      "application/vnd.jupyter.widget-view+json": {
       "model_id": "4a7b68628e2c4dae9f819e56da68d349",
       "version_major": 2,
       "version_minor": 0
      },
      "text/plain": [
       "columns:   0%|          | 0/22 [00:00<?, ?it/s]"
      ]
     },
     "metadata": {},
     "output_type": "display_data"
    },
    {
     "data": {
      "application/vnd.jupyter.widget-view+json": {
       "model_id": "923b185af1564813840972fba09d0c1c",
       "version_major": 2,
       "version_minor": 0
      },
      "text/plain": [
       "columns:   0%|          | 0/22 [00:00<?, ?it/s]"
      ]
     },
     "metadata": {},
     "output_type": "display_data"
    },
    {
     "data": {
      "application/vnd.jupyter.widget-view+json": {
       "model_id": "2a23c4ce38ae4c16b963e6147aa461ca",
       "version_major": 2,
       "version_minor": 0
      },
      "text/plain": [
       "columns:   0%|          | 0/22 [00:00<?, ?it/s]"
      ]
     },
     "metadata": {},
     "output_type": "display_data"
    },
    {
     "data": {
      "application/vnd.jupyter.widget-view+json": {
       "model_id": "6b3bd1a694854228aa8528cfde3012d3",
       "version_major": 2,
       "version_minor": 0
      },
      "text/plain": [
       "columns:   0%|          | 0/22 [00:00<?, ?it/s]"
      ]
     },
     "metadata": {},
     "output_type": "display_data"
    },
    {
     "data": {
      "application/vnd.jupyter.widget-view+json": {
       "model_id": "e95331df33e547efa1a075b93ce7b29c",
       "version_major": 2,
       "version_minor": 0
      },
      "text/plain": [
       "columns:   0%|          | 0/22 [00:00<?, ?it/s]"
      ]
     },
     "metadata": {},
     "output_type": "display_data"
    },
    {
     "data": {
      "application/vnd.jupyter.widget-view+json": {
       "model_id": "cb8131e3a0ad449f857d4d7cc95202cb",
       "version_major": 2,
       "version_minor": 0
      },
      "text/plain": [
       "columns:   0%|          | 0/22 [00:00<?, ?it/s]"
      ]
     },
     "metadata": {},
     "output_type": "display_data"
    },
    {
     "data": {
      "application/vnd.jupyter.widget-view+json": {
       "model_id": "07ca8cf6b7064cfe86bed4c068056719",
       "version_major": 2,
       "version_minor": 0
      },
      "text/plain": [
       "columns:   0%|          | 0/22 [00:00<?, ?it/s]"
      ]
     },
     "metadata": {},
     "output_type": "display_data"
    },
    {
     "data": {
      "application/vnd.jupyter.widget-view+json": {
       "model_id": "af35e5fbd93440a3875d265ae052f056",
       "version_major": 2,
       "version_minor": 0
      },
      "text/plain": [
       "columns:   0%|          | 0/22 [00:00<?, ?it/s]"
      ]
     },
     "metadata": {},
     "output_type": "display_data"
    },
    {
     "data": {
      "application/vnd.jupyter.widget-view+json": {
       "model_id": "ba3e371e27ec468aac9ec0f53e38ee88",
       "version_major": 2,
       "version_minor": 0
      },
      "text/plain": [
       "columns:   0%|          | 0/22 [00:00<?, ?it/s]"
      ]
     },
     "metadata": {},
     "output_type": "display_data"
    },
    {
     "data": {
      "application/vnd.jupyter.widget-view+json": {
       "model_id": "eedec25247da4ebd9a55de3e5aa078c9",
       "version_major": 2,
       "version_minor": 0
      },
      "text/plain": [
       "columns:   0%|          | 0/22 [00:00<?, ?it/s]"
      ]
     },
     "metadata": {},
     "output_type": "display_data"
    },
    {
     "name": "stdout",
     "output_type": "stream",
     "text": [
      "14844 31262\n"
     ]
    },
    {
     "data": {
      "application/vnd.jupyter.widget-view+json": {
       "model_id": "40d7a886240944599e2dd46b9149102b",
       "version_major": 2,
       "version_minor": 0
      },
      "text/plain": [
       "rows:   0%|          | 0/8 [00:00<?, ?it/s]"
      ]
     },
     "metadata": {},
     "output_type": "display_data"
    },
    {
     "data": {
      "application/vnd.jupyter.widget-view+json": {
       "model_id": "64d40115b6bf46fc8fc61a9d93b11613",
       "version_major": 2,
       "version_minor": 0
      },
      "text/plain": [
       "columns:   0%|          | 0/16 [00:00<?, ?it/s]"
      ]
     },
     "metadata": {},
     "output_type": "display_data"
    },
    {
     "data": {
      "application/vnd.jupyter.widget-view+json": {
       "model_id": "ca47367bfe214a52b195d9ef9e8802e2",
       "version_major": 2,
       "version_minor": 0
      },
      "text/plain": [
       "columns:   0%|          | 0/16 [00:00<?, ?it/s]"
      ]
     },
     "metadata": {},
     "output_type": "display_data"
    },
    {
     "data": {
      "application/vnd.jupyter.widget-view+json": {
       "model_id": "34aab07135ef4013a2c491c73cca294b",
       "version_major": 2,
       "version_minor": 0
      },
      "text/plain": [
       "columns:   0%|          | 0/16 [00:00<?, ?it/s]"
      ]
     },
     "metadata": {},
     "output_type": "display_data"
    },
    {
     "data": {
      "application/vnd.jupyter.widget-view+json": {
       "model_id": "065c0899c2d948f29558076c6f988946",
       "version_major": 2,
       "version_minor": 0
      },
      "text/plain": [
       "columns:   0%|          | 0/16 [00:00<?, ?it/s]"
      ]
     },
     "metadata": {},
     "output_type": "display_data"
    },
    {
     "data": {
      "application/vnd.jupyter.widget-view+json": {
       "model_id": "9e068ae6841243f58afcfbf2487b393b",
       "version_major": 2,
       "version_minor": 0
      },
      "text/plain": [
       "columns:   0%|          | 0/16 [00:00<?, ?it/s]"
      ]
     },
     "metadata": {},
     "output_type": "display_data"
    },
    {
     "data": {
      "application/vnd.jupyter.widget-view+json": {
       "model_id": "abfa73dae76445ebad6126789730b98c",
       "version_major": 2,
       "version_minor": 0
      },
      "text/plain": [
       "columns:   0%|          | 0/16 [00:00<?, ?it/s]"
      ]
     },
     "metadata": {},
     "output_type": "display_data"
    },
    {
     "data": {
      "application/vnd.jupyter.widget-view+json": {
       "model_id": "a463b19479b04f5d8b72ab8360c1d414",
       "version_major": 2,
       "version_minor": 0
      },
      "text/plain": [
       "columns:   0%|          | 0/16 [00:00<?, ?it/s]"
      ]
     },
     "metadata": {},
     "output_type": "display_data"
    },
    {
     "data": {
      "application/vnd.jupyter.widget-view+json": {
       "model_id": "6a53b815a963435e83fad67adf633a06",
       "version_major": 2,
       "version_minor": 0
      },
      "text/plain": [
       "columns:   0%|          | 0/16 [00:00<?, ?it/s]"
      ]
     },
     "metadata": {},
     "output_type": "display_data"
    },
    {
     "name": "stdout",
     "output_type": "stream",
     "text": [
      "36800 43780\n"
     ]
    },
    {
     "data": {
      "application/vnd.jupyter.widget-view+json": {
       "model_id": "e7d2136c6678463e992e4ae0c20891e3",
       "version_major": 2,
       "version_minor": 0
      },
      "text/plain": [
       "rows:   0%|          | 0/19 [00:00<?, ?it/s]"
      ]
     },
     "metadata": {},
     "output_type": "display_data"
    },
    {
     "data": {
      "application/vnd.jupyter.widget-view+json": {
       "model_id": "c5ed900525bc4aa58882be2e8264dfe8",
       "version_major": 2,
       "version_minor": 0
      },
      "text/plain": [
       "columns:   0%|          | 0/22 [00:00<?, ?it/s]"
      ]
     },
     "metadata": {},
     "output_type": "display_data"
    },
    {
     "data": {
      "application/vnd.jupyter.widget-view+json": {
       "model_id": "33476f5a656e4c1ab78b27df17fb92d9",
       "version_major": 2,
       "version_minor": 0
      },
      "text/plain": [
       "columns:   0%|          | 0/22 [00:00<?, ?it/s]"
      ]
     },
     "metadata": {},
     "output_type": "display_data"
    },
    {
     "data": {
      "application/vnd.jupyter.widget-view+json": {
       "model_id": "cc1dee247612447c8249085fe3efec83",
       "version_major": 2,
       "version_minor": 0
      },
      "text/plain": [
       "columns:   0%|          | 0/22 [00:00<?, ?it/s]"
      ]
     },
     "metadata": {},
     "output_type": "display_data"
    },
    {
     "data": {
      "application/vnd.jupyter.widget-view+json": {
       "model_id": "a912731d283042159390f80c1b7e8ba4",
       "version_major": 2,
       "version_minor": 0
      },
      "text/plain": [
       "columns:   0%|          | 0/22 [00:00<?, ?it/s]"
      ]
     },
     "metadata": {},
     "output_type": "display_data"
    },
    {
     "data": {
      "application/vnd.jupyter.widget-view+json": {
       "model_id": "e8e1bdfe4b42408b858225d948e19e11",
       "version_major": 2,
       "version_minor": 0
      },
      "text/plain": [
       "columns:   0%|          | 0/22 [00:00<?, ?it/s]"
      ]
     },
     "metadata": {},
     "output_type": "display_data"
    },
    {
     "data": {
      "application/vnd.jupyter.widget-view+json": {
       "model_id": "9763416af6504e0e8b99b46966889f86",
       "version_major": 2,
       "version_minor": 0
      },
      "text/plain": [
       "columns:   0%|          | 0/22 [00:00<?, ?it/s]"
      ]
     },
     "metadata": {},
     "output_type": "display_data"
    },
    {
     "data": {
      "application/vnd.jupyter.widget-view+json": {
       "model_id": "90842643d5264c6ba177ff0734c90f31",
       "version_major": 2,
       "version_minor": 0
      },
      "text/plain": [
       "columns:   0%|          | 0/22 [00:00<?, ?it/s]"
      ]
     },
     "metadata": {},
     "output_type": "display_data"
    },
    {
     "data": {
      "application/vnd.jupyter.widget-view+json": {
       "model_id": "dc169d527e1c431caf7f4b28a12f17cb",
       "version_major": 2,
       "version_minor": 0
      },
      "text/plain": [
       "columns:   0%|          | 0/22 [00:00<?, ?it/s]"
      ]
     },
     "metadata": {},
     "output_type": "display_data"
    },
    {
     "data": {
      "application/vnd.jupyter.widget-view+json": {
       "model_id": "55b0e9d4ae554531b5ad050e0ec8c5da",
       "version_major": 2,
       "version_minor": 0
      },
      "text/plain": [
       "columns:   0%|          | 0/22 [00:00<?, ?it/s]"
      ]
     },
     "metadata": {},
     "output_type": "display_data"
    },
    {
     "data": {
      "application/vnd.jupyter.widget-view+json": {
       "model_id": "7c6f399cafb74aefaef9193370250c62",
       "version_major": 2,
       "version_minor": 0
      },
      "text/plain": [
       "columns:   0%|          | 0/22 [00:00<?, ?it/s]"
      ]
     },
     "metadata": {},
     "output_type": "display_data"
    },
    {
     "data": {
      "application/vnd.jupyter.widget-view+json": {
       "model_id": "92e5fe74d550417c8ea300c3e7180904",
       "version_major": 2,
       "version_minor": 0
      },
      "text/plain": [
       "columns:   0%|          | 0/22 [00:00<?, ?it/s]"
      ]
     },
     "metadata": {},
     "output_type": "display_data"
    },
    {
     "data": {
      "application/vnd.jupyter.widget-view+json": {
       "model_id": "f04b474655344f6282be01488296a3c1",
       "version_major": 2,
       "version_minor": 0
      },
      "text/plain": [
       "columns:   0%|          | 0/22 [00:00<?, ?it/s]"
      ]
     },
     "metadata": {},
     "output_type": "display_data"
    },
    {
     "data": {
      "application/vnd.jupyter.widget-view+json": {
       "model_id": "2f071f66ea33446fb611e4187b2dfb13",
       "version_major": 2,
       "version_minor": 0
      },
      "text/plain": [
       "columns:   0%|          | 0/22 [00:00<?, ?it/s]"
      ]
     },
     "metadata": {},
     "output_type": "display_data"
    },
    {
     "data": {
      "application/vnd.jupyter.widget-view+json": {
       "model_id": "871bf4d6f09148a6b57f3a050e2e38a4",
       "version_major": 2,
       "version_minor": 0
      },
      "text/plain": [
       "columns:   0%|          | 0/22 [00:00<?, ?it/s]"
      ]
     },
     "metadata": {},
     "output_type": "display_data"
    },
    {
     "data": {
      "application/vnd.jupyter.widget-view+json": {
       "model_id": "4ea7c359775f4d96ac41ef4ee6a42a06",
       "version_major": 2,
       "version_minor": 0
      },
      "text/plain": [
       "columns:   0%|          | 0/22 [00:00<?, ?it/s]"
      ]
     },
     "metadata": {},
     "output_type": "display_data"
    },
    {
     "data": {
      "application/vnd.jupyter.widget-view+json": {
       "model_id": "2eca5c82547046b3aac91ff9daa56a66",
       "version_major": 2,
       "version_minor": 0
      },
      "text/plain": [
       "columns:   0%|          | 0/22 [00:00<?, ?it/s]"
      ]
     },
     "metadata": {},
     "output_type": "display_data"
    },
    {
     "data": {
      "application/vnd.jupyter.widget-view+json": {
       "model_id": "ef5893fb3fc24588a5780dfab198bcb4",
       "version_major": 2,
       "version_minor": 0
      },
      "text/plain": [
       "columns:   0%|          | 0/22 [00:00<?, ?it/s]"
      ]
     },
     "metadata": {},
     "output_type": "display_data"
    },
    {
     "data": {
      "application/vnd.jupyter.widget-view+json": {
       "model_id": "54b08964da3643dfa73d27522d884076",
       "version_major": 2,
       "version_minor": 0
      },
      "text/plain": [
       "columns:   0%|          | 0/22 [00:00<?, ?it/s]"
      ]
     },
     "metadata": {},
     "output_type": "display_data"
    },
    {
     "data": {
      "application/vnd.jupyter.widget-view+json": {
       "model_id": "7a4799535a444b3d9cb9998a3bb8f2a0",
       "version_major": 2,
       "version_minor": 0
      },
      "text/plain": [
       "columns:   0%|          | 0/22 [00:00<?, ?it/s]"
      ]
     },
     "metadata": {},
     "output_type": "display_data"
    },
    {
     "name": "stdout",
     "output_type": "stream",
     "text": [
      "26840 49780\n"
     ]
    },
    {
     "data": {
      "application/vnd.jupyter.widget-view+json": {
       "model_id": "570f10106bd74956a5b65deb299a3598",
       "version_major": 2,
       "version_minor": 0
      },
      "text/plain": [
       "rows:   0%|          | 0/14 [00:00<?, ?it/s]"
      ]
     },
     "metadata": {},
     "output_type": "display_data"
    },
    {
     "data": {
      "application/vnd.jupyter.widget-view+json": {
       "model_id": "7e4fa736f1334a04a2c900d5e237d50a",
       "version_major": 2,
       "version_minor": 0
      },
      "text/plain": [
       "columns:   0%|          | 0/25 [00:00<?, ?it/s]"
      ]
     },
     "metadata": {},
     "output_type": "display_data"
    },
    {
     "data": {
      "application/vnd.jupyter.widget-view+json": {
       "model_id": "53587cd60ef04d5195041f040d3dade3",
       "version_major": 2,
       "version_minor": 0
      },
      "text/plain": [
       "columns:   0%|          | 0/25 [00:00<?, ?it/s]"
      ]
     },
     "metadata": {},
     "output_type": "display_data"
    },
    {
     "data": {
      "application/vnd.jupyter.widget-view+json": {
       "model_id": "fafa7ae8a07d4486ba23a2a80f20b705",
       "version_major": 2,
       "version_minor": 0
      },
      "text/plain": [
       "columns:   0%|          | 0/25 [00:00<?, ?it/s]"
      ]
     },
     "metadata": {},
     "output_type": "display_data"
    },
    {
     "data": {
      "application/vnd.jupyter.widget-view+json": {
       "model_id": "e83a5380177a43c1921c3d1f967ec50b",
       "version_major": 2,
       "version_minor": 0
      },
      "text/plain": [
       "columns:   0%|          | 0/25 [00:00<?, ?it/s]"
      ]
     },
     "metadata": {},
     "output_type": "display_data"
    },
    {
     "data": {
      "application/vnd.jupyter.widget-view+json": {
       "model_id": "97ebf279e94c4b8fac31166306d7bb6f",
       "version_major": 2,
       "version_minor": 0
      },
      "text/plain": [
       "columns:   0%|          | 0/25 [00:00<?, ?it/s]"
      ]
     },
     "metadata": {},
     "output_type": "display_data"
    },
    {
     "data": {
      "application/vnd.jupyter.widget-view+json": {
       "model_id": "45ff17917ed44bcfa0620fcc02cf3599",
       "version_major": 2,
       "version_minor": 0
      },
      "text/plain": [
       "columns:   0%|          | 0/25 [00:00<?, ?it/s]"
      ]
     },
     "metadata": {},
     "output_type": "display_data"
    },
    {
     "data": {
      "application/vnd.jupyter.widget-view+json": {
       "model_id": "af1bc04f136d4f5ab8e0e1a8bc369d45",
       "version_major": 2,
       "version_minor": 0
      },
      "text/plain": [
       "columns:   0%|          | 0/25 [00:00<?, ?it/s]"
      ]
     },
     "metadata": {},
     "output_type": "display_data"
    },
    {
     "data": {
      "application/vnd.jupyter.widget-view+json": {
       "model_id": "bd4ef3f48ed2483cb279f0c2818346b3",
       "version_major": 2,
       "version_minor": 0
      },
      "text/plain": [
       "columns:   0%|          | 0/25 [00:00<?, ?it/s]"
      ]
     },
     "metadata": {},
     "output_type": "display_data"
    },
    {
     "data": {
      "application/vnd.jupyter.widget-view+json": {
       "model_id": "558afe6cd7e940f8b5013fcceacfe5db",
       "version_major": 2,
       "version_minor": 0
      },
      "text/plain": [
       "columns:   0%|          | 0/25 [00:00<?, ?it/s]"
      ]
     },
     "metadata": {},
     "output_type": "display_data"
    },
    {
     "data": {
      "application/vnd.jupyter.widget-view+json": {
       "model_id": "5ce85410e9e643e594ff10560d1ece79",
       "version_major": 2,
       "version_minor": 0
      },
      "text/plain": [
       "columns:   0%|          | 0/25 [00:00<?, ?it/s]"
      ]
     },
     "metadata": {},
     "output_type": "display_data"
    },
    {
     "data": {
      "application/vnd.jupyter.widget-view+json": {
       "model_id": "e46e406b0ab64a2eb0f8dfccbb2a13e8",
       "version_major": 2,
       "version_minor": 0
      },
      "text/plain": [
       "columns:   0%|          | 0/25 [00:00<?, ?it/s]"
      ]
     },
     "metadata": {},
     "output_type": "display_data"
    },
    {
     "data": {
      "application/vnd.jupyter.widget-view+json": {
       "model_id": "de9a2ad49a324547a2addca036fbbdaa",
       "version_major": 2,
       "version_minor": 0
      },
      "text/plain": [
       "columns:   0%|          | 0/25 [00:00<?, ?it/s]"
      ]
     },
     "metadata": {},
     "output_type": "display_data"
    },
    {
     "data": {
      "application/vnd.jupyter.widget-view+json": {
       "model_id": "1422cc9da749406ea848129ce9c11e85",
       "version_major": 2,
       "version_minor": 0
      },
      "text/plain": [
       "columns:   0%|          | 0/25 [00:00<?, ?it/s]"
      ]
     },
     "metadata": {},
     "output_type": "display_data"
    },
    {
     "data": {
      "application/vnd.jupyter.widget-view+json": {
       "model_id": "0d8e1b2cba044da58a7a512328a00191",
       "version_major": 2,
       "version_minor": 0
      },
      "text/plain": [
       "columns:   0%|          | 0/25 [00:00<?, ?it/s]"
      ]
     },
     "metadata": {},
     "output_type": "display_data"
    },
    {
     "ename": "NameError",
     "evalue": "name 'sample_submission' is not defined",
     "output_type": "error",
     "traceback": [
      "\u001b[0;31m---------------------------------------------------------------------------\u001b[0m",
      "\u001b[0;31mNameError\u001b[0m                                 Traceback (most recent call last)",
      "\u001b[0;32m<ipython-input-10-201e8ec8bc9c>\u001b[0m in \u001b[0;36m<module>\u001b[0;34m\u001b[0m\n\u001b[0;32m----> 1\u001b[0;31m \u001b[0mpostprocessing\u001b[0m\u001b[0;34m.\u001b[0m\u001b[0mpostprocess_test_folder\u001b[0m\u001b[0;34m(\u001b[0m\u001b[0mfoo\u001b[0m\u001b[0;34m,\u001b[0m \u001b[0msrc_folder\u001b[0m\u001b[0;34m,\u001b[0m \u001b[0;34m'./output'\u001b[0m\u001b[0;34m)\u001b[0m\u001b[0;34m\u001b[0m\u001b[0;34m\u001b[0m\u001b[0m\n\u001b[0m",
      "\u001b[0;32m~/workspace/PAMBuH/src/postprocessing.py\u001b[0m in \u001b[0;36mpostprocess_test_folder\u001b[0;34m(infer_func, src_folder, dst_folder)\u001b[0m\n\u001b[1;32m     98\u001b[0m                         \u001b[0;31m#save_tiff_uint8_single_band(mask01, dst_folder / img_name.name)\u001b[0m\u001b[0;34m\u001b[0m\u001b[0;34m\u001b[0m\u001b[0;34m\u001b[0m\u001b[0m\n\u001b[1;32m     99\u001b[0m                         \u001b[0mspamwriter\u001b[0m\u001b[0;34m.\u001b[0m\u001b[0mwriterow\u001b[0m\u001b[0;34m(\u001b[0m\u001b[0;34m[\u001b[0m\u001b[0mimg_name\u001b[0m\u001b[0;34m.\u001b[0m\u001b[0mstem\u001b[0m\u001b[0;34m,\u001b[0m \u001b[0mmask2rle\u001b[0m\u001b[0;34m(\u001b[0m\u001b[0mmask01\u001b[0m\u001b[0;34m.\u001b[0m\u001b[0mT\u001b[0m\u001b[0;34m)\u001b[0m\u001b[0;34m]\u001b[0m\u001b[0;34m)\u001b[0m\u001b[0;34m\u001b[0m\u001b[0;34m\u001b[0m\u001b[0m\n\u001b[0;32m--> 100\u001b[0;31m         \u001b[0mprint\u001b[0m\u001b[0;34m(\u001b[0m\u001b[0;34mf'save to {dst_folder / sample_submission.csv}'\u001b[0m\u001b[0;34m)\u001b[0m\u001b[0;34m\u001b[0m\u001b[0;34m\u001b[0m\u001b[0m\n\u001b[0m\u001b[1;32m    101\u001b[0m \u001b[0;34m\u001b[0m\u001b[0m\n\u001b[1;32m    102\u001b[0m \u001b[0;32mclass\u001b[0m \u001b[0mSmoothTiles\u001b[0m\u001b[0;34m:\u001b[0m\u001b[0;34m\u001b[0m\u001b[0;34m\u001b[0m\u001b[0m\n",
      "\u001b[0;31mNameError\u001b[0m: name 'sample_submission' is not defined"
     ]
    }
   ],
   "source": [
    "postprocessing.postprocess_test_folder(foo, src_folder, './output')"
   ]
  },
  {
   "cell_type": "code",
   "execution_count": null,
   "id": "banned-bridge",
   "metadata": {},
   "outputs": [],
   "source": []
  }
 ],
 "metadata": {
  "kernelspec": {
   "display_name": "Python 3",
   "language": "python",
   "name": "python3"
  },
  "language_info": {
   "codemirror_mode": {
    "name": "ipython",
    "version": 3
   },
   "file_extension": ".py",
   "mimetype": "text/x-python",
   "name": "python",
   "nbconvert_exporter": "python",
   "pygments_lexer": "ipython3",
   "version": "3.6.9"
  }
 },
 "nbformat": 4,
 "nbformat_minor": 5
}
