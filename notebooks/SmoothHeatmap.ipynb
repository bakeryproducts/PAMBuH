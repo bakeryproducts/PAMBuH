{
 "cells": [
  {
   "cell_type": "code",
   "execution_count": null,
   "id": "distributed-combination",
   "metadata": {},
   "outputs": [],
   "source": [
    "%load_ext autoreload\n",
    "%autoreload 2"
   ]
  },
  {
   "cell_type": "code",
   "execution_count": null,
   "id": "worse-barbados",
   "metadata": {},
   "outputs": [],
   "source": [
    "import os\n",
    "import sys\n",
    "os.chdir('..')\n",
    "sys.path.append('src')"
   ]
  },
  {
   "cell_type": "code",
   "execution_count": null,
   "id": "hourly-steal",
   "metadata": {},
   "outputs": [],
   "source": [
    "import torch\n",
    "import numpy as np\n",
    "from tqdm.notebook import tqdm\n",
    "import torch.nn.functional as F\n",
    "import matplotlib.pyplot as plt\n",
    "import cv2\n",
    "import rasterio\n",
    "from rasterio.windows import Window\n",
    "from PIL import Image\n",
    "plt.figure(figsize=(10, 10))\n",
    "\n",
    "from postprocessing import SmoothTiles\n",
    "from sampler import get_basics_rasterio\n",
    "from utils import create_dir"
   ]
  },
  {
   "cell_type": "code",
   "execution_count": null,
   "id": "painful-economy",
   "metadata": {},
   "outputs": [],
   "source": [
    "from ipywidgets import IntProgress\n",
    "from pathlib import Path"
   ]
  },
  {
   "cell_type": "code",
   "execution_count": null,
   "id": "altered-logistics",
   "metadata": {},
   "outputs": [],
   "source": [
    "size_w=128"
   ]
  },
  {
   "cell_type": "markdown",
   "id": "optional-initial",
   "metadata": {},
   "source": [
    "# General"
   ]
  },
  {
   "cell_type": "code",
   "execution_count": null,
   "id": "automotive-pierre",
   "metadata": {},
   "outputs": [],
   "source": [
    "def test_inf(batch):\n",
    "    return batch[:, :1]\n",
    "\n",
    "def read_frame(fd, x, y, h, w=None, c=3, batch_size=8):\n",
    "    if w is None: w = h\n",
    "    img = fd.read(list(range(1, c+1)), window=Window(x, y, h, w))\n",
    "    return torch.ByteTensor(img)\n",
    "\n",
    "def block_reader(path, inf, size=512, infer_list_flg=False):\n",
    "    fd, shape, channel = get_basics_rasterio(path)\n",
    "    print(shape)\n",
    "    rows = []\n",
    "    for ny in tqdm(range(-size//4, shape[0], size//2), desc='rows'):\n",
    "        pad=(size//4, size - shape[1]%size)\n",
    "        if ny < 0:\n",
    "            pad = (size//4, size - shape[1]%size, size//4, 0)\n",
    "        elif shape[0]-ny < size:\n",
    "            pad = (size//4, size - shape[1]%size, 0, size + ny - shape[0])\n",
    "        row = read_frame(fd, 0, ny, shape[1], size)\n",
    "        row_img = F.pad(row, pad=pad, mode='constant', value=0)\n",
    "        row_img = row_img.unsqueeze(0)\n",
    "        left_i = torch.split(row_img, size, dim=3)[:-1]\n",
    "        right_i = torch.split(row_img[:, :, :, size//4:], size, dim=3)\n",
    "\n",
    "        imgs_batch = []\n",
    "        for i in range(len(left_i)):\n",
    "            imgs_batch.extend([left_i[i], right_i[i]])\n",
    "        if infer_list_flg:\n",
    "            infer_batch = inf(imgs_batch)\n",
    "        else:\n",
    "            infer_batch = inf(torch.cat(imgs_batch, 0))\n",
    "        infer_batch = infer_batch[:, :, size//4:-size//4, size//4:-size//4]\n",
    "        rows.append(torch.cat([i for i in infer_batch], 2).squeeze(0))\n",
    "    return torch.cat(rows, 0)[:shape[0], :shape[1]]\n",
    "\n",
    "def prt(img):\n",
    "    print(img.shape)\n",
    "    if len(img.shape) == 2:\n",
    "        plt.imshow(np.array(img))\n",
    "    else:\n",
    "        plt.imshow(np.array(img).transpose(1, 2, 0))\n",
    "    plt.show()\n",
    "\n",
    "def save_tiff_uint8_single_band(img, path):\n",
    "    if isinstance(img, torch.Tensor):\n",
    "        img = np.array(img)\n",
    "    elif not isinstance(img, numpy.ndarray):\n",
    "        raise TypeError(f'Want torch.Tensor or numpy.ndarray, but got {type(img)}')\n",
    "    assert img.dtype == np.uint8\n",
    "    h, w = img.shape\n",
    "    dst = rasterio.open(path, 'w', driver='GTiff', height=h, width=w, count=1, nbits=1, dtype=np.uint8)\n",
    "    dst.write(img, 1) # 1 band\n",
    "    dst.close()\n",
    "    print(f'Save to {path}')\n",
    "    del dst\n",
    "    \n",
    "def postprocess(infer_func, src_folder, dst_folder, save_predicts=True):\n",
    "    \"\"\"\n",
    "    infer_func([BxCxHxV]) -> [BxCxHxV]\n",
    "    src_folder - folder with test images\n",
    "    dst_folder - folder to save output (RLE and predictions)\n",
    "    \"\"\"\n",
    "    imgs_name = Path(src_folder).glob('*.tiff')\n",
    "    create_dir(dst_folder)\n",
    "    for img_name in tqdm(imgs_name, desc='Images', leave=False):\n",
    "        img = block_reader(img_name, infer_func)\n",
    "#         save_tiff_uint8_single_band(img, Path(dst_folder) / img_name.name)\n",
    "        return img\n",
    "\n",
    "ll = postprocess(test_inf, '/mnt/storage/HuBMAP/train/', './output')"
   ]
  },
  {
   "cell_type": "code",
   "execution_count": null,
   "id": "medieval-algebra",
   "metadata": {},
   "outputs": [],
   "source": [
    "ll.shape"
   ]
  },
  {
   "cell_type": "code",
   "execution_count": null,
   "id": "continent-doctor",
   "metadata": {},
   "outputs": [],
   "source": []
  },
  {
   "cell_type": "markdown",
   "id": "accompanied-display",
   "metadata": {},
   "source": [
    "# Read img"
   ]
  },
  {
   "cell_type": "code",
   "execution_count": null,
   "id": "absolute-brunswick",
   "metadata": {},
   "outputs": [],
   "source": [
    "name ='0486052bb'\n",
    "path = f'/mnt/storage/HuBMAP/train/{name}.tiff'\n",
    "#0486052bb-anatomical-structure.json\n",
    "#!ls /mnt/storage/HuBMAP/train"
   ]
  },
  {
   "cell_type": "code",
   "execution_count": null,
   "id": "negative-tissue",
   "metadata": {},
   "outputs": [],
   "source": [
    "def read_frame(fd, x, y, h, w=None, c=3, batch_size=8):\n",
    "    if w is None: w = h\n",
    "    img = fd.read(list(range(1, c+1)), window=Window(x, y, h, w))\n",
    "    return torch.ByteTensor(img)\n",
    "\n",
    "def save_frame(img, name=\"file.tiff\"):\n",
    "    Image.fromarray(img).save(name)\n",
    "    \n",
    "def get_batch(fd, x=512, batch=8):\n",
    "    k = 10000\n",
    "    h = 100\n",
    "    return k, h\n",
    "#     return read_frame(df, k, k, h, h)\n",
    "\n",
    "def get_sub_batch(fd, x, y, h, batch_size=8, sub_size=2):\n",
    "    return read_frame(fd, x, y, h)\n",
    "\n",
    "def simple_infer(path, inf, save_path, size=512, batch_size=4):\n",
    "    fd, shape, channel = get_basics_rasterio(path)\n",
    "    nx, ny = np.ceil(np.array(shape)/size).astype(int)\n",
    "    print(nx, ny)\n",
    "    batch = []\n",
    "    heatmaps = []\n",
    "#     for nyi in tqdm(range(ny), desc='rows'):\n",
    "    ny = 5\n",
    "    for nyi in tqdm(range(10, 15), desc='rows'):\n",
    "        y = nyi*size\n",
    "        for nxi in tqdm(range(nx), desc='columns', leave=False):\n",
    "            x = nxi*size\n",
    "            # fix pad\n",
    "            if x + size > shape[0]: x = shape[0] - size\n",
    "            if y + size > shape[1]: y = shape[1] - size\n",
    "            img = read_frame(fd, x, y, size, c=channel)\n",
    "            batch.append(img.unsqueeze(0))\n",
    "            if len(batch) == batch_size:\n",
    "                batch = torch.cat(batch, 0)\n",
    "                heatmap = inf(batch)\n",
    "                batch = []\n",
    "                heatmaps.append(heatmap)\n",
    "    else:\n",
    "        if batch:\n",
    "            heatmaps.append(inf(torch.cat(batch, 0)))\n",
    "            \n",
    "    return torch.cat(heatmaps, 0)\n",
    "#     return torch.cat([torch.cat([column for column in torch.cat(heatmaps, 0)[raw*nx:(raw+1)*nx]], 1) for raw in range(ny)], 0)\n",
    "\n",
    "# prt(torch.cat(rr, 0))\n",
    "#     return torch.cat(heatmaps, 0)\n",
    "\n",
    "#     return torch.reshape(torch.cat(heatmaps, 0), (nx, ny, size, size))\n",
    "\n",
    "# def infer(path, inf, size=512, batch_size=4):\n",
    "#     fd, shape, channel = get_basics_rasterio(path)\n",
    "# #     nx, ny = [i//size + bool(i % size) for i in shape]\n",
    "#     nx, ny = np.ceil(np.array(shape)/size).astype(int)\n",
    "#     x, y = 10000, 10000\n",
    "#     print(nx, ny)\n",
    "#     nx, ny = 3, 2\n",
    "#     for i in range(np.ceil(nx*ny/batch_size).astype(int)):\n",
    "#         batch = get_sub_batch(fd, x, y, h=size, batch_size=batch_size)\n",
    "#         return batch\n",
    "#         inf(batch)\n",
    "#         print(i)\n",
    "#     for nyi in range(ny*nx//):\n",
    "#         y += nyi*size\n",
    "#         for nxi in range(nx):\n",
    "#             x += nxi*size\n",
    "#             if x + size > shape[0]: pass\n",
    "#             if y + size > shape[1]: pass\n",
    "#             img = read_frame(fd, x, y, size, c=channel)\n",
    "#             print(img.shape)\n",
    "#     return (nx, ny) #shape, channel\n",
    "#     return get_banch(fd)\n",
    "#     return (shape, channel)\n",
    "\n",
    "def test_inf(batch):\n",
    "    return batch[:, 0]\n",
    "\n",
    "def prt(img):\n",
    "    print(img.shape)\n",
    "    plt.imshow(np.array(img))\n",
    "#     plt.imshow(np.array(img).transpose(1, 2, 0))\n",
    "    plt.show()\n",
    "\n",
    "ll = simple_infer(path, test_inf, None)\n",
    "ll.shape\n",
    "# prt(ll)"
   ]
  },
  {
   "cell_type": "code",
   "execution_count": null,
   "id": "deluxe-shepherd",
   "metadata": {},
   "outputs": [],
   "source": [
    "prt(ll)"
   ]
  },
  {
   "cell_type": "code",
   "execution_count": null,
   "id": "younger-coating",
   "metadata": {},
   "outputs": [],
   "source": [
    "rr = [torch.cat([i for i in ll[ii*51:(ii+1)*51]], 1) for ii in range(5)]\n",
    "# torch.cat([i for i in ll], 1)\n",
    "prt(torch.cat(rr, 0))"
   ]
  },
  {
   "cell_type": "code",
   "execution_count": null,
   "id": "elder-ferry",
   "metadata": {},
   "outputs": [],
   "source": [
    "ww = torch.reshape(ll, (51, 5, 512, 512))\n",
    "ww.shape\n",
    "www = []\n",
    "for i in ww:\n",
    "    www.append(torch.cat([j for j in i], 0))\n",
    "# print(len(www))\n",
    "ww1 = torch.cat(www, 1)\n",
    "# print(ww1.shape)\n",
    "\n",
    "# rr = [torch.cat([i for i in ll[ii*51:(ii+1)*51]], 1) for ii in ww]\n",
    "# prt(torch.cat(rr, 0))"
   ]
  },
  {
   "cell_type": "code",
   "execution_count": null,
   "id": "dependent-victoria",
   "metadata": {},
   "outputs": [],
   "source": [
    "prt(ww1)"
   ]
  },
  {
   "cell_type": "code",
   "execution_count": null,
   "id": "temporal-marking",
   "metadata": {},
   "outputs": [],
   "source": [
    "rr = torch.cat([i for i in ll], 1)\n",
    "prt(rr)"
   ]
  },
  {
   "cell_type": "code",
   "execution_count": null,
   "id": "pediatric-shirt",
   "metadata": {},
   "outputs": [],
   "source": [
    "ll.permute(1, 2, 0).shape"
   ]
  },
  {
   "cell_type": "code",
   "execution_count": null,
   "id": "sapphire-wholesale",
   "metadata": {},
   "outputs": [],
   "source": [
    "ww = torch.reshape(ll.permute(1, 2, 0), (512, 512, 51, 5))\n",
    "print(ww.shape)\n",
    "# rr = torch.cat([i for i in ww[:, 0]], 1)\n",
    "# prt(rr)"
   ]
  },
  {
   "cell_type": "code",
   "execution_count": null,
   "id": "naughty-interval",
   "metadata": {},
   "outputs": [],
   "source": [
    "torch.cat([torch.cat([column for column in img[raw*nx:(raw+1)*nx]], 1) for raw in range(ny)], 0)\n",
    "\n",
    "def concat_xy(img, nx, ny):\n",
    "    print(img.shape)\n",
    "    batch_frame = []\n",
    "    for bf in range(ny):\n",
    "#     for batch_frame in img:\n",
    "        ll.append(torch.cat([i for i in bf], 1))\n",
    "#     print(len(ll))\n",
    "    return torch.cat(batch_frame, 0)\n",
    "\n",
    "\n",
    "#         ll.append(torch.cat(heatmaps, 0))\n",
    "#     return img.shape, torch.cat(heatmaps, 0)\n",
    "#     n = int(np.sqrt(img.shape[-1]))\n",
    "#     big_img = torch.reshape(img, (img.shape[0], img.shape[1], n, n))\n",
    "#     sub_img = []\n",
    "#     for i in range(n):\n",
    "#         tpl_img = tuple([j for j in big_img[:, :, :, i].permute(2, 0, 1)])\n",
    "#         sub_img.append(np.concatenate(tpl_img, axis=1))\n",
    "#     return np.concatenate(tuple(sub_img), axis=0)\n",
    "r = concat_xy(ww)"
   ]
  },
  {
   "cell_type": "code",
   "execution_count": null,
   "id": "boolean-affiliate",
   "metadata": {},
   "outputs": [],
   "source": [
    "prt(r)"
   ]
  },
  {
   "cell_type": "code",
   "execution_count": null,
   "id": "authorized-norwegian",
   "metadata": {},
   "outputs": [],
   "source": [
    "smooth = st.merge(img_main, img_sub)\n",
    "# print(smooth.shape)\n",
    "# plt.imshow(concat(smooth.to('cpu')))"
   ]
  },
  {
   "cell_type": "code",
   "execution_count": null,
   "id": "hazardous-assumption",
   "metadata": {},
   "outputs": [],
   "source": []
  },
  {
   "cell_type": "code",
   "execution_count": null,
   "id": "referenced-adaptation",
   "metadata": {},
   "outputs": [],
   "source": []
  },
  {
   "cell_type": "code",
   "execution_count": null,
   "id": "steady-correction",
   "metadata": {},
   "outputs": [],
   "source": []
  },
  {
   "cell_type": "code",
   "execution_count": null,
   "id": "incredible-signal",
   "metadata": {},
   "outputs": [],
   "source": []
  },
  {
   "cell_type": "markdown",
   "id": "latin-pointer",
   "metadata": {},
   "source": [
    "# Generate Test"
   ]
  },
  {
   "cell_type": "code",
   "execution_count": null,
   "id": "streaming-glory",
   "metadata": {},
   "outputs": [],
   "source": [
    "def get_random_prediction(size=128, n=2, cuda=True):\n",
    "    device = 'cuda' if cuda and torch.cuda.is_available() else 'cpu'\n",
    "    img_main = torch.normal(0, 1, size=(size, size, n**2)).to(device)\n",
    "    img_sub = torch.normal(0, 1, size=(size, size, (n+1)**2)).to(device)\n",
    "    return img_main, img_sub\n",
    "\n",
    "def get_black_prediction(size=128, n=2, cuda=True):\n",
    "    device = 'cuda' if cuda and torch.cuda.is_available() else 'cpu'\n",
    "    img_main = torch.zeros((size, size, n**2)).to(device)\n",
    "    img_sub = torch.ones((size, size, (n+1)**2)).to(device)\n",
    "    return img_main, img_sub\n",
    "\n",
    "# img_main, img_sub = get_random_prediction(size_w, 3)\n",
    "img_main, img_sub = get_black_prediction(size_w, 3)\n",
    "print(img_main.shape, img_sub.shape)"
   ]
  },
  {
   "cell_type": "markdown",
   "id": "collect-invite",
   "metadata": {},
   "source": [
    "# Show window"
   ]
  },
  {
   "cell_type": "code",
   "execution_count": null,
   "id": "ignored-disorder",
   "metadata": {},
   "outputs": [],
   "source": [
    "st = SmoothTiles()"
   ]
  },
  {
   "cell_type": "code",
   "execution_count": null,
   "id": "loaded-album",
   "metadata": {},
   "outputs": [],
   "source": [
    "plt.plot(st.triangle(size_w))"
   ]
  },
  {
   "cell_type": "code",
   "execution_count": null,
   "id": "valued-spiritual",
   "metadata": {},
   "outputs": [],
   "source": [
    "plt.imshow(st.window_2D(size_w, st.triangle))"
   ]
  },
  {
   "cell_type": "code",
   "execution_count": null,
   "id": "south-argument",
   "metadata": {},
   "outputs": [],
   "source": [
    "plt.plot(st.gauss(size_w, 20))"
   ]
  },
  {
   "cell_type": "code",
   "execution_count": null,
   "id": "threatened-renewal",
   "metadata": {},
   "outputs": [],
   "source": [
    "plt.imshow(st.window_2D(size_w, st.gauss))"
   ]
  },
  {
   "cell_type": "code",
   "execution_count": null,
   "id": "retired-shade",
   "metadata": {},
   "outputs": [],
   "source": [
    "plt.plot(st.spline(size_w))"
   ]
  },
  {
   "cell_type": "code",
   "execution_count": null,
   "id": "horizontal-vatican",
   "metadata": {},
   "outputs": [],
   "source": [
    "plt.imshow(st.window_2D(size_w, st.spline))"
   ]
  },
  {
   "cell_type": "markdown",
   "id": "arbitrary-clerk",
   "metadata": {},
   "source": [
    "# Smooth Tiles"
   ]
  },
  {
   "cell_type": "code",
   "execution_count": null,
   "id": "elder-bryan",
   "metadata": {},
   "outputs": [],
   "source": [
    "def concat(img):\n",
    "    n = int(np.sqrt(img.shape[-1]))\n",
    "    big_img = torch.reshape(img, (img.shape[0], img.shape[1], n, n))\n",
    "    sub_img = []\n",
    "    for i in range(n):\n",
    "        tpl_img = tuple([j for j in big_img[:, :, :, i].permute(2, 0, 1)])\n",
    "        sub_img.append(np.concatenate(tpl_img, axis=1))\n",
    "    return np.concatenate(tuple(sub_img), axis=0)"
   ]
  },
  {
   "cell_type": "code",
   "execution_count": null,
   "id": "royal-coordination",
   "metadata": {},
   "outputs": [],
   "source": [
    "smooth = st.merge(img_main, img_sub)\n",
    "print(smooth.shape)\n",
    "plt.imshow(concat(smooth.to('cpu')))"
   ]
  },
  {
   "cell_type": "code",
   "execution_count": null,
   "id": "intimate-bandwidth",
   "metadata": {},
   "outputs": [],
   "source": []
  }
 ],
 "metadata": {
  "kernelspec": {
   "display_name": "Python 3",
   "language": "python",
   "name": "python3"
  },
  "language_info": {
   "codemirror_mode": {
    "name": "ipython",
    "version": 3
   },
   "file_extension": ".py",
   "mimetype": "text/x-python",
   "name": "python",
   "nbconvert_exporter": "python",
   "pygments_lexer": "ipython3",
   "version": "3.6.9"
  }
 },
 "nbformat": 4,
 "nbformat_minor": 5
}
