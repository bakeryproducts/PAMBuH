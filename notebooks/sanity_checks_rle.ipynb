{
 "cells": [
  {
   "cell_type": "code",
   "execution_count": null,
   "metadata": {},
   "outputs": [],
   "source": [
    "import pandas as pd"
   ]
  },
  {
   "cell_type": "code",
   "execution_count": null,
   "metadata": {},
   "outputs": [],
   "source": [
    "import os\n",
    "import sys\n",
    "os.chdir('..')\n",
    "sys.path.append('src')"
   ]
  },
  {
   "cell_type": "code",
   "execution_count": null,
   "metadata": {},
   "outputs": [],
   "source": [
    "import utils\n",
    "import rle2tiff"
   ]
  },
  {
   "cell_type": "code",
   "execution_count": null,
   "metadata": {},
   "outputs": [],
   "source": [
    "imgs = utils.get_filenames('input/hm/test', '*.tiff', lambda x: False)\n",
    "imgs"
   ]
  },
  {
   "cell_type": "code",
   "execution_count": null,
   "metadata": {},
   "outputs": [],
   "source": [
    "hws = {}\n",
    "full_names = {}\n",
    "for f in imgs:\n",
    "    _, hw, _ = utils.get_basics_rasterio(str(f))\n",
    "    hws[f.stem] = hw\n",
    "    full_names[f.stem] = f\n",
    "hws"
   ]
  },
  {
   "cell_type": "code",
   "execution_count": null,
   "metadata": {},
   "outputs": [],
   "source": [
    "df_train = pd.read_csv('input/hm/HuBMAP-20-dataset_information.csv')"
   ]
  },
  {
   "cell_type": "code",
   "execution_count": null,
   "metadata": {},
   "outputs": [],
   "source": [
    "t = df_train[['image_file','width_pixels','height_pixels']]\n",
    "sanity = {a.split('.')[0]:(c,b) for a,b,c in t.values}\n",
    "sanity"
   ]
  },
  {
   "cell_type": "code",
   "execution_count": null,
   "metadata": {},
   "outputs": [],
   "source": [
    "for k,v in sanity.items():\n",
    "    if k in hws:\n",
    "        if hws[k] != v:\n",
    "            print('ERR',k,v,hws[k])\n",
    "        else:\n",
    "            print('OKK',k,v,hws[k])\n",
    "            "
   ]
  },
  {
   "cell_type": "code",
   "execution_count": null,
   "metadata": {},
   "outputs": [],
   "source": [
    "df = pd.read_csv('/home/gsm/test/submission_86.csv')"
   ]
  },
  {
   "cell_type": "code",
   "execution_count": null,
   "metadata": {},
   "outputs": [],
   "source": [
    "d = df.to_dict()\n",
    "ids, preds = d['id'], d['predicted']"
   ]
  },
  {
   "cell_type": "code",
   "execution_count": null,
   "metadata": {},
   "outputs": [],
   "source": [
    "dd = {}\n",
    "for k in ids:\n",
    "    dd[ids[k]] = preds[k]"
   ]
  },
  {
   "cell_type": "code",
   "execution_count": null,
   "metadata": {},
   "outputs": [],
   "source": []
  },
  {
   "cell_type": "code",
   "execution_count": null,
   "metadata": {},
   "outputs": [],
   "source": [
    "for k, rle in dd.items():\n",
    "    hw = hws[k]\n",
    "    print(k, hw)\n",
    "    mask  = rle2tiff.rle2mask(rle, hw[::-1])\n",
    "    mask_name =  f'output/predict_86/masks/{k}_86.tiff'\n",
    "    #utils.save_tiff_uint8_single_band(mask.T, mask_name)\n",
    "    #merge_name = f'output/predict_86/merged/{k}_86.tiff'\n",
    "    #utils.tiff_merge_mask(full_names[k], mask_name, merge_name)\n",
    "    "
   ]
  },
  {
   "cell_type": "code",
   "execution_count": null,
   "metadata": {},
   "outputs": [],
   "source": [
    "mask.T.shape"
   ]
  },
  {
   "cell_type": "code",
   "execution_count": null,
   "metadata": {},
   "outputs": [],
   "source": [
    "import rasterio as rio\n",
    "from callbacks import dice_loss"
   ]
  },
  {
   "cell_type": "code",
   "execution_count": null,
   "metadata": {},
   "outputs": [],
   "source": [
    "import torch"
   ]
  },
  {
   "cell_type": "code",
   "execution_count": null,
   "metadata": {},
   "outputs": [],
   "source": [
    "for k, rle in dd.items():\n",
    "    hw = hws[k]\n",
    "    print(k, hw)\n",
    "    mask  = rle2tiff.rle2mask(rle, hw[::-1])\n",
    "    mymask =  rio.open(f'output/predicts/masks/{k}.tiff').read()\n",
    "    dice = dice_loss(torch.from_numpy(mask.T/255), torch.from_numpy(mymask))\n",
    "    print(k, dice)"
   ]
  },
  {
   "cell_type": "code",
   "execution_count": null,
   "metadata": {},
   "outputs": [],
   "source": []
  },
  {
   "cell_type": "code",
   "execution_count": null,
   "metadata": {},
   "outputs": [],
   "source": [
    "for k, rle in dd.items():\n",
    "    hw = hws[k]\n",
    "    print(k, hw)\n",
    "    mask_name1 =  f'output/predict_86/masks/{k}_86.tiff'\n",
    "    mask_name2 =  f'output/predicts/masks/{k}.tiff'\n",
    "    merge_name = f'output/predict_86/combined/{k}.tiff'\n",
    "    \n",
    "    utils.tiff_merge_mask(full_names[k], mask_name1, merge_name, mask_name2)\n",
    "    #break"
   ]
  },
  {
   "cell_type": "code",
   "execution_count": null,
   "metadata": {},
   "outputs": [],
   "source": []
  },
  {
   "cell_type": "code",
   "execution_count": null,
   "metadata": {},
   "outputs": [],
   "source": []
  }
 ],
 "metadata": {
  "kernelspec": {
   "display_name": "Python 3",
   "language": "python",
   "name": "python3"
  },
  "language_info": {
   "codemirror_mode": {
    "name": "ipython",
    "version": 3
   },
   "file_extension": ".py",
   "mimetype": "text/x-python",
   "name": "python",
   "nbconvert_exporter": "python",
   "pygments_lexer": "ipython3",
   "version": "3.6.9"
  }
 },
 "nbformat": 4,
 "nbformat_minor": 4
}
