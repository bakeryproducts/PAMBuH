{
 "cells": [
  {
   "cell_type": "code",
   "execution_count": null,
   "id": "subsequent-church",
   "metadata": {},
   "outputs": [],
   "source": [
    "%load_ext autoreload\n",
    "%autoreload 2"
   ]
  },
  {
   "cell_type": "code",
   "execution_count": null,
   "id": "competent-approach",
   "metadata": {},
   "outputs": [],
   "source": [
    "import os\n",
    "import sys\n",
    "os.chdir('..')\n",
    "sys.path.append('src')"
   ]
  },
  {
   "cell_type": "code",
   "execution_count": null,
   "id": "identical-beatles",
   "metadata": {},
   "outputs": [],
   "source": [
    "import torch\n",
    "import numpy as np\n",
    "from tqdm.notebook import tqdm\n",
    "import matplotlib.pyplot as plt\n",
    "import cv2\n",
    "from pathlib import Path\n",
    "plt.figure(figsize=(10, 10))\n",
    "\n",
    "from postprocessing import SmoothTiles\n",
    "from utils import create_dir, read_frame, save_tiff_uint8_single_band\n",
    "from postprocessing import postprocess, plot_img"
   ]
  },
  {
   "cell_type": "markdown",
   "id": "forty-lancaster",
   "metadata": {},
   "source": [
    "# General"
   ]
  },
  {
   "cell_type": "code",
   "execution_count": null,
   "id": "marked-picnic",
   "metadata": {},
   "outputs": [],
   "source": [
    "def test_inf(batch):\n",
    "    return batch[:, :1]\n",
    "\n",
    "img = postprocess(test_inf, '/mnt/storage/HuBMAP/train/', './output', True)"
   ]
  },
  {
   "cell_type": "code",
   "execution_count": null,
   "id": "dental-allah",
   "metadata": {},
   "outputs": [],
   "source": [
    "plot_img(img)"
   ]
  },
  {
   "cell_type": "markdown",
   "id": "political-county",
   "metadata": {},
   "source": [
    "# Generate Test"
   ]
  },
  {
   "cell_type": "code",
   "execution_count": null,
   "id": "missing-investor",
   "metadata": {},
   "outputs": [],
   "source": [
    "def get_random_prediction(size=128, n=2, cuda=True):\n",
    "    device = 'cuda' if cuda and torch.cuda.is_available() else 'cpu'\n",
    "    img_main = torch.normal(0, 1, size=(size, size, n**2)).to(device)\n",
    "    img_sub = torch.normal(0, 1, size=(size, size, (n+1)**2)).to(device)\n",
    "    return img_main, img_sub\n",
    "\n",
    "def get_black_prediction(size=128, n=2, cuda=True):\n",
    "    device = 'cuda' if cuda and torch.cuda.is_available() else 'cpu'\n",
    "    img_main = torch.zeros((size, size, n**2)).to(device)\n",
    "    img_sub = torch.ones((size, size, (n+1)**2)).to(device)\n",
    "    return img_main, img_sub\n",
    "\n",
    "# img_main, img_sub = get_random_prediction(size_w, 3)\n",
    "img_main, img_sub = get_black_prediction(size_w, 3)\n",
    "print(img_main.shape, img_sub.shape)"
   ]
  },
  {
   "cell_type": "markdown",
   "id": "comic-accuracy",
   "metadata": {},
   "source": [
    "# Show window"
   ]
  },
  {
   "cell_type": "code",
   "execution_count": null,
   "id": "incorrect-employment",
   "metadata": {},
   "outputs": [],
   "source": [
    "st = SmoothTiles()"
   ]
  },
  {
   "cell_type": "code",
   "execution_count": null,
   "id": "worth-minnesota",
   "metadata": {},
   "outputs": [],
   "source": [
    "plt.plot(st.triangle(size_w))"
   ]
  },
  {
   "cell_type": "code",
   "execution_count": null,
   "id": "vanilla-flooring",
   "metadata": {},
   "outputs": [],
   "source": [
    "plt.imshow(st.window_2D(size_w, st.triangle))"
   ]
  },
  {
   "cell_type": "code",
   "execution_count": null,
   "id": "understanding-theta",
   "metadata": {},
   "outputs": [],
   "source": [
    "plt.plot(st.gauss(size_w, 20))"
   ]
  },
  {
   "cell_type": "code",
   "execution_count": null,
   "id": "comfortable-advocacy",
   "metadata": {},
   "outputs": [],
   "source": [
    "plt.imshow(st.window_2D(size_w, st.gauss))"
   ]
  },
  {
   "cell_type": "code",
   "execution_count": null,
   "id": "innovative-billy",
   "metadata": {},
   "outputs": [],
   "source": [
    "plt.plot(st.spline(size_w))"
   ]
  },
  {
   "cell_type": "code",
   "execution_count": null,
   "id": "included-mobile",
   "metadata": {},
   "outputs": [],
   "source": [
    "plt.imshow(st.window_2D(size_w, st.spline))"
   ]
  },
  {
   "cell_type": "markdown",
   "id": "searching-fishing",
   "metadata": {},
   "source": [
    "# Smooth Tiles"
   ]
  },
  {
   "cell_type": "code",
   "execution_count": null,
   "id": "declared-grounds",
   "metadata": {},
   "outputs": [],
   "source": [
    "def concat(img):\n",
    "    n = int(np.sqrt(img.shape[-1]))\n",
    "    big_img = torch.reshape(img, (img.shape[0], img.shape[1], n, n))\n",
    "    sub_img = []\n",
    "    for i in range(n):\n",
    "        tpl_img = tuple([j for j in big_img[:, :, :, i].permute(2, 0, 1)])\n",
    "        sub_img.append(np.concatenate(tpl_img, axis=1))\n",
    "    return np.concatenate(tuple(sub_img), axis=0)"
   ]
  },
  {
   "cell_type": "code",
   "execution_count": null,
   "id": "manual-journalist",
   "metadata": {},
   "outputs": [],
   "source": [
    "smooth = st.merge(img_main, img_sub)\n",
    "print(smooth.shape)\n",
    "plt.imshow(concat(smooth.to('cpu')))"
   ]
  },
  {
   "cell_type": "code",
   "execution_count": null,
   "id": "stupid-choice",
   "metadata": {},
   "outputs": [],
   "source": []
  }
 ],
 "metadata": {
  "kernelspec": {
   "display_name": "Python 3",
   "language": "python",
   "name": "python3"
  },
  "language_info": {
   "codemirror_mode": {
    "name": "ipython",
    "version": 3
   },
   "file_extension": ".py",
   "mimetype": "text/x-python",
   "name": "python",
   "nbconvert_exporter": "python",
   "pygments_lexer": "ipython3",
   "version": "3.6.9"
  }
 },
 "nbformat": 4,
 "nbformat_minor": 5
}
