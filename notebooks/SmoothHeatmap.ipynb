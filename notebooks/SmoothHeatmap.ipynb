{
 "cells": [
  {
   "cell_type": "code",
   "execution_count": null,
   "id": "patent-victoria",
   "metadata": {},
   "outputs": [],
   "source": [
    "import os, sys\n",
    "import torch\n",
    "import numpy as np\n",
    "import matplotlib.pyplot as plt\n",
    "plt.figure(figsize=(10, 10))\n",
    "\n",
    "sys.path.append('..')\n",
    "from src.postprocessing import SmoothTiles"
   ]
  },
  {
   "cell_type": "code",
   "execution_count": null,
   "id": "rational-muslim",
   "metadata": {},
   "outputs": [],
   "source": [
    "size_w=128"
   ]
  },
  {
   "cell_type": "markdown",
   "id": "loved-moment",
   "metadata": {},
   "source": [
    "# Generate Test"
   ]
  },
  {
   "cell_type": "code",
   "execution_count": null,
   "id": "standard-youth",
   "metadata": {},
   "outputs": [],
   "source": [
    "def get_random_prediction(size=128, n=2, cuda=True):\n",
    "    device = 'cuda' if cuda and torch.cuda.is_available() else 'cpu'\n",
    "    img_main = torch.normal(0, 1, size=(size, size, n**2)).to(device)\n",
    "    img_sub = torch.normal(0, 1, size=(size, size, (n+1)**2)).to(device)\n",
    "    return img_main, img_sub\n",
    "\n",
    "def get_black_prediction(size=128, n=2, cuda=True):\n",
    "    device = 'cuda' if cuda and torch.cuda.is_available() else 'cpu'\n",
    "    img_main = torch.zeros((size, size, n**2)).to(device)\n",
    "    img_sub = torch.ones((size, size, (n+1)**2)).to(device)\n",
    "    return img_main, img_sub\n",
    "\n",
    "# img_main, img_sub = get_random_prediction(size_w, 3)\n",
    "img_main, img_sub = get_black_prediction(size_w, 3)\n",
    "print(img_main.shape, img_sub.shape)"
   ]
  },
  {
   "cell_type": "markdown",
   "id": "standard-matrix",
   "metadata": {},
   "source": [
    "# Show window"
   ]
  },
  {
   "cell_type": "code",
   "execution_count": null,
   "id": "african-regulation",
   "metadata": {},
   "outputs": [],
   "source": [
    "st = SmoothTiles()"
   ]
  },
  {
   "cell_type": "code",
   "execution_count": null,
   "id": "demanding-actress",
   "metadata": {},
   "outputs": [],
   "source": [
    "plt.plot(st.triangle(size_w))"
   ]
  },
  {
   "cell_type": "code",
   "execution_count": null,
   "id": "dietary-vision",
   "metadata": {},
   "outputs": [],
   "source": [
    "plt.imshow(st.window_2D(size_w, st.triangle))"
   ]
  },
  {
   "cell_type": "code",
   "execution_count": null,
   "id": "behind-calibration",
   "metadata": {},
   "outputs": [],
   "source": [
    "plt.plot(st.gauss(size_w, 20))"
   ]
  },
  {
   "cell_type": "code",
   "execution_count": null,
   "id": "harmful-royalty",
   "metadata": {},
   "outputs": [],
   "source": [
    "plt.imshow(st.window_2D(size_w, st.gauss))"
   ]
  },
  {
   "cell_type": "code",
   "execution_count": null,
   "id": "handmade-sussex",
   "metadata": {},
   "outputs": [],
   "source": [
    "plt.plot(st.spline(size_w))"
   ]
  },
  {
   "cell_type": "code",
   "execution_count": null,
   "id": "dress-medicine",
   "metadata": {},
   "outputs": [],
   "source": [
    "plt.imshow(st.window_2D(size_w, st.spline))"
   ]
  },
  {
   "cell_type": "markdown",
   "id": "detected-burlington",
   "metadata": {},
   "source": [
    "# Smooth Tiles"
   ]
  },
  {
   "cell_type": "code",
   "execution_count": null,
   "id": "guided-speaking",
   "metadata": {},
   "outputs": [],
   "source": [
    "def concat(img):\n",
    "    n = int(np.sqrt(img.shape[-1]))\n",
    "    big_img = torch.reshape(img, (img.shape[0], img.shape[1], n, n))\n",
    "    sub_img = []\n",
    "    for i in range(n):\n",
    "        tpl_img = tuple([j for j in big_img[:, :, :, i].permute(2, 0, 1)])\n",
    "        sub_img.append(np.concatenate(tpl_img, axis=1))\n",
    "    return np.concatenate(tuple(sub_img), axis=0)"
   ]
  },
  {
   "cell_type": "code",
   "execution_count": null,
   "id": "regional-sailing",
   "metadata": {},
   "outputs": [],
   "source": [
    "smooth = st.merge(img_main, img_sub)\n",
    "print(smooth.shape)\n",
    "plt.imshow(concat(smooth.to('cpu')))"
   ]
  },
  {
   "cell_type": "code",
   "execution_count": null,
   "id": "liquid-familiar",
   "metadata": {},
   "outputs": [],
   "source": []
  }
 ],
 "metadata": {
  "kernelspec": {
   "display_name": "Python 3",
   "language": "python",
   "name": "python3"
  },
  "language_info": {
   "codemirror_mode": {
    "name": "ipython",
    "version": 3
   },
   "file_extension": ".py",
   "mimetype": "text/x-python",
   "name": "python",
   "nbconvert_exporter": "python",
   "pygments_lexer": "ipython3",
   "version": "3.6.9"
  }
 },
 "nbformat": 4,
 "nbformat_minor": 5
}
