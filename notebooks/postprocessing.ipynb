{
 "cells": [
  {
   "cell_type": "markdown",
   "id": "detected-obligation",
   "metadata": {},
   "source": [
    "# Imports"
   ]
  },
  {
   "cell_type": "code",
   "execution_count": null,
   "id": "isolated-cinema",
   "metadata": {},
   "outputs": [],
   "source": [
    "%load_ext autoreload\n",
    "%autoreload 2"
   ]
  },
  {
   "cell_type": "code",
   "execution_count": null,
   "id": "mechanical-hampton",
   "metadata": {},
   "outputs": [],
   "source": [
    "import os\n",
    "import sys\n",
    "os.chdir('..')\n",
    "sys.path.append('src')"
   ]
  },
  {
   "cell_type": "code",
   "execution_count": null,
   "id": "occasional-backing",
   "metadata": {},
   "outputs": [],
   "source": [
    "os.environ[\"CUDA_VISIBLE_DEVICES\"]=\"0\"\n",
    "from pathlib import Path\n",
    "from datetime import datetime\n",
    "import infer\n",
    "import postprocessing\n",
    "import utils\n",
    "import numpy as np\n",
    "import torch"
   ]
  },
  {
   "cell_type": "markdown",
   "id": "theoretical-relaxation",
   "metadata": {},
   "source": [
    "# Code"
   ]
  },
  {
   "cell_type": "code",
   "execution_count": null,
   "id": "cutting-spank",
   "metadata": {},
   "outputs": [],
   "source": [
    "src_folder = '/mnt/storage/HuBMAP/test'\n",
    "img_name = next(Path(src_folder).glob('*.tiff'))\n",
    "print(img_name)"
   ]
  },
  {
   "cell_type": "code",
   "execution_count": null,
   "id": "ethical-reunion",
   "metadata": {},
   "outputs": [],
   "source": [
    "p = '../2021_Feb_15_18_55_28_PAMBUH/'\n",
    "foo = infer.get_infer_func(p)"
   ]
  },
  {
   "cell_type": "code",
   "execution_count": null,
   "id": "spare-terrace",
   "metadata": {},
   "outputs": [],
   "source": [
    "def test_infer(batch):\n",
    "    tensor = torch.CharTensor if torch.cuda.is_available() else torch.cuda.CharTensor\n",
    "    return torch.cat([tensor(i)[:1].unsqueeze(0) for i in batch], 0)"
   ]
  },
  {
   "cell_type": "code",
   "execution_count": null,
   "id": "fluid-accessory",
   "metadata": {},
   "outputs": [],
   "source": [
    "# mask = postprocessing.read_and_process_img(img_name, test_infer, block_size=2048, crop_size=2000)\n",
    "mask = postprocessing.read_and_process_img(img_name, foo, block_size=2048, crop_size=2000)"
   ]
  },
  {
   "cell_type": "code",
   "execution_count": null,
   "id": "dominant-anthony",
   "metadata": {},
   "outputs": [],
   "source": [
    "postprocessing._plot_img(mask)"
   ]
  },
  {
   "cell_type": "code",
   "execution_count": null,
   "id": "sound-routine",
   "metadata": {},
   "outputs": [],
   "source": [
    "dst_folder = Path('./output') / str(datetime.now()).replace(' ', '_')\n",
    "dst_folder.mkdir(parents=True, exist_ok=True)\n",
    "mask_name = dst_folder / img_name.name\n",
    "mask_name"
   ]
  },
  {
   "cell_type": "code",
   "execution_count": null,
   "id": "caring-persian",
   "metadata": {},
   "outputs": [],
   "source": [
    "utils.save_tiff_uint8_single_band(mask, mask_name)"
   ]
  },
  {
   "cell_type": "code",
   "execution_count": null,
   "id": "italic-longitude",
   "metadata": {},
   "outputs": [],
   "source": [
    "fd, (h, w), channel = utils.get_basics_rasterio(mask_name)\n",
    "readed_mask = utils.get_tiff_block(fd, 0, 0, w, h, 1)[0]\n",
    "readed_mask.shape, readed_mask.dtype, readed_mask.max()"
   ]
  },
  {
   "cell_type": "code",
   "execution_count": null,
   "id": "minus-words",
   "metadata": {},
   "outputs": [],
   "source": [
    "postprocessing._plot_img(readed_mask)"
   ]
  },
  {
   "cell_type": "code",
   "execution_count": null,
   "id": "sustainable-salad",
   "metadata": {
    "jupyter": {
     "source_hidden": true
    }
   },
   "outputs": [],
   "source": [
    "fd, shape, channel = utils.get_basics_rasterio(img_name)\n",
    "h, w = shape\n",
    "img = utils.get_tiff_block(fd, 0, 0, w, h, 3)\n",
    "img.max(), img.shape, img.dtype"
   ]
  },
  {
   "cell_type": "code",
   "execution_count": null,
   "id": "wired-hearts",
   "metadata": {},
   "outputs": [],
   "source": [
    "merged_img = img.copy()\n",
    "merged_img[1] = readed_mask*200"
   ]
  },
  {
   "cell_type": "code",
   "execution_count": null,
   "id": "bottom-alfred",
   "metadata": {},
   "outputs": [],
   "source": [
    "postprocessing._plot_img(merged_img)"
   ]
  },
  {
   "cell_type": "code",
   "execution_count": null,
   "id": "great-poker",
   "metadata": {},
   "outputs": [],
   "source": [
    "postprocessing._plot_img(merged_img[:, 10000:12000, 25000:28000])"
   ]
  },
  {
   "cell_type": "markdown",
   "id": "patent-whole",
   "metadata": {},
   "source": [
    "# Tests"
   ]
  },
  {
   "cell_type": "code",
   "execution_count": null,
   "id": "basic-quest",
   "metadata": {},
   "outputs": [],
   "source": [
    "postprocessing.postprocess_test_folder(foo, src_folder, './output')"
   ]
  },
  {
   "cell_type": "code",
   "execution_count": null,
   "id": "military-leone",
   "metadata": {},
   "outputs": [],
   "source": []
  }
 ],
 "metadata": {
  "kernelspec": {
   "display_name": "Python 3",
   "language": "python",
   "name": "python3"
  },
  "language_info": {
   "codemirror_mode": {
    "name": "ipython",
    "version": 3
   },
   "file_extension": ".py",
   "mimetype": "text/x-python",
   "name": "python",
   "nbconvert_exporter": "python",
   "pygments_lexer": "ipython3",
   "version": "3.6.9"
  }
 },
 "nbformat": 4,
 "nbformat_minor": 5
}
