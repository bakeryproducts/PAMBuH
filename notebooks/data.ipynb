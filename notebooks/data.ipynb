{
 "cells": [
  {
   "cell_type": "markdown",
   "metadata": {},
   "source": [
    "# Imports"
   ]
  },
  {
   "cell_type": "code",
   "execution_count": null,
   "metadata": {},
   "outputs": [],
   "source": [
    "%load_ext autoreload\n",
    "%autoreload 2"
   ]
  },
  {
   "cell_type": "code",
   "execution_count": null,
   "metadata": {},
   "outputs": [],
   "source": [
    "import os\n",
    "import sys\n",
    "os.chdir('..')\n",
    "sys.path.append('src')"
   ]
  },
  {
   "cell_type": "code",
   "execution_count": null,
   "metadata": {},
   "outputs": [],
   "source": [
    "from PIL import Image\n",
    "from pathlib import Path\n",
    "from functools import partial, reduce\n",
    "from collections import defaultdict\n",
    "import multiprocessing as mp\n",
    "from contextlib import contextmanager\n",
    "\n",
    "import cv2\n",
    "import numpy as np\n",
    "from tqdm.auto import tqdm\n",
    "\n",
    "\n",
    "import utils\n",
    "import data\n",
    "from sampler import GdalSampler"
   ]
  },
  {
   "cell_type": "code",
   "execution_count": null,
   "metadata": {},
   "outputs": [],
   "source": []
  },
  {
   "cell_type": "markdown",
   "metadata": {},
   "source": [
    "# Code"
   ]
  },
  {
   "cell_type": "markdown",
   "metadata": {},
   "source": [
    "## Narezator"
   ]
  },
  {
   "cell_type": "code",
   "execution_count": null,
   "metadata": {},
   "outputs": [],
   "source": [
    "@contextmanager\n",
    "def poolcontext(*args, **kwargs):\n",
    "    pool = mp.Pool(*args, **kwargs)\n",
    "    yield pool\n",
    "    pool.terminate()\n",
    "    \n",
    "def mp_func(foo, args, n):\n",
    "    args_chunks = [args[i:i + n] for i in range(0, len(args), n)]\n",
    "    with poolcontext(processes=n) as pool:\n",
    "        pool.map(foo, args_chunks)\n",
    "    \n",
    "def mp_foo(foo, args): return foo(*args)"
   ]
  },
  {
   "cell_type": "code",
   "execution_count": null,
   "metadata": {},
   "outputs": [],
   "source": [
    "def mp_sampler(dst, i_fn, m_fn, a_fn, wh, wh_mask, idxs):\n",
    "    s = GdalSampler(i_fn, m_fn, a_fn, wh, wh_mask)\n",
    "    for idx in idxs:\n",
    "        i,m = s[idx]  \n",
    "        m*=255\n",
    "        \n",
    "        img_dir = dst / 'imgs' / i_fn.with_suffix('').name\n",
    "        os.makedirs(str(img_dir), exist_ok=True)\n",
    "        \n",
    "        mask_dir = dst / 'masks' / i_fn.with_suffix('').name\n",
    "        os.makedirs(str(mask_dir), exist_ok=True)\n",
    "        \n",
    "        # TODO ZFILL NAME\n",
    "        orig_name = (str(idx).zfill(6) + '.png')\n",
    "        img_name = img_dir / orig_name \n",
    "        mask_name = mask_dir /orig_name\n",
    "        \n",
    "        #print(mask_name, m.shape, m.dtype)\n",
    "        \n",
    "        cv2.imwrite(str(img_name), i.transpose(1,2,0))\n",
    "        cv2.imwrite(str(mask_name), np.expand_dims(m,-1).repeat(3,-1))"
   ]
  },
  {
   "cell_type": "code",
   "execution_count": null,
   "metadata": {},
   "outputs": [],
   "source": [
    "p = Path('input/hm/train')\n",
    "#p = Path('/home/sokolov/work/webinf/data/kidney/train/')\n",
    "dst_path = Path('input/train')\n",
    "NUM_PROC = 4\n",
    "wh = (512,512)"
   ]
  },
  {
   "cell_type": "code",
   "execution_count": null,
   "metadata": {},
   "outputs": [],
   "source": [
    "filt = partial(utils.filter_ban_str_in_name, bans=['-', '_ell'])\n",
    "ann_fns = sorted(utils.get_filenames(p, '*.json', filt))\n",
    "masks_fns = sorted(utils.get_filenames(p, '*_mask.tiff', filt))\n",
    "img_fns = sorted([a.with_suffix('.tiff') for a in ann_fns])\n",
    "img_fns, ann_fns, masks_fns"
   ]
  },
  {
   "cell_type": "code",
   "execution_count": null,
   "metadata": {},
   "outputs": [],
   "source": []
  },
  {
   "cell_type": "code",
   "execution_count": null,
   "metadata": {},
   "outputs": [],
   "source": [
    "#assert  False , 'DO ONCE'\n",
    "# for i_fn, m_fn, a_fn in tqdm(zip(img_fns, masks_fns, ann_fns)):\n",
    "#     const_args = i_fn, m_fn, a_fn, wh, wh\n",
    "#     _s = GdalSampler(*const_args)\n",
    "#     part_samp = partial(mp_sampler, *(dst_path, *const_args))\n",
    "#     mp_func(part_samp, range(len(_s)), NUM_PROC)\n",
    "#     #break"
   ]
  },
  {
   "cell_type": "code",
   "execution_count": null,
   "metadata": {},
   "outputs": [],
   "source": []
  },
  {
   "cell_type": "markdown",
   "metadata": {},
   "source": [
    "## Datasets"
   ]
  },
  {
   "cell_type": "code",
   "execution_count": null,
   "metadata": {},
   "outputs": [],
   "source": [
    "root = Path('input/cuts512')\n",
    "sd = data.SegmentDataset(root / 'imgs', root / 'masks', mode_train=False)\n",
    "len(sd)"
   ]
  },
  {
   "cell_type": "code",
   "execution_count": null,
   "metadata": {},
   "outputs": [],
   "source": [
    "from ipywidgets import interact, interactive, fixed, interact_manual\n",
    "import ipywidgets as widgets\n",
    "\n",
    "@interact(idx=(0, len(sd)),continuous_update=False)\n",
    "def view(idx): return sd._view(idx)"
   ]
  },
  {
   "cell_type": "code",
   "execution_count": null,
   "metadata": {},
   "outputs": [],
   "source": []
  },
  {
   "cell_type": "markdown",
   "metadata": {},
   "source": [
    "## Dataloaders"
   ]
  },
  {
   "cell_type": "code",
   "execution_count": null,
   "metadata": {},
   "outputs": [],
   "source": [
    "from config import cfg, cfg_init\n",
    "from pprint import pprint"
   ]
  },
  {
   "cell_type": "code",
   "execution_count": null,
   "metadata": {},
   "outputs": [],
   "source": [
    "pprint(cfg)"
   ]
  },
  {
   "cell_type": "code",
   "execution_count": null,
   "metadata": {},
   "outputs": [],
   "source": [
    "cfg_init('src/configs/unet.yaml')\n",
    "cfg['TRANSFORMERS']['TRAIN']['AUG'] = 'light'"
   ]
  },
  {
   "cell_type": "code",
   "execution_count": null,
   "metadata": {},
   "outputs": [],
   "source": [
    "datasets = data.build_datasets(cfg)"
   ]
  },
  {
   "cell_type": "code",
   "execution_count": null,
   "metadata": {},
   "outputs": [],
   "source": [
    "tds = datasets['TRAIN']"
   ]
  },
  {
   "cell_type": "code",
   "execution_count": null,
   "metadata": {},
   "outputs": [],
   "source": [
    "i,m = tds[0]"
   ]
  },
  {
   "cell_type": "code",
   "execution_count": null,
   "metadata": {},
   "outputs": [],
   "source": [
    "i.shape, i.dtype, i.max(), i.mean(), i.std()"
   ]
  },
  {
   "cell_type": "code",
   "execution_count": null,
   "metadata": {},
   "outputs": [],
   "source": [
    "m.shape, m.dtype, m.max()#, m.mean(), m.std()"
   ]
  },
  {
   "cell_type": "code",
   "execution_count": null,
   "metadata": {},
   "outputs": [],
   "source": [
    "\n",
    "dls = data.build_dataloaders(cfg, datasets, pin=True, drop_last=False)"
   ]
  },
  {
   "cell_type": "code",
   "execution_count": null,
   "metadata": {},
   "outputs": [],
   "source": [
    "tdl = dls['TRAIN']\n",
    "for xb, yb in tdl:\n",
    "    break"
   ]
  },
  {
   "cell_type": "code",
   "execution_count": null,
   "metadata": {},
   "outputs": [],
   "source": [
    "xb.shape, xb.dtype, xb.mean(), xb.std()"
   ]
  },
  {
   "cell_type": "code",
   "execution_count": null,
   "metadata": {},
   "outputs": [],
   "source": [
    "yb.shape, yb.dtype, yb.max()"
   ]
  },
  {
   "cell_type": "code",
   "execution_count": null,
   "metadata": {},
   "outputs": [],
   "source": []
  },
  {
   "cell_type": "code",
   "execution_count": null,
   "metadata": {},
   "outputs": [],
   "source": []
  },
  {
   "cell_type": "code",
   "execution_count": null,
   "metadata": {},
   "outputs": [],
   "source": []
  },
  {
   "cell_type": "code",
   "execution_count": null,
   "metadata": {},
   "outputs": [],
   "source": []
  },
  {
   "cell_type": "code",
   "execution_count": null,
   "metadata": {},
   "outputs": [],
   "source": []
  }
 ],
 "metadata": {
  "kernelspec": {
   "display_name": "Python 3",
   "language": "python",
   "name": "python3"
  },
  "language_info": {
   "codemirror_mode": {
    "name": "ipython",
    "version": 3
   },
   "file_extension": ".py",
   "mimetype": "text/x-python",
   "name": "python",
   "nbconvert_exporter": "python",
   "pygments_lexer": "ipython3",
   "version": "3.7.3"
  }
 },
 "nbformat": 4,
 "nbformat_minor": 4
}
