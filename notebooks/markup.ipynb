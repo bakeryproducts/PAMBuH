{
 "cells": [
  {
   "cell_type": "code",
   "execution_count": null,
   "id": "renewable-transfer",
   "metadata": {},
   "outputs": [],
   "source": [
    "%load_ext autoreload\n",
    "%autoreload 2"
   ]
  },
  {
   "cell_type": "code",
   "execution_count": null,
   "id": "downtown-pontiac",
   "metadata": {},
   "outputs": [],
   "source": [
    "import os\n",
    "import sys\n",
    "import json\n",
    "os.chdir('..')\n",
    "sys.path.append('src')\n",
    "os.environ[\"CUDA_VISIBLE_DEVICES\"]=\"0\""
   ]
  },
  {
   "cell_type": "code",
   "execution_count": null,
   "id": "hazardous-energy",
   "metadata": {},
   "outputs": [],
   "source": [
    "from pathlib import Path\n",
    "import matplotlib.pyplot as plt\n",
    "import matplotlib.image as mpimg\n",
    "%matplotlib widget\n",
    "import ipywidgets as widgets\n",
    "\n",
    "import markup"
   ]
  },
  {
   "cell_type": "code",
   "execution_count": null,
   "id": "embedded-knock",
   "metadata": {},
   "outputs": [],
   "source": [
    "# src_folder = '/mnt/storage/HuBMAP/test'\n",
    "# dst_folder = './HuBMAP/output'\n",
    "# img_name = next(Path(src_folder).glob('*.tiff'))\n",
    "# print(img_name)"
   ]
  },
  {
   "cell_type": "code",
   "execution_count": null,
   "id": "documentary-norway",
   "metadata": {},
   "outputs": [],
   "source": [
    "src_folder = '/mnt/storage/HuBMAP/test'\n",
    "dst_folder = './output'\n",
    "scale=10\n",
    "scale_names = markup.rescale_images(src_folder, dst_folder, scale)\n",
    "scale_names"
   ]
  },
  {
   "cell_type": "code",
   "execution_count": null,
   "id": "interpreted-burns",
   "metadata": {},
   "outputs": [],
   "source": [
    "# from osgeo import gdal\n",
    "# options_list = [\n",
    "#     '-outsize 10% 10%',\n",
    "#     '-of PNG',\n",
    "#     '-r nearest'\n",
    "# ] \n",
    "# options_string = \" \".join(options_list)\n",
    "\n",
    "# gdal.Translate('output/b9a3865fc_scale_rright_10.png',\n",
    "#                '/mnt/storage/HuBMAP/test/b9a3865fc.tiff',\n",
    "#                options=options_string)"
   ]
  },
  {
   "cell_type": "code",
   "execution_count": null,
   "id": "elder-certification",
   "metadata": {},
   "outputs": [],
   "source": [
    "src_name = scale_names[0]\n",
    "dst_name = scale_names[0].parents[0] / (scale_names[0].stem + '_markup.json')\n",
    "mrkp = markup.Markup(scale_names[0], dst_name, scale=scale)\n",
    "mrkp.markup_polygons()"
   ]
  }
 ],
 "metadata": {
  "kernelspec": {
   "display_name": "Python 3",
   "language": "python",
   "name": "python3"
  },
  "language_info": {
   "codemirror_mode": {
    "name": "ipython",
    "version": 3
   },
   "file_extension": ".py",
   "mimetype": "text/x-python",
   "name": "python",
   "nbconvert_exporter": "python",
   "pygments_lexer": "ipython3",
   "version": "3.6.9"
  }
 },
 "nbformat": 4,
 "nbformat_minor": 5
}
