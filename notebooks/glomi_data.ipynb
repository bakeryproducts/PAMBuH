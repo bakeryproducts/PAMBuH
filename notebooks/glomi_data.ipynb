{
 "cells": [
  {
   "cell_type": "markdown",
   "metadata": {},
   "source": [
    "# TODO?"
   ]
  },
  {
   "cell_type": "markdown",
   "metadata": {},
   "source": [
    "- [G] border refine\n",
    "- [A] obvious FP\n",
    "- [ ] probably FP (expert)\n",
    "\n",
    "- [AMGS] PAPERS PLEASE\n",
    "- [ ] annotation\n",
    "- [ ] additional data\n"
   ]
  },
  {
   "cell_type": "markdown",
   "metadata": {},
   "source": [
    "- redo grad decent on images , border ref\n",
    "- sclerotic Gs\n",
    "- collects stats from raster, redo analysis"
   ]
  },
  {
   "cell_type": "markdown",
   "metadata": {},
   "source": [
    "# Imports"
   ]
  },
  {
   "cell_type": "code",
   "execution_count": null,
   "metadata": {},
   "outputs": [],
   "source": [
    "from pathlib import Path\n",
    "\n",
    "import cv2\n",
    "import rasterio\n",
    "from tqdm import tqdm\n",
    "from math import atan2\n",
    "from shapely import geometry\n",
    "import numpy as np\n",
    "from numpy.linalg import eig, inv, svd\n",
    "\n",
    "import matplotlib.pyplot as plt\n",
    "%matplotlib inline"
   ]
  },
  {
   "cell_type": "code",
   "execution_count": null,
   "metadata": {},
   "outputs": [],
   "source": []
  },
  {
   "cell_type": "markdown",
   "metadata": {},
   "source": [
    "# Code"
   ]
  },
  {
   "cell_type": "code",
   "execution_count": null,
   "metadata": {},
   "outputs": [],
   "source": [
    "def __fit_ellipse(x, y):\n",
    "    x, y = x[:, np.newaxis], y[:, np.newaxis]\n",
    "    D = np.hstack((x * x, x * y, y * y, x, y, np.ones_like(x)))\n",
    "    S, C = np.dot(D.T, D), np.zeros([6, 6])\n",
    "    C[0, 2], C[2, 0], C[1, 1] = 2, 2, -1\n",
    "    U, s, V = svd(np.dot(inv(S), C))\n",
    "    a = U[:, 0]\n",
    "    return a\n",
    "\n",
    "def ellipse_center(a):\n",
    "    b, c, d, f, g, a = a[1] / 2, a[2], a[3] / 2, a[4] / 2, a[5], a[0]\n",
    "    num = b * b - a * c\n",
    "    x0 = (c * d - b * f) / num\n",
    "    y0 = (a * f - b * d) / num\n",
    "    return np.array([x0, y0])\n",
    "\n",
    "def ellipse_axis_length(a):\n",
    "    b, c, d, f, g, a = a[1] / 2, a[2], a[3] / 2, a[4] / 2, a[5], a[0]\n",
    "    up = 2 * (a * f * f + c * d * d + g * b * b - 2 * b * d * f - a * c * g)\n",
    "    down1 = (b * b - a * c) * (\n",
    "        (c - a) * np.sqrt(1 + 4 * b * b / ((a - c) * (a - c))) - (c + a)\n",
    "    )\n",
    "    down2 = (b * b - a * c) * (\n",
    "        (a - c) * np.sqrt(1 + 4 * b * b / ((a - c) * (a - c))) - (c + a)\n",
    "    )\n",
    "    res1 = np.sqrt(up / down1)\n",
    "    res2 = np.sqrt(up / down2)\n",
    "    return np.array([res1, res2])\n",
    "\n",
    "def ellipse_angle_of_rotation(a):\n",
    "    b, c, d, f, g, a = a[1] / 2, a[2], a[3] / 2, a[4] / 2, a[5], a[0]\n",
    "    return atan2(2 * b, (a - c)) / 2\n",
    "\n",
    "def fit_ellipse(x, y):\n",
    "    \"\"\"@brief fit an ellipse to supplied data points: the 5 params\n",
    "        returned are:\n",
    "\n",
    "        M - major axis length\n",
    "        m - minor axis length\n",
    "        cx - ellipse centre (x coord.)\n",
    "        cy - ellipse centre (y coord.)\n",
    "        phi - rotation angle of ellipse bounding box\n",
    "\n",
    "    @param x first coordinate of points to fit (array)\n",
    "    @param y second coord. of points to fit (array)\n",
    "    \"\"\"\n",
    "    a = __fit_ellipse(x, y)\n",
    "    centre = ellipse_center(a)\n",
    "    phi = ellipse_angle_of_rotation(a)\n",
    "    M, m = ellipse_axis_length(a)\n",
    "    # assert that the major axix M > minor axis m\n",
    "    if m > M:\n",
    "        M, m = m, M\n",
    "    # ensure the angle is betwen 0 and 2*pi\n",
    "    phi -= 2 * np.pi * int(phi / (2 * np.pi))\n",
    "    return [M, m, centre[0], centre[1], phi]\n",
    "\n",
    "def _generate_ell(a, b, center0, center1, phi):\n",
    "    arc = 2.0\n",
    "    R = np.arange(0, arc * np.pi, 0.1)\n",
    "    center, axes = (center0, center1), (a, b)\n",
    "\n",
    "    a, b = axes\n",
    "    xx = center[0] + a * np.cos(R) * np.cos(phi) - b * np.sin(R) * np.sin(phi)\n",
    "    yy = center[1] + a * np.cos(R) * np.sin(phi) + b * np.sin(R) * np.cos(phi)\n",
    "    return xx,yy\n",
    "\n",
    "def plot_ellipse(x,y,xx,yy):\n",
    "    plt.figure(0)\n",
    "    plt.plot(x, y, color='blue', label='points')\n",
    "    plt.plot(xx, yy, '+', color='red', label='fitted ellipse', linewidth=2.0)\n",
    "    plt.legend()\n",
    "    plt.axes().set_aspect('equal', 'datalim')\n",
    "    #plt.savefig('plot' + str(sample_i) + '.png')\n",
    "    #plt.clf()\n",
    "    \n",
    "def create_clone(poly):\n",
    "    '''\n",
    "    FITS ELLIPS INTO POLY\n",
    "    '''\n",
    "    x,y = gpoly(poly)\n",
    "    xm,ym = x.mean(), y.mean() \n",
    "    x-=xm\n",
    "    y-=ym\n",
    "        \n",
    "    params = fit_ellipse(x,y)\n",
    "    xx,yy = _generate_ell(*params)\n",
    "    xx+=xm\n",
    "    yy+=ym\n",
    "    cds = np.concatenate([xx[None,:],yy[None,:]], axis=0).T\n",
    "    new_poly = geometry.Polygon(cds)\n",
    "    return new_poly, params\n",
    "\n",
    "def iou(p1,p2):\n",
    "    if not p1 or not p2:\n",
    "        print(f'ERR POLY: {p1}, {p2}')\n",
    "    try:\n",
    "        i = p1.intersection(p2)\n",
    "        u = p1.union(p2)\n",
    "    except Exception as e:\n",
    "        print(e)\n",
    "        return 0\n",
    "        \n",
    "    return i.area/u.area"
   ]
  },
  {
   "cell_type": "code",
   "execution_count": null,
   "metadata": {},
   "outputs": [],
   "source": [
    "def read_polys(data):\n",
    "    polys = []\n",
    "    for d in data:\n",
    "        cd = d['geometry']['coordinates'][0]\n",
    "        try:\n",
    "            poly = geometry.Polygon(cd)\n",
    "        except Exception as e:\n",
    "            print(cd)\n",
    "            \n",
    "        polys.append(poly)\n",
    "    return polys\n",
    "\n",
    "def poly_stats(polys):\n",
    "    stats = {}\n",
    "    a = []\n",
    "    for p in polys:\n",
    "        a.append(p.area)\n",
    "    \n",
    "    stats['MEAN_AREA'] = np.array(a).mean().round()\n",
    "    \n",
    "    return stats\n",
    "\n",
    "def gpoly(poly):\n",
    "    x,y = poly.exterior.xy\n",
    "    x, y = np.array(x), np.array(y)\n",
    "    return x, y\n",
    "    \n",
    "def plot_polys_2d(polys, ax):\n",
    "    for p in polys:\n",
    "        x,y = gpoly(p)\n",
    "        x-=x.mean()\n",
    "        y-=y.mean()\n",
    "        ax.plot(x,y, alpha=.5)\n",
    "\n",
    "def IA(axs):\n",
    "    for i in range(len(axs)):\n",
    "        for j in range(len(axs[0])):\n",
    "            yield axs[i][j]"
   ]
  },
  {
   "cell_type": "code",
   "execution_count": null,
   "metadata": {},
   "outputs": [],
   "source": []
  },
  {
   "cell_type": "code",
   "execution_count": null,
   "metadata": {},
   "outputs": [],
   "source": []
  },
  {
   "cell_type": "code",
   "execution_count": null,
   "metadata": {},
   "outputs": [],
   "source": []
  },
  {
   "cell_type": "markdown",
   "metadata": {},
   "source": [
    "# BORDER MASKS"
   ]
  },
  {
   "cell_type": "code",
   "execution_count": null,
   "metadata": {},
   "outputs": [],
   "source": [
    "import os\n",
    "import sys\n",
    "os.chdir('..')\n",
    "sys.path.append('src')"
   ]
  },
  {
   "cell_type": "code",
   "execution_count": null,
   "metadata": {},
   "outputs": [],
   "source": [
    "import json\n",
    "import pandas as pd\n",
    "\n",
    "\n",
    "import utils"
   ]
  },
  {
   "cell_type": "code",
   "execution_count": null,
   "metadata": {},
   "outputs": [],
   "source": [
    "jss = Path('input/hm/train').glob('*.json')\n",
    "jss = list(jss)\n",
    "all_polys = {}\n",
    "for js in jss:\n",
    "    if '-' in js.name or '_' in js.name:\n",
    "        # anatomical structures\n",
    "        continue\n",
    "        \n",
    "    with open(js, 'r') as f:\n",
    "        polys = read_polys(json.load(f))\n",
    "        print(f'FILE: {js} : {len(polys)} polygons total')\n",
    "        all_polys[js] = polys"
   ]
  },
  {
   "cell_type": "code",
   "execution_count": null,
   "metadata": {},
   "outputs": [],
   "source": [
    "df_train = pd.read_csv('input/hm/HuBMAP-20-dataset_information.csv')\n",
    "t = df_train[['image_file','width_pixels','height_pixels']]\n",
    "sanity = {a.split('.')[0]:(c,b) for a,b,c in t.values}\n",
    "#sanity"
   ]
  },
  {
   "cell_type": "code",
   "execution_count": null,
   "metadata": {},
   "outputs": [],
   "source": []
  },
  {
   "cell_type": "code",
   "execution_count": null,
   "metadata": {},
   "outputs": [],
   "source": [
    "def get_poly_len(p): return len(p.exterior.xy[0])\n",
    "def get_borders(p, dil): return  p.buffer(dil), p.buffer(-dil)\n",
    "\n",
    "def fill_border(mask, outer_border, inner_border):\n",
    "    out_pts = np.array(outer_border.exterior.xy, dtype=np.int32).T\n",
    "    in_pts = np.array(inner_border.exterior.xy, dtype=np.int32).T\n",
    "    cv2.fillPoly(mask, np.expand_dims(out_pts, 0), 255)\n",
    "    cv2.fillPoly(mask, np.expand_dims(in_pts, 0), 0)"
   ]
  },
  {
   "cell_type": "code",
   "execution_count": null,
   "metadata": {},
   "outputs": [],
   "source": [
    "thres = 50\n",
    "dil = 20\n",
    "\n",
    "for k, v in all_polys.items():\n",
    "    mask_name = Path('input/masks/borders/') / k.with_suffix('.tiff').name\n",
    "    m_shape = sanity[mask_name.stem]\n",
    "    mask = np.zeros(m_shape, dtype=np.uint8)\n",
    "    print(mask_name, mask.shape)\n",
    "    cnt=0\n",
    "    for poly in v:\n",
    "        if get_poly_len(poly) < thres:\n",
    "            ob, ib = get_borders(poly, dil)\n",
    "            fill_border(mask, ob, ib)\n",
    "            cnt +=1\n",
    "    print(cnt)\n",
    "    utils.save_tiff_uint8_single_band(mask, mask_name)\n",
    "    \n",
    "    #break"
   ]
  },
  {
   "cell_type": "code",
   "execution_count": null,
   "metadata": {},
   "outputs": [],
   "source": [
    "utils.save_tiff_uint8_single_band(mask, mask_name)"
   ]
  },
  {
   "cell_type": "code",
   "execution_count": null,
   "metadata": {},
   "outputs": [],
   "source": [
    "merge_name = f'input/masks/borders/{mask_name.name}_merge.tiff'\n",
    "utils.tiff_merge_mask(f'input/hm/train/{mask_name.name}', mask_name, merge_name)"
   ]
  },
  {
   "cell_type": "code",
   "execution_count": null,
   "metadata": {},
   "outputs": [],
   "source": [
    "pps = list(all_polys.values())\n",
    "#ps = [p for pp in ps for p in pp]\n",
    "#len(ps)"
   ]
  },
  {
   "cell_type": "code",
   "execution_count": null,
   "metadata": {},
   "outputs": [],
   "source": [
    "lll = []\n",
    "for ps in pps:\n",
    "    ll = []\n",
    "    for p in ps:\n",
    "        ll.append(len(p.exterior.xy[0]))\n",
    "    lll.append(np.array(ll))\n"
   ]
  },
  {
   "cell_type": "code",
   "execution_count": null,
   "metadata": {},
   "outputs": [],
   "source": [
    "for l in lll:\n",
    "    print((l>75).sum() / len(l))"
   ]
  },
  {
   "cell_type": "code",
   "execution_count": null,
   "metadata": {},
   "outputs": [],
   "source": [
    "#plt.hist((ll), bins=100);"
   ]
  },
  {
   "cell_type": "code",
   "execution_count": null,
   "metadata": {},
   "outputs": [],
   "source": []
  },
  {
   "cell_type": "markdown",
   "metadata": {},
   "source": [
    "# Soft labels"
   ]
  },
  {
   "cell_type": "code",
   "execution_count": null,
   "metadata": {},
   "outputs": [],
   "source": [
    "import os\n",
    "import sys\n",
    "os.chdir('..')\n",
    "sys.path.append('src')"
   ]
  },
  {
   "cell_type": "code",
   "execution_count": null,
   "metadata": {},
   "outputs": [],
   "source": [
    "import json\n",
    "import pandas as pd\n",
    "import rasterio as rio\n",
    "\n",
    "import utils\n"
   ]
  },
  {
   "cell_type": "code",
   "execution_count": null,
   "metadata": {},
   "outputs": [],
   "source": [
    "jss = Path('input/hm/train').glob('*.json')\n",
    "jss = list(jss)\n",
    "all_polys = {}\n",
    "for js in jss:\n",
    "    if '-' in js.name or '_' in js.name:\n",
    "        # anatomical structures\n",
    "        continue\n",
    "        \n",
    "    with open(js, 'r') as f:\n",
    "        polys = read_polys(json.load(f))\n",
    "        print(f'FILE: {js} : {len(polys)} polygons total')\n",
    "        all_polys[js] = polys"
   ]
  },
  {
   "cell_type": "code",
   "execution_count": null,
   "metadata": {},
   "outputs": [],
   "source": []
  },
  {
   "cell_type": "code",
   "execution_count": null,
   "metadata": {},
   "outputs": [],
   "source": [
    "\n",
    "smooth_names"
   ]
  },
  {
   "cell_type": "code",
   "execution_count": null,
   "metadata": {},
   "outputs": [],
   "source": []
  },
  {
   "cell_type": "code",
   "execution_count": null,
   "metadata": {},
   "outputs": [],
   "source": [
    "df_train = pd.read_csv('input/hm/HuBMAP-20-dataset_information.csv')\n",
    "t = df_train[['image_file','width_pixels','height_pixels']]\n",
    "sanity = {a.split('.')[0]:(c,b) for a,b,c in t.values}\n",
    "sanity"
   ]
  },
  {
   "cell_type": "code",
   "execution_count": null,
   "metadata": {},
   "outputs": [],
   "source": [
    "def get_poly_len(p): return len(p.exterior.xy[0])\n",
    "def get_borders(p, d1, d2): return p.buffer(d1), p.buffer(-d2)\n",
    "\n",
    "def fill_border(mask, border):\n",
    "    pts = np.array(border.exterior.xy, dtype=np.int32).T\n",
    "    cv2.fillPoly(mask, np.expand_dims(pts, 0), 1)"
   ]
  },
  {
   "cell_type": "code",
   "execution_count": null,
   "metadata": {},
   "outputs": [],
   "source": [
    "d_dilate = 30\n",
    "d_erosion = 15\n",
    "smooth_names = [n.stem for n in list(Path(f'input/ffpe_splits/').rglob('*/masks/*.tiff'))]\n",
    "\n",
    "for k, v in all_polys.items():\n",
    "    if k.stem not in smooth_names: continue\n",
    "    k = k.with_suffix('.tiff')\n",
    "    mask_name = Path('input/masks/soft/joined') / k.name\n",
    "    m_shape = sanity[mask_name.stem]\n",
    "    \n",
    "    mask_soft = np.zeros(m_shape, dtype=np.uint8)\n",
    "    mask_hard = np.zeros(m_shape, dtype=np.uint8)\n",
    "    print(mask_name, m_shape)\n",
    "    \n",
    "    cnt=0\n",
    "    for poly in v:\n",
    "        db, eb = get_borders(poly, d_dilate, d_erosion)\n",
    "        fill_border(mask_hard, eb)\n",
    "        fill_border(mask_soft, db)\n",
    "        cnt +=1\n",
    "    \n",
    "    p = f'input/ffpe_splits/{k.stem[:2]}/predicts/cv/masks/{k.name}'\n",
    "    predicts = rio.open(str(p)).read()[0]\n",
    "    predicts = predicts.astype(np.uint16)\n",
    "    mask = (predicts * mask_soft + 255 * mask_hard)\n",
    "    mask = np.clip(mask, 0, 255).astype(np.uint8)\n",
    "    utils.save_arr_as_tiff(np.expand_dims(mask,0), str(mask_name))\n",
    "    #print(cnt)\n",
    "    #utils.save_tiff_uint8_single_band(mask, mask_name)\n",
    "    \n",
    "    #break"
   ]
  },
  {
   "cell_type": "code",
   "execution_count": null,
   "metadata": {},
   "outputs": [],
   "source": [
    "mask = (predicts * mask_soft + 255 * mask_hard)\n",
    "mask.dtype"
   ]
  },
  {
   "cell_type": "code",
   "execution_count": null,
   "metadata": {},
   "outputs": [],
   "source": [
    "mask = np.clip(mask, 0, 255).astype(np.uint8)"
   ]
  },
  {
   "cell_type": "code",
   "execution_count": null,
   "metadata": {},
   "outputs": [],
   "source": [
    "predicts.max(), mask_hard.max(), mask.max(), mask_soft.max()"
   ]
  },
  {
   "cell_type": "code",
   "execution_count": null,
   "metadata": {},
   "outputs": [],
   "source": [
    "utils.save_arr_as_tiff(np.expand_dims(mask,0), str(mask_name))"
   ]
  },
  {
   "cell_type": "code",
   "execution_count": null,
   "metadata": {},
   "outputs": [],
   "source": [
    "mask_name"
   ]
  },
  {
   "cell_type": "code",
   "execution_count": null,
   "metadata": {},
   "outputs": [],
   "source": [
    "k"
   ]
  },
  {
   "cell_type": "code",
   "execution_count": null,
   "metadata": {},
   "outputs": [],
   "source": [
    "merge_name = f'input/masks/soft/{k.name}'\n",
    "\n",
    "utils.tiff_merge_mask(k.with_suffix('.tiff'), mask_name, merge_name)"
   ]
  },
  {
   "cell_type": "code",
   "execution_count": null,
   "metadata": {},
   "outputs": [],
   "source": [
    "predicts.shape, predicts.dtype"
   ]
  },
  {
   "cell_type": "code",
   "execution_count": null,
   "metadata": {},
   "outputs": [],
   "source": [
    "plt.imshow(predicts[10000:11500,10000:11500].astype(np.uint8))"
   ]
  },
  {
   "cell_type": "code",
   "execution_count": null,
   "metadata": {},
   "outputs": [],
   "source": [
    "pa = f'input/ffpe_splits/{k.stem[:2]}/predicts/cv/masks/{k.with_suffix(\".tiff\").name}'\n",
    "predicts = rio.open(str(pa)).read()"
   ]
  },
  {
   "cell_type": "code",
   "execution_count": null,
   "metadata": {},
   "outputs": [],
   "source": [
    "predicts.shape, predicts.dtype, predicts.max()"
   ]
  },
  {
   "cell_type": "code",
   "execution_count": null,
   "metadata": {},
   "outputs": [],
   "source": []
  },
  {
   "cell_type": "code",
   "execution_count": null,
   "metadata": {},
   "outputs": [],
   "source": [
    "p = predicts[:,10500:11000,10500:11500]\n",
    "#p = np.expand_dims(p,0) / 2\n",
    "p = p.astype(np.uint8)"
   ]
  },
  {
   "cell_type": "code",
   "execution_count": null,
   "metadata": {},
   "outputs": [],
   "source": [
    "#utils.save_tiff_uint8_single_band(p, 'input/masks/soft/t.tiff', bits=8)"
   ]
  },
  {
   "cell_type": "code",
   "execution_count": null,
   "metadata": {},
   "outputs": [],
   "source": [
    "n,h,w = p.shape\n",
    "n,h,w"
   ]
  },
  {
   "cell_type": "code",
   "execution_count": null,
   "metadata": {},
   "outputs": [],
   "source": [
    "plt.imshow(p[0])"
   ]
  },
  {
   "cell_type": "code",
   "execution_count": null,
   "metadata": {},
   "outputs": [],
   "source": []
  },
  {
   "cell_type": "code",
   "execution_count": null,
   "metadata": {},
   "outputs": [],
   "source": []
  },
  {
   "cell_type": "code",
   "execution_count": null,
   "metadata": {},
   "outputs": [],
   "source": []
  },
  {
   "cell_type": "code",
   "execution_count": null,
   "metadata": {},
   "outputs": [],
   "source": [
    "dst = rio.open('input/masks/soft/t.tiff', 'w', driver='GTiff', height=h,width=w,count=n, dtype=np.uint8)"
   ]
  },
  {
   "cell_type": "code",
   "execution_count": null,
   "metadata": {},
   "outputs": [],
   "source": [
    "dst.write(p)\n",
    "dst.close()"
   ]
  },
  {
   "cell_type": "code",
   "execution_count": null,
   "metadata": {},
   "outputs": [],
   "source": []
  },
  {
   "cell_type": "code",
   "execution_count": null,
   "metadata": {},
   "outputs": [],
   "source": []
  },
  {
   "cell_type": "code",
   "execution_count": null,
   "metadata": {},
   "outputs": [],
   "source": []
  },
  {
   "cell_type": "code",
   "execution_count": null,
   "metadata": {},
   "outputs": [],
   "source": []
  },
  {
   "cell_type": "code",
   "execution_count": null,
   "metadata": {},
   "outputs": [],
   "source": []
  },
  {
   "cell_type": "code",
   "execution_count": null,
   "metadata": {},
   "outputs": [],
   "source": []
  },
  {
   "cell_type": "code",
   "execution_count": null,
   "metadata": {},
   "outputs": [],
   "source": [
    "def get_region(name, center, d):\n",
    "    k = name.stem[:2]\n",
    "    name = f'input/ffpe_splits/{k}/predicts/cv/masks/{name}'\n",
    "    print(name)\n",
    "    ds = rio.open(str(name))\n",
    "    x,y = center\n",
    "    wind = ((x-d,x+d),(y-d,y+d))\n",
    "    return ds.read(window=wind)"
   ]
  },
  {
   "cell_type": "code",
   "execution_count": null,
   "metadata": {},
   "outputs": [],
   "source": []
  },
  {
   "cell_type": "code",
   "execution_count": null,
   "metadata": {},
   "outputs": [],
   "source": []
  },
  {
   "cell_type": "code",
   "execution_count": null,
   "metadata": {},
   "outputs": [],
   "source": []
  },
  {
   "cell_type": "markdown",
   "metadata": {},
   "source": [
    "# ACTION!"
   ]
  },
  {
   "cell_type": "code",
   "execution_count": null,
   "metadata": {},
   "outputs": [],
   "source": [
    "import json"
   ]
  },
  {
   "cell_type": "code",
   "execution_count": null,
   "metadata": {},
   "outputs": [],
   "source": [
    "jss = Path('../input/hm/train').glob('*.json')\n",
    "jss = list(jss)\n",
    "all_polys = {}\n",
    "for js in jss:\n",
    "    if '-' in js.name or '_' in js.name:\n",
    "        # anatomical structures\n",
    "        continue\n",
    "        \n",
    "    with open(js, 'r') as f:\n",
    "        polys = read_polys(json.load(f))\n",
    "        print(f'FILE: {js} : {len(polys)} polygons total')\n",
    "        all_polys[js] = polys"
   ]
  },
  {
   "cell_type": "code",
   "execution_count": null,
   "metadata": {},
   "outputs": [],
   "source": [
    "n,m = 4,4\n",
    "f, axs = plt.subplots(n,m, sharex=True, sharey=True, figsize=(16,16))\n",
    "ia = IA(axs)\n",
    "\n",
    "for f,ps in all_polys.items():\n",
    "    plot_polys_2d(ps, next(ia))"
   ]
  },
  {
   "cell_type": "raw",
   "metadata": {},
   "source": []
  },
  {
   "cell_type": "code",
   "execution_count": null,
   "metadata": {},
   "outputs": [],
   "source": [
    "import rasterio as rio\n",
    "import scipy"
   ]
  },
  {
   "cell_type": "code",
   "execution_count": null,
   "metadata": {},
   "outputs": [],
   "source": [
    "def get_poly_raster(img_name, p):\n",
    "    x1,y1,x2,y2 = p.bounds\n",
    "    ds = rio.open(str(img_name))\n",
    "    rast = ds.read(window=((y1,y2),(x1,x2)))\n",
    "    return rast.transpose(1,2,0)\n",
    "\n",
    "def get_poly_mask(p):\n",
    "    p = (p - p.centroid)\n",
    "    x,y = gpoly(p)\n",
    "    x-=x.mean()\n",
    "    y-=y.mean()\n",
    "    x+=abs(x.min())\n",
    "    y+=abs(y.min())\n",
    "    p = geometry.Polygon(np.array([x,y]).T)\n",
    "    x1,y1,x2,y2 = p.bounds\n",
    "    buf = np.zeros((int(y2-y1),int(x2-x1), 3)).astype(np.uint8)\n",
    "    \n",
    "    pts = np.array(p.exterior.xy).T.astype(np.int32)\n",
    "    cv2.fillPoly(buf, np.expand_dims(pts,0), (255,255,255));\n",
    "    \n",
    "    return buf\n",
    "\n",
    "def gen_stats(img_name, polys):\n",
    "    for p in tqdm(polys):\n",
    "        mask = get_poly_mask(p)\n",
    "        rast = get_poly_raster(img_name, p)\n",
    "        gpixels = rast[mask>0]\n",
    "        area, color = p.area**.5, gpixels.mean()\n",
    "        yield area, color\n",
    "\n",
    "def get_poly_scores(img_name, polys):\n",
    "    all_stats = np.array(list(gen_stats(img_name, polys)))\n",
    "    areas, colors = all_stats[:,0], all_stats[:,1]\n",
    "    \n",
    "    scores = []\n",
    "    for a, c in all_stats:\n",
    "        p1 = abs(scipy.stats.percentileofscore(areas, a) / 100 - .5)\n",
    "        p2 = abs(scipy.stats.percentileofscore(colors, c) / 100 - .5)\n",
    "        p1 *= 2\n",
    "        p2 *= 2\n",
    "        score = p1 * p2\n",
    "        scores.append(score)\n",
    "    return np.array(scores)\n",
    "\n",
    "def read_polys(data):\n",
    "    polys = []\n",
    "    for d in data:\n",
    "        cd = d['geometry']['coordinates'][0]\n",
    "        try:\n",
    "            poly = geometry.Polygon(cd)\n",
    "        except Exception as e:\n",
    "            print(cd)       \n",
    "        polys.append(poly)\n",
    "    return polys\n",
    "\n",
    "def get_polys(img_name):\n",
    "    js = img_name.with_suffix('.json')   \n",
    "    with open(js, 'r') as f:\n",
    "        polys = read_polys(json.load(f))\n",
    "    return polys\n",
    "\n",
    "class WeightedDataset:\n",
    "    def __init__(self, dataset, scores, replacement=True):\n",
    "        assert len(dataset) != len(scores), (len(dataset), len(scores))\n",
    "        scores = ( 1+ scores) ** 2\n",
    "        self.scores = scores / scores.sum()\n",
    "        self.dataset = dataset\n",
    "        self.replacement = replacement\n",
    "        self.idxs = list(range(len(self.dataset)))\n",
    "        #self.sampler = WeightedRandomSampler(self.scores, len(self.scores), replacement=replacement)\n",
    "    \n",
    "    def __getitem__(self, _):\n",
    "        num_samples = 1\n",
    "        idx = np.random.choice(self.idxs, num_samples, self.replacement, self.scores)\n",
    "        #idxs = list(self.sampler)\n",
    "        return self.dataset(idx)\n",
    "        \n",
    "    def __len__(self): return len(self.dataset)"
   ]
  },
  {
   "cell_type": "code",
   "execution_count": null,
   "metadata": {},
   "outputs": [],
   "source": []
  },
  {
   "cell_type": "code",
   "execution_count": null,
   "metadata": {},
   "outputs": [],
   "source": []
  },
  {
   "cell_type": "code",
   "execution_count": null,
   "metadata": {},
   "outputs": [],
   "source": []
  },
  {
   "cell_type": "code",
   "execution_count": null,
   "metadata": {},
   "outputs": [],
   "source": [
    "imgs = list(Path('../input/hm/train/').glob('*.tiff'))\n",
    "img_name = imgs[2]\n",
    "polys = get_polys(img_name)\n",
    "scores = get_poly_scores(img_name, polys)"
   ]
  },
  {
   "cell_type": "code",
   "execution_count": null,
   "metadata": {},
   "outputs": [],
   "source": []
  },
  {
   "cell_type": "code",
   "execution_count": null,
   "metadata": {},
   "outputs": [],
   "source": []
  },
  {
   "cell_type": "code",
   "execution_count": null,
   "metadata": {},
   "outputs": [],
   "source": []
  },
  {
   "cell_type": "code",
   "execution_count": null,
   "metadata": {},
   "outputs": [],
   "source": []
  },
  {
   "cell_type": "code",
   "execution_count": null,
   "metadata": {},
   "outputs": [],
   "source": []
  },
  {
   "cell_type": "code",
   "execution_count": null,
   "metadata": {},
   "outputs": [],
   "source": []
  },
  {
   "cell_type": "code",
   "execution_count": null,
   "metadata": {},
   "outputs": [],
   "source": [
    "plt.hist(scores, bins=20);"
   ]
  },
  {
   "cell_type": "code",
   "execution_count": null,
   "metadata": {},
   "outputs": [],
   "source": []
  },
  {
   "cell_type": "code",
   "execution_count": null,
   "metadata": {},
   "outputs": [],
   "source": []
  },
  {
   "cell_type": "code",
   "execution_count": null,
   "metadata": {},
   "outputs": [],
   "source": [
    "plt.hist(res[:,0], bins=20);"
   ]
  },
  {
   "cell_type": "code",
   "execution_count": null,
   "metadata": {},
   "outputs": [],
   "source": [
    "plt.hist(res[:,1], bins=20);"
   ]
  },
  {
   "cell_type": "code",
   "execution_count": null,
   "metadata": {},
   "outputs": [],
   "source": []
  },
  {
   "cell_type": "code",
   "execution_count": null,
   "metadata": {},
   "outputs": [],
   "source": []
  },
  {
   "cell_type": "code",
   "execution_count": null,
   "metadata": {},
   "outputs": [],
   "source": []
  },
  {
   "cell_type": "code",
   "execution_count": null,
   "metadata": {},
   "outputs": [],
   "source": []
  },
  {
   "cell_type": "code",
   "execution_count": null,
   "metadata": {},
   "outputs": [],
   "source": [
    "from ipywidgets import interact, interactive, fixed, interact_manual\n",
    "import ipywidgets as widgets\n",
    "\n",
    "k = ks[0]\n",
    "polys = all_polys[k]\n",
    "scores = p1s * p2s\n",
    "\n",
    "@interact(idx=(0, len(polys)-1),continuous_update=False)\n",
    "def view(idx):\n",
    "    p = polys[idx]\n",
    "    score = scores[idx]\n",
    "    mask = get_poly_mask(p)\n",
    "    rast = get_poly_raster(k.with_suffix('.tiff'), p)\n",
    "    gpixels = rast[mask>0]\n",
    "    plt.imshow(rast)\n",
    "    plt.imshow(mask, alpha=.2)\n",
    "    \n",
    "    print(gpixels.mean(), gpixels.std(), score)"
   ]
  },
  {
   "cell_type": "code",
   "execution_count": null,
   "metadata": {},
   "outputs": [],
   "source": []
  },
  {
   "cell_type": "code",
   "execution_count": null,
   "metadata": {},
   "outputs": [],
   "source": []
  },
  {
   "cell_type": "code",
   "execution_count": null,
   "metadata": {},
   "outputs": [],
   "source": []
  },
  {
   "cell_type": "code",
   "execution_count": null,
   "metadata": {},
   "outputs": [],
   "source": [
    "np.array(mask.shape).prod()//3"
   ]
  },
  {
   "cell_type": "code",
   "execution_count": null,
   "metadata": {},
   "outputs": [],
   "source": []
  },
  {
   "cell_type": "code",
   "execution_count": null,
   "metadata": {},
   "outputs": [],
   "source": []
  },
  {
   "cell_type": "code",
   "execution_count": null,
   "metadata": {},
   "outputs": [],
   "source": []
  },
  {
   "cell_type": "markdown",
   "metadata": {},
   "source": [
    "### Advanced stats"
   ]
  },
  {
   "cell_type": "code",
   "execution_count": null,
   "metadata": {},
   "outputs": [],
   "source": [
    "l = []\n",
    "for f,ps in all_polys.items():\n",
    "    #print(f, poly_stats(ps))\n",
    "    a = poly_stats(ps)['MEAN_AREA']\n",
    "    r = a**.5\n",
    "    print(f,r)\n",
    "    l.append((f,r))"
   ]
  },
  {
   "cell_type": "code",
   "execution_count": null,
   "metadata": {},
   "outputs": [],
   "source": [
    "sl = sorted(l, key=lambda x: x[1])"
   ]
  },
  {
   "cell_type": "code",
   "execution_count": null,
   "metadata": {},
   "outputs": [],
   "source": [
    "scales = {'b9a3865fc': .65,\n",
    "'e79de561c': .5,\n",
    "'8242609fa': .65,\n",
    "'cb2d976f4': .65,\n",
    "'b2dc8411c': .65,\n",
    "'afa5e8098': .5,\n",
    "'0486052bb': .65,\n",
    "'aaa6a05cc': .65,\n",
    "'2f6ecfcdf': .65}\n",
    "\n",
    "domains = {'4ef6695ce': 1,\n",
    " 'b9a3865fc': 0,\n",
    " 'e79de561c': 1,\n",
    " '8242609fa': 0,\n",
    " 'cb2d976f4': 0,\n",
    " '26dc41664': 1,\n",
    " 'b2dc8411c': 0,\n",
    " 'afa5e8098': 1,\n",
    " '0486052bb': 0,\n",
    " '1e2425f28': 1,\n",
    " 'c68fe75ea': 1,\n",
    " 'aaa6a05cc': 0,\n",
    " '54f2eec69': 1,\n",
    " '095bf7a1f': 1,\n",
    " '2f6ecfcdf': 0}\n",
    "\n"
   ]
  },
  {
   "cell_type": "code",
   "execution_count": null,
   "metadata": {},
   "outputs": [],
   "source": [
    "dd = .65/.5\n",
    "a,b = [],[]\n",
    "for s in sl:\n",
    "    name = s[0].stem\n",
    "    sc = scales.get(name, 0)\n",
    "    d = dd if not domains[name] else 1\n",
    "    if domains[name]:\n",
    "        a.append(int(s[1]))\n",
    "    else:\n",
    "        b.append(int(s[1]))\n",
    "        \n",
    "    print(s[0].name,  domains[name], int(s[1]), int(s[1] * d), sc)"
   ]
  },
  {
   "cell_type": "code",
   "execution_count": null,
   "metadata": {},
   "outputs": [],
   "source": [
    "np.array(a).mean(), np.array(b).mean()"
   ]
  },
  {
   "cell_type": "code",
   "execution_count": null,
   "metadata": {},
   "outputs": [],
   "source": []
  },
  {
   "cell_type": "markdown",
   "metadata": {},
   "source": [
    "# CLONE WARS"
   ]
  },
  {
   "cell_type": "code",
   "execution_count": null,
   "metadata": {},
   "outputs": [],
   "source": [
    "first_img_polys = list(all_polys.values())[0]\n",
    "poly = first_img_polys[1]\n",
    "x,y = gpoly(poly)\n",
    "params = fit_ellipse(x,y)\n",
    "xx,yy = _generate_ell(*params)\n",
    "\n",
    "plot_ellipse(x,y,xx,yy)"
   ]
  },
  {
   "cell_type": "code",
   "execution_count": null,
   "metadata": {},
   "outputs": [],
   "source": [
    "all_ious = {}\n",
    "for f,ps in all_polys.items():\n",
    "    ious = []\n",
    "    for p in ps:\n",
    "        pp, _ = create_clone(p)\n",
    "        ious.append(iou(p,pp))\n",
    "        #break\n",
    "    ious = np.array(ious)\n",
    "    all_ious[f] = ious\n",
    "    print(f'FILE {f} IOU {ious.mean()}')"
   ]
  },
  {
   "cell_type": "code",
   "execution_count": null,
   "metadata": {},
   "outputs": [],
   "source": []
  },
  {
   "cell_type": "code",
   "execution_count": null,
   "metadata": {},
   "outputs": [],
   "source": [
    "n,m = 2,4\n",
    "f, axs = plt.subplots(n,m, sharex=True, sharey=True, figsize=(16,8))\n",
    "ia = IA(axs)\n",
    "\n",
    "for f,ious in all_ious.items():\n",
    "    ax = next(ia)\n",
    "    l,h = np.percentile(ious, 1), np.percentile(ious, 99)\n",
    "    ious = ious[(ious > l) & (ious < h)]\n",
    "    ax.hist(ious, bins=50)\n",
    "    ax.set_label(f)"
   ]
  },
  {
   "cell_type": "code",
   "execution_count": null,
   "metadata": {},
   "outputs": [],
   "source": []
  },
  {
   "cell_type": "code",
   "execution_count": null,
   "metadata": {},
   "outputs": [],
   "source": []
  },
  {
   "cell_type": "code",
   "execution_count": null,
   "metadata": {},
   "outputs": [],
   "source": [
    "ell = {}\n",
    "for f,ps in all_polys.items():\n",
    "    elons = []\n",
    "    for p in ps:\n",
    "        _, params = create_clone(p)\n",
    "        elons.append(params[0]/params[1])\n",
    "        \n",
    "    elons = np.array(elons)\n",
    "    ell[f] = elons\n",
    "    print(f'FILE {f} ELONGATION {elons.mean()}')"
   ]
  },
  {
   "cell_type": "code",
   "execution_count": null,
   "metadata": {},
   "outputs": [],
   "source": []
  },
  {
   "cell_type": "markdown",
   "metadata": {},
   "source": [
    "# DUMP"
   ]
  },
  {
   "cell_type": "code",
   "execution_count": null,
   "metadata": {},
   "outputs": [],
   "source": [
    "def dump_ann_d(path, d):\n",
    "    for fn, ann in d.items():\n",
    "        with open(str(path/(fn.with_suffix('').name + '_ell.json')), 'w') as f:\n",
    "            json.dump(ann,f)\n",
    "        "
   ]
  },
  {
   "cell_type": "code",
   "execution_count": null,
   "metadata": {},
   "outputs": [],
   "source": [
    "\n",
    "\n",
    "\n",
    "new_anns = {}\n",
    "for f,ps in all_polys.items():\n",
    "    ann = []\n",
    "    for p in ps:\n",
    "        pp, _ = create_clone(p)\n",
    "        try:\n",
    "            x,y = gpoly(pp)\n",
    "        except Exception as e:\n",
    "            print(e)\n",
    "            continue\n",
    "        \n",
    "        cds = np.concatenate([x[None,:],y[None,:]], axis=0).T.tolist()\n",
    "        template = {'type': 'Feature',\n",
    " 'id': 'PathDetectionObject',\n",
    " 'geometry': {'type': 'Polygon',\n",
    "  'coordinates': []},\n",
    " 'properties': {'classification': {'name': 'glomerulus', 'colorRGB': -3140401},\n",
    "  'isLocked': False,\n",
    "  'measurements': [{'name': 'detection_score', 'value': 0.123}]}}\n",
    "        t = template.copy()\n",
    "        t['geometry']['coordinates'] = [cds]\n",
    "        ann.append(t)\n",
    "        #break\n",
    "    new_anns[f] = ann"
   ]
  },
  {
   "cell_type": "code",
   "execution_count": null,
   "metadata": {},
   "outputs": [],
   "source": [
    "new_anns.keys()"
   ]
  },
  {
   "cell_type": "code",
   "execution_count": null,
   "metadata": {},
   "outputs": [],
   "source": [
    "pa = Path('/home/sokolov/work/webinf/data//kidney/train/')\n",
    "dump_ann_d(pa, new_anns)"
   ]
  },
  {
   "cell_type": "code",
   "execution_count": null,
   "metadata": {},
   "outputs": [],
   "source": []
  },
  {
   "cell_type": "code",
   "execution_count": null,
   "metadata": {},
   "outputs": [],
   "source": [
    "jss = Path('/home/sokolov/work/webinf/data//kidney/train/').glob('*_ell.json')\n",
    "jss = list(jss)\n",
    "tt = {}\n",
    "for js in jss:\n",
    "    if '-' in js.name:\n",
    "        # anatomical structures\n",
    "        continue\n",
    "        \n",
    "    with open(js, 'r') as f:\n",
    "        polys = read_polys(json.load(f))\n",
    "        print(f'FILE: {js} : {len(polys)} polygons total')\n",
    "        tt[js] = polys"
   ]
  },
  {
   "cell_type": "code",
   "execution_count": null,
   "metadata": {},
   "outputs": [],
   "source": [
    "list(tt.values())[0][3].exterior.xy"
   ]
  },
  {
   "cell_type": "code",
   "execution_count": null,
   "metadata": {},
   "outputs": [],
   "source": []
  },
  {
   "cell_type": "code",
   "execution_count": null,
   "metadata": {},
   "outputs": [],
   "source": []
  },
  {
   "cell_type": "markdown",
   "metadata": {},
   "source": [
    "# END"
   ]
  },
  {
   "cell_type": "code",
   "execution_count": null,
   "metadata": {},
   "outputs": [],
   "source": []
  },
  {
   "cell_type": "code",
   "execution_count": null,
   "metadata": {},
   "outputs": [],
   "source": []
  },
  {
   "cell_type": "code",
   "execution_count": null,
   "metadata": {},
   "outputs": [],
   "source": [
    "def fivePointsToConic(points, f=1.0):\n",
    "    \"\"\"Solve for the coefficients of a conic given five points in Numpy array\n",
    "\n",
    "    `points` should have at least five rows.\n",
    "\n",
    "    `f` is the constant that you can specify. With the returned solution,\n",
    "    `(a, b, c, d, e, f)`, the full conic is specified as:\n",
    "\n",
    "    $a x^2 + b x y + c y^2 + d x + e y = -f$\n",
    "\n",
    "    If `points` has exactly five rows, the equation will be exact. If `points`\n",
    "    has *more* than five rows, the solution will be a least-squares one that\n",
    "    fits the data the best.\n",
    "    \"\"\"\n",
    "    from numpy.linalg import lstsq\n",
    "\n",
    "    x = points[:, 0]\n",
    "    y = points[:, 1]\n",
    "    if max(x.shape) < 5:\n",
    "        raise ValueError('Need >= 5 points to solve for conic section')\n",
    "\n",
    "    A = np.vstack([x**2, x * y, y**2, x, y]).T\n",
    "    fullSolution = lstsq(A, f * np.ones(x.size),rcond=True)\n",
    "    (a, b, c, d, e) = fullSolution[0]\n",
    "    return (a, b, c, d, e)\n"
   ]
  },
  {
   "cell_type": "code",
   "execution_count": null,
   "metadata": {},
   "outputs": [],
   "source": [
    "points = np.array([[-2, 4.], [-1., 1], [0., 0], [1., 1], [2., 4]])\n",
    "f=-1\n",
    "(a, b, c, d, e) = fivePointsToConic(points,f)"
   ]
  },
  {
   "cell_type": "code",
   "execution_count": null,
   "metadata": {},
   "outputs": [],
   "source": [
    "x = np.linspace(-5, 5, 100)\n",
    "y = np.linspace(0, 5, 100)\n",
    "x, y = np.meshgrid(x, y)"
   ]
  },
  {
   "cell_type": "code",
   "execution_count": null,
   "metadata": {},
   "outputs": [],
   "source": [
    "def axes():\n",
    "    plt.axhline(0, alpha=.1)\n",
    "    plt.axvline(0, alpha=.1)"
   ]
  },
  {
   "cell_type": "code",
   "execution_count": null,
   "metadata": {},
   "outputs": [],
   "source": [
    "c=b=e=0"
   ]
  },
  {
   "cell_type": "code",
   "execution_count": null,
   "metadata": {},
   "outputs": [],
   "source": [
    "a,c,f = 3,3, -9"
   ]
  },
  {
   "cell_type": "code",
   "execution_count": null,
   "metadata": {},
   "outputs": [],
   "source": [
    "r = 1\n",
    "sx = np.linspace(-1, 1, 30)\n",
    "sy = (r**2-(sx**2))**.5\n",
    "sx = sx[None,].T\n",
    "sy = sy[None,].T\n",
    "\n",
    "#spoints = np.array([(b,a) for a,b in zip(sx,sy)])\n",
    "#spoints"
   ]
  },
  {
   "cell_type": "code",
   "execution_count": null,
   "metadata": {},
   "outputs": [],
   "source": [
    "A = np.hstack([sx**2, sx * sy, sy**2, sx, sy])\n",
    "b = np.ones_like(sx)\n",
    "r = np.linalg.lstsq(A, b, rcond=True)[0].squeeze()\n",
    "r"
   ]
  },
  {
   "cell_type": "code",
   "execution_count": null,
   "metadata": {},
   "outputs": [],
   "source": []
  },
  {
   "cell_type": "code",
   "execution_count": null,
   "metadata": {},
   "outputs": [],
   "source": []
  },
  {
   "cell_type": "code",
   "execution_count": null,
   "metadata": {},
   "outputs": [],
   "source": [
    "f=9\n",
    "(a, b, c, d, e) = fivePointsToConic(spoints,f)\n",
    "(a, b, c, d, e)"
   ]
  },
  {
   "cell_type": "code",
   "execution_count": null,
   "metadata": {},
   "outputs": [],
   "source": [
    "axes()\n",
    "plt.contour(x, y, (a*x**2 + b*x*y + c*y**2 +d*x +e*y + f), [0], colors='k')\n",
    "plt.plot(spoints[:,0], spoints[:,1], marker='o')\n",
    "plt.show()"
   ]
  },
  {
   "cell_type": "code",
   "execution_count": null,
   "metadata": {},
   "outputs": [],
   "source": []
  },
  {
   "cell_type": "code",
   "execution_count": null,
   "metadata": {},
   "outputs": [],
   "source": [
    "plt.plot(points[:,0], points[:,1], marker='o')"
   ]
  },
  {
   "cell_type": "code",
   "execution_count": null,
   "metadata": {},
   "outputs": [],
   "source": []
  },
  {
   "cell_type": "code",
   "execution_count": null,
   "metadata": {},
   "outputs": [],
   "source": []
  },
  {
   "cell_type": "code",
   "execution_count": null,
   "metadata": {},
   "outputs": [],
   "source": []
  },
  {
   "cell_type": "code",
   "execution_count": null,
   "metadata": {},
   "outputs": [],
   "source": []
  },
  {
   "cell_type": "code",
   "execution_count": null,
   "metadata": {},
   "outputs": [],
   "source": []
  },
  {
   "cell_type": "code",
   "execution_count": null,
   "metadata": {},
   "outputs": [],
   "source": []
  }
 ],
 "metadata": {
  "kernelspec": {
   "display_name": "Python 3",
   "language": "python",
   "name": "python3"
  },
  "language_info": {
   "codemirror_mode": {
    "name": "ipython",
    "version": 3
   },
   "file_extension": ".py",
   "mimetype": "text/x-python",
   "name": "python",
   "nbconvert_exporter": "python",
   "pygments_lexer": "ipython3",
   "version": "3.6.9"
  }
 },
 "nbformat": 4,
 "nbformat_minor": 4
}
