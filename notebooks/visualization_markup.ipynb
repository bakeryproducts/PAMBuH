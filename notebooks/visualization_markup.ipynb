{
 "cells": [
  {
   "cell_type": "code",
   "execution_count": null,
   "metadata": {},
   "outputs": [],
   "source": [
    "import os\n",
    "os.chdir('..')\n",
    "print(os.getcwd())"
   ]
  },
  {
   "cell_type": "code",
   "execution_count": null,
   "metadata": {},
   "outputs": [],
   "source": [
    "import pandas as pd\n",
    "import json\n",
    "import copy\n",
    "import numpy as np\n",
    "import seaborn as sns\n",
    "import matplotlib.pyplot as plt\n",
    "from shapely.geometry import Polygon"
   ]
  },
  {
   "cell_type": "markdown",
   "metadata": {},
   "source": [
    "## Load"
   ]
  },
  {
   "cell_type": "code",
   "execution_count": null,
   "metadata": {},
   "outputs": [],
   "source": [
    "train = pd.read_csv('data/train.csv')\n",
    "hubmap = pd.read_csv('data/HuBMAP-20-dataset_information.csv')"
   ]
  },
  {
   "cell_type": "code",
   "execution_count": null,
   "metadata": {},
   "outputs": [],
   "source": [
    "print(train.shape)\n",
    "train.head(n=3)"
   ]
  },
  {
   "cell_type": "code",
   "execution_count": null,
   "metadata": {},
   "outputs": [],
   "source": [
    "print(hubmap.shape)\n",
    "hubmap.head(n=3)"
   ]
  },
  {
   "cell_type": "markdown",
   "metadata": {},
   "source": [
    "## Visualization of train data"
   ]
  },
  {
   "cell_type": "code",
   "execution_count": null,
   "metadata": {},
   "outputs": [],
   "source": [
    "hubmap['id'] = hubmap['image_file'].str.replace('.tiff', '')\n",
    "train_hubmap = hubmap[hubmap['id'].isin(train['id'].to_list())].reset_index(drop=True)\n",
    "train_hubmap.head(n=8)"
   ]
  },
  {
   "cell_type": "code",
   "execution_count": null,
   "metadata": {},
   "outputs": [],
   "source": [
    "train_imgs = train_hubmap['id'].to_list()\n",
    "\n",
    "markups = []\n",
    "for img in train_imgs:\n",
    "    json_path = 'data/markup/'\n",
    "    with open(f'{json_path}{img}.json') as json_file:\n",
    "        markup = json.load(json_file)\n",
    "    markups.append(markup)\n",
    "    \n",
    "anot_structures = []\n",
    "for img in train_imgs:\n",
    "    json_path = 'data/markup/'\n",
    "    with open(f'{json_path}{img}-anatomical-structure.json') as json_file:\n",
    "        anot_structure = json.load(json_file)\n",
    "    anot_structures.append(anot_structure)\n",
    "    \n",
    "train_widths = train_hubmap['width_pixels'].to_list()\n",
    "train_heights = train_hubmap['height_pixels'].to_list()"
   ]
  },
  {
   "cell_type": "markdown",
   "metadata": {},
   "source": [
    "### 1) Glomerulus_segmentation_file"
   ]
  },
  {
   "cell_type": "markdown",
   "metadata": {},
   "source": [
    "#### Uniqueness"
   ]
  },
  {
   "cell_type": "code",
   "execution_count": null,
   "metadata": {},
   "outputs": [],
   "source": [
    "types = [glom['type'] for markup in markups for glom in markup]\n",
    "print(f'Unique features: {list(np.unique(types))}')\n",
    "\n",
    "ids = [glom['id']  for markup in markups for glom in markup]\n",
    "print(f'Unique ids: {list(np.unique(ids))}')   \n",
    "\n",
    "gem_types = [glom['geometry']['type']  for markup in markups for glom in markup]\n",
    "print(f\"Unique geometry types: {list(np.unique(gem_types))}\")\n",
    "\n",
    "prop_names = [glom['properties']['classification']['name']  for markup in markups for glom in markup]\n",
    "print(f\"Unique property names: {list(np.unique(prop_names))}\")\n",
    "\n",
    "prop_islocked = [glom['properties']['isLocked']  for markup in markups for glom in markup]\n",
    "print(f\"Unique isLocked values: {list(np.unique(prop_islocked))}\")\n",
    "\n",
    "rgb = [glom['properties']['classification']['colorRGB']  for markup in markups for glom in markup]\n",
    "print(f\"Unique RGB colours: {list(np.unique(rgb))}\")"
   ]
  },
  {
   "cell_type": "code",
   "execution_count": null,
   "metadata": {},
   "outputs": [],
   "source": [
    "unique, counts = np.unique(ids, return_counts=True)\n",
    "print('Ids distribution:  {}'.format({val: count for val, count in zip(unique, counts)}))\n",
    "\n",
    "unique, counts = np.unique(prop_islocked, return_counts=True)\n",
    "print('Islocked distribution:  {}'.format({val: count for val, count in zip(unique, counts)}))"
   ]
  },
  {
   "cell_type": "code",
   "execution_count": null,
   "metadata": {},
   "outputs": [],
   "source": [
    "img_anot = np.unique([img for markup, img in zip(markups, train_imgs) for glom in markup if glom['id'] == 'PathAnnotationObject'])\n",
    "print(f\"Imgs with PathAnnotationObject id: {list(img_anot)}\")\n",
    "\n",
    "img_det = np.unique([img for markup, img in zip(markups, train_imgs) for glom in markup if glom['id'] == 'PathDetectionObject'])\n",
    "print(f\"Imgs with PathDetectionObject id: {list(img_det)}\")"
   ]
  },
  {
   "cell_type": "markdown",
   "metadata": {},
   "source": [
    "#### 2D histogram"
   ]
  },
  {
   "cell_type": "code",
   "execution_count": null,
   "metadata": {},
   "outputs": [],
   "source": [
    "def plot_hist(x: list, y: list=None, subtitles: list=None, bins: int=25, title: str=\"\" ,hist_type='2D',\n",
    "             x_label: str=None, y_label: str=None):\n",
    "    \"\"\"Plot 1D or 2d hist with 4 cols.\n",
    "    \"\"\"\n",
    "    \n",
    "    if subtitles is None:\n",
    "        subtitles = [''] * len(x)\n",
    "    length = len(x)\n",
    "    num_rows = length // 4\n",
    "    plt.rcParams['figure.figsize'] = [20, 8]\n",
    "    fig, ax = plt.subplots(num_rows, 4)\n",
    "    if hist_type == '2D':\n",
    "        [ax[i//4, i%4].hist2d(x[i], y[i], bins=bins) for i in range(length)]\n",
    "        [ax[i//4, i%4].set_xlim([0.0, 1.0]) for i in range(length)]\n",
    "        [ax[i//4, i%4].set_ylim([0.0, 1.0]) for i in range(length)]\n",
    "    else:\n",
    "        [ax[i//4, i%4].hist(x[i], bins=bins) for i in range(length)]\n",
    "    [ax[i//4, i%4].set_title(subtitles[i], fontsize=16) for i in range(length)]\n",
    "    fig.text(0.5, 0.04, x_label, ha='center' ,fontsize=24)\n",
    "    fig.text(0.08, 0.5, y_label, va='center', rotation='vertical', fontsize=24)\n",
    "    fig.suptitle(title, fontsize=24)\n",
    "    \n",
    "def flatten_list(list_of_list: list):\n",
    "    \"\"\"Flatten list of list to list.\n",
    "    \"\"\"\n",
    "    return [subsublist for sublist in list_of_list for subsublist in sublist]\n",
    "    "
   ]
  },
  {
   "cell_type": "markdown",
   "metadata": {},
   "source": [
    "x - width<br>\n",
    "y - height"
   ]
  },
  {
   "cell_type": "code",
   "execution_count": null,
   "metadata": {},
   "outputs": [],
   "source": [
    "x = [[x_sample/width for glom in markup for x_sample, y_sample in glom['geometry']['coordinates'][0]] \n",
    "     for width, markup in zip(train_widths, markups)]\n",
    "y = [[y_sample/height for glom in markup for x_sample, y_sample in glom['geometry']['coordinates'][0]] \n",
    "     for height, markup in zip(train_heights, markups)]"
   ]
  },
  {
   "cell_type": "code",
   "execution_count": null,
   "metadata": {},
   "outputs": [],
   "source": [
    "###########\n",
    "bins = 50\n",
    "###########\n",
    "plot_hist(x, y, train_imgs, bins=bins, title=f'Glomerulus Segmentation | Normalized | Train | bins={bins}',\n",
    "         x_label='Width', y_label='Height')"
   ]
  },
  {
   "cell_type": "code",
   "execution_count": null,
   "metadata": {},
   "outputs": [],
   "source": [
    "###########\n",
    "bins = 100\n",
    "###########\n",
    "plt.rcParams['figure.figsize'] = [10, 4]\n",
    "plt.title(f'Glomerulus Segmentation| Normalized | Train | bins={bins}', fontsize=20)\n",
    "plt.hist2d(flatten_list(x), flatten_list(y), bins=bins)\n",
    "plt.xlabel('Width', fontsize=16)\n",
    "plt.ylabel('Height', fontsize=16); plt.show()"
   ]
  },
  {
   "cell_type": "markdown",
   "metadata": {},
   "source": [
    "#### Number of Edges"
   ]
  },
  {
   "cell_type": "code",
   "execution_count": null,
   "metadata": {},
   "outputs": [],
   "source": [
    "glom_len = [[len(coords) for glom in markup for coords in glom['geometry']['coordinates']] \n",
    "     for markup in markups]"
   ]
  },
  {
   "cell_type": "code",
   "execution_count": null,
   "metadata": {},
   "outputs": [],
   "source": [
    "###########\n",
    "bins = 100\n",
    "###########\n",
    "plot_hist(glom_len, subtitles=train_imgs, bins=bins, title=f'Number of Edges | Glomerulus | Distribution | Train | bins={bins}', \n",
    "          hist_type='1D', x_label='Number of edges', y_label='Frequency')"
   ]
  },
  {
   "cell_type": "code",
   "execution_count": null,
   "metadata": {},
   "outputs": [],
   "source": [
    "###########\n",
    "bins = 100\n",
    "###########\n",
    "plt.rcParams['figure.figsize'] = [10, 4]\n",
    "plt.title(f'Number of edges | Glomerulus | Distribution | Train | bins={bins}', fontsize=24)\n",
    "plt.hist(flatten_list(glom_len), bins=bins)\n",
    "plt.ylabel(\"Frequency\", fontsize=20)\n",
    "plt.xlabel(\"Number of edges\", fontsize=20); plt.show()"
   ]
  },
  {
   "cell_type": "markdown",
   "metadata": {},
   "source": [
    "#### Area"
   ]
  },
  {
   "cell_type": "markdown",
   "metadata": {},
   "source": [
    "Assumption: glomerulus has shape of elips<br>\n",
    "Area: Pi*x_radius*y_radius"
   ]
  },
  {
   "cell_type": "code",
   "execution_count": null,
   "metadata": {},
   "outputs": [],
   "source": [
    "def get_diff_x(coords):\n",
    "    return list(np.max(coords, axis=0)-np.min(coords, axis=0))[0]\n",
    "def get_diff_y(coords):\n",
    "    return list(np.max(coords, axis=0)-np.min(coords, axis=0))[1]"
   ]
  },
  {
   "cell_type": "code",
   "execution_count": null,
   "metadata": {},
   "outputs": [],
   "source": [
    "glom_max_x_diff = [[get_diff_x(coords)/width for glom in markup for coords in glom['geometry']['coordinates']] \n",
    "     for width, markup in zip(train_widths, markups)]\n",
    "glom_max_y_diff = [[get_diff_y(coords)/height for glom in markup for coords in glom['geometry']['coordinates']] \n",
    "     for height, markup in zip(train_heights, markups)]\n",
    "glom_area = [[round(np.pi*x*y*100/4, 3) for x, y in zip( x_img, y_img)] for x_img, y_img in zip(glom_max_x_diff, glom_max_y_diff)] "
   ]
  },
  {
   "cell_type": "code",
   "execution_count": null,
   "metadata": {},
   "outputs": [],
   "source": [
    "###########\n",
    "bins = 50\n",
    "###########\n",
    "plot_hist(glom_area, subtitles=train_imgs, bins=bins, title=f'Area | Glomerulus | Distribution | Train | bins={bins}', \n",
    "          hist_type='1D', x_label='Area, %', y_label='Frequency')"
   ]
  },
  {
   "cell_type": "code",
   "execution_count": null,
   "metadata": {},
   "outputs": [],
   "source": [
    "###########\n",
    "bins = 100\n",
    "###########\n",
    "total_area = np.sum(flatten_list(glom_area))/len(glom_area)\n",
    "plt.rcParams['figure.figsize'] = [10, 4]\n",
    "plt.title(f'Area | Glomerulus | Distribution | Train | bins={bins}', fontsize=24)\n",
    "plt.hist(flatten_list(glom_area), bins=bins)\n",
    "plt.ylabel(\"Frequency\", fontsize=20)\n",
    "plt.xlabel(\"Area, %\", fontsize=20); plt.show()"
   ]
  },
  {
   "cell_type": "code",
   "execution_count": null,
   "metadata": {},
   "outputs": [],
   "source": [
    "plt.title(\"Total Area Filled with Glomerolous | Train \", fontsize=30)\n",
    "total_areas = [np.sum(glom) for glom in glom_area]\n",
    "plt.bar(train_imgs, total_areas)\n",
    "plt.ylabel(\"Area, %\", fontsize=24)\n",
    "plt.text(-3, int(np.max(total_areas)), f\"Mean area {round(np.mean(total_areas), 2)}%\", fontsize=12);"
   ]
  },
  {
   "cell_type": "markdown",
   "metadata": {},
   "source": [
    "### Form"
   ]
  },
  {
   "cell_type": "code",
   "execution_count": null,
   "metadata": {},
   "outputs": [],
   "source": [
    "xy_max = [[np.max(glom['geometry']['coordinates'][0], axis=0) for glom in markup] for markup in markups]\n",
    "xy_min = [[np.min(glom['geometry']['coordinates'][0], axis=0) for glom in markup] for markup in markups]"
   ]
  },
  {
   "cell_type": "code",
   "execution_count": null,
   "metadata": {},
   "outputs": [],
   "source": [
    "markups_copy = copy.deepcopy(markups)\n",
    "for i in range(len(markups_copy)):\n",
    "    for j in range(len(markups_copy[i])):\n",
    "        for k in range(len(markups_copy[i][j]['geometry']['coordinates'][0])):\n",
    "            diff_x = xy_max[i][j][0] - xy_min[i][j][0]\n",
    "            diff_y = xy_max[i][j][1] - xy_min[i][j][1]\n",
    "            markups_copy[i][j]['geometry']['coordinates'][0][k][0] = (markups_copy[i][j]['geometry']['coordinates'][0][k][0]-xy_min[i][j][0]) / diff_x\n",
    "            markups_copy[i][j]['geometry']['coordinates'][0][k][1] = (markups_copy[i][j]['geometry']['coordinates'][0][k][1]-xy_min[i][j][1]) / diff_y"
   ]
  },
  {
   "cell_type": "code",
   "execution_count": null,
   "metadata": {},
   "outputs": [],
   "source": [
    "x = [[x_sample for glom in markup for x_sample, y_sample in glom['geometry']['coordinates'][0]] \n",
    "     for markup in markups_copy]\n",
    "y = [[y_sample for glom in markup for x_sample, y_sample in glom['geometry']['coordinates'][0]] \n",
    "     for markup in markups_copy]"
   ]
  },
  {
   "cell_type": "code",
   "execution_count": null,
   "metadata": {},
   "outputs": [],
   "source": [
    "###########\n",
    "bins = 25\n",
    "###########\n",
    "plot_hist(x, y, train_imgs, bins=bins, title=f'Glomerulus Form | Normalized | Train | bins={bins}',\n",
    "         x_label='Width', y_label='Height')"
   ]
  },
  {
   "cell_type": "code",
   "execution_count": null,
   "metadata": {},
   "outputs": [],
   "source": [
    "###########\n",
    "bins = 50\n",
    "###########\n",
    "plt.rcParams['figure.figsize'] = [10, 4]\n",
    "plt.title(f'Glomerulus Form | Normalized | Train | bins={bins}', fontsize=20)\n",
    "plt.hist2d(flatten_list(x), flatten_list(y), bins=bins)\n",
    "plt.xlabel('Width', fontsize=16)\n",
    "plt.ylabel('Height', fontsize=16); plt.show()"
   ]
  },
  {
   "cell_type": "markdown",
   "metadata": {},
   "source": [
    "### 2) anatomical_structures_segmention_file"
   ]
  },
  {
   "cell_type": "markdown",
   "metadata": {},
   "source": [
    "#### Uniqueness"
   ]
  },
  {
   "cell_type": "code",
   "execution_count": null,
   "metadata": {},
   "outputs": [],
   "source": [
    "types = [struct['type'] for anot_structure in anot_structures for struct in anot_structure]\n",
    "print(f'Unique features: {list(np.unique(types))}')\n",
    "\n",
    "ids = [struct['id'] for anot_structure in anot_structures for struct in anot_structure]\n",
    "print(f'Unique ids: {list(np.unique(ids))}')\n",
    "\n",
    "gem_types = [struct['geometry']['type'] for anot_structure in anot_structures for struct in anot_structure]\n",
    "print(f'Unique geometry types: {list(np.unique(gem_types))}')\n",
    "\n",
    "\n",
    "prop_names = [struct['properties']['classification']['name'] for anot_structure in anot_structures for struct in anot_structure]\n",
    "print(f'Unique property names: {list(np.unique(prop_names))}')\n",
    "\n",
    "prop_islocked = [struct['properties']['isLocked'] for anot_structure in anot_structures for struct in anot_structure]\n",
    "print(f'Unique isLocked values: {list(np.unique(prop_islocked))}')\n",
    "\n",
    "rgb = [struct['properties']['classification']['colorRGB'] for anot_structure in anot_structures for struct in anot_structure]\n",
    "print(f'Unique RGB colours: {list(np.unique(rgb))}')"
   ]
  },
  {
   "cell_type": "code",
   "execution_count": null,
   "metadata": {},
   "outputs": [],
   "source": [
    "unique, counts = np.unique(gem_types, return_counts=True)\n",
    "print('Geometry types distribution:  {}'.format({val: count for val, count in zip(unique, counts)}))\n",
    "\n",
    "unique, counts = np.unique(prop_names, return_counts=True)\n",
    "print('Property names distribution:  {}'.format({val: count for val, count in zip(unique, counts)}))\n",
    "\n",
    "unique, counts = np.unique(rgb, return_counts=True)\n",
    "print('RGB distribution:  {}'.format({val: count for val, count in zip(unique, counts)}))"
   ]
  },
  {
   "cell_type": "code",
   "execution_count": null,
   "metadata": {},
   "outputs": [],
   "source": [
    "print(\"Example of multipolygon\")\n",
    "multi_pol = [struct['geometry']['coordinates'] for anot_structure in anot_structures for struct in anot_structure\n",
    "            if struct['geometry']['type'] == 'MultiPolygon']\n",
    "[print(f\"Polygon: {subpol}\\n\") for pol in multi_pol[0] for subpol in pol];"
   ]
  },
  {
   "cell_type": "markdown",
   "metadata": {},
   "source": [
    "#### 2D histogram"
   ]
  },
  {
   "cell_type": "code",
   "execution_count": null,
   "metadata": {},
   "outputs": [],
   "source": [
    "def convert_multi_into_plain(coords: list):\n",
    "    print(coords)\n",
    "    list_coord = []\n",
    "    for coord in coords:\n",
    "        list_coord.append(np.array(coord[0]))\n",
    "    return np.concatenate(list_coord, axis=0).tolist()"
   ]
  },
  {
   "cell_type": "markdown",
   "metadata": {},
   "source": [
    "Flatten multi polygon into plain polygon"
   ]
  },
  {
   "cell_type": "code",
   "execution_count": null,
   "metadata": {},
   "outputs": [],
   "source": [
    "%%capture\n",
    "for i in range(len(anot_structures)):\n",
    "    for j in range(len(anot_structures[i])):\n",
    "        if anot_structures[i][j]['geometry']['type'] == 'MultiPolygon':\n",
    "            anot_structures[i][j]['geometry']['coordinates'] = [convert_multi_into_plain(anot_structures[i][j]['geometry']['coordinates'])] "
   ]
  },
  {
   "cell_type": "code",
   "execution_count": null,
   "metadata": {},
   "outputs": [],
   "source": [
    "x_anom = [[x_sample/width for struct in anot_structure for x_sample, y_sample in struct['geometry']['coordinates'][0]] \n",
    "           for width, anot_structure in zip(train_widths, anot_structures)]\n",
    "y_anom = [[y_sample/height for struct in anot_structure for x_sample, y_sample in struct['geometry']['coordinates'][0]] \n",
    "          for height, anot_structure in zip(train_heights, anot_structures)]"
   ]
  },
  {
   "cell_type": "code",
   "execution_count": null,
   "metadata": {},
   "outputs": [],
   "source": [
    "###########\n",
    "bins = 50\n",
    "###########\n",
    "plot_hist(x_anom, y_anom, train_imgs, bins=bins, title='Anatomical Structures Segmention | Normalized | Train | bins=100',\n",
    "         x_label='Width', y_label='Height')"
   ]
  },
  {
   "cell_type": "markdown",
   "metadata": {},
   "source": [
    "#### Area"
   ]
  },
  {
   "cell_type": "code",
   "execution_count": null,
   "metadata": {},
   "outputs": [],
   "source": [
    "an_max_x_diff = [[get_diff_x(coords)/width for struct in anot_structure for coords in struct['geometry']['coordinates']] \n",
    "     for width, anot_structure in zip(train_widths, anot_structures)]\n",
    "an_max_y_diff = [[get_diff_y(coords)/height for struct in anot_structure for coords in struct['geometry']['coordinates']] \n",
    "     for height, anot_structure in zip(train_heights, anot_structures)]\n",
    "an_area = [[100*np.pi*x*y/4 for x, y in zip( x_img, y_img)] for x_img, y_img in zip(an_max_x_diff, an_max_y_diff)] "
   ]
  },
  {
   "cell_type": "code",
   "execution_count": null,
   "metadata": {},
   "outputs": [],
   "source": [
    "plt.title(\"Total Area Filled with Anatomical Structure | Train \", fontsize=30)\n",
    "total_areas = [np.sum(an) for an in an_area]\n",
    "plt.bar(train_imgs, total_areas)\n",
    "plt.ylabel(\"Area, %\", fontsize=24)\n",
    "plt.text(-3, int(np.max(total_areas)), f\"Mean area {round(np.mean(total_areas), 2)}%\", fontsize=20);"
   ]
  },
  {
   "cell_type": "markdown",
   "metadata": {},
   "source": [
    "### Fantastic shapely visualization"
   ]
  },
  {
   "cell_type": "code",
   "execution_count": null,
   "metadata": {},
   "outputs": [],
   "source": [
    "pols_markup = [[Polygon(glom['geometry']['coordinates'][0]) for glom in markup] \n",
    "     for markup in markups]"
   ]
  },
  {
   "cell_type": "code",
   "execution_count": null,
   "metadata": {},
   "outputs": [],
   "source": [
    "def convert_multi_into_plain(coords: list):\n",
    "    print(coords)\n",
    "    list_coord = []\n",
    "    for coord in coords:\n",
    "        list_coord.append(np.array(coord[0]))\n",
    "    return np.concatenate(list_coord, axis=0).tolist()"
   ]
  },
  {
   "cell_type": "code",
   "execution_count": null,
   "metadata": {},
   "outputs": [],
   "source": [
    "%%capture\n",
    "for i in range(len(anot_structures)):\n",
    "    for j in range(len(anot_structures[i])):\n",
    "        if anot_structures[i][j]['geometry']['type'] == 'MultiPolygon':\n",
    "            anot_structures[i][j]['geometry']['coordinates'] = [convert_multi_into_plain(anot_structures[i][j]['geometry']['coordinates'])] "
   ]
  },
  {
   "cell_type": "code",
   "execution_count": null,
   "metadata": {},
   "outputs": [],
   "source": [
    "pols_anot = [[Polygon(struct['geometry']['coordinates'][0]) for struct in anot_structure] \n",
    "           for anot_structure in anot_structures]"
   ]
  },
  {
   "cell_type": "code",
   "execution_count": null,
   "metadata": {},
   "outputs": [],
   "source": [
    "pols_anot_name = [[struct['properties']['classification']['name'] for struct in anot_structure] \n",
    "           for anot_structure in anot_structures]"
   ]
  },
  {
   "cell_type": "code",
   "execution_count": null,
   "metadata": {},
   "outputs": [],
   "source": [
    "import shapely.ops as so\n",
    "import matplotlib.pyplot as plt\n",
    "import shapely.geometry as sg\n",
    "import matplotlib.patches as mpatches\n",
    "\n",
    "blue_patch = mpatches.Patch(color='blue', label='Medulla')\n",
    "green_patch = mpatches.Patch(color='green', label='Cortex')\n",
    "\n",
    "\n",
    "num_cols = 4\n",
    "length = len(pols_markup)\n",
    "num_rows = length // num_cols\n",
    "plt.rcParams['figure.figsize'] = [16, 12]\n",
    "fig, ax = plt.subplots(num_rows, num_cols, sharex=False, sharey=False)\n",
    "fig.suptitle(\"Localization of Glomerulus\", fontsize=24)\n",
    "fig.text(0.5, 0.04, \"Width\", ha='center' ,fontsize=24)\n",
    "fig.text(-0.02, 0.5, \"Height\", va='center', rotation='vertical', fontsize=24)\n",
    "fig.tight_layout(pad=3.0)\n",
    "    \n",
    "for i in range(length):\n",
    "    for geom in pols_markup[i]:\n",
    "        xs, ys = geom.exterior.xy    \n",
    "        ax[i//num_cols, i%num_cols].fill(xs, ys, alpha=0.5, fc='r', ec='none')\n",
    "        if i%num_cols == num_cols-1:\n",
    "            ax[i//num_cols, i%num_cols].legend(handles=[blue_patch, green_patch], bbox_to_anchor=(1.5, 1.0), loc='upper right')\n",
    "    \n",
    "    for colour, geom in zip(pols_anot_name[i], pols_anot[i]): \n",
    "        xs, ys = geom.exterior.xy    \n",
    "        if colour == 'Medulla':\n",
    "            ax[i//num_cols, i%num_cols].fill(xs, ys, alpha=0.25, fc='b', ec='none')\n",
    "        elif colour == 'Cortex':\n",
    "            ax[i//num_cols, i%num_cols].fill(xs, ys, alpha=0.25, fc='g', ec='none')\n",
    "        else:\n",
    "            print(\"Error\")\n",
    "    ax[i//num_cols, i%num_cols].set(aspect=1.0)\n",
    "    ax[i//num_cols, i%num_cols].set_title(train_imgs[i], fontsize=14)\n",
    "plt.savefig('data/plots/glom_localization.pdf', bbox_inches='tight') "
   ]
  },
  {
   "cell_type": "code",
   "execution_count": null,
   "metadata": {},
   "outputs": [],
   "source": [
    "from tqdm import tqdm\n",
    "list_med,  list_cort, list_rest = [], [] , []\n",
    "for i in tqdm(range(length)):\n",
    "    med, cort, rest, glom  = 0, 0, 0, 0\n",
    "    for geom in pols_markup[i]:\n",
    "        glom += geom.area\n",
    "        for colour, anot in zip(pols_anot_name[i], pols_anot[i]):\n",
    "            area = anot.intersection(geom).area\n",
    "            if colour == 'Medulla':\n",
    "                med += area\n",
    "            elif colour == 'Cortex':\n",
    "                cort += area\n",
    "            else:\n",
    "                print(\"Error\")\n",
    "            rest += area\n",
    "    list_med.append(round(med, 2)), list_cort.append(round(cort, 2))\n",
    "    list_rest.append(round(glom - rest, 2))"
   ]
  },
  {
   "cell_type": "code",
   "execution_count": null,
   "metadata": {},
   "outputs": [],
   "source": [
    "for i in range(8):\n",
    "    total = list_cort[i] + list_med[i] + list_rest[i]\n",
    "    cort_proc = round(list_cort[i]*100/total, 1)\n",
    "    med_proc = round(list_med[i]*100/total, 1)\n",
    "    rest_proc = round(list_rest[i]*100/total, 1)\n",
    "    print(f\"{train_imgs[i]} Itersection glomerulus with Cortex, Medulla, None: {list_cort[i]} ({cort_proc}%), {list_med[i]} ({med_proc}%), {list_rest[i]} ({rest_proc}%)\")"
   ]
  },
  {
   "cell_type": "code",
   "execution_count": null,
   "metadata": {},
   "outputs": [],
   "source": [
    "def norm(polyg):\n",
    "    return (np.array(polyg) - np.mean(polyg, axis=0)).tolist()"
   ]
  },
  {
   "cell_type": "code",
   "execution_count": null,
   "metadata": {},
   "outputs": [],
   "source": [
    "markups_norm = [[norm(glom['geometry']['coordinates'][0]) for glom in markup] \n",
    "     for markup in markups]"
   ]
  },
  {
   "cell_type": "code",
   "execution_count": null,
   "metadata": {},
   "outputs": [],
   "source": [
    "markups_norm_max = [[list(np.max(abs(np.array(glom)), axis=0).astype(int)+1) for glom in markup] \n",
    "                    for markup in markups_norm]\n",
    "markups_norm_max = [list(np.max(markup, axis=0)) for markup in markups_norm_max]"
   ]
  },
  {
   "cell_type": "code",
   "execution_count": null,
   "metadata": {},
   "outputs": [],
   "source": [
    "def pol_to_mask(poly_verts, max_val):\n",
    "    \n",
    "    nx, ny = max_val[0], max_val[1]\n",
    "    x, y = np.meshgrid(np.arange(-nx+1, nx+1), np.arange(-ny+1, ny+1))\n",
    "    x, y = x.flatten(), y.flatten()\n",
    "\n",
    "    points = np.vstack((x,y)).T\n",
    "\n",
    "    path = Path(poly_verts)\n",
    "    grid = path.contains_points(points)\n",
    "    grid = grid.reshape((2*ny,2*nx))\n",
    "    return np.array(grid, dtype=int)"
   ]
  },
  {
   "cell_type": "code",
   "execution_count": null,
   "metadata": {},
   "outputs": [],
   "source": [
    "markups_norm_mask = [[pol_to_mask(glom, max_val) for glom in markup] \n",
    "                     for max_val, markup in zip(markups_norm_max, markups_norm)]"
   ]
  },
  {
   "cell_type": "code",
   "execution_count": null,
   "metadata": {},
   "outputs": [],
   "source": [
    "markups_norm_mask_sum=[np.sum(np.array(masks), axis=0) for masks in markups_norm_mask]"
   ]
  },
  {
   "cell_type": "code",
   "execution_count": null,
   "metadata": {},
   "outputs": [],
   "source": [
    "def create_ticks(values, step=50):\n",
    "    r_x =list(np.arange(values[0]+1+step, values[0]*2, step))\n",
    "    l_x = sorted(list(np.arange(values[0]+1, 0, -step)))\n",
    "    \n",
    "    r_y =list(np.arange(values[1]+1+step, values[1]*2, step))\n",
    "    l_y = sorted(list(np.arange(values[1]+1, 0, -step)))\n",
    "    \n",
    "    new_x = [el - values[0] - 1 for el in l_x+r_x]\n",
    "    new_y = [el - values[1] - 1 for el in l_y+r_y]\n",
    "    return l_x+r_x, l_y + r_y, new_x, new_y"
   ]
  },
  {
   "cell_type": "code",
   "execution_count": null,
   "metadata": {},
   "outputs": [],
   "source": [
    "num_cols = 4\n",
    "length = len(pols_markup)\n",
    "num_rows = length // num_cols\n",
    "plt.rcParams['figure.figsize'] = [20, 14]\n",
    "fig, ax = plt.subplots(num_rows, num_cols)\n",
    "fig.suptitle(\"Shape of Glomerulus\", fontsize=24)\n",
    "fig.text(0.5, 0.04, \"Width\", ha='center' ,fontsize=24)\n",
    "fig.text(-0.02, 0.5, \"Height\", va='center', rotation='vertical', fontsize=24)\n",
    "fig.tight_layout(pad=6.0)\n",
    "\n",
    "for i in tqdm(range(length)):\n",
    "    sns.heatmap(markups_norm_mask_sum[i], ax=ax[i//num_cols, i%num_cols])\n",
    "    ax[i//num_cols, i%num_cols].set_title(train_imgs[i],fontsize=28)\n",
    "    ax[i//num_cols, i%num_cols].set(aspect=1.0)\n",
    "    x, y, nx, ny = create_ticks(markups_norm_max[i], step=50)\n",
    "    ax[i//num_cols, i%num_cols].set_xticks(x)\n",
    "    ax[i//num_cols, i%num_cols].set_xticklabels(nx)\n",
    "    ax[i//num_cols, i%num_cols].set_yticks(y)\n",
    "    ax[i//num_cols, i%num_cols].set_yticklabels(ny)\n",
    "plt.savefig('data/plots/glom_shape.pdf', bbox_inches='tight') "
   ]
  },
  {
   "cell_type": "code",
   "execution_count": null,
   "metadata": {},
   "outputs": [],
   "source": []
  }
 ],
 "metadata": {
  "kernelspec": {
   "display_name": "kidney",
   "language": "python",
   "name": "kidney"
  },
  "language_info": {
   "codemirror_mode": {
    "name": "ipython",
    "version": 3
   },
   "file_extension": ".py",
   "mimetype": "text/x-python",
   "name": "python",
   "nbconvert_exporter": "python",
   "pygments_lexer": "ipython3",
   "version": "3.8.5"
  }
 },
 "nbformat": 4,
 "nbformat_minor": 4
}
