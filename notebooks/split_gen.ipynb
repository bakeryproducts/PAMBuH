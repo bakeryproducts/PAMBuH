{
 "cells": [
  {
   "cell_type": "code",
   "execution_count": null,
   "metadata": {},
   "outputs": [],
   "source": [
    "import os\n",
    "import sys\n",
    "os.chdir('..')\n",
    "sys.path.append('src')"
   ]
  },
  {
   "cell_type": "code",
   "execution_count": null,
   "metadata": {},
   "outputs": [],
   "source": [
    "import os\n",
    "from datetime import datetime\n",
    "\n",
    "from pathlib import Path\n",
    "import shutil\n",
    "import numpy as np\n",
    "\n",
    "import utils\n",
    "from collections import defaultdict"
   ]
  },
  {
   "cell_type": "code",
   "execution_count": null,
   "metadata": {},
   "outputs": [],
   "source": [
    "def get_images(root):\n",
    "    imgs = list((root/'imgs').glob('*'))\n",
    "    for img in imgs:\n",
    "        filenames = list(img.glob('*'))\n",
    "        yield filenames\n",
    "        \n",
    "def get_maskname_for_img(img_name):\n",
    "    im_root = img_name.parent.parent\n",
    "    mask_name  = img_name.parent.parent.parent / 'masks' / img_name.relative_to(im_root)\n",
    "    return mask_name\n",
    "\n",
    "def create_split(filenames, pct=.05):\n",
    "    n = int(len(filenames) * pct)\n",
    "    split = np.random.choice(filenames, n, replace=False).tolist()\n",
    "    main_part = [f for f in filenames if f not in split]\n",
    "    return main_part,  split\n",
    "\n",
    "def create_split_from_polys(filenames, split_names):\n",
    "    a,b = [], []\n",
    "    for f in filenames:\n",
    "        x = b if f.name in split_names else a\n",
    "        x.append(f)\n",
    "    return a,b\n",
    "\n",
    "def select_samples_from_polys(name):\n",
    "    data = utils.jread(Path(f'input/split_jsons/{name}.json'))\n",
    "    val_poly = utils.json_record_to_poly(data[0])[0]\n",
    "    \n",
    "    glo_json = Path(f'input/hm/train/{name}.json')\n",
    "    val_names = []\n",
    "    \n",
    "    data = utils.jread(glo_json)\n",
    "    cnt = 0\n",
    "    for i,d in enumerate(data):\n",
    "        p = utils.json_record_to_poly(d)[0]\n",
    "        if val_poly.contains(p.centroid) and cnt < 20:\n",
    "            cnt += 1\n",
    "            val_names.append(str(i).zfill(6) + '.png')\n",
    "    print(cnt)\n",
    "    return val_names\n",
    "\n",
    "def copy_split(split, root, dst_path):\n",
    "    p = dst_path / split.relative_to(root)\n",
    "    os.makedirs(str(p.parent), exist_ok=True)\n",
    "    shutil.copy(str(split), str(p))\n",
    "    \n",
    "def create_save_splits(root, dst_path, split_pct=None):\n",
    "    '''\n",
    "        takes root folder path with 2 folders inside: imgs, masks.\n",
    "        for each subfolder in imgs, masks , i.e. 1e2425f28:\n",
    "            splits images in subfolder in two groups randomly by split_pct:\n",
    "            split_pct = 0.05\n",
    "            len(p1) == .95 * len(p)\n",
    "            len(p2) == .05 * len(p)\n",
    "        and saves them into dst_path WITH TIMESTAMP \n",
    "        p1 is train folder, p2 is val folder\n",
    "    '''\n",
    "    for img_cuts in get_images(root):\n",
    "        print(img_cuts[0].parent.name)\n",
    "        \n",
    "        if split_pct is not None:\n",
    "            print('splitting randomly by percent')\n",
    "            split_imgs_1, split_imgs_2 = create_split(img_cuts, pct=val_pct)\n",
    "        else:\n",
    "            print('splitting by predefined polygons in input/split_jsons')\n",
    "            split_names = select_samples_from_polys(img_cuts[0].parent.name)\n",
    "            print('selected:', split_names)\n",
    "            split_imgs_1, split_imgs_2 = create_split_from_polys(img_cuts, split_names)\n",
    "            \n",
    "            \n",
    "        print(len(split_imgs_1), len(split_imgs_2))\n",
    "\n",
    "        for i in split_imgs_1:\n",
    "            m = get_maskname_for_img(i)\n",
    "            copy_split(i, root, dst_path/'train')\n",
    "            copy_split(m, root, dst_path/'train')\n",
    "\n",
    "        for i in split_imgs_2:\n",
    "            m = get_maskname_for_img(i)\n",
    "            copy_split(i, root, dst_path/'val')\n",
    "            copy_split(m, root, dst_path/'val')\n"
   ]
  },
  {
   "cell_type": "code",
   "execution_count": null,
   "metadata": {},
   "outputs": [],
   "source": [
    "root = Path('input/CUTS/cuts_B_1536x33/')\n",
    "timestamp = '{:%Y_%b_%d_%H_%M_%S}'.format(datetime.now())\n",
    "dst_path = root.parent.parent / f'SPLITS/split2048x25_{timestamp}/'\n",
    "#val_pct = 0.05"
   ]
  },
  {
   "cell_type": "code",
   "execution_count": null,
   "metadata": {
    "jupyter": {
     "outputs_hidden": true
    }
   },
   "outputs": [],
   "source": [
    "#create_save_splits(root, dst_path, val_pct)\n",
    "create_save_splits(root, dst_path)"
   ]
  },
  {
   "cell_type": "code",
   "execution_count": null,
   "metadata": {},
   "outputs": [],
   "source": []
  },
  {
   "cell_type": "markdown",
   "metadata": {},
   "source": [
    "# Split scores"
   ]
  },
  {
   "cell_type": "code",
   "execution_count": null,
   "metadata": {},
   "outputs": [],
   "source": [
    "import pickle\n",
    "\n",
    "with open('input/scores_color.pkl', 'rb') as f:\n",
    "    scores = pickle.load(f)"
   ]
  },
  {
   "cell_type": "code",
   "execution_count": null,
   "metadata": {},
   "outputs": [],
   "source": [
    "def split_scores(ps, scores):\n",
    "    split = {}\n",
    "    for p in ps:\n",
    "        idxs = []\n",
    "        for i in p.glob('*.png'):\n",
    "            idxs.append(int(i.stem))\n",
    "        split[p.stem] = scores[p.stem][idxs]\n",
    "    return split"
   ]
  },
  {
   "cell_type": "code",
   "execution_count": null,
   "metadata": {},
   "outputs": [],
   "source": [
    "ps = list(Path('input/SPLITS/split2048x25/val/imgs/').glob('*'))\n",
    "val_split = split_scores(ps, scores)\n",
    "with open('scores__color_val.pkl', 'wb') as f:\n",
    "    pickle.dump(val_split, f)"
   ]
  },
  {
   "cell_type": "code",
   "execution_count": null,
   "metadata": {},
   "outputs": [],
   "source": [
    "ps = list(Path('input/SPLITS/split2048x25/train/imgs/').glob('*'))\n",
    "val_split = split_scores(ps, scores)\n",
    "with open('scores_color_train.pkl', 'wb') as f:\n",
    "    pickle.dump(val_split, f)"
   ]
  },
  {
   "cell_type": "code",
   "execution_count": null,
   "metadata": {},
   "outputs": [],
   "source": []
  },
  {
   "cell_type": "markdown",
   "metadata": {},
   "source": [
    "# Split images"
   ]
  },
  {
   "cell_type": "code",
   "execution_count": null,
   "metadata": {},
   "outputs": [],
   "source": [
    "from functools import partial\n",
    "import shutil"
   ]
  },
  {
   "cell_type": "code",
   "execution_count": null,
   "metadata": {},
   "outputs": [],
   "source": [
    "root = Path('input/CUTS/cuts_FP_1536x33/imgs')\n",
    "list(root.glob('*'))"
   ]
  },
  {
   "cell_type": "code",
   "execution_count": null,
   "metadata": {},
   "outputs": [],
   "source": [
    "split_stems = [\n",
    "        ['0486052bb', 'e79de561c'],\n",
    "        ['2f6ecfcdf', 'afa5e8098'],\n",
    "        ['1e2425f28', '8242609fa'],\n",
    "        ['cb2d976f4', 'c68fe75ea'],\n",
    "        ]"
   ]
  },
  {
   "cell_type": "code",
   "execution_count": null,
   "metadata": {},
   "outputs": [],
   "source": [
    "root = Path('input/backs/grid_x50/')\n",
    "timestamp = '{:%Y_%b_%d_%H_%M_%S}'.format(datetime.now())\n",
    "dst = Path(f'input/backs/{timestamp}')\n",
    "\n",
    "filt = partial(utils.filter_ban_str_in_name, bans=['-', '_ell', '_sc'])\n",
    "masks_fns = sorted(utils.get_filenames(root / 'masks', '*', filt))\n",
    "#borders_fns = sorted(utils.get_filenames(root / 'borders', '*', filt))\n",
    "img_fns = sorted([m.parent.parent/'imgs'/m.name for m in masks_fns])\n",
    "#img_fns, masks_fns"
   ]
  },
  {
   "cell_type": "code",
   "execution_count": null,
   "metadata": {},
   "outputs": [],
   "source": [
    "for split in split_stems:\n",
    "    name = split[0][0] + split[1][0]\n",
    "    path = dst / name\n",
    "    train_path, val_path = path/'train', path/'val'\n",
    "    os.makedirs(str(path))\n",
    "    os.makedirs(str(train_path))\n",
    "    os.makedirs(str(val_path))\n",
    "    \n",
    "    for imgs, masks in zip(img_fns, masks_fns):\n",
    "    #for imgs, masks, borders in zip(img_fns, masks_fns, borders_fns):\n",
    "    \n",
    "        if imgs.stem in split:\n",
    "            dst_path = val_path\n",
    "        else:\n",
    "            dst_path = train_path\n",
    "            \n",
    "        \n",
    "        imgs_dst = dst_path / 'imgs' /  imgs.stem\n",
    "        masks_dst = dst_path / 'masks' /  imgs.stem\n",
    "        #borders_dst = dst_path / 'borders' /  imgs.stem\n",
    "        #os.makedirs(str(imgs_dst))\n",
    "        #os.makedirs(str(masks_dst))\n",
    "        \n",
    "        shutil.copytree(imgs, imgs_dst)\n",
    "        shutil.copytree(masks, masks_dst)\n",
    "\n",
    "        #shutil.copytree(borders, borders_dst)\n",
    "        \n",
    "        #break\n",
    "    \n",
    "    #break"
   ]
  },
  {
   "cell_type": "code",
   "execution_count": null,
   "metadata": {},
   "outputs": [],
   "source": []
  },
  {
   "cell_type": "code",
   "execution_count": null,
   "metadata": {},
   "outputs": [],
   "source": []
  },
  {
   "cell_type": "markdown",
   "metadata": {},
   "source": [
    "# TEST SPLIT"
   ]
  },
  {
   "cell_type": "code",
   "execution_count": null,
   "metadata": {},
   "outputs": [],
   "source": [
    "split_stems = [\n",
    "['4ef6695ce', 'b9a3865fc'],\n",
    "['e79de561c', '8242609fa'],\n",
    "['26dc41664', 'cb2d976f4'],\n",
    "['afa5e8098', 'b2dc8411c'],\n",
    "['1e2425f28', '0486052bb'],\n",
    "['c68fe75ea', 'aaa6a05cc'],\n",
    "['54f2eec69', '2f6ecfcdf'],\n",
    "['095bf7a1f', '2f6ecfcdf']\n",
    "]"
   ]
  },
  {
   "cell_type": "code",
   "execution_count": null,
   "metadata": {},
   "outputs": [],
   "source": [
    "root = Path('input/CUTS/cuts_B_1536x33/')\n",
    "timestamp = '{:%Y_%b_%d_%H_%M_%S}'.format(datetime.now())\n",
    "\n",
    "filt = partial(utils.filter_ban_str_in_name, bans=['-', '_ell', '_sc'])\n",
    "masks_fns = sorted(utils.get_filenames(root / 'masks', '*', filt))\n",
    "borders_fns = sorted(utils.get_filenames(root / 'borders', '*', filt))\n",
    "img_fns = sorted([m.parent.parent/'imgs'/m.name for m in masks_fns])\n",
    "#img_fns, masks_fns"
   ]
  },
  {
   "cell_type": "code",
   "execution_count": null,
   "metadata": {},
   "outputs": [],
   "source": [
    "\n",
    "for split in split_stems:\n",
    "    path = Path(f'input/SPLITS/SMTH/{split[0][:2]}')\n",
    "    train_path, test_path = path/'sub_data', path/'test'\n",
    "    os.makedirs(str(path))\n",
    "    os.makedirs(str(train_path))\n",
    "    os.makedirs(str(test_path))\n",
    "    \n",
    "    #for imgs, masks in zip(img_fns, masks_fns):\n",
    "    for imgs, masks, borders in zip(img_fns, masks_fns, borders_fns):\n",
    "    \n",
    "\n",
    "        if imgs.stem in [split[0]]:\n",
    "            dst_path = test_path\n",
    "        else:\n",
    "            dst_path = train_path\n",
    "            \n",
    "        \n",
    "        imgs_dst = dst_path / 'imgs' /  imgs.stem\n",
    "        masks_dst = dst_path / 'masks' /  imgs.stem\n",
    "        borders_dst = dst_path / 'borders' /  imgs.stem\n",
    "        #os.makedirs(str(imgs_dst))\n",
    "        #os.makedirs(str(masks_dst))\n",
    "        \n",
    "        shutil.copytree(imgs, imgs_dst)\n",
    "        shutil.copytree(masks, masks_dst)\n",
    "\n",
    "        shutil.copytree(borders, borders_dst)\n",
    "        \n",
    "        #break\n",
    "    \n",
    "    #break"
   ]
  },
  {
   "cell_type": "code",
   "execution_count": null,
   "metadata": {},
   "outputs": [],
   "source": []
  },
  {
   "cell_type": "code",
   "execution_count": null,
   "metadata": {},
   "outputs": [],
   "source": []
  },
  {
   "cell_type": "code",
   "execution_count": null,
   "metadata": {},
   "outputs": [],
   "source": []
  },
  {
   "cell_type": "code",
   "execution_count": null,
   "metadata": {},
   "outputs": [],
   "source": []
  },
  {
   "cell_type": "code",
   "execution_count": null,
   "metadata": {},
   "outputs": [],
   "source": []
  },
  {
   "cell_type": "code",
   "execution_count": null,
   "metadata": {},
   "outputs": [],
   "source": []
  },
  {
   "cell_type": "code",
   "execution_count": null,
   "metadata": {},
   "outputs": [],
   "source": []
  }
 ],
 "metadata": {
  "kernelspec": {
   "display_name": "Python 3",
   "language": "python",
   "name": "python3"
  },
  "language_info": {
   "codemirror_mode": {
    "name": "ipython",
    "version": 3
   },
   "file_extension": ".py",
   "mimetype": "text/x-python",
   "name": "python",
   "nbconvert_exporter": "python",
   "pygments_lexer": "ipython3",
   "version": "3.6.9"
  }
 },
 "nbformat": 4,
 "nbformat_minor": 4
}
