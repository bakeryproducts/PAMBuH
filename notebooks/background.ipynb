{
 "cells": [
  {
   "cell_type": "code",
   "execution_count": 1,
   "id": "native-czech",
   "metadata": {},
   "outputs": [],
   "source": [
    "%load_ext autoreload\n",
    "%autoreload 2"
   ]
  },
  {
   "cell_type": "code",
   "execution_count": 5,
   "id": "proprietary-aspect",
   "metadata": {},
   "outputs": [],
   "source": [
    "import os\n",
    "import sys\n",
    "import json\n",
    "os.chdir('..')\n",
    "sys.path.append('src')\n",
    "os.environ[\"CUDA_VISIBLE_DEVICES\"]=\"0\""
   ]
  },
  {
   "cell_type": "code",
   "execution_count": 6,
   "id": "civil-bumper",
   "metadata": {},
   "outputs": [],
   "source": [
    "import cv2\n",
    "import numpy as np\n",
    "from tqdm.auto import tqdm\n",
    "from pathlib import Path\n",
    "import matplotlib.pyplot as plt\n",
    "import matplotlib.image as mpimg\n",
    "%matplotlib widget\n",
    "import ipywidgets as widgets\n",
    "\n",
    "import utils"
   ]
  },
  {
   "cell_type": "code",
   "execution_count": 7,
   "id": "quick-interface",
   "metadata": {},
   "outputs": [
    {
     "name": "stdout",
     "output_type": "stream",
     "text": [
      "/mnt/storage/HuBMAP/test/b9a3865fc.tiff\n"
     ]
    }
   ],
   "source": [
    "src_folder = '/mnt/storage/HuBMAP/test'\n",
    "dst_folder = './output'\n",
    "img_name = next(Path(src_folder).glob('*.tiff'))\n",
    "print(img_name)"
   ]
  },
  {
   "cell_type": "code",
   "execution_count": 8,
   "id": "nutritional-reference",
   "metadata": {},
   "outputs": [
    {
     "data": {
      "application/vnd.jupyter.widget-view+json": {
       "model_id": "3ea8ea6082764be8a7d14a1509c90482",
       "version_major": 2,
       "version_minor": 0
      },
      "text/plain": [
       "0it [00:00, ?it/s]"
      ]
     },
     "metadata": {},
     "output_type": "display_data"
    },
    {
     "name": "stderr",
     "output_type": "stream",
     "text": [
      "/usr/local/lib/python3.6/dist-packages/rasterio/__init__.py:207: NotGeoreferencedWarning: Dataset has no geotransform, gcps, or rpcs. The identity matrix be returned.\n",
      "  s = DatasetReader(path, driver=driver, sharing=sharing, **kwargs)\n"
     ]
    },
    {
     "data": {
      "text/plain": [
       "[PosixPath('output/b9a3865fc_scale_10.png'),\n",
       " PosixPath('output/b9a3865fc_scale_10.png'),\n",
       " PosixPath('output/b9a3865fc_scale_10.png'),\n",
       " PosixPath('output/b9a3865fc_scale_10.png'),\n",
       " PosixPath('output/b9a3865fc_scale_10.png')]"
      ]
     },
     "execution_count": 8,
     "metadata": {},
     "output_type": "execute_result"
    }
   ],
   "source": [
    "def read_with_scale(img_path, scale=10):\n",
    "    fd, (h, w), channel = utils.get_basics_rasterio(img_path)\n",
    "    img = utils.get_tiff_block(fd, 0, 0, w, h)\n",
    "    img = np.moveaxis(img, 0, -1)\n",
    "    img = cv2.resize(img, dsize=(w//scale, h//scale), interpolation=cv2.INTER_NEAREST)\n",
    "    return img\n",
    "\n",
    "def rescale_images(src_folder, dst_folder, scale=10):\n",
    "    scale_names = []\n",
    "    src_folder, dst_folder = Path(src_folder), Path(dst_folder)\n",
    "    for img_name in tqdm(src_folder.glob('*.tiff')):\n",
    "        img_name = next(Path(src_folder).glob('*.tiff'))\n",
    "        img = read_with_scale(img_name, scale)\n",
    "        scale_name = dst_folder / (img_name.stem + f'_scale_{scale}.png')\n",
    "        cv2.imwrite(str(scale_name), img)\n",
    "        scale_names.append(scale_name)\n",
    "    return scale_names\n",
    "        \n",
    "scale=10\n",
    "scale_names = rescale_images(src_folder, dst_folder, scale)\n",
    "scale_names"
   ]
  },
  {
   "cell_type": "code",
   "execution_count": 9,
   "id": "divided-hands",
   "metadata": {},
   "outputs": [],
   "source": [
    "# from osgeo import gdal\n",
    "# options_list = [\n",
    "#     '-outsize 10% 10%',\n",
    "#     '-of PNG',\n",
    "#     '-r nearest'\n",
    "# ] \n",
    "# options_string = \" \".join(options_list)\n",
    "\n",
    "# gdal.Translate('output/b9a3865fc_scale_rright_10.png',\n",
    "#                '/mnt/storage/HuBMAP/test/b9a3865fc.tiff',\n",
    "#                options=options_string)"
   ]
  },
  {
   "cell_type": "code",
   "execution_count": 11,
   "id": "impressive-browser",
   "metadata": {},
   "outputs": [
    {
     "name": "stdout",
     "output_type": "stream",
     "text": [
      "2021_Feb_10_19_55_56_PAMBUH  2021_Feb_15_18_55_28_PAMBUH  filters  style\n",
      "2021_Feb_15_15_06_52_PAMBUH  dotfiles\t\t\t  PAMBuH\n"
     ]
    }
   ],
   "source": [
    "!ls"
   ]
  },
  {
   "cell_type": "code",
   "execution_count": 17,
   "id": "sudden-article",
   "metadata": {},
   "outputs": [
    {
     "data": {
      "application/vnd.jupyter.widget-view+json": {
       "model_id": "3af5ff5b6c1e4b1c909a526c3057ec49",
       "version_major": 2,
       "version_minor": 0
      },
      "text/plain": [
       "Canvas(toolbar=Toolbar(toolitems=[('Home', 'Reset original view', 'home', 'home'), ('Back', 'Back to previous …"
      ]
     },
     "metadata": {},
     "output_type": "display_data"
    },
    {
     "data": {
      "application/vnd.jupyter.widget-view+json": {
       "model_id": "e483036a9a234e07ab7e5f7f1e3dedce",
       "version_major": 2,
       "version_minor": 0
      },
      "text/plain": [
       "VBox(children=(Button(description='Write polygon', style=ButtonStyle()), Button(description='Dump_backgrounds'…"
      ]
     },
     "metadata": {},
     "output_type": "display_data"
    }
   ],
   "source": [
    "class Markup:\n",
    "    def __init__(self, img_name, dst_path, scale=10):\n",
    "        self.scale = scale\n",
    "        self.img_name = img_name\n",
    "        self.dst_path = Path(dst_path)\n",
    "    \n",
    "    def _onclick(self, event):\n",
    "        self.coord.append([int(event.xdata), int(event.ydata)])\n",
    "        if len(self.coord) > 1:\n",
    "            xs, ys = zip(*self.coord)\n",
    "            plt.plot(xs, ys, 'g')\n",
    "            \n",
    "    def _on_button_clicked1(self, b):\n",
    "        self.coord = self.coord + [self.coord[0]]\n",
    "        xs, ys = zip(*self.coord)\n",
    "        plt.plot(xs, ys, color='green')\n",
    "        self.all_coords.append(self.coord)\n",
    "        self.coord  = []\n",
    "\n",
    "    def _on_button_clicked2(self, b):\n",
    "        self._dump_background_coords()\n",
    "\n",
    "    def _dump_background_coords(self):\n",
    "        data = []\n",
    "        for coords in self.all_coords:\n",
    "            data.append({\"geometry\": {\"type\": \"Polygon\", \"coordinates\": [[[x*self.scale, y*self.scale] for x, y in coords]]}})\n",
    "        backgrounds_name = self.img_name.stem + '_background.json'\n",
    "        with open(self.dst_path / backgrounds_name, 'w') as outfile:\n",
    "            json.dump(data, outfile)\n",
    "\n",
    "    def markup_background(self):\n",
    "        self.coord = []\n",
    "        self.all_coords = []\n",
    "        fig = plt.figure()\n",
    "        img = mpimg.imread(str(self.img_name))\n",
    "\n",
    "        cid = fig.canvas.mpl_connect('button_press_event', self._onclick)\n",
    "        imgplot = plt.imshow(img)\n",
    "        plt.show()\n",
    "\n",
    "        button1 = widgets.Button(description='Write polygon')\n",
    "        button2 = widgets.Button(description='Dump_backgrounds')\n",
    "        button1.on_click(self._on_button_clicked1)\n",
    "        button2.on_click(self._on_button_clicked2)\n",
    "        return widgets.VBox([button1, button2])\n",
    "\n",
    "ll = Markup('PAMBuH' / scale_names[0], dst_folder, scale)\n",
    "ll.markup_background()"
   ]
  },
  {
   "cell_type": "code",
   "execution_count": null,
   "id": "sharing-amazon",
   "metadata": {},
   "outputs": [],
   "source": []
  }
 ],
 "metadata": {
  "kernelspec": {
   "display_name": "Python 3",
   "language": "python",
   "name": "python3"
  },
  "language_info": {
   "codemirror_mode": {
    "name": "ipython",
    "version": 3
   },
   "file_extension": ".py",
   "mimetype": "text/x-python",
   "name": "python",
   "nbconvert_exporter": "python",
   "pygments_lexer": "ipython3",
   "version": "3.6.9"
  }
 },
 "nbformat": 4,
 "nbformat_minor": 5
}
