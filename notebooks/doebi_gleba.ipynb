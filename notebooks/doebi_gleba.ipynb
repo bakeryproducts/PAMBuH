{
 "cells": [
  {
   "cell_type": "markdown",
   "id": "tough-tuning",
   "metadata": {},
   "source": [
    "# Init"
   ]
  },
  {
   "cell_type": "code",
   "execution_count": null,
   "id": "jewish-platform",
   "metadata": {},
   "outputs": [],
   "source": [
    "%load_ext autoreload\n",
    "%autoreload 2"
   ]
  },
  {
   "cell_type": "code",
   "execution_count": null,
   "id": "accompanied-error",
   "metadata": {},
   "outputs": [],
   "source": [
    "import os\n",
    "import sys\n",
    "os.chdir('..')\n",
    "sys.path.append('src')"
   ]
  },
  {
   "cell_type": "code",
   "execution_count": null,
   "id": "aging-payroll",
   "metadata": {},
   "outputs": [],
   "source": [
    "from utils import read_frame, save_tiff_uint8_single_band\n",
    "from postprocessing import postprocess_test_folder, _plot_img"
   ]
  },
  {
   "cell_type": "code",
   "execution_count": null,
   "id": "handed-mounting",
   "metadata": {},
   "outputs": [],
   "source": [
    "def test_inf(batch):\n",
    "    return batch[:, :1]\n",
    "\n",
    "postprocess_test_folder(test_inf, '/mnt/storage/HuBMAP/train/', './output')"
   ]
  },
  {
   "cell_type": "code",
   "execution_count": null,
   "id": "joint-innocent",
   "metadata": {},
   "outputs": [],
   "source": []
  }
 ],
 "metadata": {
  "kernelspec": {
   "display_name": "Python 3",
   "language": "python",
   "name": "python3"
  },
  "language_info": {
   "codemirror_mode": {
    "name": "ipython",
    "version": 3
   },
   "file_extension": ".py",
   "mimetype": "text/x-python",
   "name": "python",
   "nbconvert_exporter": "python",
   "pygments_lexer": "ipython3",
   "version": "3.6.9"
  }
 },
 "nbformat": 4,
 "nbformat_minor": 5
}
