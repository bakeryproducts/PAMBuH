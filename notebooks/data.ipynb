{
 "cells": [
  {
   "cell_type": "markdown",
   "metadata": {},
   "source": [
    "# Imports"
   ]
  },
  {
   "cell_type": "code",
   "execution_count": null,
   "metadata": {},
   "outputs": [],
   "source": [
    "%load_ext autoreload\n",
    "%autoreload 2"
   ]
  },
  {
   "cell_type": "code",
   "execution_count": null,
   "metadata": {},
   "outputs": [],
   "source": [
    "import os\n",
    "import sys\n",
    "os.chdir('..')\n",
    "sys.path.append('src')"
   ]
  },
  {
   "cell_type": "code",
   "execution_count": null,
   "metadata": {},
   "outputs": [],
   "source": [
    "from PIL import Image\n",
    "from pathlib import Path\n",
    "from functools import partial, reduce\n",
    "from collections import defaultdict\n",
    "import multiprocessing as mp\n",
    "from contextlib import contextmanager\n",
    "\n",
    "import cv2\n",
    "import numpy as np\n",
    "from tqdm.auto import tqdm\n",
    "\n",
    "\n",
    "import utils\n",
    "import data\n",
    "import sampler"
   ]
  },
  {
   "cell_type": "code",
   "execution_count": null,
   "metadata": {},
   "outputs": [],
   "source": []
  },
  {
   "cell_type": "markdown",
   "metadata": {},
   "source": [
    "## Stats\n",
    "\n",
    "### Train\n",
    "- input/hm/train/4ef6695ce.tiff 1 [167.48280243 131.99601198 172.1840991 ] [53.6715833  74.18087042 50.01145663]\n",
    "- input/hm/train/b9a3865fc.tiff 3 [179.12058181 156.16663604 190.57224837] [57.33262864 66.68898569 53.26343919]\n",
    "- input/hm/train/e79de561c.tiff 3 [168.63503256 140.3692677  179.29400798] [47.20465075 63.66449426 39.38715776]\n",
    "- input/hm/train/8242609fa.tiff 3 [168.39762381 146.67506496 179.53406931] [68.85119601 75.34678935 66.46572523]\n",
    "- input/hm/train/cb2d976f4.tiff 3 [156.64766308 137.08461345 163.56018869] [85.22797112 86.17162812 85.83934117]\n",
    "- input/hm/train/26dc41664.tiff 1 [148.37026934 117.8351192  152.91550503] [74.70058493 81.79527692 73.60989621]\n",
    "- input/hm/train/b2dc8411c.tiff 3 [145.70774605 130.53835743 153.51077155] [90.19669735 90.07284394 91.13878548]\n",
    "- input/hm/train/afa5e8098.tiff 3 [144.79319853 121.24794863 154.07814847] [69.64398246 70.21465338 69.66028281]\n",
    "- input/hm/train/0486052bb.tiff 3 [155.04365695 140.8247772  163.27546087] [86.20611987 87.26473343 86.73144338]\n",
    "- input/hm/train/1e2425f28.tiff 1 [155.27908076 109.30259728 155.74962968] [60.41321818 74.58395251 58.64478221]\n",
    "- input/hm/train/c68fe75ea.tiff 1 [177.38737838 146.33150453 185.17719842] [34.14849425 52.73887964 25.65912719]\n",
    "- input/hm/train/aaa6a05cc.tiff 3 [168.53653974 146.01495027 178.91997248] [70.9594629  80.8427825  67.05318295]\n",
    "- input/hm/train/54f2eec69.tiff 3 [159.57231947 134.360238   164.28528555] [69.91997402 77.88897022 67.87669295]\n",
    "- input/hm/train/095bf7a1f.tiff 1 [141.92589491 113.2553824  144.47921706] [77.36870257 81.80458049 77.13849731]\n",
    "- input/hm/train/2f6ecfcdf.tiff 3 [150.00407259 134.96295758 157.40463786] [89.23076809 89.6362252  89.93819569]\n",
    "\n",
    "\n",
    "### Test\n",
    "- input/hm/test/57512b7f1.tiff 1 [151.83879508 129.67205882 155.49909348] [78.47813674 85.79231764 77.58990357]\n",
    "- input/hm/test/2ec3f1bb9.tiff 3 [176.16665974 150.29656892 187.40280662] [59.38260377 69.46464358 55.26716755]\n",
    "- input/hm/test/aa05346ff.tiff 1 [166.86605324 137.62296148 174.57705023] [45.55560103 56.21724257 43.40574615]\n",
    "- input/hm/test/3589adb90.tiff 3 [172.07196767 155.13386244 181.57171249] [72.44817365 78.52393954 70.44612831]\n",
    "- input/hm/test/d488c759a.tiff 1 [144.37003214 112.24489041 151.02178863] [71.41163807 79.79139525 70.18780297]\n"
   ]
  },
  {
   "cell_type": "code",
   "execution_count": null,
   "metadata": {},
   "outputs": [],
   "source": []
  },
  {
   "cell_type": "markdown",
   "metadata": {},
   "source": [
    "# Code"
   ]
  },
  {
   "cell_type": "markdown",
   "metadata": {},
   "source": [
    "## Narezator"
   ]
  },
  {
   "cell_type": "markdown",
   "metadata": {},
   "source": [
    "### Objects"
   ]
  },
  {
   "cell_type": "code",
   "execution_count": null,
   "metadata": {},
   "outputs": [],
   "source": [
    "@contextmanager\n",
    "def poolcontext(*args, **kwargs):\n",
    "    pool = mp.Pool(*args, **kwargs)\n",
    "    yield pool\n",
    "    pool.terminate()\n",
    "    \n",
    "def mp_func(foo, args, n):\n",
    "    args_chunks = [args[i:i + n] for i in range(0, len(args), n)]\n",
    "    with poolcontext(processes=n) as pool:\n",
    "        pool.map(foo, args_chunks)\n",
    "    \n",
    "def mp_foo(foo, args): return foo(*args)"
   ]
  },
  {
   "cell_type": "code",
   "execution_count": null,
   "metadata": {},
   "outputs": [],
   "source": [
    "def to_gray(i):return np.mean(i,-1,keepdims=True).repeat(3,-1)\n",
    "\n",
    "def mp_sampler(dst, i_fn, m_fn, a_fn, wh, wh_mask, idxs):\n",
    "    s = sampler.GdalSampler(i_fn, m_fn, a_fn, wh, wh_mask)\n",
    "    SCALE = 4\n",
    "    \n",
    "    for idx in idxs:\n",
    "        i,m = s[idx]  \n",
    "        \n",
    "        img_dir = dst / 'imgs' / i_fn.with_suffix('').name\n",
    "        os.makedirs(str(img_dir), exist_ok=True)\n",
    "        \n",
    "        mask_dir = dst / 'masks' / i_fn.with_suffix('').name\n",
    "        os.makedirs(str(mask_dir), exist_ok=True)\n",
    "        \n",
    "        orig_name = (str(idx).zfill(6) + '.png')\n",
    "        img_name = img_dir / orig_name \n",
    "        mask_name = mask_dir /orig_name\n",
    "         \n",
    "        \n",
    "        i = i.transpose(1,2,0)\n",
    "        m = m.transpose(1,2,0)\n",
    "        \n",
    "        #i = i.mean(-1, keepdims=True).astype(np.uint8)\n",
    "        #i = i.repeat(3,-1)\n",
    "        #print(i.shape, i.dtype, m.shape, m.dtype)\n",
    "        i = cv2.cvtColor(i, cv2.COLOR_BGR2RGB)\n",
    "        \n",
    "        m = 255 * m.repeat(3,-1).astype(np.uint8)\n",
    "        \n",
    "        \n",
    "        i = cv2.resize(i, (wh[0]//SCALE, wh[1]//SCALE), interpolation=cv2.INTER_AREA)\n",
    "        m = cv2.resize(m, (wh[0]//SCALE, wh[1]//SCALE), interpolation=cv2.INTER_NEAREST)\n",
    "        \n",
    "        \n",
    "        cv2.imwrite(str(img_name), i)\n",
    "        cv2.imwrite(str(mask_name), m)\n",
    "    return"
   ]
  },
  {
   "cell_type": "code",
   "execution_count": null,
   "metadata": {},
   "outputs": [],
   "source": [
    "imgs_path = Path('input/hm/train')\n",
    "masks_path = Path('input/bigmasks/')\n",
    "#p = Path('/home/sokolov/work/webinf/data/kidney/train/')\n",
    "dst_path = Path('input/CUTS/cuts1024x25')\n",
    "NUM_PROC = 16\n",
    "wh = (1024,1024)"
   ]
  },
  {
   "cell_type": "code",
   "execution_count": null,
   "metadata": {},
   "outputs": [],
   "source": [
    "filt = partial(utils.filter_ban_str_in_name, bans=['-', '_ell'])\n",
    "ann_fns = sorted(utils.get_filenames(imgs_path, '*.json', filt))\n",
    "masks_fns = sorted(utils.get_filenames(masks_path, '*.tiff', filt))\n",
    "img_fns = sorted([a.with_suffix('.tiff') for a in ann_fns])\n",
    "#img_fns, ann_fns, masks_fns"
   ]
  },
  {
   "cell_type": "code",
   "execution_count": null,
   "metadata": {},
   "outputs": [],
   "source": []
  },
  {
   "cell_type": "code",
   "execution_count": null,
   "metadata": {},
   "outputs": [],
   "source": [
    "t = np.ones((8,8,3), dtype=np.uint8)\n",
    "t.shape, t.dtype"
   ]
  },
  {
   "cell_type": "code",
   "execution_count": null,
   "metadata": {},
   "outputs": [],
   "source": [
    "cv2.resize(t, (2,2), 3)"
   ]
  },
  {
   "cell_type": "code",
   "execution_count": null,
   "metadata": {},
   "outputs": [],
   "source": []
  },
  {
   "cell_type": "code",
   "execution_count": null,
   "metadata": {},
   "outputs": [],
   "source": []
  },
  {
   "cell_type": "code",
   "execution_count": null,
   "metadata": {},
   "outputs": [],
   "source": [
    "# for i,m in _s:\n",
    "#     print(i.shape, m.shape)"
   ]
  },
  {
   "cell_type": "code",
   "execution_count": null,
   "metadata": {},
   "outputs": [],
   "source": []
  },
  {
   "cell_type": "code",
   "execution_count": null,
   "metadata": {},
   "outputs": [],
   "source": []
  },
  {
   "cell_type": "code",
   "execution_count": null,
   "metadata": {},
   "outputs": [],
   "source": [
    "#assert  False , 'DO ONCE'\n",
    "for i_fn, m_fn, a_fn in tqdm(zip(img_fns, masks_fns, ann_fns)):\n",
    "    const_args = i_fn, m_fn, a_fn, wh, wh\n",
    "    _s = sampler.GdalSampler(*const_args)\n",
    "    part_samp = partial(mp_sampler, *(dst_path, *const_args))\n",
    "    mp_func(part_samp, range(len(_s)), NUM_PROC)\n",
    "    #break"
   ]
  },
  {
   "cell_type": "markdown",
   "metadata": {},
   "source": [
    "### Backgrounds"
   ]
  },
  {
   "cell_type": "code",
   "execution_count": null,
   "metadata": {},
   "outputs": [],
   "source": [
    "imgs_path = Path('input/hm/train')\n",
    "masks_path = Path('input/bigmasks/')\n",
    "dst_path = Path('input/backs020_x25')\n",
    "#NUM_PROC = 16\n",
    "wh = (1024,1024)\n",
    "pct = .2\n"
   ]
  },
  {
   "cell_type": "code",
   "execution_count": null,
   "metadata": {},
   "outputs": [],
   "source": [
    "filt = partial(utils.filter_ban_str_in_name, bans=['-', '_ell'])\n",
    "ann_fns = sorted(utils.get_filenames(imgs_path, '*.json', filt))\n",
    "masks_fns = sorted(utils.get_filenames(masks_path, '*.tiff', filt))\n",
    "img_fns = sorted([a.with_suffix('.tiff') for a in ann_fns])\n",
    "#img_fns, ann_fns, masks_fns"
   ]
  },
  {
   "cell_type": "code",
   "execution_count": null,
   "metadata": {},
   "outputs": [],
   "source": []
  },
  {
   "cell_type": "code",
   "execution_count": null,
   "metadata": {},
   "outputs": [],
   "source": [
    "idx = 0\n",
    "img_path = img_fns[idx]\n",
    "mask_path = masks_fns[idx] \n",
    "img_anot_struct_path = img_path.parent / (img_path.stem + '-anatomical-structure.json')\n",
    "recs = utils.jread(str(ann_fns[idx]))"
   ]
  },
  {
   "cell_type": "code",
   "execution_count": null,
   "metadata": {},
   "outputs": [],
   "source": [
    "\n",
    "ni = int(len(recs) * pct)\n",
    "polys = utils.get_cortex_polygons(utils.jread(img_anot_struct_path))\n",
    "s = sampler.BackgroundSampler(img_path, mask_path, polys, wh, wh, ni)"
   ]
  },
  {
   "cell_type": "code",
   "execution_count": null,
   "metadata": {},
   "outputs": [],
   "source": [
    "#assert  False , 'DO ONCE'\n",
    "for i_fn, m_fn, a_fn in tqdm(zip(img_fns, masks_fns, ann_fns)):\n",
    "    SCALE = 4\n",
    "    \n",
    "    img_anot_struct_path = i_fn.parent / (i_fn.stem + '-anatomical-structure.json')\n",
    "    recs = utils.jread(str(a_fn))\n",
    "    ni = int(len(recs) * pct)\n",
    "    polys = utils.get_cortex_polygons(utils.jread(img_anot_struct_path))\n",
    "    s = sampler.BackgroundSampler(i_fn, m_fn, polys, wh, wh, ni)\n",
    "    \n",
    "    img_dir = dst_path / 'imgs' / i_fn.with_suffix('').name\n",
    "    os.makedirs(str(img_dir), exist_ok=True)\n",
    "\n",
    "    mask_dir = dst_path / 'masks' / i_fn.with_suffix('').name\n",
    "    os.makedirs(str(mask_dir), exist_ok=True)\n",
    "    #print(i_fn)\n",
    "    for idx, (i,m) in enumerate(s):\n",
    "        #print(i.shape, m.shape)\n",
    "        orig_name = (str(idx).zfill(6) + '.png')\n",
    "        img_name = img_dir / orig_name \n",
    "        mask_name = mask_dir /orig_name\n",
    "        \n",
    "        i = i.transpose(1,2,0)\n",
    "        #i = i.mean(-1, keepdims=True).astype(np.uint8).repeat(3,-1)\n",
    "        #print(i.shape, i.dtype, m.shape, m.dtype)\n",
    "        i = cv2.cvtColor(i, cv2.COLOR_BGR2RGB)\n",
    "        \n",
    "        m = m.transpose(1,2,0)\n",
    "        m = 255 * m.repeat(3,-1).astype(np.uint8)\n",
    "        \n",
    "        \n",
    "        i = cv2.resize(i, (wh[0]//SCALE, wh[1]//SCALE), interpolation=cv2.INTER_AREA)\n",
    "        m = cv2.resize(m, (wh[0]//SCALE, wh[1]//SCALE), interpolation=cv2.INTER_NEAREST)\n",
    "        \n",
    "        cv2.imwrite(str(img_name), i)\n",
    "        cv2.imwrite(str(mask_name), m)"
   ]
  },
  {
   "cell_type": "code",
   "execution_count": null,
   "metadata": {},
   "outputs": [],
   "source": []
  },
  {
   "cell_type": "code",
   "execution_count": null,
   "metadata": {},
   "outputs": [],
   "source": []
  },
  {
   "cell_type": "code",
   "execution_count": null,
   "metadata": {},
   "outputs": [],
   "source": [
    "from ipywidgets import interact, interactive, fixed, interact_manual\n",
    "import ipywidgets as widgets\n",
    "\n",
    "@interact(idx=(0, len(s)),continuous_update=False)\n",
    "def view(idx): return Image.fromarray(s[idx][0].transpose(1,2,0))"
   ]
  },
  {
   "cell_type": "code",
   "execution_count": null,
   "metadata": {},
   "outputs": [],
   "source": []
  },
  {
   "cell_type": "markdown",
   "metadata": {},
   "source": [
    "## Datasets"
   ]
  },
  {
   "cell_type": "code",
   "execution_count": null,
   "metadata": {},
   "outputs": [],
   "source": [
    "root = Path('input/backs020_x25/')\n",
    "sd = data.SegmentDataset(root / 'imgs', root / 'masks', mode_train=False)\n",
    "len(sd)"
   ]
  },
  {
   "cell_type": "code",
   "execution_count": null,
   "metadata": {},
   "outputs": [],
   "source": [
    "from ipywidgets import interact, interactive, fixed, interact_manual\n",
    "import ipywidgets as widgets\n",
    "\n",
    "@interact(idx=(0, len(sd)-1),continuous_update=False)\n",
    "def view(idx): return sd._view(idx)"
   ]
  },
  {
   "cell_type": "code",
   "execution_count": null,
   "metadata": {},
   "outputs": [],
   "source": []
  },
  {
   "cell_type": "code",
   "execution_count": null,
   "metadata": {},
   "outputs": [],
   "source": []
  },
  {
   "cell_type": "code",
   "execution_count": null,
   "metadata": {},
   "outputs": [],
   "source": [
    "root = Path('input/SPLITS/split1024x25/train/')\n",
    "sd = data.SegmentDataset(root / 'imgs', root / 'masks', mode_train=False)\n",
    "len(sd)"
   ]
  },
  {
   "cell_type": "code",
   "execution_count": null,
   "metadata": {},
   "outputs": [],
   "source": [
    "tds = data.TagSegmentDataset(root / 'imgs', root / 'masks', mode_train=True)\n",
    "len(tds)"
   ]
  },
  {
   "cell_type": "code",
   "execution_count": null,
   "metadata": {},
   "outputs": [],
   "source": [
    "tot = 0\n",
    "for _,(_,c) in tds:\n",
    "    tot+=c"
   ]
  },
  {
   "cell_type": "code",
   "execution_count": null,
   "metadata": {},
   "outputs": [],
   "source": [
    "tot/len(tds)"
   ]
  },
  {
   "cell_type": "code",
   "execution_count": null,
   "metadata": {},
   "outputs": [],
   "source": []
  },
  {
   "cell_type": "code",
   "execution_count": null,
   "metadata": {},
   "outputs": [],
   "source": []
  },
  {
   "cell_type": "code",
   "execution_count": null,
   "metadata": {},
   "outputs": [],
   "source": []
  },
  {
   "cell_type": "code",
   "execution_count": null,
   "metadata": {},
   "outputs": [],
   "source": []
  },
  {
   "cell_type": "markdown",
   "metadata": {},
   "source": [
    "## Dataloaders"
   ]
  },
  {
   "cell_type": "code",
   "execution_count": null,
   "metadata": {},
   "outputs": [],
   "source": [
    "from config import cfg, cfg_init\n",
    "from pprint import pprint\n",
    "\n",
    "from callbacks import  denorm"
   ]
  },
  {
   "cell_type": "code",
   "execution_count": null,
   "metadata": {},
   "outputs": [],
   "source": [
    "cfg_init('src/configs/unet_gelb.yaml')\n",
    "cfg['TRANSFORMERS']['TRAIN']['AUG'] = 'light_scale'\n",
    "\n",
    "cfg['PARALLEL']['DDP'] = False\n",
    "cfg['DATA']['TRAIN']['PRELOAD'] = False\n",
    "cfg['DATA']['TRAIN']['MULTIPLY'][\"rate\"] = 2\n",
    "#cfg['DATA']['TRAIN']['DATASETS'] = ['train1024x25']"
   ]
  },
  {
   "cell_type": "code",
   "execution_count": null,
   "metadata": {},
   "outputs": [],
   "source": [
    "pprint(cfg)"
   ]
  },
  {
   "cell_type": "code",
   "execution_count": null,
   "metadata": {},
   "outputs": [],
   "source": []
  },
  {
   "cell_type": "code",
   "execution_count": null,
   "metadata": {},
   "outputs": [],
   "source": [
    "datasets = data.build_datasets(cfg, dataset_types=['TRAIN','VALID'])"
   ]
  },
  {
   "cell_type": "code",
   "execution_count": null,
   "metadata": {},
   "outputs": [],
   "source": [
    "datasets = data.build_datasets(cfg)\n",
    "tds = datasets['TRAIN']\n",
    "vds = datasets['VALID']\n",
    "len(tds)"
   ]
  },
  {
   "cell_type": "code",
   "execution_count": null,
   "metadata": {},
   "outputs": [],
   "source": [
    "def show_img(tds, idx):\n",
    "    img, mask = tds[idx]\n",
    "    print(img.shape, img.dtype)\n",
    "    img = denorm(img, cfg.TRANSFORMERS.MEAN, cfg.TRANSFORMERS.STD)\n",
    "    img = img.squeeze().permute(1,2,0).cpu().numpy()\n",
    "    img = (img * 255.).astype(np.uint8)\n",
    "    return Image.fromarray(img)"
   ]
  },
  {
   "cell_type": "code",
   "execution_count": null,
   "metadata": {},
   "outputs": [],
   "source": [
    "show_img(tds, 0)"
   ]
  },
  {
   "cell_type": "code",
   "execution_count": null,
   "metadata": {},
   "outputs": [],
   "source": [
    "import random"
   ]
  },
  {
   "cell_type": "code",
   "execution_count": null,
   "metadata": {},
   "outputs": [],
   "source": [
    "from _data import make_datasets_folds"
   ]
  },
  {
   "cell_type": "code",
   "execution_count": null,
   "metadata": {},
   "outputs": [],
   "source": [
    "N_FOLDS = 4\n",
    "datasets_as_folds = make_datasets_folds(cfg, datasets, N_FOLDS, shuffle=False)"
   ]
  },
  {
   "cell_type": "code",
   "execution_count": null,
   "metadata": {},
   "outputs": [],
   "source": [
    "datasets_as_folds"
   ]
  },
  {
   "cell_type": "code",
   "execution_count": null,
   "metadata": {},
   "outputs": [],
   "source": [
    "for dss in datasets_as_folds:\n",
    "    dls = data.build_dataloaders(cfg, dss, pin=True, drop_last=False)\n",
    "    tdl = dls['TRAIN']\n",
    "    print(tdl, len(tdl))\n",
    "    for b in tdl:\n",
    "        pass"
   ]
  },
  {
   "cell_type": "code",
   "execution_count": null,
   "metadata": {},
   "outputs": [],
   "source": []
  },
  {
   "cell_type": "code",
   "execution_count": null,
   "metadata": {},
   "outputs": [],
   "source": []
  },
  {
   "cell_type": "code",
   "execution_count": null,
   "metadata": {},
   "outputs": [],
   "source": [
    "tot = 0\n",
    "for dss in datasets_as_folds:\n",
    "    for k, v in dss.items():\n",
    "        print(len(v))\n",
    "        if k == 'TRAIN':\n",
    "            tot += len(v)"
   ]
  },
  {
   "cell_type": "code",
   "execution_count": null,
   "metadata": {},
   "outputs": [],
   "source": [
    "tot"
   ]
  },
  {
   "cell_type": "code",
   "execution_count": null,
   "metadata": {},
   "outputs": [],
   "source": [
    "act_len = len(tds)//2"
   ]
  },
  {
   "cell_type": "code",
   "execution_count": null,
   "metadata": {},
   "outputs": [],
   "source": []
  },
  {
   "cell_type": "code",
   "execution_count": null,
   "metadata": {},
   "outputs": [],
   "source": [
    "idx = 47\n",
    "show_img(tds, idx)"
   ]
  },
  {
   "cell_type": "code",
   "execution_count": null,
   "metadata": {},
   "outputs": [],
   "source": [
    "show_img(tds, idx + act_len)"
   ]
  },
  {
   "cell_type": "code",
   "execution_count": null,
   "metadata": {},
   "outputs": [],
   "source": []
  },
  {
   "cell_type": "code",
   "execution_count": null,
   "metadata": {},
   "outputs": [],
   "source": []
  },
  {
   "cell_type": "code",
   "execution_count": null,
   "metadata": {},
   "outputs": [],
   "source": []
  },
  {
   "cell_type": "code",
   "execution_count": null,
   "metadata": {},
   "outputs": [],
   "source": []
  },
  {
   "cell_type": "code",
   "execution_count": null,
   "metadata": {},
   "outputs": [],
   "source": [
    "def pimg(img):\n",
    "    img = img.squeeze().cpu().numpy()\n",
    "    img = (img * 255.).astype(np.uint8)\n",
    "    return Image.fromarray(img)"
   ]
  },
  {
   "cell_type": "code",
   "execution_count": null,
   "metadata": {},
   "outputs": [],
   "source": [
    "import torch\n",
    "import matplotlib.pyplot as plt\n",
    "%matplotlib inline"
   ]
  },
  {
   "cell_type": "code",
   "execution_count": null,
   "metadata": {},
   "outputs": [],
   "source": [
    "from model import load_model, FoldModel\n",
    "mps = Path('output/2021_Mar_11_23_19_45_PAMBUH').rglob('*.pth')\n",
    "mps = list(mps)\n",
    "mps"
   ]
  },
  {
   "cell_type": "code",
   "execution_count": null,
   "metadata": {},
   "outputs": [],
   "source": [
    "m1 = load_model(1, mps[-1])"
   ]
  },
  {
   "cell_type": "code",
   "execution_count": null,
   "metadata": {
    "jupyter": {
     "outputs_hidden": true
    }
   },
   "outputs": [],
   "source": [
    "ms = [load_model(1, mp) for mp in mps if '499' in str(mp)]\n",
    "ms"
   ]
  },
  {
   "cell_type": "code",
   "execution_count": null,
   "metadata": {},
   "outputs": [],
   "source": [
    "class FoldModel(torch.nn.Module):\n",
    "    def __init__(self, models):\n",
    "        super(FoldModel, self).__init__()\n",
    "        self.ms = models\n",
    "        \n",
    "    def forward(self, x):\n",
    "        res = torch.stack([m(x) for m in self.ms])\n",
    "        print(res.shape)\n",
    "        return res.mean(0)"
   ]
  },
  {
   "cell_type": "code",
   "execution_count": null,
   "metadata": {},
   "outputs": [],
   "source": [
    "fold_model = FoldModel(ms)"
   ]
  },
  {
   "cell_type": "code",
   "execution_count": null,
   "metadata": {},
   "outputs": [],
   "source": [
    "len(vds)"
   ]
  },
  {
   "cell_type": "code",
   "execution_count": null,
   "metadata": {},
   "outputs": [],
   "source": [
    "idx = 120\n",
    "show_img(vds, idx)"
   ]
  },
  {
   "cell_type": "code",
   "execution_count": null,
   "metadata": {},
   "outputs": [],
   "source": [
    "i,m = vds[idx]\n",
    "i.shape, i.mean(), i.std()"
   ]
  },
  {
   "cell_type": "code",
   "execution_count": null,
   "metadata": {},
   "outputs": [],
   "source": [
    "i = i.view(1,*i.shape).repeat(2,1,1,1)\n",
    "i.shape"
   ]
  },
  {
   "cell_type": "code",
   "execution_count": null,
   "metadata": {},
   "outputs": [],
   "source": [
    "with torch.no_grad():\n",
    "    res = torch.sigmoid(fold_model(i))"
   ]
  },
  {
   "cell_type": "code",
   "execution_count": null,
   "metadata": {},
   "outputs": [],
   "source": [
    "plt.hist(res.cpu().numpy().flatten(), bins=50);"
   ]
  },
  {
   "cell_type": "code",
   "execution_count": null,
   "metadata": {},
   "outputs": [],
   "source": [
    "res.shape"
   ]
  },
  {
   "cell_type": "code",
   "execution_count": null,
   "metadata": {},
   "outputs": [],
   "source": [
    "pimg(res[0]>.7)"
   ]
  },
  {
   "cell_type": "code",
   "execution_count": null,
   "metadata": {},
   "outputs": [],
   "source": [
    "pimg(m)"
   ]
  },
  {
   "cell_type": "code",
   "execution_count": null,
   "metadata": {},
   "outputs": [],
   "source": []
  },
  {
   "cell_type": "code",
   "execution_count": null,
   "metadata": {},
   "outputs": [],
   "source": []
  },
  {
   "cell_type": "code",
   "execution_count": null,
   "metadata": {},
   "outputs": [],
   "source": []
  },
  {
   "cell_type": "code",
   "execution_count": null,
   "metadata": {},
   "outputs": [],
   "source": [
    "%%timeit -n 10 -r 10\n",
    "tds[0]"
   ]
  },
  {
   "cell_type": "code",
   "execution_count": null,
   "metadata": {},
   "outputs": [],
   "source": [
    "i.shape, i.dtype, i.max(), i.mean(), i.std()"
   ]
  },
  {
   "cell_type": "code",
   "execution_count": null,
   "metadata": {},
   "outputs": [],
   "source": [
    "m.shape, m.dtype, m.max()#, m.mean(), m.std()"
   ]
  },
  {
   "cell_type": "code",
   "execution_count": null,
   "metadata": {},
   "outputs": [],
   "source": [
    "dls = data.build_dataloaders(cfg, datasets, pin=True, drop_last=False)\n",
    "tdl = dls['TRAIN']"
   ]
  },
  {
   "cell_type": "code",
   "execution_count": null,
   "metadata": {},
   "outputs": [],
   "source": [
    "dls"
   ]
  },
  {
   "cell_type": "code",
   "execution_count": null,
   "metadata": {},
   "outputs": [],
   "source": [
    "for xb, yb in dls['VALID2']:\n",
    "    break"
   ]
  },
  {
   "cell_type": "code",
   "execution_count": null,
   "metadata": {},
   "outputs": [],
   "source": []
  },
  {
   "cell_type": "code",
   "execution_count": null,
   "metadata": {},
   "outputs": [],
   "source": []
  },
  {
   "cell_type": "code",
   "execution_count": null,
   "metadata": {},
   "outputs": [],
   "source": []
  },
  {
   "cell_type": "code",
   "execution_count": null,
   "metadata": {},
   "outputs": [],
   "source": []
  },
  {
   "cell_type": "code",
   "execution_count": null,
   "metadata": {},
   "outputs": [],
   "source": [
    "%%timeit -n 2 -r 2\n",
    "for xb, yb in tdl:\n",
    "    pass\n",
    "    #break"
   ]
  },
  {
   "cell_type": "code",
   "execution_count": null,
   "metadata": {},
   "outputs": [],
   "source": [
    "xb.shape, xb.dtype, xb.mean(), xb.std()"
   ]
  },
  {
   "cell_type": "code",
   "execution_count": null,
   "metadata": {},
   "outputs": [],
   "source": [
    "yb.shape, yb.dtype, yb.max()"
   ]
  },
  {
   "cell_type": "code",
   "execution_count": null,
   "metadata": {},
   "outputs": [],
   "source": []
  },
  {
   "cell_type": "code",
   "execution_count": null,
   "metadata": {},
   "outputs": [],
   "source": [
    "import rasterio as rio"
   ]
  },
  {
   "cell_type": "code",
   "execution_count": null,
   "metadata": {},
   "outputs": [],
   "source": [
    "path = Path('input/hm/train/')\n",
    "imgs = list(path.glob('*.tiff'))\n",
    "imgs"
   ]
  },
  {
   "cell_type": "code",
   "execution_count": null,
   "metadata": {},
   "outputs": [],
   "source": [
    "def save_tiff_uint8_3_band(img, path):\n",
    "    assert img.dtype == np.uint8\n",
    "    if img.max() <= 1. : print(f\"Warning: saving tiff with max value is <= 1, {path}\")\n",
    "    _, h, w = img.shape\n",
    "    dst = rio.open(path, 'w', driver='GTiff', height=h, width=w, count=3, dtype=np.uint8, interleave='band', compress='deflate')\n",
    "    dst.write(img)\n",
    "    dst.close()\n",
    "    del dst"
   ]
  },
  {
   "cell_type": "code",
   "execution_count": null,
   "metadata": {},
   "outputs": [],
   "source": []
  },
  {
   "cell_type": "code",
   "execution_count": null,
   "metadata": {},
   "outputs": [],
   "source": [
    "for img in imgs:\n",
    "    ds = rio.open(str(img))\n",
    "    #break\n",
    "    if ds.count == 1:\n",
    "        print(f'Single channel: {img}')\n",
    "        dss = ds.subdatasets\n",
    "        i = np.zeros((3, *ds.shape), dtype=np.uint8)\n",
    "        for j, ds in enumerate(dss):\n",
    "            ds = rio.open(ds)\n",
    "            i[j]  = ds.read()\n",
    "        new_name = str(img.parent) + f'/upd/{img.name}'\n",
    "        save_tiff_uint8_3_band(i, new_name)\n",
    "    else:\n",
    "        print(f'3 channels {img}')\n",
    "        i = ds.read()\n",
    "        \n",
    "    print(i.mean((1,2)), i.std((1,2)))\n",
    "    #break"
   ]
  },
  {
   "cell_type": "code",
   "execution_count": null,
   "metadata": {},
   "outputs": [],
   "source": []
  },
  {
   "cell_type": "code",
   "execution_count": null,
   "metadata": {},
   "outputs": [],
   "source": [
    "ds.profile"
   ]
  },
  {
   "cell_type": "code",
   "execution_count": null,
   "metadata": {},
   "outputs": [],
   "source": []
  },
  {
   "cell_type": "code",
   "execution_count": null,
   "metadata": {},
   "outputs": [],
   "source": [
    "tds = rio.open(new_name)"
   ]
  },
  {
   "cell_type": "code",
   "execution_count": null,
   "metadata": {},
   "outputs": [],
   "source": [
    "tds.shape, tds.count"
   ]
  },
  {
   "cell_type": "code",
   "execution_count": null,
   "metadata": {},
   "outputs": [],
   "source": [
    "tds.compression"
   ]
  },
  {
   "cell_type": "code",
   "execution_count": null,
   "metadata": {},
   "outputs": [],
   "source": [
    "tds.profile"
   ]
  },
  {
   "cell_type": "code",
   "execution_count": null,
   "metadata": {},
   "outputs": [],
   "source": []
  },
  {
   "cell_type": "code",
   "execution_count": null,
   "metadata": {},
   "outputs": [],
   "source": [
    "i.shape"
   ]
  },
  {
   "cell_type": "code",
   "execution_count": null,
   "metadata": {},
   "outputs": [],
   "source": [
    "i.mean((1,2))"
   ]
  },
  {
   "cell_type": "code",
   "execution_count": null,
   "metadata": {},
   "outputs": [],
   "source": []
  },
  {
   "cell_type": "code",
   "execution_count": null,
   "metadata": {},
   "outputs": [],
   "source": []
  },
  {
   "cell_type": "code",
   "execution_count": null,
   "metadata": {},
   "outputs": [],
   "source": []
  },
  {
   "cell_type": "code",
   "execution_count": null,
   "metadata": {},
   "outputs": [],
   "source": []
  },
  {
   "cell_type": "code",
   "execution_count": null,
   "metadata": {},
   "outputs": [],
   "source": [
    "t.shape, t.dtype, t.mean()"
   ]
  },
  {
   "cell_type": "code",
   "execution_count": null,
   "metadata": {},
   "outputs": [],
   "source": [
    "t.shape, t.dtype, t.mean()"
   ]
  },
  {
   "cell_type": "code",
   "execution_count": null,
   "metadata": {},
   "outputs": [],
   "source": [
    "t.shape, t.dtype, t.mean()"
   ]
  },
  {
   "cell_type": "code",
   "execution_count": null,
   "metadata": {},
   "outputs": [],
   "source": []
  },
  {
   "cell_type": "code",
   "execution_count": null,
   "metadata": {},
   "outputs": [],
   "source": []
  }
 ],
 "metadata": {
  "kernelspec": {
   "display_name": "Python 3",
   "language": "python",
   "name": "python3"
  },
  "language_info": {
   "codemirror_mode": {
    "name": "ipython",
    "version": 3
   },
   "file_extension": ".py",
   "mimetype": "text/x-python",
   "name": "python",
   "nbconvert_exporter": "python",
   "pygments_lexer": "ipython3",
   "version": "3.6.9"
  }
 },
 "nbformat": 4,
 "nbformat_minor": 4
}
