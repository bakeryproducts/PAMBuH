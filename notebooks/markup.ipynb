{
 "cells": [
  {
   "cell_type": "code",
   "execution_count": 1,
   "id": "worthy-advocacy",
   "metadata": {},
   "outputs": [],
   "source": [
    "%load_ext autoreload\n",
    "%autoreload 2"
   ]
  },
  {
   "cell_type": "code",
   "execution_count": 2,
   "id": "sharing-metallic",
   "metadata": {},
   "outputs": [],
   "source": [
    "import os\n",
    "import sys\n",
    "import json\n",
    "os.chdir('..')\n",
    "sys.path.append('src')\n",
    "os.environ[\"CUDA_VISIBLE_DEVICES\"]=\"0\""
   ]
  },
  {
   "cell_type": "code",
   "execution_count": 3,
   "id": "composed-diesel",
   "metadata": {},
   "outputs": [],
   "source": [
    "from pathlib import Path\n",
    "import matplotlib.pyplot as plt\n",
    "import matplotlib.image as mpimg\n",
    "%matplotlib widget\n",
    "import ipywidgets as widgets\n",
    "\n",
    "import markup"
   ]
  },
  {
   "cell_type": "code",
   "execution_count": 4,
   "id": "dressed-citizen",
   "metadata": {},
   "outputs": [],
   "source": [
    "# src_folder = '/mnt/storage/HuBMAP/test'\n",
    "# dst_folder = './HuBMAP/output'\n",
    "# img_name = next(Path(src_folder).glob('*.tiff'))\n",
    "# print(img_name)"
   ]
  },
  {
   "cell_type": "code",
   "execution_count": null,
   "id": "introductory-peripheral",
   "metadata": {},
   "outputs": [
    {
     "data": {
      "application/vnd.jupyter.widget-view+json": {
       "model_id": "dd2ca39c3eeb4d99a4a8b109a0295331",
       "version_major": 2,
       "version_minor": 0
      },
      "text/plain": [
       "0it [00:00, ?it/s]"
      ]
     },
     "metadata": {},
     "output_type": "display_data"
    },
    {
     "name": "stderr",
     "output_type": "stream",
     "text": [
      "/usr/local/lib/python3.6/dist-packages/rasterio/__init__.py:207: NotGeoreferencedWarning: Dataset has no geotransform, gcps, or rpcs. The identity matrix be returned.\n",
      "  s = DatasetReader(path, driver=driver, sharing=sharing, **kwargs)\n"
     ]
    }
   ],
   "source": [
    "src_folder = '/mnt/storage/HuBMAP/test'\n",
    "dst_folder = './output'\n",
    "scale=10\n",
    "scale_names = markup.rescale_images(src_folder, dst_folder, scale)\n",
    "scale_names"
   ]
  },
  {
   "cell_type": "code",
   "execution_count": 26,
   "id": "closing-farming",
   "metadata": {},
   "outputs": [],
   "source": [
    "# from osgeo import gdal\n",
    "# options_list = [\n",
    "#     '-outsize 10% 10%',\n",
    "#     '-of PNG',\n",
    "#     '-r nearest'\n",
    "# ] \n",
    "# options_string = \" \".join(options_list)\n",
    "\n",
    "# gdal.Translate('output/b9a3865fc_scale_rright_10.png',\n",
    "#                '/mnt/storage/HuBMAP/test/b9a3865fc.tiff',\n",
    "#                options=options_string)"
   ]
  },
  {
   "cell_type": "code",
   "execution_count": 44,
   "id": "geographic-mustang",
   "metadata": {},
   "outputs": [
    {
     "data": {
      "application/vnd.jupyter.widget-view+json": {
       "model_id": "74f10bcd7a8d4b61ab539d7a343023ef",
       "version_major": 2,
       "version_minor": 0
      },
      "text/plain": [
       "Canvas(toolbar=Toolbar(toolitems=[('Home', 'Reset original view', 'home', 'home'), ('Back', 'Back to previous …"
      ]
     },
     "metadata": {},
     "output_type": "display_data"
    },
    {
     "data": {
      "application/vnd.jupyter.widget-view+json": {
       "model_id": "b79ff8d3022d4a258c64dd5985a239f6",
       "version_major": 2,
       "version_minor": 0
      },
      "text/plain": [
       "VBox(children=(Button(description='Finish drawing polygon', style=ButtonStyle()), Button(description='Dump all…"
      ]
     },
     "metadata": {},
     "output_type": "display_data"
    }
   ],
   "source": [
    "src_name = scale_names[0]\n",
    "dst_name = scale_names[0].parents[0] / (scale_names[0].stem + '_markup.json')\n",
    "mrkp = markup.Markup(scale_names[0], dst_name, scale=scale)\n",
    "mrkp.markup_polygons()"
   ]
  },
  {
   "cell_type": "code",
   "execution_count": null,
   "id": "double-south",
   "metadata": {},
   "outputs": [],
   "source": []
  }
 ],
 "metadata": {
  "kernelspec": {
   "display_name": "Python 3",
   "language": "python",
   "name": "python3"
  },
  "language_info": {
   "codemirror_mode": {
    "name": "ipython",
    "version": 3
   },
   "file_extension": ".py",
   "mimetype": "text/x-python",
   "name": "python",
   "nbconvert_exporter": "python",
   "pygments_lexer": "ipython3",
   "version": "3.6.9"
  }
 },
 "nbformat": 4,
 "nbformat_minor": 5
}
