{
 "cells": [
  {
   "cell_type": "code",
   "execution_count": null,
   "metadata": {},
   "outputs": [],
   "source": [
    "import os\n",
    "import sys\n",
    "os.chdir('..')\n",
    "sys.path.append('src')"
   ]
  },
  {
   "cell_type": "code",
   "execution_count": null,
   "metadata": {},
   "outputs": [],
   "source": [
    "import os\n",
    "from datetime import datetime\n",
    "\n",
    "from pathlib import Path\n",
    "import shutil\n",
    "import numpy as np"
   ]
  },
  {
   "cell_type": "code",
   "execution_count": null,
   "metadata": {},
   "outputs": [],
   "source": [
    "def get_images(root):\n",
    "    imgs = list((root/'imgs').glob('*'))\n",
    "    for img in imgs:\n",
    "        filenames = list(img.glob('*'))\n",
    "        yield filenames\n",
    "        \n",
    "def get_maskname_for_img(img_name):\n",
    "    im_root = img_name.parent.parent\n",
    "    mask_name  = img_name.parent.parent.parent / 'masks' / img_name.relative_to(im_root)\n",
    "    return mask_name\n",
    "\n",
    "def create_split(filenames, pct=.05):\n",
    "    n = int(len(filenames) * pct)\n",
    "    split = np.random.choice(filenames, n, replace=False).tolist()\n",
    "    main_part = [f for f in filenames if f not in split]\n",
    "    return main_part,  split\n",
    "\n",
    "def copy_split(split, root, dst_path):\n",
    "    p = dst_path / split.relative_to(root)\n",
    "    os.makedirs(str(p.parent), exist_ok=True)\n",
    "    shutil.copy(str(split), str(p))\n",
    "    \n",
    "def create_save_splits(root, dst_path, split_pct):\n",
    "    '''\n",
    "        takes root folder path with 2 folders inside: imgs, masks.\n",
    "        for each subfolder in imgs, masks , i.e. 1e2425f28:\n",
    "            splits images in subfolder in two groups randomly by split_pct:\n",
    "            split_pct = 0.05\n",
    "            len(p1) == .95 * len(p)\n",
    "            len(p2) == .05 * len(p)\n",
    "        and saves them into dst_path WITH TIMESTAMP \n",
    "        p1 is train folder, p2 is val folder\n",
    "    '''\n",
    "    for img_cuts in get_images(root):\n",
    "        split_imgs_1, split_imgs_2 = create_split(img_cuts, pct=val_pct)\n",
    "        print(len(split_imgs_1), len(split_imgs_2))\n",
    "\n",
    "        for i in split_imgs_1:\n",
    "            m = get_maskname_for_img(i)\n",
    "            copy_split(i, root, dst_path/'train')\n",
    "            copy_split(m, root, dst_path/'train')\n",
    "\n",
    "        for i in split_imgs_2:\n",
    "            m = get_maskname_for_img(i)\n",
    "            copy_split(i, root, dst_path/'val')\n",
    "            copy_split(m, root, dst_path/'val')\n"
   ]
  },
  {
   "cell_type": "code",
   "execution_count": null,
   "metadata": {},
   "outputs": [],
   "source": []
  },
  {
   "cell_type": "code",
   "execution_count": null,
   "metadata": {},
   "outputs": [],
   "source": [
    "root = Path('input/CUTS/cuts1024x25/')\n",
    "timestamp = '{:%Y_%b_%d_%H_%M_%S}'.format(datetime.now())\n",
    "dst_path = root.parent / f'SPLITS/split1024x25_{timestamp}/'\n",
    "val_pct = 0.05"
   ]
  },
  {
   "cell_type": "code",
   "execution_count": null,
   "metadata": {},
   "outputs": [],
   "source": [
    "create_save_splits(root, dst_path, val_pct)"
   ]
  },
  {
   "cell_type": "code",
   "execution_count": null,
   "metadata": {},
   "outputs": [],
   "source": []
  },
  {
   "cell_type": "code",
   "execution_count": null,
   "metadata": {},
   "outputs": [],
   "source": []
  },
  {
   "cell_type": "code",
   "execution_count": null,
   "metadata": {},
   "outputs": [],
   "source": []
  },
  {
   "cell_type": "code",
   "execution_count": null,
   "metadata": {},
   "outputs": [],
   "source": []
  },
  {
   "cell_type": "code",
   "execution_count": null,
   "metadata": {},
   "outputs": [],
   "source": []
  },
  {
   "cell_type": "code",
   "execution_count": null,
   "metadata": {},
   "outputs": [],
   "source": []
  }
 ],
 "metadata": {
  "kernelspec": {
   "display_name": "Python 3",
   "language": "python",
   "name": "python3"
  },
  "language_info": {
   "codemirror_mode": {
    "name": "ipython",
    "version": 3
   },
   "file_extension": ".py",
   "mimetype": "text/x-python",
   "name": "python",
   "nbconvert_exporter": "python",
   "pygments_lexer": "ipython3",
   "version": "3.6.9"
  }
 },
 "nbformat": 4,
 "nbformat_minor": 4
}
