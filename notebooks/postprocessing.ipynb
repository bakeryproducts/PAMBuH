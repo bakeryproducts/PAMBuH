{
 "cells": [
  {
   "cell_type": "markdown",
   "id": "missing-bishop",
   "metadata": {},
   "source": [
    "# Imports"
   ]
  },
  {
   "cell_type": "code",
   "execution_count": null,
   "id": "velvet-malpractice",
   "metadata": {},
   "outputs": [],
   "source": [
    "%load_ext autoreload\n",
    "%autoreload 2"
   ]
  },
  {
   "cell_type": "code",
   "execution_count": null,
   "id": "improved-class",
   "metadata": {},
   "outputs": [],
   "source": [
    "import os\n",
    "import sys\n",
    "os.chdir('..')\n",
    "sys.path.append('src')"
   ]
  },
  {
   "cell_type": "code",
   "execution_count": null,
   "id": "fifth-earthquake",
   "metadata": {},
   "outputs": [],
   "source": [
    "os.environ[\"CUDA_VISIBLE_DEVICES\"]=\"0\"\n",
    "from pathlib import Path\n",
    "from datetime import datetime\n",
    "import infer\n",
    "import postprocessing\n",
    "import utils\n",
    "import numpy as np\n",
    "import torch"
   ]
  },
  {
   "cell_type": "markdown",
   "id": "marked-oregon",
   "metadata": {},
   "source": [
    "# Code"
   ]
  },
  {
   "cell_type": "code",
   "execution_count": null,
   "id": "deadly-literacy",
   "metadata": {},
   "outputs": [],
   "source": [
    "src_folder = '/mnt/storage/HuBMAP/test'\n",
    "img_name = next(Path(src_folder).glob('*.tiff'))\n",
    "print(img_name)"
   ]
  },
  {
   "cell_type": "code",
   "execution_count": null,
   "id": "other-uruguay",
   "metadata": {},
   "outputs": [],
   "source": [
    "p = '../2021_Feb_15_18_55_28_PAMBUH/'\n",
    "foo = infer.get_infer_func(p)"
   ]
  },
  {
   "cell_type": "code",
   "execution_count": null,
   "id": "drawn-choice",
   "metadata": {},
   "outputs": [],
   "source": [
    "def test_infer(batch):\n",
    "    tensor = torch.CharTensor if torch.cuda.is_available() else torch.cuda.CharTensor\n",
    "    return torch.cat([tensor(i)[:1].unsqueeze(0) for i in batch], 0)"
   ]
  },
  {
   "cell_type": "code",
   "execution_count": null,
   "id": "declared-weight",
   "metadata": {},
   "outputs": [],
   "source": [
    "# mask = postprocessing.read_and_process_img(img_name, test_infer, block_size=2048, crop_size=2000)\n",
    "mask = postprocessing.read_and_process_img(img_name, foo, block_size=2048, crop_size=2000)"
   ]
  },
  {
   "cell_type": "code",
   "execution_count": null,
   "id": "guided-executive",
   "metadata": {},
   "outputs": [],
   "source": [
    "postprocessing._plot_img(mask.to('cpu'))"
   ]
  },
  {
   "cell_type": "code",
   "execution_count": null,
   "id": "romance-hours",
   "metadata": {},
   "outputs": [],
   "source": [
    "mask01 = np.uint8(postprocessing.float_mask2_01uint8(mask).to('cpu'))"
   ]
  },
  {
   "cell_type": "code",
   "execution_count": null,
   "id": "alternate-combine",
   "metadata": {},
   "outputs": [],
   "source": [
    "dst_folder = Path('./output') / str(datetime.now()).replace(' ', '_')\n",
    "dst_folder.mkdir(parents=True, exist_ok=True)\n",
    "mask_name = dst_folder / img_name.name\n",
    "mask_name"
   ]
  },
  {
   "cell_type": "code",
   "execution_count": null,
   "id": "amino-steam",
   "metadata": {},
   "outputs": [],
   "source": [
    "utils.save_tiff_uint8_single_band(mask01, mask_name)"
   ]
  },
  {
   "cell_type": "code",
   "execution_count": null,
   "id": "productive-musician",
   "metadata": {},
   "outputs": [],
   "source": [
    "fd, (h, w), channel = utils.get_basics_rasterio(mask_name)\n",
    "readed_mask = utils.get_tiff_block(fd, 0, 0, w, h, 1)[0]\n",
    "readed_mask.shape, readed_mask.dtype, readed_mask.max()"
   ]
  },
  {
   "cell_type": "code",
   "execution_count": null,
   "id": "deadly-supervisor",
   "metadata": {},
   "outputs": [],
   "source": [
    "postprocessing._plot_img(readed_mask)"
   ]
  },
  {
   "cell_type": "code",
   "execution_count": null,
   "id": "sixth-jacket",
   "metadata": {},
   "outputs": [],
   "source": [
    "fd, shape, channel = utils.get_basics_rasterio(img_name)\n",
    "h, w = shape\n",
    "img = utils.get_tiff_block(fd, 0, 0, w, h, 3)\n",
    "img.max(), img.shape, img.dtype"
   ]
  },
  {
   "cell_type": "code",
   "execution_count": null,
   "id": "local-dealer",
   "metadata": {},
   "outputs": [],
   "source": [
    "merged_img = img.copy()\n",
    "merged_img[1] = readed_mask*200"
   ]
  },
  {
   "cell_type": "code",
   "execution_count": null,
   "id": "honest-capacity",
   "metadata": {},
   "outputs": [],
   "source": [
    "postprocessing._plot_img(merged_img)"
   ]
  },
  {
   "cell_type": "code",
   "execution_count": null,
   "id": "continent-escape",
   "metadata": {},
   "outputs": [],
   "source": [
    "postprocessing._plot_img(merged_img[:, 10000:12000, 25000:28000])"
   ]
  },
  {
   "cell_type": "markdown",
   "id": "endless-netscape",
   "metadata": {},
   "source": [
    "# Tests"
   ]
  },
  {
   "cell_type": "code",
   "execution_count": null,
   "id": "destroyed-nursing",
   "metadata": {},
   "outputs": [],
   "source": [
    "postprocessing.postprocess_test_folder(test_inf, src_folder, './output')"
   ]
  }
 ],
 "metadata": {
  "kernelspec": {
   "display_name": "Python 3",
   "language": "python",
   "name": "python3"
  },
  "language_info": {
   "codemirror_mode": {
    "name": "ipython",
    "version": 3
   },
   "file_extension": ".py",
   "mimetype": "text/x-python",
   "name": "python",
   "nbconvert_exporter": "python",
   "pygments_lexer": "ipython3",
   "version": "3.6.9"
  }
 },
 "nbformat": 4,
 "nbformat_minor": 5
}
