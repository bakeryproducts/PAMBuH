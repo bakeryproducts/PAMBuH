{
 "cells": [
  {
   "cell_type": "code",
   "execution_count": 1,
   "metadata": {},
   "outputs": [],
   "source": [
    "%load_ext autoreload\n",
    "%autoreload 2"
   ]
  },
  {
   "cell_type": "code",
   "execution_count": 2,
   "metadata": {},
   "outputs": [],
   "source": [
    "p = 'output/2021_Feb_10_19_55_56_PAMBUH/'\n",
    "# p = 'output/2021_Feb_12_20_08_44_PAMBUH/'"
   ]
  },
  {
   "cell_type": "code",
   "execution_count": 3,
   "metadata": {},
   "outputs": [],
   "source": [
    "import os\n",
    "import sys\n",
    "os.chdir('..')\n",
    "# sys.path.append(p  + 'src')\n",
    "sys.path.append('src')"
   ]
  },
  {
   "cell_type": "code",
   "execution_count": 4,
   "metadata": {},
   "outputs": [],
   "source": [
    "from pathlib import Path\n",
    "from PIL import Image\n",
    "from functools import partial\n",
    "\n",
    "from tqdm.auto import tqdm\n",
    "import cv2\n",
    "import numpy as np\n",
    "import torch\n",
    "import torch.nn.functional as F\n",
    "import albumentations as albu\n",
    "from tqdm.notebook import tqdm\n",
    "import _data\n",
    "import augs\n",
    "import callbacks\n",
    "import sampler\n",
    "import model as nn_model\n",
    "from config import cfg, cfg_init\n",
    "from postprocessing import read_and_process_img, postprocess_test_folder, _plot_img\n",
    "from sampler import get_basics_rasterio\n",
    "\n",
    "import  matplotlib.pyplot as plt\n",
    "%matplotlib inline"
   ]
  },
  {
   "cell_type": "code",
   "execution_count": 5,
   "metadata": {},
   "outputs": [],
   "source": [
    "# datasets = data.build_datasets(cfg)\n",
    "# dls = data.build_dataloaders(cfg, datasets, pin=True, drop_last=False)\n",
    "# tdl = dls['TRAIN']\n",
    "# xb,yb = next(iter(tdl))\n",
    "# xb.shape, yb.shape\n",
    "\n",
    "# s = sampler.tif_block_read('./input/hm/test/b2dc8411c.tiff')\n",
    "# _,_,img = next(iter(s))\n",
    "# img.shape, img.dtype"
   ]
  },
  {
   "cell_type": "code",
   "execution_count": 6,
   "metadata": {},
   "outputs": [],
   "source": [
    "def parse_model_path(p):\n",
    "    name = str(p.name)\n",
    "    epoch = name.split('_')[0]\n",
    "    return int(epoch[1:])\n",
    "\n",
    "def get_last_model(src):\n",
    "    # assumes that model name is of type e500_blabla.pth, sorted by epoch #500\n",
    "    models = list(Path(src).glob('*.pth'))\n",
    "    res = []\n",
    "    for i, m in enumerate(models):\n",
    "        epoch = parse_model_path(m)\n",
    "        #print(m, epoch)\n",
    "        \n",
    "        res.append([i,epoch])\n",
    "    idx = sorted(res, key=lambda x: -x[1])[0][0]\n",
    "    return models[idx]\n",
    "\n",
    "def rescale(batch_img, scale): return F.interpolate(batch_img, scale_factor=(scale, scale))\n",
    "\n",
    "def preprocess_image(cfg, img):\n",
    "    train_trans = augs.get_aug('light', cfg.TRANSFORMERS)\n",
    "    transform = train_trans.transforms.transforms[-1]\n",
    "    #print(transform)\n",
    "    #transform = albu.Compose([albu.Normalize(mean=cfg.TRANSFORMERS.MEAN, std=cfg.TRANSFORMERS.STD)])\n",
    "    ch, H,W, dtype = *img.shape, img.dtype\n",
    "    assert ch==3\n",
    "    assert dtype==np.uint8, dtype\n",
    "    img = img.transpose(1,2,0)\n",
    "    img = cv2.cvtColor(img, cv2.COLOR_BGR2RGB)\n",
    "    img = cv2.resize(img, (W//2, H//2))\n",
    "    return transform(image=img)['image']\n",
    "\n",
    "device = 'cuda:2'\n",
    "\n",
    "def _infer_func(imgs, cfg, model):\n",
    "    batch = []\n",
    "    for img in imgs:\n",
    "        batch.append(preprocess_image(cfg, img))\n",
    "    \n",
    "    batch = torch.stack(batch,axis=0)\n",
    "    if torch.cuda.is_available():\n",
    "        batch = batch.to(device)\n",
    "    with torch.no_grad():\n",
    "        res = torch.sigmoid(model(batch))\n",
    "    res = rescale(res, 2)\n",
    "    return res\n",
    "\n",
    "def get_infer_func(p):\n",
    "    cfg_init(p + 'cfg.yaml')\n",
    "    cfg['PARALLEL']['DDP'] = False\n",
    "    cfg['DATA']['TRAIN']['PRELOAD'] = False\n",
    "        \n",
    "    model_path = get_last_model(p + 'models')\n",
    "    m = nn_model.load_model(cfg, str(model_path))\n",
    "    \n",
    "    if torch.cuda.is_available():\n",
    "        m = m.to(device)\n",
    "    return partial(_infer_func, cfg=cfg, model=m)"
   ]
  },
  {
   "cell_type": "code",
   "execution_count": 7,
   "metadata": {},
   "outputs": [],
   "source": [
    "foo = get_infer_func(p)"
   ]
  },
  {
   "cell_type": "code",
   "execution_count": 8,
   "metadata": {},
   "outputs": [
    {
     "name": "stdout",
     "output_type": "stream",
     "text": [
      "/mnt/storage/HuBMAP/test/b9a3865fc.tiff\n"
     ]
    }
   ],
   "source": [
    "src_folder = '/mnt/storage/HuBMAP/test/'\n",
    "img_name = next(Path(src_folder).glob('*.tiff'))\n",
    "print(img_name)"
   ]
  },
  {
   "cell_type": "code",
   "execution_count": 9,
   "metadata": {},
   "outputs": [],
   "source": [
    "# mask = read_and_process_img(img_name, foo, 2048, 2000)\n",
    "# mask.shape"
   ]
  },
  {
   "cell_type": "code",
   "execution_count": 10,
   "metadata": {},
   "outputs": [],
   "source": [
    "# _plot_img(mask)"
   ]
  },
  {
   "cell_type": "code",
   "execution_count": 11,
   "metadata": {},
   "outputs": [
    {
     "data": {
      "application/vnd.jupyter.widget-view+json": {
       "model_id": "",
       "version_major": 2,
       "version_minor": 0
      },
      "text/plain": [
       "Test images: 0it [00:00, ?it/s]"
      ]
     },
     "metadata": {},
     "output_type": "display_data"
    },
    {
     "name": "stdout",
     "output_type": "stream",
     "text": [
      "31295 40429\n"
     ]
    },
    {
     "name": "stderr",
     "output_type": "stream",
     "text": [
      "/usr/local/lib/python3.6/dist-packages/rasterio/__init__.py:207: NotGeoreferencedWarning: Dataset has no geotransform, gcps, or rpcs. The identity matrix be returned.\n",
      "  s = DatasetReader(path, driver=driver, sharing=sharing, **kwargs)\n"
     ]
    },
    {
     "data": {
      "application/vnd.jupyter.widget-view+json": {
       "model_id": "bc8384dd6d0048e5895b961d244a67c0",
       "version_major": 2,
       "version_minor": 0
      },
      "text/plain": [
       "rows:   0%|          | 0/16 [00:00<?, ?it/s]"
      ]
     },
     "metadata": {},
     "output_type": "display_data"
    },
    {
     "data": {
      "application/vnd.jupyter.widget-view+json": {
       "model_id": "4a696e474fa74e4daf07b70250c5d159",
       "version_major": 2,
       "version_minor": 0
      },
      "text/plain": [
       "columns:   0%|          | 0/21 [00:00<?, ?it/s]"
      ]
     },
     "metadata": {},
     "output_type": "display_data"
    },
    {
     "data": {
      "application/vnd.jupyter.widget-view+json": {
       "model_id": "ab178c5526184b9c8c99ca46f572f618",
       "version_major": 2,
       "version_minor": 0
      },
      "text/plain": [
       "columns:   0%|          | 0/21 [00:00<?, ?it/s]"
      ]
     },
     "metadata": {},
     "output_type": "display_data"
    },
    {
     "data": {
      "application/vnd.jupyter.widget-view+json": {
       "model_id": "ce36e78233c04f329831f18df9d7c917",
       "version_major": 2,
       "version_minor": 0
      },
      "text/plain": [
       "columns:   0%|          | 0/21 [00:00<?, ?it/s]"
      ]
     },
     "metadata": {},
     "output_type": "display_data"
    },
    {
     "data": {
      "application/vnd.jupyter.widget-view+json": {
       "model_id": "7418e68544f046cfa56371d171cb78a1",
       "version_major": 2,
       "version_minor": 0
      },
      "text/plain": [
       "columns:   0%|          | 0/21 [00:00<?, ?it/s]"
      ]
     },
     "metadata": {},
     "output_type": "display_data"
    },
    {
     "data": {
      "application/vnd.jupyter.widget-view+json": {
       "model_id": "e07f03f0dab24f7eb888f22bbb7f70ee",
       "version_major": 2,
       "version_minor": 0
      },
      "text/plain": [
       "columns:   0%|          | 0/21 [00:00<?, ?it/s]"
      ]
     },
     "metadata": {},
     "output_type": "display_data"
    },
    {
     "data": {
      "application/vnd.jupyter.widget-view+json": {
       "model_id": "e488426778a84eac96bc1be77163d74b",
       "version_major": 2,
       "version_minor": 0
      },
      "text/plain": [
       "columns:   0%|          | 0/21 [00:00<?, ?it/s]"
      ]
     },
     "metadata": {},
     "output_type": "display_data"
    },
    {
     "data": {
      "application/vnd.jupyter.widget-view+json": {
       "model_id": "722ddeb860a743f983e93ff5e083e0e1",
       "version_major": 2,
       "version_minor": 0
      },
      "text/plain": [
       "columns:   0%|          | 0/21 [00:00<?, ?it/s]"
      ]
     },
     "metadata": {},
     "output_type": "display_data"
    },
    {
     "data": {
      "application/vnd.jupyter.widget-view+json": {
       "model_id": "482faccc13a24506ab32c92ba01c7c7d",
       "version_major": 2,
       "version_minor": 0
      },
      "text/plain": [
       "columns:   0%|          | 0/21 [00:00<?, ?it/s]"
      ]
     },
     "metadata": {},
     "output_type": "display_data"
    },
    {
     "data": {
      "application/vnd.jupyter.widget-view+json": {
       "model_id": "3d684f2e2f104ec2b37a48e055a05d71",
       "version_major": 2,
       "version_minor": 0
      },
      "text/plain": [
       "columns:   0%|          | 0/21 [00:00<?, ?it/s]"
      ]
     },
     "metadata": {},
     "output_type": "display_data"
    },
    {
     "data": {
      "application/vnd.jupyter.widget-view+json": {
       "model_id": "4496488dbbf84a5d8c7fb798c0ffdbb4",
       "version_major": 2,
       "version_minor": 0
      },
      "text/plain": [
       "columns:   0%|          | 0/21 [00:00<?, ?it/s]"
      ]
     },
     "metadata": {},
     "output_type": "display_data"
    },
    {
     "data": {
      "application/vnd.jupyter.widget-view+json": {
       "model_id": "e36b8b808d5e42f6a44988fd5deabf25",
       "version_major": 2,
       "version_minor": 0
      },
      "text/plain": [
       "columns:   0%|          | 0/21 [00:00<?, ?it/s]"
      ]
     },
     "metadata": {},
     "output_type": "display_data"
    },
    {
     "data": {
      "application/vnd.jupyter.widget-view+json": {
       "model_id": "d668b5d0739244f68125ce8fb8d4632f",
       "version_major": 2,
       "version_minor": 0
      },
      "text/plain": [
       "columns:   0%|          | 0/21 [00:00<?, ?it/s]"
      ]
     },
     "metadata": {},
     "output_type": "display_data"
    },
    {
     "data": {
      "application/vnd.jupyter.widget-view+json": {
       "model_id": "8b1aa9d724dc4338a12d19a083f76f49",
       "version_major": 2,
       "version_minor": 0
      },
      "text/plain": [
       "columns:   0%|          | 0/21 [00:00<?, ?it/s]"
      ]
     },
     "metadata": {},
     "output_type": "display_data"
    },
    {
     "data": {
      "application/vnd.jupyter.widget-view+json": {
       "model_id": "685879d10dea40fb8259419b66c9293e",
       "version_major": 2,
       "version_minor": 0
      },
      "text/plain": [
       "columns:   0%|          | 0/21 [00:00<?, ?it/s]"
      ]
     },
     "metadata": {},
     "output_type": "display_data"
    },
    {
     "data": {
      "application/vnd.jupyter.widget-view+json": {
       "model_id": "259201d47c6d4e52adf9a2488ddc446b",
       "version_major": 2,
       "version_minor": 0
      },
      "text/plain": [
       "columns:   0%|          | 0/21 [00:00<?, ?it/s]"
      ]
     },
     "metadata": {},
     "output_type": "display_data"
    },
    {
     "data": {
      "application/vnd.jupyter.widget-view+json": {
       "model_id": "1fbf5af98c30415c831d394d164c78ac",
       "version_major": 2,
       "version_minor": 0
      },
      "text/plain": [
       "columns:   0%|          | 0/21 [00:00<?, ?it/s]"
      ]
     },
     "metadata": {},
     "output_type": "display_data"
    },
    {
     "name": "stderr",
     "output_type": "stream",
     "text": [
      "/usr/local/lib/python3.6/dist-packages/rasterio/__init__.py:223: NotGeoreferencedWarning: Dataset has no geotransform, gcps, or rpcs. The identity matrix be returned.\n",
      "  **kwargs)\n"
     ]
    },
    {
     "name": "stdout",
     "output_type": "stream",
     "text": [
      "Save to output/b9a3865fc.tiff\n",
      "38160 42360\n"
     ]
    },
    {
     "data": {
      "application/vnd.jupyter.widget-view+json": {
       "model_id": "2cc9762dc9dc435a8329405d416b2b46",
       "version_major": 2,
       "version_minor": 0
      },
      "text/plain": [
       "rows:   0%|          | 0/20 [00:00<?, ?it/s]"
      ]
     },
     "metadata": {},
     "output_type": "display_data"
    },
    {
     "data": {
      "application/vnd.jupyter.widget-view+json": {
       "model_id": "4e0e22a756824945a3d063970bcebf7d",
       "version_major": 2,
       "version_minor": 0
      },
      "text/plain": [
       "columns:   0%|          | 0/22 [00:00<?, ?it/s]"
      ]
     },
     "metadata": {},
     "output_type": "display_data"
    },
    {
     "data": {
      "application/vnd.jupyter.widget-view+json": {
       "model_id": "00bc2892fd7944efb141372029d4624f",
       "version_major": 2,
       "version_minor": 0
      },
      "text/plain": [
       "columns:   0%|          | 0/22 [00:00<?, ?it/s]"
      ]
     },
     "metadata": {},
     "output_type": "display_data"
    },
    {
     "data": {
      "application/vnd.jupyter.widget-view+json": {
       "model_id": "1162c1c26ae042a38a230d20a66f9f76",
       "version_major": 2,
       "version_minor": 0
      },
      "text/plain": [
       "columns:   0%|          | 0/22 [00:00<?, ?it/s]"
      ]
     },
     "metadata": {},
     "output_type": "display_data"
    },
    {
     "data": {
      "application/vnd.jupyter.widget-view+json": {
       "model_id": "84c4b1cfcecf4349a08f3839453a49b3",
       "version_major": 2,
       "version_minor": 0
      },
      "text/plain": [
       "columns:   0%|          | 0/22 [00:00<?, ?it/s]"
      ]
     },
     "metadata": {},
     "output_type": "display_data"
    },
    {
     "data": {
      "application/vnd.jupyter.widget-view+json": {
       "model_id": "f565948be4bd42c7bd44c70dc18c5324",
       "version_major": 2,
       "version_minor": 0
      },
      "text/plain": [
       "columns:   0%|          | 0/22 [00:00<?, ?it/s]"
      ]
     },
     "metadata": {},
     "output_type": "display_data"
    },
    {
     "data": {
      "application/vnd.jupyter.widget-view+json": {
       "model_id": "0a9ac3cab81844b2b3cc603d41c8fefd",
       "version_major": 2,
       "version_minor": 0
      },
      "text/plain": [
       "columns:   0%|          | 0/22 [00:00<?, ?it/s]"
      ]
     },
     "metadata": {},
     "output_type": "display_data"
    },
    {
     "data": {
      "application/vnd.jupyter.widget-view+json": {
       "model_id": "c2fb10703c7042ba87a64e504cc10025",
       "version_major": 2,
       "version_minor": 0
      },
      "text/plain": [
       "columns:   0%|          | 0/22 [00:00<?, ?it/s]"
      ]
     },
     "metadata": {},
     "output_type": "display_data"
    },
    {
     "data": {
      "application/vnd.jupyter.widget-view+json": {
       "model_id": "ba26a0d32567482c901652a29cf3215c",
       "version_major": 2,
       "version_minor": 0
      },
      "text/plain": [
       "columns:   0%|          | 0/22 [00:00<?, ?it/s]"
      ]
     },
     "metadata": {},
     "output_type": "display_data"
    },
    {
     "data": {
      "application/vnd.jupyter.widget-view+json": {
       "model_id": "680826f203e6417dbc80c343e6c6bfa0",
       "version_major": 2,
       "version_minor": 0
      },
      "text/plain": [
       "columns:   0%|          | 0/22 [00:00<?, ?it/s]"
      ]
     },
     "metadata": {},
     "output_type": "display_data"
    },
    {
     "data": {
      "application/vnd.jupyter.widget-view+json": {
       "model_id": "222c1648b9d34e42835f0b40feb6687c",
       "version_major": 2,
       "version_minor": 0
      },
      "text/plain": [
       "columns:   0%|          | 0/22 [00:00<?, ?it/s]"
      ]
     },
     "metadata": {},
     "output_type": "display_data"
    },
    {
     "data": {
      "application/vnd.jupyter.widget-view+json": {
       "model_id": "fa3e23f2f39743b79d71dc9c213b76de",
       "version_major": 2,
       "version_minor": 0
      },
      "text/plain": [
       "columns:   0%|          | 0/22 [00:00<?, ?it/s]"
      ]
     },
     "metadata": {},
     "output_type": "display_data"
    },
    {
     "data": {
      "application/vnd.jupyter.widget-view+json": {
       "model_id": "675d85e92a5f4fabb8d4d6494f6c690e",
       "version_major": 2,
       "version_minor": 0
      },
      "text/plain": [
       "columns:   0%|          | 0/22 [00:00<?, ?it/s]"
      ]
     },
     "metadata": {},
     "output_type": "display_data"
    },
    {
     "data": {
      "application/vnd.jupyter.widget-view+json": {
       "model_id": "a1320e028f92410fbf9036a884ad9ac4",
       "version_major": 2,
       "version_minor": 0
      },
      "text/plain": [
       "columns:   0%|          | 0/22 [00:00<?, ?it/s]"
      ]
     },
     "metadata": {},
     "output_type": "display_data"
    },
    {
     "data": {
      "application/vnd.jupyter.widget-view+json": {
       "model_id": "55834c2d383b4b8cab8b6b2fdad5d539",
       "version_major": 2,
       "version_minor": 0
      },
      "text/plain": [
       "columns:   0%|          | 0/22 [00:00<?, ?it/s]"
      ]
     },
     "metadata": {},
     "output_type": "display_data"
    },
    {
     "data": {
      "application/vnd.jupyter.widget-view+json": {
       "model_id": "3df937e8ef9048bc8ab337ec2b8a4400",
       "version_major": 2,
       "version_minor": 0
      },
      "text/plain": [
       "columns:   0%|          | 0/22 [00:00<?, ?it/s]"
      ]
     },
     "metadata": {},
     "output_type": "display_data"
    },
    {
     "data": {
      "application/vnd.jupyter.widget-view+json": {
       "model_id": "25d2a4690b99413d8c95d298b0c13104",
       "version_major": 2,
       "version_minor": 0
      },
      "text/plain": [
       "columns:   0%|          | 0/22 [00:00<?, ?it/s]"
      ]
     },
     "metadata": {},
     "output_type": "display_data"
    },
    {
     "data": {
      "application/vnd.jupyter.widget-view+json": {
       "model_id": "925193cdb8264a48bcb9c985079d2f6c",
       "version_major": 2,
       "version_minor": 0
      },
      "text/plain": [
       "columns:   0%|          | 0/22 [00:00<?, ?it/s]"
      ]
     },
     "metadata": {},
     "output_type": "display_data"
    },
    {
     "data": {
      "application/vnd.jupyter.widget-view+json": {
       "model_id": "d6bd7805e4c841cd987d9709cf68bb4a",
       "version_major": 2,
       "version_minor": 0
      },
      "text/plain": [
       "columns:   0%|          | 0/22 [00:00<?, ?it/s]"
      ]
     },
     "metadata": {},
     "output_type": "display_data"
    },
    {
     "data": {
      "application/vnd.jupyter.widget-view+json": {
       "model_id": "4d7f6ab71cb14366980d3af1b22bece2",
       "version_major": 2,
       "version_minor": 0
      },
      "text/plain": [
       "columns:   0%|          | 0/22 [00:00<?, ?it/s]"
      ]
     },
     "metadata": {},
     "output_type": "display_data"
    },
    {
     "data": {
      "application/vnd.jupyter.widget-view+json": {
       "model_id": "c1baace6a6d34172bd1c8d3e539bf2ab",
       "version_major": 2,
       "version_minor": 0
      },
      "text/plain": [
       "columns:   0%|          | 0/22 [00:00<?, ?it/s]"
      ]
     },
     "metadata": {},
     "output_type": "display_data"
    },
    {
     "name": "stdout",
     "output_type": "stream",
     "text": [
      "Save to output/26dc41664.tiff\n",
      "14844 31262\n"
     ]
    },
    {
     "data": {
      "application/vnd.jupyter.widget-view+json": {
       "model_id": "30afa586435740759d40462b1cecf88c",
       "version_major": 2,
       "version_minor": 0
      },
      "text/plain": [
       "rows:   0%|          | 0/8 [00:00<?, ?it/s]"
      ]
     },
     "metadata": {},
     "output_type": "display_data"
    },
    {
     "data": {
      "application/vnd.jupyter.widget-view+json": {
       "model_id": "a295e4279f454c7cbf032eab9a0434d4",
       "version_major": 2,
       "version_minor": 0
      },
      "text/plain": [
       "columns:   0%|          | 0/16 [00:00<?, ?it/s]"
      ]
     },
     "metadata": {},
     "output_type": "display_data"
    },
    {
     "data": {
      "application/vnd.jupyter.widget-view+json": {
       "model_id": "63612bc677fd4a689a534a12f3440f8a",
       "version_major": 2,
       "version_minor": 0
      },
      "text/plain": [
       "columns:   0%|          | 0/16 [00:00<?, ?it/s]"
      ]
     },
     "metadata": {},
     "output_type": "display_data"
    },
    {
     "data": {
      "application/vnd.jupyter.widget-view+json": {
       "model_id": "c3b852d679d043e3aef29f7e22d0c112",
       "version_major": 2,
       "version_minor": 0
      },
      "text/plain": [
       "columns:   0%|          | 0/16 [00:00<?, ?it/s]"
      ]
     },
     "metadata": {},
     "output_type": "display_data"
    },
    {
     "data": {
      "application/vnd.jupyter.widget-view+json": {
       "model_id": "d9deef938e32439e9a6d84124416f2fa",
       "version_major": 2,
       "version_minor": 0
      },
      "text/plain": [
       "columns:   0%|          | 0/16 [00:00<?, ?it/s]"
      ]
     },
     "metadata": {},
     "output_type": "display_data"
    },
    {
     "data": {
      "application/vnd.jupyter.widget-view+json": {
       "model_id": "051694fd537f4e0fb468edf957dedba5",
       "version_major": 2,
       "version_minor": 0
      },
      "text/plain": [
       "columns:   0%|          | 0/16 [00:00<?, ?it/s]"
      ]
     },
     "metadata": {},
     "output_type": "display_data"
    },
    {
     "data": {
      "application/vnd.jupyter.widget-view+json": {
       "model_id": "0be7347ee07f40958ee9758b924b6a79",
       "version_major": 2,
       "version_minor": 0
      },
      "text/plain": [
       "columns:   0%|          | 0/16 [00:00<?, ?it/s]"
      ]
     },
     "metadata": {},
     "output_type": "display_data"
    },
    {
     "data": {
      "application/vnd.jupyter.widget-view+json": {
       "model_id": "b374dce8b1734ce081d5af49c8a53e24",
       "version_major": 2,
       "version_minor": 0
      },
      "text/plain": [
       "columns:   0%|          | 0/16 [00:00<?, ?it/s]"
      ]
     },
     "metadata": {},
     "output_type": "display_data"
    },
    {
     "data": {
      "application/vnd.jupyter.widget-view+json": {
       "model_id": "c4da638a15c84867a7ea9bcbccaba740",
       "version_major": 2,
       "version_minor": 0
      },
      "text/plain": [
       "columns:   0%|          | 0/16 [00:00<?, ?it/s]"
      ]
     },
     "metadata": {},
     "output_type": "display_data"
    },
    {
     "name": "stdout",
     "output_type": "stream",
     "text": [
      "Save to output/b2dc8411c.tiff\n",
      "36800 43780\n"
     ]
    },
    {
     "data": {
      "application/vnd.jupyter.widget-view+json": {
       "model_id": "199d5e0b323048b181a5122e1a9986f9",
       "version_major": 2,
       "version_minor": 0
      },
      "text/plain": [
       "rows:   0%|          | 0/19 [00:00<?, ?it/s]"
      ]
     },
     "metadata": {},
     "output_type": "display_data"
    },
    {
     "data": {
      "application/vnd.jupyter.widget-view+json": {
       "model_id": "9d015d138ed74bc1857f2ed8186f41d4",
       "version_major": 2,
       "version_minor": 0
      },
      "text/plain": [
       "columns:   0%|          | 0/22 [00:00<?, ?it/s]"
      ]
     },
     "metadata": {},
     "output_type": "display_data"
    },
    {
     "data": {
      "application/vnd.jupyter.widget-view+json": {
       "model_id": "067aeca074324303b5434135beda623e",
       "version_major": 2,
       "version_minor": 0
      },
      "text/plain": [
       "columns:   0%|          | 0/22 [00:00<?, ?it/s]"
      ]
     },
     "metadata": {},
     "output_type": "display_data"
    },
    {
     "data": {
      "application/vnd.jupyter.widget-view+json": {
       "model_id": "ef2e9fc3a7b641a691a2057b03abfe1e",
       "version_major": 2,
       "version_minor": 0
      },
      "text/plain": [
       "columns:   0%|          | 0/22 [00:00<?, ?it/s]"
      ]
     },
     "metadata": {},
     "output_type": "display_data"
    },
    {
     "data": {
      "application/vnd.jupyter.widget-view+json": {
       "model_id": "ba720dddf0fa4a8c8e063e63cac25c21",
       "version_major": 2,
       "version_minor": 0
      },
      "text/plain": [
       "columns:   0%|          | 0/22 [00:00<?, ?it/s]"
      ]
     },
     "metadata": {},
     "output_type": "display_data"
    },
    {
     "data": {
      "application/vnd.jupyter.widget-view+json": {
       "model_id": "5dd9b6813c414d23acdbbdd8785975db",
       "version_major": 2,
       "version_minor": 0
      },
      "text/plain": [
       "columns:   0%|          | 0/22 [00:00<?, ?it/s]"
      ]
     },
     "metadata": {},
     "output_type": "display_data"
    },
    {
     "data": {
      "application/vnd.jupyter.widget-view+json": {
       "model_id": "acc202b7f3b9455d827f0d4f91db696e",
       "version_major": 2,
       "version_minor": 0
      },
      "text/plain": [
       "columns:   0%|          | 0/22 [00:00<?, ?it/s]"
      ]
     },
     "metadata": {},
     "output_type": "display_data"
    },
    {
     "data": {
      "application/vnd.jupyter.widget-view+json": {
       "model_id": "1f6d63c4c6e64b15908a67814cb7be23",
       "version_major": 2,
       "version_minor": 0
      },
      "text/plain": [
       "columns:   0%|          | 0/22 [00:00<?, ?it/s]"
      ]
     },
     "metadata": {},
     "output_type": "display_data"
    },
    {
     "data": {
      "application/vnd.jupyter.widget-view+json": {
       "model_id": "bc58deb2ce5648e9a0475a468159e97f",
       "version_major": 2,
       "version_minor": 0
      },
      "text/plain": [
       "columns:   0%|          | 0/22 [00:00<?, ?it/s]"
      ]
     },
     "metadata": {},
     "output_type": "display_data"
    },
    {
     "data": {
      "application/vnd.jupyter.widget-view+json": {
       "model_id": "94e5e3e251554302847d04a1fcae2f88",
       "version_major": 2,
       "version_minor": 0
      },
      "text/plain": [
       "columns:   0%|          | 0/22 [00:00<?, ?it/s]"
      ]
     },
     "metadata": {},
     "output_type": "display_data"
    },
    {
     "data": {
      "application/vnd.jupyter.widget-view+json": {
       "model_id": "ed76bb56a8964f0193f9833b688666b7",
       "version_major": 2,
       "version_minor": 0
      },
      "text/plain": [
       "columns:   0%|          | 0/22 [00:00<?, ?it/s]"
      ]
     },
     "metadata": {},
     "output_type": "display_data"
    },
    {
     "data": {
      "application/vnd.jupyter.widget-view+json": {
       "model_id": "bf7b9ee96075472cb02abf27e69d856a",
       "version_major": 2,
       "version_minor": 0
      },
      "text/plain": [
       "columns:   0%|          | 0/22 [00:00<?, ?it/s]"
      ]
     },
     "metadata": {},
     "output_type": "display_data"
    },
    {
     "data": {
      "application/vnd.jupyter.widget-view+json": {
       "model_id": "a01770c1a35b4a3997def346819dbf74",
       "version_major": 2,
       "version_minor": 0
      },
      "text/plain": [
       "columns:   0%|          | 0/22 [00:00<?, ?it/s]"
      ]
     },
     "metadata": {},
     "output_type": "display_data"
    },
    {
     "data": {
      "application/vnd.jupyter.widget-view+json": {
       "model_id": "43f963c89314471fb4b4821c9bb6d005",
       "version_major": 2,
       "version_minor": 0
      },
      "text/plain": [
       "columns:   0%|          | 0/22 [00:00<?, ?it/s]"
      ]
     },
     "metadata": {},
     "output_type": "display_data"
    },
    {
     "data": {
      "application/vnd.jupyter.widget-view+json": {
       "model_id": "1a1f52a20d924f15b8d236c8cfad0782",
       "version_major": 2,
       "version_minor": 0
      },
      "text/plain": [
       "columns:   0%|          | 0/22 [00:00<?, ?it/s]"
      ]
     },
     "metadata": {},
     "output_type": "display_data"
    },
    {
     "data": {
      "application/vnd.jupyter.widget-view+json": {
       "model_id": "78275e889ee44a159b68927d7a1c7dc4",
       "version_major": 2,
       "version_minor": 0
      },
      "text/plain": [
       "columns:   0%|          | 0/22 [00:00<?, ?it/s]"
      ]
     },
     "metadata": {},
     "output_type": "display_data"
    },
    {
     "data": {
      "application/vnd.jupyter.widget-view+json": {
       "model_id": "9e6985564f004422ad3a92f77f7f2798",
       "version_major": 2,
       "version_minor": 0
      },
      "text/plain": [
       "columns:   0%|          | 0/22 [00:00<?, ?it/s]"
      ]
     },
     "metadata": {},
     "output_type": "display_data"
    },
    {
     "data": {
      "application/vnd.jupyter.widget-view+json": {
       "model_id": "bab9053d88834780bcbe58b608be3609",
       "version_major": 2,
       "version_minor": 0
      },
      "text/plain": [
       "columns:   0%|          | 0/22 [00:00<?, ?it/s]"
      ]
     },
     "metadata": {},
     "output_type": "display_data"
    },
    {
     "data": {
      "application/vnd.jupyter.widget-view+json": {
       "model_id": "34cce18b47704e03942f66de3877337c",
       "version_major": 2,
       "version_minor": 0
      },
      "text/plain": [
       "columns:   0%|          | 0/22 [00:00<?, ?it/s]"
      ]
     },
     "metadata": {},
     "output_type": "display_data"
    },
    {
     "data": {
      "application/vnd.jupyter.widget-view+json": {
       "model_id": "6a9f4a0ba709434293abe084f57f3bd9",
       "version_major": 2,
       "version_minor": 0
      },
      "text/plain": [
       "columns:   0%|          | 0/22 [00:00<?, ?it/s]"
      ]
     },
     "metadata": {},
     "output_type": "display_data"
    },
    {
     "name": "stdout",
     "output_type": "stream",
     "text": [
      "Save to output/afa5e8098.tiff\n",
      "26840 49780\n"
     ]
    },
    {
     "data": {
      "application/vnd.jupyter.widget-view+json": {
       "model_id": "0aa632c26f394422be0e60b6db23ebb1",
       "version_major": 2,
       "version_minor": 0
      },
      "text/plain": [
       "rows:   0%|          | 0/14 [00:00<?, ?it/s]"
      ]
     },
     "metadata": {},
     "output_type": "display_data"
    },
    {
     "data": {
      "application/vnd.jupyter.widget-view+json": {
       "model_id": "e36968d90b8c48598d6fafe8bf286679",
       "version_major": 2,
       "version_minor": 0
      },
      "text/plain": [
       "columns:   0%|          | 0/25 [00:00<?, ?it/s]"
      ]
     },
     "metadata": {},
     "output_type": "display_data"
    },
    {
     "data": {
      "application/vnd.jupyter.widget-view+json": {
       "model_id": "f21a978feded4d9aad728e4dd65f8522",
       "version_major": 2,
       "version_minor": 0
      },
      "text/plain": [
       "columns:   0%|          | 0/25 [00:00<?, ?it/s]"
      ]
     },
     "metadata": {},
     "output_type": "display_data"
    },
    {
     "data": {
      "application/vnd.jupyter.widget-view+json": {
       "model_id": "81e713cadf60491ab797d0360f325d0a",
       "version_major": 2,
       "version_minor": 0
      },
      "text/plain": [
       "columns:   0%|          | 0/25 [00:00<?, ?it/s]"
      ]
     },
     "metadata": {},
     "output_type": "display_data"
    },
    {
     "data": {
      "application/vnd.jupyter.widget-view+json": {
       "model_id": "205cef0750f045a5b7993d9f03d1dead",
       "version_major": 2,
       "version_minor": 0
      },
      "text/plain": [
       "columns:   0%|          | 0/25 [00:00<?, ?it/s]"
      ]
     },
     "metadata": {},
     "output_type": "display_data"
    },
    {
     "data": {
      "application/vnd.jupyter.widget-view+json": {
       "model_id": "e06e3e5834c145afa17cdd726d16fff7",
       "version_major": 2,
       "version_minor": 0
      },
      "text/plain": [
       "columns:   0%|          | 0/25 [00:00<?, ?it/s]"
      ]
     },
     "metadata": {},
     "output_type": "display_data"
    },
    {
     "data": {
      "application/vnd.jupyter.widget-view+json": {
       "model_id": "c72fe15db59f486686432b532f76d67a",
       "version_major": 2,
       "version_minor": 0
      },
      "text/plain": [
       "columns:   0%|          | 0/25 [00:00<?, ?it/s]"
      ]
     },
     "metadata": {},
     "output_type": "display_data"
    },
    {
     "data": {
      "application/vnd.jupyter.widget-view+json": {
       "model_id": "8e0019b4f79d40dc9f385e9adf17545c",
       "version_major": 2,
       "version_minor": 0
      },
      "text/plain": [
       "columns:   0%|          | 0/25 [00:00<?, ?it/s]"
      ]
     },
     "metadata": {},
     "output_type": "display_data"
    },
    {
     "data": {
      "application/vnd.jupyter.widget-view+json": {
       "model_id": "a79a475e5bfe4103a96d7afd14ce4c78",
       "version_major": 2,
       "version_minor": 0
      },
      "text/plain": [
       "columns:   0%|          | 0/25 [00:00<?, ?it/s]"
      ]
     },
     "metadata": {},
     "output_type": "display_data"
    },
    {
     "data": {
      "application/vnd.jupyter.widget-view+json": {
       "model_id": "5863fdeedbdc45a9b79d9fbd03c24c6d",
       "version_major": 2,
       "version_minor": 0
      },
      "text/plain": [
       "columns:   0%|          | 0/25 [00:00<?, ?it/s]"
      ]
     },
     "metadata": {},
     "output_type": "display_data"
    },
    {
     "data": {
      "application/vnd.jupyter.widget-view+json": {
       "model_id": "d24d9df37d004cb8b0329bdb5a2beda1",
       "version_major": 2,
       "version_minor": 0
      },
      "text/plain": [
       "columns:   0%|          | 0/25 [00:00<?, ?it/s]"
      ]
     },
     "metadata": {},
     "output_type": "display_data"
    },
    {
     "data": {
      "application/vnd.jupyter.widget-view+json": {
       "model_id": "f8c28d2fdd994b3c9b22aaed0638d1ad",
       "version_major": 2,
       "version_minor": 0
      },
      "text/plain": [
       "columns:   0%|          | 0/25 [00:00<?, ?it/s]"
      ]
     },
     "metadata": {},
     "output_type": "display_data"
    },
    {
     "data": {
      "application/vnd.jupyter.widget-view+json": {
       "model_id": "9b009760e1ec4f1089afb1efedfe7502",
       "version_major": 2,
       "version_minor": 0
      },
      "text/plain": [
       "columns:   0%|          | 0/25 [00:00<?, ?it/s]"
      ]
     },
     "metadata": {},
     "output_type": "display_data"
    },
    {
     "data": {
      "application/vnd.jupyter.widget-view+json": {
       "model_id": "dccb3282c7be44fd942604644a07110e",
       "version_major": 2,
       "version_minor": 0
      },
      "text/plain": [
       "columns:   0%|          | 0/25 [00:00<?, ?it/s]"
      ]
     },
     "metadata": {},
     "output_type": "display_data"
    },
    {
     "data": {
      "application/vnd.jupyter.widget-view+json": {
       "model_id": "a113aa5022bd4f9e9946794c5b6c3a11",
       "version_major": 2,
       "version_minor": 0
      },
      "text/plain": [
       "columns:   0%|          | 0/25 [00:00<?, ?it/s]"
      ]
     },
     "metadata": {},
     "output_type": "display_data"
    },
    {
     "name": "stdout",
     "output_type": "stream",
     "text": [
      "Save to output/c68fe75ea.tiff\n"
     ]
    }
   ],
   "source": [
    "postprocess_test_folder(foo, src_folder, './output')"
   ]
  },
  {
   "cell_type": "code",
   "execution_count": null,
   "metadata": {},
   "outputs": [],
   "source": []
  },
  {
   "cell_type": "code",
   "execution_count": null,
   "metadata": {},
   "outputs": [],
   "source": [
    "def crop(src, y,x,h,w): return src[..., y:y+h, x:x+w]\n",
    "def paste(src, block, y,x,h,w):  src[..., y:y+h, x:x+w] = block\n",
    "def get_shift_center(block, h,w): return block.shape[1]//2 -h//2, block.shape[2]//2 -w//2\n",
    "def pad_block(y,x,h,w, pad): return np.array([y-pad, x-pad, h+pad, w+pad])\n",
    "\n",
    "def pad_image(img, pad):\n",
    "    h, w = img.shape[1], img.shape[2]\n",
    "    img_pad = np.zeros((3, h+2*pad, w+2*pad)).astype(img.dtype)\n",
    "    paste(img_pad, img, pad,pad, h, w)\n",
    "    return img_pad\n",
    "\n",
    "def generate_block_coords(H, W, block_size=(128,128)):\n",
    "    h,w = block_size\n",
    "    nXBlocks = (int)((H + h - 1) / h)\n",
    "    nYBlocks = (int)((W + w - 1) / w)\n",
    "    nXValid, nYValid = h, w\n",
    "    for X in range(nXBlocks):\n",
    "        if X == nXBlocks - 1: nXValid = W - X * h\n",
    "        cx = X * h\n",
    "        nYValid = w\n",
    "        for Y in range(nYBlocks):\n",
    "            if Y == nYBlocks - 1: nYValid = H - Y *w\n",
    "            cy = Y * w\n",
    "            yield cy, cx, nYValid, nXValid\n",
    "\n",
    "def infer_image(img, do_inference, block_size=512, pad=16):\n",
    "    img_pad, mask = pad_image(img, pad), np.zeros_like(img).astype(np.float16)\n",
    "    print('padded')\n",
    "    cds = list(generate_block_coords(img.shape[1], img.shape[2], block_size=(block_size,block_size)))\n",
    "    \n",
    "    for block in tqdm(cds):\n",
    "        padded_block = pad_block(*block, pad)\n",
    "        part = crop(img_pad, *(pad + padded_block))\n",
    "        part = do_inference(part)\n",
    "        _,_,h,w = block\n",
    "        y, x = get_shift_center(part, h,w)\n",
    "        cc = crop(part, y, x, h, w)\n",
    "        print(block, cc.shape, part.shape)\n",
    "        paste(mask, cc, *block)\n",
    "    \n",
    "    return mask"
   ]
  },
  {
   "cell_type": "code",
   "execution_count": null,
   "metadata": {},
   "outputs": [],
   "source": [
    "iimg = Image.open('input/cuts1024x05/imgs/0486052bb/000000.png')\n",
    "img = np.array(iimg)\n",
    "img = np.transpose(img, (2,0,1))\n",
    "print(img.shape)"
   ]
  },
  {
   "cell_type": "code",
   "execution_count": null,
   "metadata": {},
   "outputs": [],
   "source": [
    "def inf(img): return img/255.>.5"
   ]
  },
  {
   "cell_type": "code",
   "execution_count": null,
   "metadata": {},
   "outputs": [],
   "source": [
    "mask = infer_image(img, inf, 128,16)\n",
    "mask.max(), mask.min()"
   ]
  },
  {
   "cell_type": "code",
   "execution_count": null,
   "metadata": {},
   "outputs": [],
   "source": [
    "plt.imshow(mask.astype(np.float32).transpose((1,2,0)))"
   ]
  },
  {
   "cell_type": "code",
   "execution_count": null,
   "metadata": {},
   "outputs": [],
   "source": [
    "#Image.fromarray((255*mask).astype(np.uint8)).resize((512,512))"
   ]
  },
  {
   "cell_type": "code",
   "execution_count": null,
   "metadata": {},
   "outputs": [],
   "source": []
  },
  {
   "cell_type": "code",
   "execution_count": null,
   "metadata": {},
   "outputs": [],
   "source": [
    "import rasterio as rio"
   ]
  },
  {
   "cell_type": "code",
   "execution_count": null,
   "metadata": {},
   "outputs": [],
   "source": [
    "img = rio.open('./input/hm/train/095bf7a1f.tiff').read()"
   ]
  },
  {
   "cell_type": "code",
   "execution_count": null,
   "metadata": {},
   "outputs": [],
   "source": [
    "iimg = img[...,:9000,:5000]"
   ]
  },
  {
   "cell_type": "code",
   "execution_count": null,
   "metadata": {},
   "outputs": [],
   "source": [
    "iimg.shape"
   ]
  },
  {
   "cell_type": "code",
   "execution_count": null,
   "metadata": {},
   "outputs": [],
   "source": [
    "mask = infer_image(iimg, inf, 1024, 128)"
   ]
  },
  {
   "cell_type": "code",
   "execution_count": null,
   "metadata": {},
   "outputs": [],
   "source": [
    "mask.shape"
   ]
  },
  {
   "cell_type": "code",
   "execution_count": null,
   "metadata": {},
   "outputs": [],
   "source": []
  },
  {
   "cell_type": "code",
   "execution_count": null,
   "metadata": {},
   "outputs": [],
   "source": []
  },
  {
   "cell_type": "code",
   "execution_count": null,
   "metadata": {},
   "outputs": [],
   "source": []
  },
  {
   "cell_type": "code",
   "execution_count": null,
   "metadata": {},
   "outputs": [],
   "source": []
  },
  {
   "cell_type": "code",
   "execution_count": null,
   "metadata": {},
   "outputs": [],
   "source": []
  },
  {
   "cell_type": "code",
   "execution_count": null,
   "metadata": {},
   "outputs": [],
   "source": []
  },
  {
   "cell_type": "markdown",
   "metadata": {},
   "source": [
    "# Tests"
   ]
  },
  {
   "cell_type": "markdown",
   "metadata": {},
   "source": [
    "## Sampler"
   ]
  },
  {
   "cell_type": "code",
   "execution_count": null,
   "metadata": {},
   "outputs": [],
   "source": [
    "s = sampler.tif_block_read('./input/hm/test/b2dc8411c.tiff', block_size=(1024,1024))\n",
    "s = iter(s)\n",
    "_,_,img = next(s)\n",
    "print(img.shape, img.dtype)"
   ]
  },
  {
   "cell_type": "code",
   "execution_count": null,
   "metadata": {},
   "outputs": [],
   "source": [
    "Image.fromarray(img.transpose(1,2,0)).resize((256,256))"
   ]
  },
  {
   "cell_type": "code",
   "execution_count": null,
   "metadata": {},
   "outputs": [],
   "source": []
  },
  {
   "cell_type": "markdown",
   "metadata": {},
   "source": [
    "## Rasterio"
   ]
  },
  {
   "cell_type": "code",
   "execution_count": null,
   "metadata": {},
   "outputs": [],
   "source": [
    "import rasterio as rio"
   ]
  },
  {
   "cell_type": "code",
   "execution_count": null,
   "metadata": {},
   "outputs": [],
   "source": [
    "ds = rio.open(img_name)\n",
    "ds.shape"
   ]
  },
  {
   "cell_type": "code",
   "execution_count": null,
   "metadata": {},
   "outputs": [],
   "source": [
    "x,y = 15750,16100\n",
    "w,h=2048,2048\n",
    "img = ds.read([1,2,3], window=((x,x+w),(y,y+h)))\n",
    "print(img.shape, img.dtype)"
   ]
  },
  {
   "cell_type": "code",
   "execution_count": null,
   "metadata": {},
   "outputs": [],
   "source": [
    "Image.fromarray(img.transpose(1,2,0)).resize((256,256))"
   ]
  },
  {
   "cell_type": "code",
   "execution_count": null,
   "metadata": {},
   "outputs": [],
   "source": [
    "%%timeit -n 10 -r 10\n",
    "bb = foo([img])\n",
    "bb.shape, bb.dtype, bb.max()"
   ]
  },
  {
   "cell_type": "code",
   "execution_count": null,
   "metadata": {},
   "outputs": [],
   "source": [
    "plt.imshow(bb[0][0])"
   ]
  },
  {
   "cell_type": "code",
   "execution_count": null,
   "metadata": {},
   "outputs": [],
   "source": []
  },
  {
   "cell_type": "code",
   "execution_count": null,
   "metadata": {},
   "outputs": [],
   "source": []
  },
  {
   "cell_type": "code",
   "execution_count": null,
   "metadata": {},
   "outputs": [],
   "source": [
    "t = callbacks.denorm(dxb[0], mean=cfg.TRANSFORMERS.MEAN, std=cfg.TRANSFORMERS.STD).squeeze()\n",
    "t = t.squeeze().permute(1,2,0).numpy()\n",
    "t.shape\n",
    "\n",
    "Image.fromarray((255.*t).astype(np.uint8))#.resize((512,512))"
   ]
  },
  {
   "cell_type": "code",
   "execution_count": null,
   "metadata": {},
   "outputs": [],
   "source": []
  },
  {
   "cell_type": "code",
   "execution_count": null,
   "metadata": {},
   "outputs": [],
   "source": []
  },
  {
   "cell_type": "code",
   "execution_count": null,
   "metadata": {},
   "outputs": [],
   "source": []
  },
  {
   "cell_type": "code",
   "execution_count": null,
   "metadata": {},
   "outputs": [],
   "source": []
  },
  {
   "cell_type": "code",
   "execution_count": null,
   "metadata": {},
   "outputs": [],
   "source": []
  },
  {
   "cell_type": "code",
   "execution_count": null,
   "metadata": {},
   "outputs": [],
   "source": []
  }
 ],
 "metadata": {
  "kernelspec": {
   "display_name": "Python 3",
   "language": "python",
   "name": "python3"
  },
  "language_info": {
   "codemirror_mode": {
    "name": "ipython",
    "version": 3
   },
   "file_extension": ".py",
   "mimetype": "text/x-python",
   "name": "python",
   "nbconvert_exporter": "python",
   "pygments_lexer": "ipython3",
   "version": "3.6.9"
  }
 },
 "nbformat": 4,
 "nbformat_minor": 4
}
