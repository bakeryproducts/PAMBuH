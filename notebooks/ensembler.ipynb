{
 "cells": [
  {
   "cell_type": "code",
   "execution_count": null,
   "metadata": {},
   "outputs": [],
   "source": [
    "%load_ext autoreload\n",
    "%autoreload 2"
   ]
  },
  {
   "cell_type": "code",
   "execution_count": null,
   "metadata": {},
   "outputs": [],
   "source": [
    "import torch\n",
    "import numpy as np"
   ]
  },
  {
   "cell_type": "code",
   "execution_count": null,
   "metadata": {},
   "outputs": [],
   "source": [
    "import pandas as pd\n",
    "from pathlib import Path\n",
    "import matplotlib.pyplot as plt\n",
    "%matplotlib inline"
   ]
  },
  {
   "cell_type": "code",
   "execution_count": null,
   "metadata": {},
   "outputs": [],
   "source": [
    "totals = Path('../output/').rglob('total.csv')\n",
    "totals = list(totals)\n",
    "totals[:3]"
   ]
  },
  {
   "cell_type": "code",
   "execution_count": null,
   "metadata": {},
   "outputs": [],
   "source": [
    "k = 'fold_3'\n",
    "f0 = []\n",
    "dfs = []\n",
    "for t in totals:\n",
    "    if k in str(t):\n",
    "        f0.append(t)\n",
    "        df = pd.read_csv(t, index_col=0)\n",
    "        kk = str(t.parent.parent.name)\n",
    "        if kk.endswith('_PAMBUH'): kk = kk[:-7]\n",
    "        df.index = [kk]*3\n",
    "        dfs.append(df)"
   ]
  },
  {
   "cell_type": "code",
   "execution_count": null,
   "metadata": {},
   "outputs": [],
   "source": [
    "df = pd.concat(dfs, axis=0)\n",
    "df1 = df.iloc[1::3]\n",
    "df2 = df.iloc[0::3]\n",
    "df1.head()"
   ]
  },
  {
   "cell_type": "code",
   "execution_count": null,
   "metadata": {},
   "outputs": [],
   "source": [
    "ax = df1['real_score'].plot(rot=30, figsize=(20,5))\n",
    "ax = df2['real_score'].plot(rot=30, figsize=(20,5), grid=True)\n",
    "ax = ((df2['real_score']+df1['real_score'])/2).plot(rot=30, figsize=(20,5), grid=True)\n",
    "\n",
    "\n",
    "plt.xticks(range(0,len(df1.index)), df1.index)\n",
    "plt.show()"
   ]
  },
  {
   "cell_type": "code",
   "execution_count": null,
   "metadata": {},
   "outputs": [],
   "source": [
    "a,b = df1['real_score'].values, df2['real_score'].values\n",
    "score1 = np.argsort(a)[::-1]\n",
    "score2 = np.argsort(b)[::-1]\n",
    "score = np.argsort(a+b)[::-1]\n",
    "score, score1[:2],score2[:2]"
   ]
  },
  {
   "cell_type": "code",
   "execution_count": null,
   "metadata": {},
   "outputs": [],
   "source": [
    "#[str(df1.index.values[s]) for s in [7,8,13,11]]\n",
    "#[str(df1.index.values[s]) for s in [4,10,11,13]]\n",
    "#[str(df1.index.values[s]) for s in [0,5,7,9]]\n",
    "[str(df1.index.values[s]) for s in [0,4,8,11]]"
   ]
  },
  {
   "cell_type": "code",
   "execution_count": null,
   "metadata": {},
   "outputs": [],
   "source": [
    "2 0\n",
    "2 4\n",
    "1 5\n",
    "2 7\n",
    "2 8\n",
    "1 9\n",
    "1 10\n",
    "3 11\n",
    "2 13\n"
   ]
  },
  {
   "cell_type": "code",
   "execution_count": null,
   "metadata": {},
   "outputs": [],
   "source": [
    "[str(f0[s]) for s in [0, 4,8,11 ]]"
   ]
  },
  {
   "cell_type": "code",
   "execution_count": null,
   "metadata": {},
   "outputs": [],
   "source": []
  },
  {
   "cell_type": "markdown",
   "metadata": {},
   "source": [
    "#  RES"
   ]
  },
  {
   "cell_type": "code",
   "execution_count": null,
   "metadata": {},
   "outputs": [],
   "source": [
    "fold_0 = [\n",
    "    '../output/2021_May_10_01_07_51_PAMBUH/fold_0/total.csv',\n",
    "    '../output/2021_May_09_01_00_22_PAMBUH/fold_0/total.csv',\n",
    "    '../output/2021_May_09_17_48_57_PAMBUH/fold_0/total.csv',\n",
    "    '../output/2021_May_09_21_00_30_PAMBUH/fold_0/total.csv' ,  \n",
    "]\n",
    "fold_1 = [\n",
    "    '../output/2021_May_10_01_07_51_PAMBUH/fold_1/total.csv',\n",
    "    '../output/2021_May_09_01_00_22_PAMBUH/fold_1/total.csv',\n",
    "    '../output/2021_May_09_17_48_57_PAMBUH/fold_1/total.csv',\n",
    "    '../output/2021_May_09_21_00_30_PAMBUH/fold_1/total.csv' ,  \n",
    "]\n",
    "fold_2 = [\n",
    "    '../output/2021_May_10_01_07_51_PAMBUH/fold_2/total.csv',\n",
    "    '../output/2021_May_09_01_00_22_PAMBUH/fold_2/total.csv',\n",
    "    '../output/2021_May_09_17_48_57_PAMBUH/fold_2/total.csv',\n",
    "    '../output/2021_May_09_21_00_30_PAMBUH/fold_2/total.csv' ,  \n",
    "]\n",
    "fold_3 = [\n",
    "    '../output/2021_May_10_01_07_51_PAMBUH/fold_3/total.csv',\n",
    "    '../output/2021_May_09_01_00_22_PAMBUH/fold_3/total.csv',\n",
    "    '../output/2021_May_09_17_48_57_PAMBUH/fold_3/total.csv',\n",
    "    '../output/2021_May_09_21_00_30_PAMBUH/fold_3/total.csv' ,  \n",
    "]"
   ]
  },
  {
   "cell_type": "code",
   "execution_count": null,
   "metadata": {},
   "outputs": [],
   "source": [
    "# fold_0 = [\n",
    "#     '../output/S/2021_May_07_18_01_35_PAMBUH_s/fold_0/total.csv',\n",
    "#     '../output/S/2021_May_07_11_36_31_PAMBUH_s/fold_0/total.csv',\n",
    "#     '../output/S/2021_May_05_01_18_57_PAMBUH_s_L/fold_0/total.csv',\n",
    "#     '../output/S/2021_May_07_14_59_23_PAMBUH_s/fold_0/total.csv',\n",
    "# ]\n",
    "\n",
    "# fold_1 = [\n",
    "#     '../output/S/2021_May_07_18_01_35_PAMBUH_s/fold_1/total.csv',\n",
    "#     '../output/S/2021_May_07_11_36_31_PAMBUH_s/fold_1/total.csv',\n",
    "#     '../output/S/2021_May_05_01_18_57_PAMBUH_s_L/fold_1/total.csv',\n",
    "#     '../output/S/2021_May_07_14_59_23_PAMBUH_s/fold_1/total.csv',    \n",
    "# ]\n",
    "\n",
    "# fold_2 = [\n",
    "#     '../output/S/2021_May_07_18_01_35_PAMBUH_s/fold_2/total.csv',\n",
    "#     '../output/S/2021_May_07_11_36_31_PAMBUH_s/fold_2/total.csv',\n",
    "#     '../output/S/2021_May_05_01_18_57_PAMBUH_s_L/fold_2/total.csv',\n",
    "#     '../output/S/2021_May_07_14_59_23_PAMBUH_s/fold_2/total.csv',\n",
    "# ]\n",
    "\n",
    "# fold_3 = [\n",
    "#     '../output/S/2021_May_07_18_01_35_PAMBUH_s/fold_3/total.csv',\n",
    "#     '../output/S/2021_May_07_11_36_31_PAMBUH_s/fold_3/total.csv',\n",
    "#     '../output/S/2021_May_05_01_18_57_PAMBUH_s_L/fold_3/total.csv',\n",
    "#     '../output/S/2021_May_07_14_59_23_PAMBUH_s/fold_3/total.csv',\n",
    "\n",
    "# ]"
   ]
  },
  {
   "cell_type": "code",
   "execution_count": null,
   "metadata": {},
   "outputs": [],
   "source": [
    "folds = [fold_0, fold_1, fold_2, fold_3]"
   ]
  },
  {
   "cell_type": "code",
   "execution_count": null,
   "metadata": {},
   "outputs": [],
   "source": [
    "import os\n",
    "import shutil\n",
    "\n",
    "def parse_model_path(p):\n",
    "    name = str(p.name)\n",
    "    epoch = name.split('_')[0]\n",
    "    return int(epoch[1:])\n",
    "\n",
    "def get_last_model_name(src):\n",
    "    # assumes that model name is of type e500_blabla.pth, sorted by epoch #500\n",
    "    model_names = list(Path(src).glob('*.pth'))\n",
    "    assert model_names != [], 'No valid models at init path'\n",
    "\n",
    "    res = []\n",
    "    for i, m in enumerate(model_names):\n",
    "        epoch = parse_model_path(m)\n",
    "        res.append([i,epoch])\n",
    "    idx = sorted(res, key=lambda x: -x[1])[0][0]\n",
    "    return model_names[idx]\n",
    "\n",
    "def check(p):\n",
    "    with open(str(p)) as f:\n",
    "        datafile = f.readlines()\n",
    "    for r in datafile:\n",
    "        if r.startswith('    model = '): \n",
    "            mod = r[r.find('smp.')+4:r.find(',')]\n",
    "            #print(r.find('decoder_attention_type'))\n",
    "            dec_at_type = '_scse' if r.find('decoder_attention_type') != -1 else ''\n",
    "            r = r[r.find('\\'')+1:]\n",
    "            r = r[:r.find('\\'')]\n",
    "            r += dec_at_type\n",
    "            return mod, r\n",
    "    return False"
   ]
  },
  {
   "cell_type": "code",
   "execution_count": null,
   "metadata": {},
   "outputs": [],
   "source": [
    "dst = Path('../../models7_SC/')\n",
    "cnt=0\n",
    "for i,ff in enumerate(folds):\n",
    "    for j, fo in enumerate(ff):\n",
    "        root = Path(fo).parent\n",
    "        print(j, root)\n",
    "        \n",
    "        #total = root / 'total.csv'\n",
    "        cfg = root / 'cfg.yaml'\n",
    "        model = get_last_model_name(root / 'models')\n",
    "        md,bb = check(root / 'src/model.py')\n",
    "        dj = dst / f'{md}_{bb}' / f'{cnt}'\n",
    "        dj.mkdir(parents=True, exist_ok=True)\n",
    "        cnt+=1\n",
    "        #shutil.copy(total, dj)\n",
    "        shutil.copy(model, dj)\n",
    "        shutil.copy(cfg, dj)\n",
    "        \n",
    "        #break\n",
    "    #break\n"
   ]
  },
  {
   "cell_type": "code",
   "execution_count": null,
   "metadata": {},
   "outputs": [],
   "source": []
  },
  {
   "cell_type": "code",
   "execution_count": null,
   "metadata": {},
   "outputs": [],
   "source": [
    "p = '../output/2021_May_09_01_00_22_PAMBUH/src/model.py'\n",
    "r = check(p)\n",
    "r"
   ]
  },
  {
   "cell_type": "code",
   "execution_count": null,
   "metadata": {},
   "outputs": [],
   "source": []
  },
  {
   "cell_type": "code",
   "execution_count": null,
   "metadata": {},
   "outputs": [],
   "source": []
  },
  {
   "cell_type": "code",
   "execution_count": null,
   "metadata": {},
   "outputs": [],
   "source": []
  },
  {
   "cell_type": "code",
   "execution_count": null,
   "metadata": {},
   "outputs": [],
   "source": []
  },
  {
   "cell_type": "code",
   "execution_count": null,
   "metadata": {},
   "outputs": [],
   "source": []
  }
 ],
 "metadata": {
  "kernelspec": {
   "display_name": "Python 3",
   "language": "python",
   "name": "python3"
  },
  "language_info": {
   "codemirror_mode": {
    "name": "ipython",
    "version": 3
   },
   "file_extension": ".py",
   "mimetype": "text/x-python",
   "name": "python",
   "nbconvert_exporter": "python",
   "pygments_lexer": "ipython3",
   "version": "3.6.9"
  }
 },
 "nbformat": 4,
 "nbformat_minor": 4
}
