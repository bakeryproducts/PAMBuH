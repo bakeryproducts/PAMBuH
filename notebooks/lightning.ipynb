{
 "cells": [
  {
   "cell_type": "code",
   "execution_count": 1,
   "id": "toxic-conflict",
   "metadata": {},
   "outputs": [],
   "source": [
    "%load_ext autoreload\n",
    "%autoreload 2"
   ]
  },
  {
   "cell_type": "code",
   "execution_count": 2,
   "id": "egyptian-animal",
   "metadata": {},
   "outputs": [],
   "source": [
    "import os\n",
    "import sys\n",
    "os.chdir('..')\n",
    "sys.path.append('src')\n",
    "os.environ['KMP_DUPLICATE_LIB_OK']='True'"
   ]
  },
  {
   "cell_type": "code",
   "execution_count": 3,
   "id": "indian-motor",
   "metadata": {},
   "outputs": [],
   "source": [
    "from pathlib import Path\n",
    "from matplotlib import pyplot as plt\n",
    "import cv2\n",
    "import tqdm\n",
    "from ipywidgets import widgets\n",
    "from IPython.display import clear_output\n",
    "import rasterio\n",
    "import functools\n",
    "import numpy as np\n",
    "from PIL import Image\n",
    "\n",
    "import utils\n",
    "from sampler import BackgroundSampler, GdalSampler\n",
    "from lightning import cut_off_light_from_img\n",
    "from rle2tiff import save_mask\n",
    "from tf_reader import TFReader\n",
    "from skimage.transform import resize\n",
    "\n",
    "import functools\n",
    "import numpy as np"
   ]
  },
  {
   "cell_type": "markdown",
   "id": "ceramic-nomination",
   "metadata": {},
   "source": [
    "#### Configurations"
   ]
  },
  {
   "cell_type": "code",
   "execution_count": 4,
   "id": "smart-tiffany",
   "metadata": {},
   "outputs": [],
   "source": [
    "path_to_img_folder = Path('F:/kaggle/newdata/tiff_light')\n",
    "path_to_mask_folder = Path('F:/kaggle/newdata/tiff_light/masks')\n",
    "path_to_anot_struct_folder = Path('F:/kaggle/newdata/tiff_light')\n",
    "postfix_anot = '-anatomical-structure.json'\n",
    "postfix_polyg = '.json'\n",
    "out_path_to_light_crop = Path('F:/kaggle/newdata/data/crop_aa05346ff/')\n",
    "\n",
    "num_samples = 30 # Total number of lightning templates (backs)\n",
    "wh = (768, 768)\n",
    "downscale_factor = 3\n",
    "max_gray_val = 255\n",
    "\n",
    "rand_shift = wh[0]/2 # only for GdalSampler\n",
    "sampler_type = 'back'   # glom or back"
   ]
  },
  {
   "cell_type": "markdown",
   "id": "increasing-craps",
   "metadata": {},
   "source": [
    "#### Create background samples "
   ]
  },
  {
   "cell_type": "markdown",
   "id": "entitled-viewer",
   "metadata": {},
   "source": [
    "Choose only images with lightnings"
   ]
  },
  {
   "cell_type": "code",
   "execution_count": 5,
   "id": "olive-perception",
   "metadata": {},
   "outputs": [
    {
     "name": "stdout",
     "output_type": "stream",
     "text": [
      "[WindowsPath('F:/kaggle/newdata/tiff_light/4ef6695ce.tiff'), WindowsPath('F:/kaggle/newdata/tiff_light/aa05346ff.tiff'), WindowsPath('F:/kaggle/newdata/tiff_light/c68fe75ea.tiff'), WindowsPath('F:/kaggle/newdata/tiff_light/e79de561c.tiff')]\n",
      "F:\\kaggle\\newdata\\tiff_light\\aa05346ff.tiff\n"
     ]
    }
   ],
   "source": [
    "path_to_imgs = sorted(list(path_to_img_folder.glob('*.tiff')))\n",
    "print(path_to_imgs)\n",
    "indices_img_with_light = [1]  # Chosen manually\n",
    "assert len(indices_img_with_light) == 1\n",
    "\n",
    "path_to_imgs = [path_to_imgs[ind] for ind in indices_img_with_light]\n",
    "print(path_to_imgs[0])"
   ]
  },
  {
   "cell_type": "code",
   "execution_count": 6,
   "id": "transparent-identifier",
   "metadata": {
    "scrolled": true
   },
   "outputs": [
    {
     "name": "stderr",
     "output_type": "stream",
     "text": [
      "D:\\Users\\Mikhail\\anaconda3\\envs\\Soft\\lib\\site-packages\\rasterio\\__init__.py:219: NotGeoreferencedWarning: Dataset has no geotransform set. The identity matrix may be returned.\n",
      "  s = DatasetReader(path, driver=driver, sharing=sharing, **kwargs)\n",
      "0it [00:00, ?it/s]D:\\Users\\Mikhail\\anaconda3\\envs\\Soft\\lib\\site-packages\\rasterio\\__init__.py:229: NotGeoreferencedWarning: Dataset has no geotransform set. The identity matrix may be returned.\n",
      "  **kwargs)\n",
      "30it [00:10,  2.86it/s]\n"
     ]
    }
   ],
   "source": [
    "threshold=205\n",
    "kernel_size=2\n",
    "\n",
    "out_path_to_light_crop.mkdir(exist_ok=True) \n",
    "\n",
    "for path_to_img in path_to_imgs:\n",
    "    path_to_mask =path_to_mask_folder / path_to_img.name\n",
    "    path_to_anot_struct = path_to_anot_struct_folder / (path_to_img.stem + postfix_anot)\n",
    "    path_to_polyg = path_to_anot_struct_folder / (path_to_img.stem + postfix_polyg)\n",
    "\n",
    "    num_samples_per_img = num_samples//len(path_to_imgs)\n",
    "    \n",
    "    # List of polygons containing anotomical structure\n",
    "    polygons = utils.get_cortex_polygons(utils.jread(path_to_anot_struct))\n",
    "    if sampler_type == 'back':\n",
    "        samples = BackgroundSampler(path_to_img, \n",
    "                                         path_to_mask, \n",
    "                                         polygons, \n",
    "                                         wh, \n",
    "                                         num_samples_per_img)\n",
    "    elif sampler_type == 'glom':\n",
    "        samples = GdalSampler(path_to_img, \n",
    "                              path_to_mask, \n",
    "                              path_to_polyg, \n",
    "                              wh, \n",
    "                              rand_shift_range = (rand_shift, rand_shift))\n",
    "        \n",
    "    \n",
    "    for ind, back_sample in tqdm.tqdm(enumerate(samples)):\n",
    "        crop, _ = back_sample\n",
    "        num_bands = crop.shape[0]\n",
    "        \n",
    "        mask_with_light = cut_off_light_from_img(crop,\n",
    "                                                 threshold=threshold,\n",
    "                                                 kernel_size=kernel_size, \n",
    "                                                 min_light_ratio = 0.1, \n",
    "                                                 max_light_ratio = 0.35,\n",
    "                                                 is_morph_before_thresh = False, \n",
    "                                                 is_morph_after_thresh = False)\n",
    "        \n",
    "        if mask_with_light is not None:\n",
    "            # Reshape \n",
    "            h, w = mask_with_light.shape\n",
    "            mask_with_light = mask_with_light.reshape(1, h, w)        # (1, h, w)\n",
    "            \n",
    "            # Downscale\n",
    "            h_down, w_down = h//downscale_factor, w//downscale_factor\n",
    "            mask_with_light = (resize(mask_with_light, (1, h_down, w_down)) * max_gray_val).astype(np.uint8)\n",
    "            mask_with_light = np.where(mask_with_light > 127, max_gray_val, 0).astype(np.uint8)\n",
    "            crop = (resize(crop, (num_bands, h_down, w_down)) * max_gray_val).astype(np.uint8)\n",
    "            \n",
    "            # Stack\n",
    "            crop_with_mask = np.concatenate((crop, mask_with_light))  # (4, h, w)\n",
    "            \n",
    "            # Save\n",
    "            path_to_save = out_path_to_light_crop / f'{path_to_img.stem}_{ind}{path_to_img.suffix}'\n",
    "            utils.save_arr_as_tiff(crop_with_mask, path_to_save)\n",
    "            \n",
    "    del samples, crop"
   ]
  },
  {
   "cell_type": "markdown",
   "id": "prescription-integration",
   "metadata": {},
   "source": [
    "#### Clean"
   ]
  },
  {
   "cell_type": "code",
   "execution_count": 7,
   "id": "silver-indianapolis",
   "metadata": {},
   "outputs": [
    {
     "data": {
      "application/vnd.jupyter.widget-view+json": {
       "model_id": "0d1116d94a2b425bae014ff441eb7b84",
       "version_major": 2,
       "version_minor": 0
      },
      "text/plain": [
       "Button(description='Next', style=ButtonStyle())"
      ]
     },
     "metadata": {},
     "output_type": "display_data"
    },
    {
     "name": "stdout",
     "output_type": "stream",
     "text": [
      "ATTENTION: DELETE IMAGES\n"
     ]
    }
   ],
   "source": [
    "path_to_crops = out_path_to_light_crop.glob(f'*{path_to_imgs[0].stem}*{path_to_imgs[0].suffix}')\n",
    "plt.rcParams[\"figure.figsize\"] = (12,6)\n",
    "\n",
    "del_mem_paths = []\n",
    "\n",
    "def delete(light_crop, nothing):\n",
    "    if light_crop not in del_mem_paths:\n",
    "        del_mem_paths.append(light_crop)\n",
    "        print(\"Added\")\n",
    "    \n",
    "def f(nothing):\n",
    "    clear_output(wait=True)\n",
    "    display(button)\n",
    "    \n",
    "    try:\n",
    "        \n",
    "        path_to_light_crop = next(path_to_crops)\n",
    "        print(path_to_light_crop)\n",
    "        \n",
    "        display(button_del)\n",
    "        button_del._click_handlers.callbacks = []\n",
    "        button_del.on_click(functools.partial(delete, str(path_to_light_crop)))\n",
    "        \n",
    "        dt_crop_with_light = TFReader(path_to_light_crop)\n",
    "        crop_with_light = dt_crop_with_light.read()\n",
    "        \n",
    "        mask = crop_with_light[3]\n",
    "        \n",
    "        total_num_cells = 256*256\n",
    "        num_white_cells = mask.sum() / max_gray_val\n",
    "        ratio = num_white_cells / total_num_cells\n",
    "        print(ratio)\n",
    "        \n",
    "        fig, (ax1, ax2) = plt.subplots(1, 2)\n",
    "        ax1.imshow(crop_with_light[:3].transpose([1, 2, 0]), cmap='gray')\n",
    "        ax2.imshow(mask, cmap='gray')\n",
    "        plt.show()\n",
    "\n",
    "        del dt_crop_with_light\n",
    "\n",
    "    except StopIteration:\n",
    "        print(\"ATTENTION: DELETE IMAGES\")\n",
    "\n",
    "    \n",
    "button = widgets.Button(description=\"Next\")\n",
    "button_del = widgets.Button(description=\"Delete\")\n",
    "\n",
    "display(button)\n",
    "button.on_click(f)"
   ]
  },
  {
   "cell_type": "markdown",
   "id": "confident-bahamas",
   "metadata": {},
   "source": [
    "#### Delete"
   ]
  },
  {
   "cell_type": "code",
   "execution_count": 17,
   "id": "unlimited-bulgarian",
   "metadata": {},
   "outputs": [
    {
     "name": "stdout",
     "output_type": "stream",
     "text": [
      "0 crops will be removed\n"
     ]
    }
   ],
   "source": [
    "print(f'{len(np.unique(del_mem_paths))} crops will be removed')"
   ]
  },
  {
   "cell_type": "code",
   "execution_count": 18,
   "id": "renewable-syndicate",
   "metadata": {},
   "outputs": [
    {
     "name": "stdout",
     "output_type": "stream",
     "text": [
      "0 crops has been removed\n"
     ]
    }
   ],
   "source": [
    "print(f'{len(np.unique(del_mem_paths))} crops has been removed')\n",
    "for path in del_mem_paths:\n",
    "    if os.path.isfile(Path(path)):\n",
    "        Path(path).unlink()"
   ]
  },
  {
   "cell_type": "code",
   "execution_count": 96,
   "id": "supposed-resistance",
   "metadata": {},
   "outputs": [],
   "source": [
    "tiff_files = list((Path(out_path_to_light_crop)).glob('*.tiff'))"
   ]
  },
  {
   "cell_type": "code",
   "execution_count": 97,
   "id": "mechanical-glucose",
   "metadata": {},
   "outputs": [],
   "source": [
    "for tiff_file in tiff_files:\n",
    "    img = rasterio.open(f\"{tiff_file}\", 'r')\n",
    "    img_array = img.read()        \n",
    "    h = img_array.shape[1]\n",
    "    w = img_array.shape[2]\n",
    "    img_array[3] = np.where(img_array[3] > 0, 255, 0).astype(np.uint8)\n",
    "    name = tiff_file.with_suffix('').name\n",
    "    img_tiff = rasterio.open(f\"{out_path_to_light_crop}/png/{name}.png\", 'w', driver='png', height=h, width=w, count=4, nbits=48, dtype=np.uint8)\n",
    "    img_tiff.write(img_array)\n",
    "    img_tiff.close()"
   ]
  },
  {
   "cell_type": "code",
   "execution_count": null,
   "id": "enabling-killer",
   "metadata": {},
   "outputs": [],
   "source": []
  },
  {
   "cell_type": "code",
   "execution_count": 58,
   "id": "random-yukon",
   "metadata": {},
   "outputs": [],
   "source": [
    "#path = \"F:/kaggle/newdata/data/light/e79de561c/\""
   ]
  },
  {
   "cell_type": "code",
   "execution_count": 59,
   "id": "verbal-mauritius",
   "metadata": {},
   "outputs": [],
   "source": [
    "#png_files = list((Path(path)).glob('*.png'))"
   ]
  },
  {
   "cell_type": "code",
   "execution_count": 60,
   "id": "transsexual-level",
   "metadata": {},
   "outputs": [],
   "source": [
    "#for png_file in png_files:\n",
    "#    img = rasterio.open(f\"{png_file}\", 'r')\n",
    "#    img_array = img.read()        \n",
    "#    img_array = img_array[:, :256, :256]\n",
    "#    h = img_array.shape[1]\n",
    "#    w = img_array.shape[2]\n",
    "#    name = png_file.with_suffix('').name\n",
    "#    img_png = rasterio.open(f\"{path}/256/{name}.png\", 'w', driver='png', height=h, width=w, count=4, nbits=48, dtype=np.uint8)\n",
    "#    img_png.write(img_array)\n",
    "#    img_png.close()    "
   ]
  },
  {
   "cell_type": "code",
   "execution_count": null,
   "id": "numerical-machine",
   "metadata": {},
   "outputs": [],
   "source": []
  },
  {
   "cell_type": "code",
   "execution_count": null,
   "id": "floating-mainstream",
   "metadata": {},
   "outputs": [],
   "source": []
  },
  {
   "cell_type": "code",
   "execution_count": null,
   "id": "broad-semester",
   "metadata": {},
   "outputs": [],
   "source": []
  },
  {
   "cell_type": "code",
   "execution_count": null,
   "id": "chemical-premises",
   "metadata": {},
   "outputs": [],
   "source": []
  },
  {
   "cell_type": "code",
   "execution_count": null,
   "id": "adjacent-marriage",
   "metadata": {},
   "outputs": [],
   "source": []
  }
 ],
 "metadata": {
  "kernelspec": {
   "display_name": "Python 3",
   "language": "python",
   "name": "python3"
  },
  "language_info": {
   "codemirror_mode": {
    "name": "ipython",
    "version": 3
   },
   "file_extension": ".py",
   "mimetype": "text/x-python",
   "name": "python",
   "nbconvert_exporter": "python",
   "pygments_lexer": "ipython3",
   "version": "3.7.9"
  }
 },
 "nbformat": 4,
 "nbformat_minor": 5
}
