{
 "cells": [
  {
   "cell_type": "markdown",
   "metadata": {},
   "source": [
    "# Imports"
   ]
  },
  {
   "cell_type": "code",
   "execution_count": null,
   "metadata": {},
   "outputs": [],
   "source": [
    "import os\n",
    "import sys\n",
    "os.chdir('..')\n",
    "sys.path.append('src')\n",
    "\n",
    "import torch\n",
    "import rasterio as rio\n",
    "import numpy as np\n",
    "import pandas as pd\n",
    "\n",
    "import utils\n",
    "import rle2tiff"
   ]
  },
  {
   "cell_type": "markdown",
   "metadata": {},
   "source": [
    "# HW check"
   ]
  },
  {
   "cell_type": "code",
   "execution_count": null,
   "metadata": {},
   "outputs": [],
   "source": [
    "imgs = utils.get_filenames('input/hm/test', '*.tiff', lambda x: False)\n",
    "df_train = pd.read_csv('input/hm/HuBMAP-20-dataset_information.csv')\n",
    "\n",
    "hws = {}\n",
    "full_names = {}\n",
    "for f in imgs:\n",
    "    _, hw, _ = utils.get_basics_rasterio(str(f))\n",
    "    hws[f.stem] = hw\n",
    "    full_names[f.stem] = f\n",
    "hws"
   ]
  },
  {
   "cell_type": "code",
   "execution_count": null,
   "metadata": {},
   "outputs": [],
   "source": [
    "t = df_train[['image_file','width_pixels','height_pixels']]\n",
    "sanity = {a.split('.')[0]:(c,b) for a,b,c in t.values}\n",
    "sanity"
   ]
  },
  {
   "cell_type": "code",
   "execution_count": null,
   "metadata": {},
   "outputs": [],
   "source": [
    "for k,v in sanity.items():\n",
    "    if k in hws:\n",
    "        if hws[k] != v:\n",
    "            print('ERR',k,v,hws[k])\n",
    "        else:\n",
    "            print('OKK',k,v,hws[k])\n",
    "            "
   ]
  },
  {
   "cell_type": "code",
   "execution_count": null,
   "metadata": {},
   "outputs": [],
   "source": []
  },
  {
   "cell_type": "markdown",
   "metadata": {},
   "source": [
    "# Submissions checks"
   ]
  },
  {
   "cell_type": "code",
   "execution_count": null,
   "metadata": {},
   "outputs": [],
   "source": [
    "df = pd.read_csv('output/924/submission_924.csv')\n",
    "d = df.to_dict()\n",
    "ids, preds = d['id'], d['predicted']\n",
    "\n",
    "dd = {}\n",
    "for k in ids:\n",
    "    dd[ids[k]] = preds[k]"
   ]
  },
  {
   "cell_type": "markdown",
   "metadata": {},
   "source": [
    "### Masks from sub"
   ]
  },
  {
   "cell_type": "code",
   "execution_count": null,
   "metadata": {},
   "outputs": [],
   "source": [
    "for k, rle in dd.items():\n",
    "    hw = hws[k]\n",
    "    print(k, hw)\n",
    "    mask  = rle2tiff.rle2mask(rle, hw[::-1])\n",
    "    mask_name =  f'output/924/predict/masks/{k}_920.tiff'\n",
    "    utils.save_tiff_uint8_single_band(mask.T, mask_name)\n",
    "    #merge_name = f'output/924/predict/merged/{k}_924.tiff'\n",
    "    #utils.tiff_merge_mask(full_names[k], mask_name, merge_name)\n",
    "    "
   ]
  },
  {
   "cell_type": "markdown",
   "metadata": {},
   "source": [
    "### DICE between masks"
   ]
  },
  {
   "cell_type": "code",
   "execution_count": null,
   "metadata": {},
   "outputs": [],
   "source": [
    "from loss import dice_loss"
   ]
  },
  {
   "cell_type": "code",
   "execution_count": null,
   "metadata": {},
   "outputs": [],
   "source": [
    "dices = []\n",
    "for k, rle in dd.items():\n",
    "    if k != 'aa05346ff': continue\n",
    "    hw = hws[k]\n",
    "    print(k, hw)\n",
    "    mask  = rle2tiff.rle2mask(rle, hw[::-1])\n",
    "    mymask =  rio.open(f'output/predicts/masks/{k}.tiff').read()\n",
    "    #mymask =  rio.open(f'output/2021_Mar_17_23_03_21_PAMBUH/masks/{k}.tiff').read()\n",
    "    \n",
    "    dice = dice_loss(torch.from_numpy(mask.T/255), torch.from_numpy(mymask))\n",
    "    print(k, dice)\n",
    "    dices.append(dice)\n",
    "    \n",
    "np.array(dices).mean()"
   ]
  },
  {
   "cell_type": "code",
   "execution_count": null,
   "metadata": {},
   "outputs": [],
   "source": []
  },
  {
   "cell_type": "markdown",
   "metadata": {},
   "source": [
    "# Merge masks"
   ]
  },
  {
   "cell_type": "code",
   "execution_count": null,
   "metadata": {},
   "outputs": [],
   "source": [
    "for k, rle in dd.items():\n",
    "    if k != 'aa05346ff': continue\n",
    "    #if k != '57512b7f1': continue\n",
    "    #if k != 'd488c759a': continue\n",
    "    #if k != '2ec3f1bb9': continue\n",
    "    \n",
    "    \n",
    "    hw = hws[k]\n",
    "    print(k, hw)\n",
    "    mask_name1 =  f'output/924/predict/masks_924/{k}_924.tiff'\n",
    "    mask_name2 =  f'output/predicts/masks/{k}.tiff'\n",
    "    #mask_name2 =  f'output/924/predict/masks/{k}_920.tiff'\n",
    "    \n",
    "    merge_name = f'output/924/predict/combined/{k}.tiff'\n",
    "    \n",
    "    utils.tiff_merge_mask(full_names[k], mask_name1, merge_name, mask_name2)\n",
    "    #break"
   ]
  },
  {
   "cell_type": "code",
   "execution_count": null,
   "metadata": {},
   "outputs": [],
   "source": []
  },
  {
   "cell_type": "code",
   "execution_count": null,
   "metadata": {},
   "outputs": [],
   "source": []
  },
  {
   "cell_type": "code",
   "execution_count": null,
   "metadata": {},
   "outputs": [],
   "source": []
  },
  {
   "cell_type": "code",
   "execution_count": null,
   "metadata": {},
   "outputs": [],
   "source": []
  },
  {
   "cell_type": "code",
   "execution_count": null,
   "metadata": {},
   "outputs": [],
   "source": []
  }
 ],
 "metadata": {
  "kernelspec": {
   "display_name": "Python 3",
   "language": "python",
   "name": "python3"
  },
  "language_info": {
   "codemirror_mode": {
    "name": "ipython",
    "version": 3
   },
   "file_extension": ".py",
   "mimetype": "text/x-python",
   "name": "python",
   "nbconvert_exporter": "python",
   "pygments_lexer": "ipython3",
   "version": "3.6.9"
  }
 },
 "nbformat": 4,
 "nbformat_minor": 4
}
