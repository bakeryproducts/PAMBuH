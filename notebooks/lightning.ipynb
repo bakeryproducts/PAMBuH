{
 "cells": [
  {
   "cell_type": "code",
   "execution_count": 1,
   "id": "toxic-conflict",
   "metadata": {},
   "outputs": [],
   "source": [
    "%load_ext autoreload\n",
    "%autoreload 2"
   ]
  },
  {
   "cell_type": "code",
   "execution_count": 2,
   "id": "egyptian-animal",
   "metadata": {},
   "outputs": [],
   "source": [
    "import os\n",
    "import sys\n",
    "os.chdir('..')\n",
    "sys.path.append('src')"
   ]
  },
  {
   "cell_type": "code",
   "execution_count": 25,
   "id": "indian-motor",
   "metadata": {},
   "outputs": [],
   "source": [
    "from pathlib import Path\n",
    "from matplotlib import pyplot as plt\n",
    "import cv2\n",
    "import tqdm\n",
    "from ipywidgets import widgets\n",
    "from IPython.display import clear_output\n",
    "import rasterio\n",
    "import functools\n",
    "import numpy as np\n",
    "from PIL import Image\n",
    "\n",
    "import utils\n",
    "from sampler import BackgroundSampler\n",
    "from lightning import cut_off_light_from_img\n",
    "from rle2tiff import save_mask\n",
    "\n",
    "import functools\n",
    "import numpy as np"
   ]
  },
  {
   "cell_type": "markdown",
   "id": "ceramic-nomination",
   "metadata": {},
   "source": [
    "#### Configurations"
   ]
  },
  {
   "cell_type": "code",
   "execution_count": 29,
   "id": "smart-tiffany",
   "metadata": {},
   "outputs": [],
   "source": [
    "path_to_img_folder = Path('data/tiff/')\n",
    "path_to_mask_folder = Path('data/mask/')\n",
    "path_to_anot_struct_folder = Path('data/markup/')\n",
    "postfix = '-anatomical-structure.json'\n",
    "out_path_to_light_mask = Path('data/lightning_mask/')\n",
    "out_path_to_light_img = Path('data/lightning_img/')\n",
    "\n",
    "num_samples = 10 # Total number of lightning templates\n",
    "wh = (512, 512)"
   ]
  },
  {
   "cell_type": "markdown",
   "id": "increasing-craps",
   "metadata": {},
   "source": [
    "#### Create background samples "
   ]
  },
  {
   "cell_type": "markdown",
   "id": "entitled-viewer",
   "metadata": {},
   "source": [
    "Choose only images with lightnings"
   ]
  },
  {
   "cell_type": "code",
   "execution_count": 54,
   "id": "olive-perception",
   "metadata": {},
   "outputs": [],
   "source": [
    "path_to_imgs = sorted(list(path_to_img_folder.glob('*')))\n",
    "indices_img_with_light = [2]  # Chosen manually\n",
    "path_to_imgs = [path_to_imgs[ind] for ind in indices_img_with_light]"
   ]
  },
  {
   "cell_type": "code",
   "execution_count": 60,
   "id": "transparent-identifier",
   "metadata": {
    "scrolled": true
   },
   "outputs": [
    {
     "name": "stderr",
     "output_type": "stream",
     "text": [
      "100%|██████████| 1/1 [01:03<00:00, 63.91s/it]\n"
     ]
    }
   ],
   "source": [
    "out_path_to_light_mask.mkdir(exist_ok=True) \n",
    "out_path_to_light_img.mkdir(exist_ok=True) \n",
    "\n",
    "for path_to_img in tqdm.tqdm(path_to_imgs):\n",
    "    path_to_mask =path_to_mask_folder / path_to_img.name\n",
    "    path_to_anot_struct = path_to_anot_struct_folder / (path_to_img.stem + postfix)\n",
    "    num_samples_per_img = num_samples//len(path_to_imgs)\n",
    "    \n",
    "    # List of polygons containing anotomical structure\n",
    "    polygons = utils.get_cortex_polygons(utils.jread(path_to_anot_struct))\n",
    "    back_samples = BackgroundSampler(path_to_img, \n",
    "                                     path_to_mask, \n",
    "                                     polygons, \n",
    "                                     wh, \n",
    "                                     num_samples_per_img)\n",
    "    for ind, back_sample in enumerate(back_samples):\n",
    "        img, _ = back_sample\n",
    "        mask_with_light = cut_off_light_from_img(img)\n",
    "        if mask_with_light is not None:\n",
    "            save_mask(mask_with_light, out_path_to_light_mask / f'{ind}_{path_to_img.name}')\n",
    "            im = Image.fromarray(img[0])\n",
    "            im.save(out_path_to_light_img / f'{ind}_{path_to_img.name}')"
   ]
  },
  {
   "cell_type": "markdown",
   "id": "prescription-integration",
   "metadata": {},
   "source": [
    "### Clean"
   ]
  },
  {
   "cell_type": "code",
   "execution_count": 61,
   "id": "silver-indianapolis",
   "metadata": {},
   "outputs": [
    {
     "data": {
      "application/vnd.jupyter.widget-view+json": {
       "model_id": "195871b3cf794b2caa43f37724aa4ccf",
       "version_major": 2,
       "version_minor": 0
      },
      "text/plain": [
       "Button(description='Next', style=ButtonStyle())"
      ]
     },
     "metadata": {},
     "output_type": "display_data"
    }
   ],
   "source": [
    "samples = out_path_to_light_mask.glob('*')\n",
    "plt.rcParams[\"figure.figsize\"] = (12,6)\n",
    "\n",
    "del_mem_path = []\n",
    "\n",
    "def delete(light_mask, light_sample, nothing):\n",
    "    del_mem_path.append(light_mask)\n",
    "    del_mem_path.append(light_sample)\n",
    "    \n",
    "def f(nothing):\n",
    "    clear_output(wait=True)\n",
    "    display(button)\n",
    "    \n",
    "    try:\n",
    "        light_mask = next(samples)\n",
    "        img_name = light_mask.name\n",
    "        light_sample = out_path_to_light_img / img_name\n",
    "\n",
    "        mask = rasterio.open(light_mask)\n",
    "        sample = Image.open(light_sample)\n",
    "\n",
    "        fig, (ax1, ax2) = plt.subplots(1,2)\n",
    "        ax1.imshow(mask.read()[0], cmap='gray')\n",
    "        ax2.imshow(sample, cmap='gray')\n",
    "        plt.show()\n",
    "\n",
    "        mask.close()\n",
    "        sample.close()\n",
    "\n",
    "        display(button_del)\n",
    "        button_del.on_click(functools.partial(delete, str(light_mask), str(light_sample)))\n",
    "    except StopIteration:\n",
    "        pass\n",
    "\n",
    "    \n",
    "button = widgets.Button(description=\"Next\")\n",
    "button_del = widgets.Button(description=\"Delete\")\n",
    "\n",
    "display(button)\n",
    "button.on_click(f)"
   ]
  }
 ],
 "metadata": {
  "kernelspec": {
   "display_name": "glom",
   "language": "python",
   "name": "glom"
  },
  "language_info": {
   "codemirror_mode": {
    "name": "ipython",
    "version": 3
   },
   "file_extension": ".py",
   "mimetype": "text/x-python",
   "name": "python",
   "nbconvert_exporter": "python",
   "pygments_lexer": "ipython3",
   "version": "3.8.5"
  }
 },
 "nbformat": 4,
 "nbformat_minor": 5
}
