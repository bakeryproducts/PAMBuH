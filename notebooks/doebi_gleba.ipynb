{
 "cells": [
  {
   "cell_type": "markdown",
   "id": "starting-dynamics",
   "metadata": {},
   "source": [
    "# Init"
   ]
  },
  {
   "cell_type": "code",
   "execution_count": null,
   "id": "impressed-letter",
   "metadata": {},
   "outputs": [],
   "source": [
    "%load_ext autoreload\n",
    "%autoreload 2"
   ]
  },
  {
   "cell_type": "code",
   "execution_count": null,
   "id": "entertaining-sensitivity",
   "metadata": {},
   "outputs": [],
   "source": [
    "import os\n",
    "import sys\n",
    "os.chdir('..')\n",
    "sys.path.append('src')\n",
    "\n",
    "from pathlib import Path\n",
    "import torch"
   ]
  },
  {
   "cell_type": "code",
   "execution_count": null,
   "id": "subject-moses",
   "metadata": {},
   "outputs": [],
   "source": [
    "from utils import save_tiff_uint8_single_band\n",
    "from postprocessing import read_and_process_img, postprocess_test_folder, _plot_img"
   ]
  },
  {
   "cell_type": "markdown",
   "id": "complex-ordinance",
   "metadata": {},
   "source": [
    "# Single image"
   ]
  },
  {
   "cell_type": "code",
   "execution_count": null,
   "id": "horizontal-disclaimer",
   "metadata": {},
   "outputs": [],
   "source": [
    "def test_inf(batch):\n",
    "    return torch.cat([i.unsqueeze(0) for i in batch], 0)[:, :1]"
   ]
  },
  {
   "cell_type": "code",
   "execution_count": null,
   "id": "applicable-nowhere",
   "metadata": {},
   "outputs": [],
   "source": [
    "src_folder = '/mnt/storage/HuBMAP/train/'\n",
    "img_name = next(Path(src_folder).glob('*.tiff'))\n",
    "print(img_name)"
   ]
  },
  {
   "cell_type": "code",
   "execution_count": null,
   "id": "gentle-input",
   "metadata": {},
   "outputs": [],
   "source": [
    "mask = read_and_process_img(img_name, test_inf, size=512)\n",
    "mask.shape"
   ]
  },
  {
   "cell_type": "code",
   "execution_count": null,
   "id": "alleged-harvard",
   "metadata": {},
   "outputs": [],
   "source": [
    "_plot_img(mask)"
   ]
  },
  {
   "cell_type": "markdown",
   "id": "weekly-tradition",
   "metadata": {},
   "source": [
    "# Run"
   ]
  },
  {
   "cell_type": "code",
   "execution_count": null,
   "id": "significant-castle",
   "metadata": {},
   "outputs": [],
   "source": [
    "postprocess_test_folder(test_inf, src_folder, './output')"
   ]
  },
  {
   "cell_type": "code",
   "execution_count": null,
   "id": "peripheral-depth",
   "metadata": {},
   "outputs": [],
   "source": []
  }
 ],
 "metadata": {
  "kernelspec": {
   "display_name": "Python 3",
   "language": "python",
   "name": "python3"
  },
  "language_info": {
   "codemirror_mode": {
    "name": "ipython",
    "version": 3
   },
   "file_extension": ".py",
   "mimetype": "text/x-python",
   "name": "python",
   "nbconvert_exporter": "python",
   "pygments_lexer": "ipython3",
   "version": "3.6.9"
  }
 },
 "nbformat": 4,
 "nbformat_minor": 5
}
