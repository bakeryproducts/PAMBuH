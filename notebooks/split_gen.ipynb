{
 "cells": [
  {
   "cell_type": "code",
   "execution_count": null,
   "metadata": {},
   "outputs": [],
   "source": [
    "import os\n",
    "import sys\n",
    "os.chdir('..')\n",
    "sys.path.append('src')"
   ]
  },
  {
   "cell_type": "code",
   "execution_count": null,
   "metadata": {},
   "outputs": [],
   "source": [
    "import os\n",
    "from datetime import datetime\n",
    "\n",
    "from pathlib import Path\n",
    "import shutil\n",
    "import numpy as np\n",
    "\n",
    "import utils\n",
    "from collections import defaultdict"
   ]
  },
  {
   "cell_type": "code",
   "execution_count": null,
   "metadata": {},
   "outputs": [],
   "source": [
    "def get_images(root):\n",
    "    imgs = list((root/'imgs').glob('*'))\n",
    "    for img in imgs:\n",
    "        filenames = list(img.glob('*'))\n",
    "        yield filenames\n",
    "        \n",
    "def get_maskname_for_img(img_name):\n",
    "    im_root = img_name.parent.parent\n",
    "    mask_name  = img_name.parent.parent.parent / 'masks' / img_name.relative_to(im_root)\n",
    "    return mask_name\n",
    "\n",
    "def create_split(filenames, pct=.05):\n",
    "    n = int(len(filenames) * pct)\n",
    "    split = np.random.choice(filenames, n, replace=False).tolist()\n",
    "    main_part = [f for f in filenames if f not in split]\n",
    "    return main_part,  split\n",
    "\n",
    "def create_split_from_polys(filenames, split_names):\n",
    "    a,b = [], []\n",
    "    for f in filenames:\n",
    "        x = b if f.name in split_names else a\n",
    "        x.append(f)\n",
    "    return a,b\n",
    "\n",
    "def select_samples_from_polys(name):\n",
    "    data = utils.jread(Path(f'input/split_jsons/{name}.json'))\n",
    "    val_poly = utils.json_record_to_poly(data[0])[0]\n",
    "    \n",
    "    glo_json = Path(f'input/hm/train/{name}.json')\n",
    "    val_names = []\n",
    "    \n",
    "    data = utils.jread(glo_json)\n",
    "    cnt = 0\n",
    "    for i,d in enumerate(data):\n",
    "        p = utils.json_record_to_poly(d)[0]\n",
    "        if val_poly.contains(p.centroid) and cnt < 20:\n",
    "            cnt += 1\n",
    "            val_names.append(str(i).zfill(6) + '.png')\n",
    "    print(cnt)\n",
    "    return val_names\n",
    "\n",
    "def copy_split(split, root, dst_path):\n",
    "    p = dst_path / split.relative_to(root)\n",
    "    os.makedirs(str(p.parent), exist_ok=True)\n",
    "    shutil.copy(str(split), str(p))\n",
    "    \n",
    "def create_save_splits(root, dst_path, split_pct=None):\n",
    "    '''\n",
    "        takes root folder path with 2 folders inside: imgs, masks.\n",
    "        for each subfolder in imgs, masks , i.e. 1e2425f28:\n",
    "            splits images in subfolder in two groups randomly by split_pct:\n",
    "            split_pct = 0.05\n",
    "            len(p1) == .95 * len(p)\n",
    "            len(p2) == .05 * len(p)\n",
    "        and saves them into dst_path WITH TIMESTAMP \n",
    "        p1 is train folder, p2 is val folder\n",
    "    '''\n",
    "    for img_cuts in get_images(root):\n",
    "        print(img_cuts[0].parent.name)\n",
    "        \n",
    "        if split_pct is not None:\n",
    "            print('splitting randomly by percent')\n",
    "            split_imgs_1, split_imgs_2 = create_split(img_cuts, pct=val_pct)\n",
    "        else:\n",
    "            print('splitting by predefined polygons in input/split_jsons')\n",
    "            split_names = select_samples_from_polys(img_cuts[0].parent.name)\n",
    "            print('selected:', split_names)\n",
    "            split_imgs_1, split_imgs_2 = create_split_from_polys(img_cuts, split_names)\n",
    "            \n",
    "            \n",
    "        print(len(split_imgs_1), len(split_imgs_2))\n",
    "\n",
    "        for i in split_imgs_1:\n",
    "            m = get_maskname_for_img(i)\n",
    "            copy_split(i, root, dst_path/'train')\n",
    "            copy_split(m, root, dst_path/'train')\n",
    "\n",
    "        for i in split_imgs_2:\n",
    "            m = get_maskname_for_img(i)\n",
    "            copy_split(i, root, dst_path/'val')\n",
    "            copy_split(m, root, dst_path/'val')\n"
   ]
  },
  {
   "cell_type": "code",
   "execution_count": null,
   "metadata": {},
   "outputs": [],
   "source": [
    "root = Path('input/CUTS/cuts2048x25_dom/')\n",
    "timestamp = '{:%Y_%b_%d_%H_%M_%S}'.format(datetime.now())\n",
    "dst_path = root.parent.parent / f'SPLITS/split2048x25_{timestamp}/'\n",
    "val_pct = 0.05"
   ]
  },
  {
   "cell_type": "code",
   "execution_count": null,
   "metadata": {},
   "outputs": [],
   "source": [
    "#create_save_splits(root, dst_path, val_pct)\n",
    "create_save_splits(root, dst_path)"
   ]
  },
  {
   "cell_type": "code",
   "execution_count": null,
   "metadata": {},
   "outputs": [],
   "source": []
  },
  {
   "cell_type": "code",
   "execution_count": null,
   "metadata": {},
   "outputs": [],
   "source": []
  },
  {
   "cell_type": "code",
   "execution_count": null,
   "metadata": {},
   "outputs": [],
   "source": []
  },
  {
   "cell_type": "code",
   "execution_count": null,
   "metadata": {},
   "outputs": [],
   "source": []
  },
  {
   "cell_type": "code",
   "execution_count": null,
   "metadata": {},
   "outputs": [],
   "source": []
  },
  {
   "cell_type": "code",
   "execution_count": null,
   "metadata": {},
   "outputs": [],
   "source": []
  }
 ],
 "metadata": {
  "kernelspec": {
   "display_name": "Python 3",
   "language": "python",
   "name": "python3"
  },
  "language_info": {
   "codemirror_mode": {
    "name": "ipython",
    "version": 3
   },
   "file_extension": ".py",
   "mimetype": "text/x-python",
   "name": "python",
   "nbconvert_exporter": "python",
   "pygments_lexer": "ipython3",
   "version": "3.6.9"
  }
 },
 "nbformat": 4,
 "nbformat_minor": 4
}
